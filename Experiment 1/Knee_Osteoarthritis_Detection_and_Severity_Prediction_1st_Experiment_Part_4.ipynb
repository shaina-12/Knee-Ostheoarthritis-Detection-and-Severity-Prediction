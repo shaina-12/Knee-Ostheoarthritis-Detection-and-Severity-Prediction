{
  "cells": [
    {
      "cell_type": "markdown",
      "metadata": {
        "id": "view-in-github",
        "colab_type": "text"
      },
      "source": [
        "<a href=\"https://colab.research.google.com/github/shaina-12/Knee-Ostheoarthritis-Detection-and-Severity-Prediction/blob/main/Experiment%201/Knee_Osteoarthritis_Detection_and_Severity_Prediction_1st_Experiment_Part_4.ipynb\" target=\"_parent\"><img src=\"https://colab.research.google.com/assets/colab-badge.svg\" alt=\"Open In Colab\"/></a>"
      ]
    },
    {
      "cell_type": "code",
      "execution_count": 1,
      "id": "62dc09dd",
      "metadata": {
        "id": "62dc09dd"
      },
      "outputs": [],
      "source": [
        "import numpy as np\n",
        "import pandas as pd\n",
        "import matplotlib.pyplot as plt\n",
        "import seaborn as sns\n",
        "%matplotlib inline"
      ]
    },
    {
      "cell_type": "code",
      "execution_count": 2,
      "id": "9d6e4ae2",
      "metadata": {
        "id": "9d6e4ae2"
      },
      "outputs": [],
      "source": [
        "import cv2 as cv\n",
        "import os\n",
        "from sklearn.cluster import KMeans"
      ]
    },
    {
      "cell_type": "code",
      "execution_count": 3,
      "id": "koCoXwBBEP23",
      "metadata": {
        "colab": {
          "base_uri": "https://localhost:8080/"
        },
        "id": "koCoXwBBEP23",
        "outputId": "c72d5305-cd49-45a4-84c9-b1dbeb087922"
      },
      "outputs": [
        {
          "output_type": "stream",
          "name": "stdout",
          "text": [
            "Mounted at /content/drive/\n"
          ]
        }
      ],
      "source": [
        "from google.colab import drive\n",
        "drive.mount('/content/drive/')"
      ]
    },
    {
      "cell_type": "code",
      "execution_count": 4,
      "id": "2312b98d",
      "metadata": {
        "id": "2312b98d"
      },
      "outputs": [],
      "source": [
        "train_path = \"/content/drive/My Drive/train/\"\n",
        "test_path = \"/content/drive/My Drive/test/\""
      ]
    },
    {
      "cell_type": "markdown",
      "id": "c65ffa9d",
      "metadata": {
        "id": "c65ffa9d"
      },
      "source": [
        "## Lets Collect The Training Data"
      ]
    },
    {
      "cell_type": "code",
      "execution_count": 5,
      "id": "bf2f001c",
      "metadata": {
        "id": "bf2f001c"
      },
      "outputs": [],
      "source": [
        "grades = ['grade_0','grade_1','grade_2','grade_3','grade_4']\n",
        "finalListTrain = []\n",
        "finalTrainLabels = []\n",
        "for i in range(len(grades)):\n",
        "    dir_join = train_path+grades[i]\n",
        "    for file in os.listdir(dir_join):\n",
        "        finalListTrain.append(dir_join+'/'+file)\n",
        "        finalTrainLabels.append(i)\n",
        "#dir_join = train_path+grades[0]  \n",
        "#l = os.listdir(os.path.join(dir_join))\n",
        "#l"
      ]
    },
    {
      "cell_type": "markdown",
      "id": "17e079de",
      "metadata": {
        "id": "17e079de"
      },
      "source": [
        "## Similarly, we can collect the test data"
      ]
    },
    {
      "cell_type": "code",
      "execution_count": 6,
      "id": "3097e3e1",
      "metadata": {
        "id": "3097e3e1"
      },
      "outputs": [],
      "source": [
        "finalListTest = []\n",
        "finalTestLabels = []\n",
        "for i in range(len(grades)):\n",
        "    dir_join = test_path+grades[i]\n",
        "    for file in os.listdir(dir_join):\n",
        "        finalListTest.append(dir_join+'/'+file)\n",
        "        finalTestLabels.append(i)"
      ]
    },
    {
      "cell_type": "markdown",
      "id": "091870a7",
      "metadata": {
        "id": "091870a7"
      },
      "source": [
        "## Lets create pandas dataframe for both training and test data"
      ]
    },
    {
      "cell_type": "code",
      "execution_count": 7,
      "id": "1f9ce756",
      "metadata": {
        "id": "1f9ce756"
      },
      "outputs": [],
      "source": [
        "train_dat = {'path':finalListTrain,'label':finalTrainLabels}\n",
        "test_dat = {'path':finalListTest,'label':finalTestLabels}"
      ]
    },
    {
      "cell_type": "code",
      "execution_count": 8,
      "id": "e433f9c9",
      "metadata": {
        "colab": {
          "base_uri": "https://localhost:8080/",
          "height": 206
        },
        "id": "e433f9c9",
        "outputId": "8f3796e5-0876-41c9-d8c5-ef584a7d6114"
      },
      "outputs": [
        {
          "output_type": "execute_result",
          "data": {
            "text/plain": [
              "                                                path  label\n",
              "0  /content/drive/My Drive/train/grade_0/9512848R...      0\n",
              "1  /content/drive/My Drive/train/grade_0/9465265L...      0\n",
              "2  /content/drive/My Drive/train/grade_0/9679243L...      0\n",
              "3  /content/drive/My Drive/train/grade_0/9302341L...      0\n",
              "4  /content/drive/My Drive/train/grade_0/9023407L...      0"
            ],
            "text/html": [
              "\n",
              "  <div id=\"df-10de48db-daa1-490e-b9eb-cb83590e2d55\">\n",
              "    <div class=\"colab-df-container\">\n",
              "      <div>\n",
              "<style scoped>\n",
              "    .dataframe tbody tr th:only-of-type {\n",
              "        vertical-align: middle;\n",
              "    }\n",
              "\n",
              "    .dataframe tbody tr th {\n",
              "        vertical-align: top;\n",
              "    }\n",
              "\n",
              "    .dataframe thead th {\n",
              "        text-align: right;\n",
              "    }\n",
              "</style>\n",
              "<table border=\"1\" class=\"dataframe\">\n",
              "  <thead>\n",
              "    <tr style=\"text-align: right;\">\n",
              "      <th></th>\n",
              "      <th>path</th>\n",
              "      <th>label</th>\n",
              "    </tr>\n",
              "  </thead>\n",
              "  <tbody>\n",
              "    <tr>\n",
              "      <th>0</th>\n",
              "      <td>/content/drive/My Drive/train/grade_0/9512848R...</td>\n",
              "      <td>0</td>\n",
              "    </tr>\n",
              "    <tr>\n",
              "      <th>1</th>\n",
              "      <td>/content/drive/My Drive/train/grade_0/9465265L...</td>\n",
              "      <td>0</td>\n",
              "    </tr>\n",
              "    <tr>\n",
              "      <th>2</th>\n",
              "      <td>/content/drive/My Drive/train/grade_0/9679243L...</td>\n",
              "      <td>0</td>\n",
              "    </tr>\n",
              "    <tr>\n",
              "      <th>3</th>\n",
              "      <td>/content/drive/My Drive/train/grade_0/9302341L...</td>\n",
              "      <td>0</td>\n",
              "    </tr>\n",
              "    <tr>\n",
              "      <th>4</th>\n",
              "      <td>/content/drive/My Drive/train/grade_0/9023407L...</td>\n",
              "      <td>0</td>\n",
              "    </tr>\n",
              "  </tbody>\n",
              "</table>\n",
              "</div>\n",
              "      <button class=\"colab-df-convert\" onclick=\"convertToInteractive('df-10de48db-daa1-490e-b9eb-cb83590e2d55')\"\n",
              "              title=\"Convert this dataframe to an interactive table.\"\n",
              "              style=\"display:none;\">\n",
              "        \n",
              "  <svg xmlns=\"http://www.w3.org/2000/svg\" height=\"24px\"viewBox=\"0 0 24 24\"\n",
              "       width=\"24px\">\n",
              "    <path d=\"M0 0h24v24H0V0z\" fill=\"none\"/>\n",
              "    <path d=\"M18.56 5.44l.94 2.06.94-2.06 2.06-.94-2.06-.94-.94-2.06-.94 2.06-2.06.94zm-11 1L8.5 8.5l.94-2.06 2.06-.94-2.06-.94L8.5 2.5l-.94 2.06-2.06.94zm10 10l.94 2.06.94-2.06 2.06-.94-2.06-.94-.94-2.06-.94 2.06-2.06.94z\"/><path d=\"M17.41 7.96l-1.37-1.37c-.4-.4-.92-.59-1.43-.59-.52 0-1.04.2-1.43.59L10.3 9.45l-7.72 7.72c-.78.78-.78 2.05 0 2.83L4 21.41c.39.39.9.59 1.41.59.51 0 1.02-.2 1.41-.59l7.78-7.78 2.81-2.81c.8-.78.8-2.07 0-2.86zM5.41 20L4 18.59l7.72-7.72 1.47 1.35L5.41 20z\"/>\n",
              "  </svg>\n",
              "      </button>\n",
              "      \n",
              "  <style>\n",
              "    .colab-df-container {\n",
              "      display:flex;\n",
              "      flex-wrap:wrap;\n",
              "      gap: 12px;\n",
              "    }\n",
              "\n",
              "    .colab-df-convert {\n",
              "      background-color: #E8F0FE;\n",
              "      border: none;\n",
              "      border-radius: 50%;\n",
              "      cursor: pointer;\n",
              "      display: none;\n",
              "      fill: #1967D2;\n",
              "      height: 32px;\n",
              "      padding: 0 0 0 0;\n",
              "      width: 32px;\n",
              "    }\n",
              "\n",
              "    .colab-df-convert:hover {\n",
              "      background-color: #E2EBFA;\n",
              "      box-shadow: 0px 1px 2px rgba(60, 64, 67, 0.3), 0px 1px 3px 1px rgba(60, 64, 67, 0.15);\n",
              "      fill: #174EA6;\n",
              "    }\n",
              "\n",
              "    [theme=dark] .colab-df-convert {\n",
              "      background-color: #3B4455;\n",
              "      fill: #D2E3FC;\n",
              "    }\n",
              "\n",
              "    [theme=dark] .colab-df-convert:hover {\n",
              "      background-color: #434B5C;\n",
              "      box-shadow: 0px 1px 3px 1px rgba(0, 0, 0, 0.15);\n",
              "      filter: drop-shadow(0px 1px 2px rgba(0, 0, 0, 0.3));\n",
              "      fill: #FFFFFF;\n",
              "    }\n",
              "  </style>\n",
              "\n",
              "      <script>\n",
              "        const buttonEl =\n",
              "          document.querySelector('#df-10de48db-daa1-490e-b9eb-cb83590e2d55 button.colab-df-convert');\n",
              "        buttonEl.style.display =\n",
              "          google.colab.kernel.accessAllowed ? 'block' : 'none';\n",
              "\n",
              "        async function convertToInteractive(key) {\n",
              "          const element = document.querySelector('#df-10de48db-daa1-490e-b9eb-cb83590e2d55');\n",
              "          const dataTable =\n",
              "            await google.colab.kernel.invokeFunction('convertToInteractive',\n",
              "                                                     [key], {});\n",
              "          if (!dataTable) return;\n",
              "\n",
              "          const docLinkHtml = 'Like what you see? Visit the ' +\n",
              "            '<a target=\"_blank\" href=https://colab.research.google.com/notebooks/data_table.ipynb>data table notebook</a>'\n",
              "            + ' to learn more about interactive tables.';\n",
              "          element.innerHTML = '';\n",
              "          dataTable['output_type'] = 'display_data';\n",
              "          await google.colab.output.renderOutput(dataTable, element);\n",
              "          const docLink = document.createElement('div');\n",
              "          docLink.innerHTML = docLinkHtml;\n",
              "          element.appendChild(docLink);\n",
              "        }\n",
              "      </script>\n",
              "    </div>\n",
              "  </div>\n",
              "  "
            ]
          },
          "metadata": {},
          "execution_count": 8
        }
      ],
      "source": [
        "train_data = pd.DataFrame.from_dict(train_dat)\n",
        "train_data.head()"
      ]
    },
    {
      "cell_type": "code",
      "execution_count": 9,
      "id": "4fc961ab",
      "metadata": {
        "colab": {
          "base_uri": "https://localhost:8080/",
          "height": 206
        },
        "id": "4fc961ab",
        "outputId": "b6247017-5016-48b1-e329-d8c8a76f3fea"
      },
      "outputs": [
        {
          "output_type": "execute_result",
          "data": {
            "text/plain": [
              "                                                path  label\n",
              "0  /content/drive/My Drive/test/grade_0/9807132L.png      0\n",
              "1  /content/drive/My Drive/test/grade_0/9588277L.png      0\n",
              "2  /content/drive/My Drive/test/grade_0/9074232L.png      0\n",
              "3  /content/drive/My Drive/test/grade_0/9952817R.png      0\n",
              "4  /content/drive/My Drive/test/grade_0/9254422R.png      0"
            ],
            "text/html": [
              "\n",
              "  <div id=\"df-9f3daf06-9d1e-447d-9658-c1acb394a8d6\">\n",
              "    <div class=\"colab-df-container\">\n",
              "      <div>\n",
              "<style scoped>\n",
              "    .dataframe tbody tr th:only-of-type {\n",
              "        vertical-align: middle;\n",
              "    }\n",
              "\n",
              "    .dataframe tbody tr th {\n",
              "        vertical-align: top;\n",
              "    }\n",
              "\n",
              "    .dataframe thead th {\n",
              "        text-align: right;\n",
              "    }\n",
              "</style>\n",
              "<table border=\"1\" class=\"dataframe\">\n",
              "  <thead>\n",
              "    <tr style=\"text-align: right;\">\n",
              "      <th></th>\n",
              "      <th>path</th>\n",
              "      <th>label</th>\n",
              "    </tr>\n",
              "  </thead>\n",
              "  <tbody>\n",
              "    <tr>\n",
              "      <th>0</th>\n",
              "      <td>/content/drive/My Drive/test/grade_0/9807132L.png</td>\n",
              "      <td>0</td>\n",
              "    </tr>\n",
              "    <tr>\n",
              "      <th>1</th>\n",
              "      <td>/content/drive/My Drive/test/grade_0/9588277L.png</td>\n",
              "      <td>0</td>\n",
              "    </tr>\n",
              "    <tr>\n",
              "      <th>2</th>\n",
              "      <td>/content/drive/My Drive/test/grade_0/9074232L.png</td>\n",
              "      <td>0</td>\n",
              "    </tr>\n",
              "    <tr>\n",
              "      <th>3</th>\n",
              "      <td>/content/drive/My Drive/test/grade_0/9952817R.png</td>\n",
              "      <td>0</td>\n",
              "    </tr>\n",
              "    <tr>\n",
              "      <th>4</th>\n",
              "      <td>/content/drive/My Drive/test/grade_0/9254422R.png</td>\n",
              "      <td>0</td>\n",
              "    </tr>\n",
              "  </tbody>\n",
              "</table>\n",
              "</div>\n",
              "      <button class=\"colab-df-convert\" onclick=\"convertToInteractive('df-9f3daf06-9d1e-447d-9658-c1acb394a8d6')\"\n",
              "              title=\"Convert this dataframe to an interactive table.\"\n",
              "              style=\"display:none;\">\n",
              "        \n",
              "  <svg xmlns=\"http://www.w3.org/2000/svg\" height=\"24px\"viewBox=\"0 0 24 24\"\n",
              "       width=\"24px\">\n",
              "    <path d=\"M0 0h24v24H0V0z\" fill=\"none\"/>\n",
              "    <path d=\"M18.56 5.44l.94 2.06.94-2.06 2.06-.94-2.06-.94-.94-2.06-.94 2.06-2.06.94zm-11 1L8.5 8.5l.94-2.06 2.06-.94-2.06-.94L8.5 2.5l-.94 2.06-2.06.94zm10 10l.94 2.06.94-2.06 2.06-.94-2.06-.94-.94-2.06-.94 2.06-2.06.94z\"/><path d=\"M17.41 7.96l-1.37-1.37c-.4-.4-.92-.59-1.43-.59-.52 0-1.04.2-1.43.59L10.3 9.45l-7.72 7.72c-.78.78-.78 2.05 0 2.83L4 21.41c.39.39.9.59 1.41.59.51 0 1.02-.2 1.41-.59l7.78-7.78 2.81-2.81c.8-.78.8-2.07 0-2.86zM5.41 20L4 18.59l7.72-7.72 1.47 1.35L5.41 20z\"/>\n",
              "  </svg>\n",
              "      </button>\n",
              "      \n",
              "  <style>\n",
              "    .colab-df-container {\n",
              "      display:flex;\n",
              "      flex-wrap:wrap;\n",
              "      gap: 12px;\n",
              "    }\n",
              "\n",
              "    .colab-df-convert {\n",
              "      background-color: #E8F0FE;\n",
              "      border: none;\n",
              "      border-radius: 50%;\n",
              "      cursor: pointer;\n",
              "      display: none;\n",
              "      fill: #1967D2;\n",
              "      height: 32px;\n",
              "      padding: 0 0 0 0;\n",
              "      width: 32px;\n",
              "    }\n",
              "\n",
              "    .colab-df-convert:hover {\n",
              "      background-color: #E2EBFA;\n",
              "      box-shadow: 0px 1px 2px rgba(60, 64, 67, 0.3), 0px 1px 3px 1px rgba(60, 64, 67, 0.15);\n",
              "      fill: #174EA6;\n",
              "    }\n",
              "\n",
              "    [theme=dark] .colab-df-convert {\n",
              "      background-color: #3B4455;\n",
              "      fill: #D2E3FC;\n",
              "    }\n",
              "\n",
              "    [theme=dark] .colab-df-convert:hover {\n",
              "      background-color: #434B5C;\n",
              "      box-shadow: 0px 1px 3px 1px rgba(0, 0, 0, 0.15);\n",
              "      filter: drop-shadow(0px 1px 2px rgba(0, 0, 0, 0.3));\n",
              "      fill: #FFFFFF;\n",
              "    }\n",
              "  </style>\n",
              "\n",
              "      <script>\n",
              "        const buttonEl =\n",
              "          document.querySelector('#df-9f3daf06-9d1e-447d-9658-c1acb394a8d6 button.colab-df-convert');\n",
              "        buttonEl.style.display =\n",
              "          google.colab.kernel.accessAllowed ? 'block' : 'none';\n",
              "\n",
              "        async function convertToInteractive(key) {\n",
              "          const element = document.querySelector('#df-9f3daf06-9d1e-447d-9658-c1acb394a8d6');\n",
              "          const dataTable =\n",
              "            await google.colab.kernel.invokeFunction('convertToInteractive',\n",
              "                                                     [key], {});\n",
              "          if (!dataTable) return;\n",
              "\n",
              "          const docLinkHtml = 'Like what you see? Visit the ' +\n",
              "            '<a target=\"_blank\" href=https://colab.research.google.com/notebooks/data_table.ipynb>data table notebook</a>'\n",
              "            + ' to learn more about interactive tables.';\n",
              "          element.innerHTML = '';\n",
              "          dataTable['output_type'] = 'display_data';\n",
              "          await google.colab.output.renderOutput(dataTable, element);\n",
              "          const docLink = document.createElement('div');\n",
              "          docLink.innerHTML = docLinkHtml;\n",
              "          element.appendChild(docLink);\n",
              "        }\n",
              "      </script>\n",
              "    </div>\n",
              "  </div>\n",
              "  "
            ]
          },
          "metadata": {},
          "execution_count": 9
        }
      ],
      "source": [
        "test_data = pd.DataFrame.from_dict(test_dat)\n",
        "test_data.head()"
      ]
    },
    {
      "cell_type": "markdown",
      "id": "3be794c8",
      "metadata": {
        "id": "3be794c8"
      },
      "source": [
        "## Time for Data Analysis"
      ]
    },
    {
      "cell_type": "code",
      "execution_count": 10,
      "id": "3dfa5d4c",
      "metadata": {
        "colab": {
          "base_uri": "https://localhost:8080/"
        },
        "id": "3dfa5d4c",
        "outputId": "a52a4d5b-9ee9-45ac-85bd-e83b663c2c32"
      },
      "outputs": [
        {
          "output_type": "execute_result",
          "data": {
            "text/plain": [
              "pandas.core.frame.DataFrame"
            ]
          },
          "metadata": {},
          "execution_count": 10
        }
      ],
      "source": [
        "type(train_data)"
      ]
    },
    {
      "cell_type": "code",
      "execution_count": 11,
      "id": "22c23fea",
      "metadata": {
        "colab": {
          "base_uri": "https://localhost:8080/"
        },
        "id": "22c23fea",
        "outputId": "e00020d0-ca90-41de-c43a-125807c3ea8c"
      },
      "outputs": [
        {
          "output_type": "execute_result",
          "data": {
            "text/plain": [
              "path     6621\n",
              "label    6621\n",
              "dtype: int64"
            ]
          },
          "metadata": {},
          "execution_count": 11
        }
      ],
      "source": [
        "train_data.count()"
      ]
    },
    {
      "cell_type": "code",
      "execution_count": 12,
      "id": "9dfc55b4",
      "metadata": {
        "colab": {
          "base_uri": "https://localhost:8080/"
        },
        "id": "9dfc55b4",
        "outputId": "e0c90271-6975-40bb-9f90-91c090a3d328"
      },
      "outputs": [
        {
          "output_type": "stream",
          "name": "stdout",
          "text": [
            "<class 'pandas.core.frame.DataFrame'>\n",
            "RangeIndex: 6621 entries, 0 to 6620\n",
            "Data columns (total 2 columns):\n",
            " #   Column  Non-Null Count  Dtype \n",
            "---  ------  --------------  ----- \n",
            " 0   path    6621 non-null   object\n",
            " 1   label   6621 non-null   int64 \n",
            "dtypes: int64(1), object(1)\n",
            "memory usage: 103.6+ KB\n"
          ]
        }
      ],
      "source": [
        "train_data.info()"
      ]
    },
    {
      "cell_type": "code",
      "execution_count": 13,
      "id": "4d23fa5b",
      "metadata": {
        "colab": {
          "base_uri": "https://localhost:8080/"
        },
        "id": "4d23fa5b",
        "outputId": "9316a99d-565e-460f-8f20-0ed0ff3ceee3"
      },
      "outputs": [
        {
          "output_type": "execute_result",
          "data": {
            "text/plain": [
              "(6621, 2)"
            ]
          },
          "metadata": {},
          "execution_count": 13
        }
      ],
      "source": [
        "train_data.shape"
      ]
    },
    {
      "cell_type": "code",
      "execution_count": 14,
      "id": "66a7f1c7",
      "metadata": {
        "colab": {
          "base_uri": "https://localhost:8080/"
        },
        "id": "66a7f1c7",
        "outputId": "b8da5c2a-61c1-4cdb-ae21-2521332b0bb9"
      },
      "outputs": [
        {
          "output_type": "execute_result",
          "data": {
            "text/plain": [
              "path     1656\n",
              "label    1656\n",
              "dtype: int64"
            ]
          },
          "metadata": {},
          "execution_count": 14
        }
      ],
      "source": [
        "test_data.count()"
      ]
    },
    {
      "cell_type": "code",
      "execution_count": 15,
      "id": "b0eb5329",
      "metadata": {
        "colab": {
          "base_uri": "https://localhost:8080/"
        },
        "id": "b0eb5329",
        "outputId": "f67e2274-4b6f-4b60-a8a9-09560154cc62"
      },
      "outputs": [
        {
          "output_type": "execute_result",
          "data": {
            "text/plain": [
              "(1656, 2)"
            ]
          },
          "metadata": {},
          "execution_count": 15
        }
      ],
      "source": [
        "test_data.shape"
      ]
    },
    {
      "cell_type": "code",
      "execution_count": 16,
      "id": "c744131c",
      "metadata": {
        "colab": {
          "base_uri": "https://localhost:8080/",
          "height": 206
        },
        "id": "c744131c",
        "outputId": "33789d41-4118-443b-b5de-b891d4a44752"
      },
      "outputs": [
        {
          "output_type": "execute_result",
          "data": {
            "text/plain": [
              "  ostheoarthritis grading  count (both training and testing)\n",
              "0                 Grade 0                               3270\n",
              "1                 Grade 1                               1495\n",
              "2                 Grade 2                               2175\n",
              "3                 Grade 3                               1086\n",
              "4                 Grade 4                                251"
            ],
            "text/html": [
              "\n",
              "  <div id=\"df-8fa10fcc-bab9-48d2-8b78-8f66c2312d27\">\n",
              "    <div class=\"colab-df-container\">\n",
              "      <div>\n",
              "<style scoped>\n",
              "    .dataframe tbody tr th:only-of-type {\n",
              "        vertical-align: middle;\n",
              "    }\n",
              "\n",
              "    .dataframe tbody tr th {\n",
              "        vertical-align: top;\n",
              "    }\n",
              "\n",
              "    .dataframe thead th {\n",
              "        text-align: right;\n",
              "    }\n",
              "</style>\n",
              "<table border=\"1\" class=\"dataframe\">\n",
              "  <thead>\n",
              "    <tr style=\"text-align: right;\">\n",
              "      <th></th>\n",
              "      <th>ostheoarthritis grading</th>\n",
              "      <th>count (both training and testing)</th>\n",
              "    </tr>\n",
              "  </thead>\n",
              "  <tbody>\n",
              "    <tr>\n",
              "      <th>0</th>\n",
              "      <td>Grade 0</td>\n",
              "      <td>3270</td>\n",
              "    </tr>\n",
              "    <tr>\n",
              "      <th>1</th>\n",
              "      <td>Grade 1</td>\n",
              "      <td>1495</td>\n",
              "    </tr>\n",
              "    <tr>\n",
              "      <th>2</th>\n",
              "      <td>Grade 2</td>\n",
              "      <td>2175</td>\n",
              "    </tr>\n",
              "    <tr>\n",
              "      <th>3</th>\n",
              "      <td>Grade 3</td>\n",
              "      <td>1086</td>\n",
              "    </tr>\n",
              "    <tr>\n",
              "      <th>4</th>\n",
              "      <td>Grade 4</td>\n",
              "      <td>251</td>\n",
              "    </tr>\n",
              "  </tbody>\n",
              "</table>\n",
              "</div>\n",
              "      <button class=\"colab-df-convert\" onclick=\"convertToInteractive('df-8fa10fcc-bab9-48d2-8b78-8f66c2312d27')\"\n",
              "              title=\"Convert this dataframe to an interactive table.\"\n",
              "              style=\"display:none;\">\n",
              "        \n",
              "  <svg xmlns=\"http://www.w3.org/2000/svg\" height=\"24px\"viewBox=\"0 0 24 24\"\n",
              "       width=\"24px\">\n",
              "    <path d=\"M0 0h24v24H0V0z\" fill=\"none\"/>\n",
              "    <path d=\"M18.56 5.44l.94 2.06.94-2.06 2.06-.94-2.06-.94-.94-2.06-.94 2.06-2.06.94zm-11 1L8.5 8.5l.94-2.06 2.06-.94-2.06-.94L8.5 2.5l-.94 2.06-2.06.94zm10 10l.94 2.06.94-2.06 2.06-.94-2.06-.94-.94-2.06-.94 2.06-2.06.94z\"/><path d=\"M17.41 7.96l-1.37-1.37c-.4-.4-.92-.59-1.43-.59-.52 0-1.04.2-1.43.59L10.3 9.45l-7.72 7.72c-.78.78-.78 2.05 0 2.83L4 21.41c.39.39.9.59 1.41.59.51 0 1.02-.2 1.41-.59l7.78-7.78 2.81-2.81c.8-.78.8-2.07 0-2.86zM5.41 20L4 18.59l7.72-7.72 1.47 1.35L5.41 20z\"/>\n",
              "  </svg>\n",
              "      </button>\n",
              "      \n",
              "  <style>\n",
              "    .colab-df-container {\n",
              "      display:flex;\n",
              "      flex-wrap:wrap;\n",
              "      gap: 12px;\n",
              "    }\n",
              "\n",
              "    .colab-df-convert {\n",
              "      background-color: #E8F0FE;\n",
              "      border: none;\n",
              "      border-radius: 50%;\n",
              "      cursor: pointer;\n",
              "      display: none;\n",
              "      fill: #1967D2;\n",
              "      height: 32px;\n",
              "      padding: 0 0 0 0;\n",
              "      width: 32px;\n",
              "    }\n",
              "\n",
              "    .colab-df-convert:hover {\n",
              "      background-color: #E2EBFA;\n",
              "      box-shadow: 0px 1px 2px rgba(60, 64, 67, 0.3), 0px 1px 3px 1px rgba(60, 64, 67, 0.15);\n",
              "      fill: #174EA6;\n",
              "    }\n",
              "\n",
              "    [theme=dark] .colab-df-convert {\n",
              "      background-color: #3B4455;\n",
              "      fill: #D2E3FC;\n",
              "    }\n",
              "\n",
              "    [theme=dark] .colab-df-convert:hover {\n",
              "      background-color: #434B5C;\n",
              "      box-shadow: 0px 1px 3px 1px rgba(0, 0, 0, 0.15);\n",
              "      filter: drop-shadow(0px 1px 2px rgba(0, 0, 0, 0.3));\n",
              "      fill: #FFFFFF;\n",
              "    }\n",
              "  </style>\n",
              "\n",
              "      <script>\n",
              "        const buttonEl =\n",
              "          document.querySelector('#df-8fa10fcc-bab9-48d2-8b78-8f66c2312d27 button.colab-df-convert');\n",
              "        buttonEl.style.display =\n",
              "          google.colab.kernel.accessAllowed ? 'block' : 'none';\n",
              "\n",
              "        async function convertToInteractive(key) {\n",
              "          const element = document.querySelector('#df-8fa10fcc-bab9-48d2-8b78-8f66c2312d27');\n",
              "          const dataTable =\n",
              "            await google.colab.kernel.invokeFunction('convertToInteractive',\n",
              "                                                     [key], {});\n",
              "          if (!dataTable) return;\n",
              "\n",
              "          const docLinkHtml = 'Like what you see? Visit the ' +\n",
              "            '<a target=\"_blank\" href=https://colab.research.google.com/notebooks/data_table.ipynb>data table notebook</a>'\n",
              "            + ' to learn more about interactive tables.';\n",
              "          element.innerHTML = '';\n",
              "          dataTable['output_type'] = 'display_data';\n",
              "          await google.colab.output.renderOutput(dataTable, element);\n",
              "          const docLink = document.createElement('div');\n",
              "          docLink.innerHTML = docLinkHtml;\n",
              "          element.appendChild(docLink);\n",
              "        }\n",
              "      </script>\n",
              "    </div>\n",
              "  </div>\n",
              "  "
            ]
          },
          "metadata": {},
          "execution_count": 16
        }
      ],
      "source": [
        "df = pd.DataFrame()\n",
        "df['ostheoarthritis grading'] = ['Grade 0','Grade 1','Grade 2','Grade 3','Grade 4']\n",
        "grade_count = []\n",
        "for i in range(5):\n",
        "    gc = len(train_data[train_data['label']==i]) + len(test_data[test_data['label']==i])\n",
        "    grade_count.append(gc)\n",
        "df['count (both training and testing)'] = grade_count[:]\n",
        "df"
      ]
    },
    {
      "cell_type": "code",
      "execution_count": 17,
      "id": "a4e93839",
      "metadata": {
        "colab": {
          "base_uri": "https://localhost:8080/",
          "height": 295
        },
        "id": "a4e93839",
        "outputId": "00a76914-4a52-4c41-efc9-384ad60e9933"
      },
      "outputs": [
        {
          "output_type": "display_data",
          "data": {
            "text/plain": [
              "<Figure size 432x288 with 1 Axes>"
            ],
            "image/png": "[encoded data removed]"
          },
          "metadata": {
            "needs_background": "light"
          }
        }
      ],
      "source": [
        "x = list(np.arange(5))\n",
        "y = list(df['count (both training and testing)'])\n",
        "plt.bar(x,y,color=['#9a01ff','#71a9fc','#01ffd5','#5cfe9d','#b7ff01'])\n",
        "plt.grid()\n",
        "plt.xticks(x,list(df['ostheoarthritis grading']))\n",
        "plt.xlabel('ostheoarthritis grading')\n",
        "plt.ylabel('count (both training and testing)')\n",
        "plt.title('Knee Ostheoarthritis')\n",
        "plt.show()"
      ]
    },
    {
      "cell_type": "code",
      "execution_count": 18,
      "id": "e5c4434a",
      "metadata": {
        "colab": {
          "base_uri": "https://localhost:8080/",
          "height": 236
        },
        "id": "e5c4434a",
        "outputId": "1f5ed016-a85a-4d0d-d11e-579b2fa15f54"
      },
      "outputs": [
        {
          "output_type": "display_data",
          "data": {
            "text/plain": [
              "<Figure size 1080x1080 with 5 Axes>"
            ],
            "image/png": "[encoded data removed]"
          },
          "metadata": {
            "needs_background": "light"
          }
        }
      ],
      "source": [
        "fig, ax = plt.subplots(1,5,figsize=(15,15))\n",
        "ax = ax.ravel()\n",
        "plt.tight_layout()\n",
        "ax = ax.ravel()\n",
        "plt.tight_layout()\n",
        "ldata = ['/content/drive/My Drive/train/grade_0/9005656L.png',\n",
        "         '/content/drive/My Drive/train/grade_1/9008561R.png',\n",
        "        '/content/drive/My Drive/train/grade_2/9024940L.png',\n",
        "        '/content/drive/My Drive/train/grade_3/9037823L.png',\n",
        "        '/content/drive/My Drive/train/grade_4/9204055R.png']\n",
        "lab = ['Grade 0','Grade 1','Grade 2','Grade 3','Grade 4']\n",
        "for i in range(0,5):\n",
        "    ax[i].imshow(plt.imread(ldata[i]), cmap='gray')\n",
        "    ax[i].set_title(lab[i])\n",
        "plt.show()"
      ]
    },
    {
      "cell_type": "markdown",
      "id": "a4855a0f",
      "metadata": {
        "id": "a4855a0f"
      },
      "source": [
        "## Lets Perform Image Segmentation on training images using K-Means \n"
      ]
    },
    {
      "cell_type": "code",
      "execution_count": 19,
      "id": "3dd3511c",
      "metadata": {
        "id": "3dd3511c"
      },
      "outputs": [],
      "source": [
        "def segmentation(path):\n",
        "    image = cv.imread(path,0)\n",
        "    image = cv.medianBlur(image,5)\n",
        "    image = cv.resize(image,(64,64))\n",
        "    pixelValues = image.reshape(-1,1)\n",
        "    pixelValues = np.float32(pixelValues)\n",
        "    kmeans = KMeans(n_clusters=3)\n",
        "    kmeans.fit(pixelValues)\n",
        "    centers = np.uint8(kmeans.cluster_centers_)\n",
        "    labels = kmeans.labels_\n",
        "    segmented_data  =  centers[labels.flatten()]\n",
        "    return segmented_data"
      ]
    },
    {
      "cell_type": "code",
      "execution_count": 20,
      "id": "d35848ba",
      "metadata": {
        "id": "d35848ba"
      },
      "outputs": [],
      "source": [
        "ltrain_paths = list(train_data['path'])\n",
        "ltrain_labels = list(train_data['label'])\n",
        "train_segments = []\n",
        "for i in range(len(ltrain_paths)):\n",
        "    l = []\n",
        "    l.append(ltrain_labels[i])\n",
        "    l.extend(segmentation(ltrain_paths[i]))\n",
        "    train_segments.append(l)\n",
        "#train_segments\n",
        "\n",
        "#train_df = pd.DataFrame()\n"
      ]
    },
    {
      "cell_type": "markdown",
      "id": "5Ii8KDU1ggoK",
      "metadata": {
        "id": "5Ii8KDU1ggoK"
      },
      "source": [
        "## Lets create the training data"
      ]
    },
    {
      "cell_type": "code",
      "execution_count": 21,
      "id": "31d73c74",
      "metadata": {
        "id": "31d73c74"
      },
      "outputs": [],
      "source": [
        "cols = ['labels']\n",
        "cols.extend(['f '+str(i+1) for i in range(4096)])\n",
        "train_seg_data = pd.DataFrame(train_segments,columns=cols)"
      ]
    },
    {
      "cell_type": "code",
      "execution_count": 22,
      "id": "WkK8V7VE143Y",
      "metadata": {
        "colab": {
          "base_uri": "https://localhost:8080/",
          "height": 279
        },
        "id": "WkK8V7VE143Y",
        "outputId": "02ff30cb-1574-4bf1-fd87-e18380842b50"
      },
      "outputs": [
        {
          "output_type": "execute_result",
          "data": {
            "text/plain": [
              "   labels    f 1    f 2    f 3    f 4    f 5    f 6    f 7    f 8    f 9  ...  \\\n",
              "0       0  [122]  [122]  [122]  [122]  [122]  [122]  [189]  [189]  [189]  ...   \n",
              "1       0  [128]  [128]  [200]  [200]  [200]  [200]  [200]  [200]  [200]  ...   \n",
              "2       0   [75]   [75]   [75]   [75]   [75]   [75]  [112]  [112]  [112]  ...   \n",
              "3       0   [72]   [72]   [72]   [72]   [72]   [72]  [119]  [119]  [119]  ...   \n",
              "4       0   [88]   [88]   [88]  [122]  [122]  [122]  [122]  [122]  [122]  ...   \n",
              "\n",
              "  f 4087 f 4088 f 4089 f 4090 f 4091 f 4092 f 4093 f 4094 f 4095 f 4096  \n",
              "0  [122]  [122]  [122]  [122]  [122]  [122]  [122]  [122]  [122]  [122]  \n",
              "1  [200]  [200]  [128]  [128]  [128]  [128]  [128]  [128]  [128]  [128]  \n",
              "2  [112]  [112]  [112]  [112]   [75]   [75]   [75]   [75]   [75]   [75]  \n",
              "3  [119]  [119]  [119]  [119]  [119]  [119]  [119]  [119]  [119]  [119]  \n",
              "4  [150]  [150]  [122]  [122]  [122]  [122]  [122]  [122]  [122]  [122]  \n",
              "\n",
              "[5 rows x 4097 columns]"
            ],
            "text/html": [
              "\n",
              "  <div id=\"df-95325e1c-4cf9-411b-a25f-0c06382622ac\">\n",
              "    <div class=\"colab-df-container\">\n",
              "      <div>\n",
              "<style scoped>\n",
              "    .dataframe tbody tr th:only-of-type {\n",
              "        vertical-align: middle;\n",
              "    }\n",
              "\n",
              "    .dataframe tbody tr th {\n",
              "        vertical-align: top;\n",
              "    }\n",
              "\n",
              "    .dataframe thead th {\n",
              "        text-align: right;\n",
              "    }\n",
              "</style>\n",
              "<table border=\"1\" class=\"dataframe\">\n",
              "  <thead>\n",
              "    <tr style=\"text-align: right;\">\n",
              "      <th></th>\n",
              "      <th>labels</th>\n",
              "      <th>f 1</th>\n",
              "      <th>f 2</th>\n",
              "      <th>f 3</th>\n",
              "      <th>f 4</th>\n",
              "      <th>f 5</th>\n",
              "      <th>f 6</th>\n",
              "      <th>f 7</th>\n",
              "      <th>f 8</th>\n",
              "      <th>f 9</th>\n",
              "      <th>...</th>\n",
              "      <th>f 4087</th>\n",
              "      <th>f 4088</th>\n",
              "      <th>f 4089</th>\n",
              "      <th>f 4090</th>\n",
              "      <th>f 4091</th>\n",
              "      <th>f 4092</th>\n",
              "      <th>f 4093</th>\n",
              "      <th>f 4094</th>\n",
              "      <th>f 4095</th>\n",
              "      <th>f 4096</th>\n",
              "    </tr>\n",
              "  </thead>\n",
              "  <tbody>\n",
              "    <tr>\n",
              "      <th>0</th>\n",
              "      <td>0</td>\n",
              "      <td>[122]</td>\n",
              "      <td>[122]</td>\n",
              "      <td>[122]</td>\n",
              "      <td>[122]</td>\n",
              "      <td>[122]</td>\n",
              "      <td>[122]</td>\n",
              "      <td>[189]</td>\n",
              "      <td>[189]</td>\n",
              "      <td>[189]</td>\n",
              "      <td>...</td>\n",
              "      <td>[122]</td>\n",
              "      <td>[122]</td>\n",
              "      <td>[122]</td>\n",
              "      <td>[122]</td>\n",
              "      <td>[122]</td>\n",
              "      <td>[122]</td>\n",
              "      <td>[122]</td>\n",
              "      <td>[122]</td>\n",
              "      <td>[122]</td>\n",
              "      <td>[122]</td>\n",
              "    </tr>\n",
              "    <tr>\n",
              "      <th>1</th>\n",
              "      <td>0</td>\n",
              "      <td>[128]</td>\n",
              "      <td>[128]</td>\n",
              "      <td>[200]</td>\n",
              "      <td>[200]</td>\n",
              "      <td>[200]</td>\n",
              "      <td>[200]</td>\n",
              "      <td>[200]</td>\n",
              "      <td>[200]</td>\n",
              "      <td>[200]</td>\n",
              "      <td>...</td>\n",
              "      <td>[200]</td>\n",
              "      <td>[200]</td>\n",
              "      <td>[128]</td>\n",
              "      <td>[128]</td>\n",
              "      <td>[128]</td>\n",
              "      <td>[128]</td>\n",
              "      <td>[128]</td>\n",
              "      <td>[128]</td>\n",
              "      <td>[128]</td>\n",
              "      <td>[128]</td>\n",
              "    </tr>\n",
              "    <tr>\n",
              "      <th>2</th>\n",
              "      <td>0</td>\n",
              "      <td>[75]</td>\n",
              "      <td>[75]</td>\n",
              "      <td>[75]</td>\n",
              "      <td>[75]</td>\n",
              "      <td>[75]</td>\n",
              "      <td>[75]</td>\n",
              "      <td>[112]</td>\n",
              "      <td>[112]</td>\n",
              "      <td>[112]</td>\n",
              "      <td>...</td>\n",
              "      <td>[112]</td>\n",
              "      <td>[112]</td>\n",
              "      <td>[112]</td>\n",
              "      <td>[112]</td>\n",
              "      <td>[75]</td>\n",
              "      <td>[75]</td>\n",
              "      <td>[75]</td>\n",
              "      <td>[75]</td>\n",
              "      <td>[75]</td>\n",
              "      <td>[75]</td>\n",
              "    </tr>\n",
              "    <tr>\n",
              "      <th>3</th>\n",
              "      <td>0</td>\n",
              "      <td>[72]</td>\n",
              "      <td>[72]</td>\n",
              "      <td>[72]</td>\n",
              "      <td>[72]</td>\n",
              "      <td>[72]</td>\n",
              "      <td>[72]</td>\n",
              "      <td>[119]</td>\n",
              "      <td>[119]</td>\n",
              "      <td>[119]</td>\n",
              "      <td>...</td>\n",
              "      <td>[119]</td>\n",
              "      <td>[119]</td>\n",
              "      <td>[119]</td>\n",
              "      <td>[119]</td>\n",
              "      <td>[119]</td>\n",
              "      <td>[119]</td>\n",
              "      <td>[119]</td>\n",
              "      <td>[119]</td>\n",
              "      <td>[119]</td>\n",
              "      <td>[119]</td>\n",
              "    </tr>\n",
              "    <tr>\n",
              "      <th>4</th>\n",
              "      <td>0</td>\n",
              "      <td>[88]</td>\n",
              "      <td>[88]</td>\n",
              "      <td>[88]</td>\n",
              "      <td>[122]</td>\n",
              "      <td>[122]</td>\n",
              "      <td>[122]</td>\n",
              "      <td>[122]</td>\n",
              "      <td>[122]</td>\n",
              "      <td>[122]</td>\n",
              "      <td>...</td>\n",
              "      <td>[150]</td>\n",
              "      <td>[150]</td>\n",
              "      <td>[122]</td>\n",
              "      <td>[122]</td>\n",
              "      <td>[122]</td>\n",
              "      <td>[122]</td>\n",
              "      <td>[122]</td>\n",
              "      <td>[122]</td>\n",
              "      <td>[122]</td>\n",
              "      <td>[122]</td>\n",
              "    </tr>\n",
              "  </tbody>\n",
              "</table>\n",
              "<p>5 rows × 4097 columns</p>\n",
              "</div>\n",
              "      <button class=\"colab-df-convert\" onclick=\"convertToInteractive('df-95325e1c-4cf9-411b-a25f-0c06382622ac')\"\n",
              "              title=\"Convert this dataframe to an interactive table.\"\n",
              "              style=\"display:none;\">\n",
              "        \n",
              "  <svg xmlns=\"http://www.w3.org/2000/svg\" height=\"24px\"viewBox=\"0 0 24 24\"\n",
              "       width=\"24px\">\n",
              "    <path d=\"M0 0h24v24H0V0z\" fill=\"none\"/>\n",
              "    <path d=\"M18.56 5.44l.94 2.06.94-2.06 2.06-.94-2.06-.94-.94-2.06-.94 2.06-2.06.94zm-11 1L8.5 8.5l.94-2.06 2.06-.94-2.06-.94L8.5 2.5l-.94 2.06-2.06.94zm10 10l.94 2.06.94-2.06 2.06-.94-2.06-.94-.94-2.06-.94 2.06-2.06.94z\"/><path d=\"M17.41 7.96l-1.37-1.37c-.4-.4-.92-.59-1.43-.59-.52 0-1.04.2-1.43.59L10.3 9.45l-7.72 7.72c-.78.78-.78 2.05 0 2.83L4 21.41c.39.39.9.59 1.41.59.51 0 1.02-.2 1.41-.59l7.78-7.78 2.81-2.81c.8-.78.8-2.07 0-2.86zM5.41 20L4 18.59l7.72-7.72 1.47 1.35L5.41 20z\"/>\n",
              "  </svg>\n",
              "      </button>\n",
              "      \n",
              "  <style>\n",
              "    .colab-df-container {\n",
              "      display:flex;\n",
              "      flex-wrap:wrap;\n",
              "      gap: 12px;\n",
              "    }\n",
              "\n",
              "    .colab-df-convert {\n",
              "      background-color: #E8F0FE;\n",
              "      border: none;\n",
              "      border-radius: 50%;\n",
              "      cursor: pointer;\n",
              "      display: none;\n",
              "      fill: #1967D2;\n",
              "      height: 32px;\n",
              "      padding: 0 0 0 0;\n",
              "      width: 32px;\n",
              "    }\n",
              "\n",
              "    .colab-df-convert:hover {\n",
              "      background-color: #E2EBFA;\n",
              "      box-shadow: 0px 1px 2px rgba(60, 64, 67, 0.3), 0px 1px 3px 1px rgba(60, 64, 67, 0.15);\n",
              "      fill: #174EA6;\n",
              "    }\n",
              "\n",
              "    [theme=dark] .colab-df-convert {\n",
              "      background-color: #3B4455;\n",
              "      fill: #D2E3FC;\n",
              "    }\n",
              "\n",
              "    [theme=dark] .colab-df-convert:hover {\n",
              "      background-color: #434B5C;\n",
              "      box-shadow: 0px 1px 3px 1px rgba(0, 0, 0, 0.15);\n",
              "      filter: drop-shadow(0px 1px 2px rgba(0, 0, 0, 0.3));\n",
              "      fill: #FFFFFF;\n",
              "    }\n",
              "  </style>\n",
              "\n",
              "      <script>\n",
              "        const buttonEl =\n",
              "          document.querySelector('#df-95325e1c-4cf9-411b-a25f-0c06382622ac button.colab-df-convert');\n",
              "        buttonEl.style.display =\n",
              "          google.colab.kernel.accessAllowed ? 'block' : 'none';\n",
              "\n",
              "        async function convertToInteractive(key) {\n",
              "          const element = document.querySelector('#df-95325e1c-4cf9-411b-a25f-0c06382622ac');\n",
              "          const dataTable =\n",
              "            await google.colab.kernel.invokeFunction('convertToInteractive',\n",
              "                                                     [key], {});\n",
              "          if (!dataTable) return;\n",
              "\n",
              "          const docLinkHtml = 'Like what you see? Visit the ' +\n",
              "            '<a target=\"_blank\" href=https://colab.research.google.com/notebooks/data_table.ipynb>data table notebook</a>'\n",
              "            + ' to learn more about interactive tables.';\n",
              "          element.innerHTML = '';\n",
              "          dataTable['output_type'] = 'display_data';\n",
              "          await google.colab.output.renderOutput(dataTable, element);\n",
              "          const docLink = document.createElement('div');\n",
              "          docLink.innerHTML = docLinkHtml;\n",
              "          element.appendChild(docLink);\n",
              "        }\n",
              "      </script>\n",
              "    </div>\n",
              "  </div>\n",
              "  "
            ]
          },
          "metadata": {},
          "execution_count": 22
        }
      ],
      "source": [
        "train_seg_data.head()"
      ]
    },
    {
      "cell_type": "code",
      "execution_count": 23,
      "id": "XxYahFPS1-IB",
      "metadata": {
        "colab": {
          "base_uri": "https://localhost:8080/",
          "height": 235
        },
        "id": "XxYahFPS1-IB",
        "outputId": "4f55a8b4-967c-4fcf-d47c-9b1432744f9d"
      },
      "outputs": [
        {
          "output_type": "execute_result",
          "data": {
            "text/plain": [
              "   labels  f 1  f 2  f 3  f 4  f 5  f 6  f 7  f 8  f 9  ...  f 4087  f 4088  \\\n",
              "0       0  122  122  122  122  122  122  189  189  189  ...     122     122   \n",
              "1       0  128  128  200  200  200  200  200  200  200  ...     200     200   \n",
              "2       0   75   75   75   75   75   75  112  112  112  ...     112     112   \n",
              "3       0   72   72   72   72   72   72  119  119  119  ...     119     119   \n",
              "4       0   88   88   88  122  122  122  122  122  122  ...     150     150   \n",
              "\n",
              "   f 4089  f 4090  f 4091  f 4092  f 4093  f 4094  f 4095  f 4096  \n",
              "0     122     122     122     122     122     122     122     122  \n",
              "1     128     128     128     128     128     128     128     128  \n",
              "2     112     112      75      75      75      75      75      75  \n",
              "3     119     119     119     119     119     119     119     119  \n",
              "4     122     122     122     122     122     122     122     122  \n",
              "\n",
              "[5 rows x 4097 columns]"
            ],
            "text/html": [
              "\n",
              "  <div id=\"df-0e3a901d-9b35-4225-959d-d141a6525fdd\">\n",
              "    <div class=\"colab-df-container\">\n",
              "      <div>\n",
              "<style scoped>\n",
              "    .dataframe tbody tr th:only-of-type {\n",
              "        vertical-align: middle;\n",
              "    }\n",
              "\n",
              "    .dataframe tbody tr th {\n",
              "        vertical-align: top;\n",
              "    }\n",
              "\n",
              "    .dataframe thead th {\n",
              "        text-align: right;\n",
              "    }\n",
              "</style>\n",
              "<table border=\"1\" class=\"dataframe\">\n",
              "  <thead>\n",
              "    <tr style=\"text-align: right;\">\n",
              "      <th></th>\n",
              "      <th>labels</th>\n",
              "      <th>f 1</th>\n",
              "      <th>f 2</th>\n",
              "      <th>f 3</th>\n",
              "      <th>f 4</th>\n",
              "      <th>f 5</th>\n",
              "      <th>f 6</th>\n",
              "      <th>f 7</th>\n",
              "      <th>f 8</th>\n",
              "      <th>f 9</th>\n",
              "      <th>...</th>\n",
              "      <th>f 4087</th>\n",
              "      <th>f 4088</th>\n",
              "      <th>f 4089</th>\n",
              "      <th>f 4090</th>\n",
              "      <th>f 4091</th>\n",
              "      <th>f 4092</th>\n",
              "      <th>f 4093</th>\n",
              "      <th>f 4094</th>\n",
              "      <th>f 4095</th>\n",
              "      <th>f 4096</th>\n",
              "    </tr>\n",
              "  </thead>\n",
              "  <tbody>\n",
              "    <tr>\n",
              "      <th>0</th>\n",
              "      <td>0</td>\n",
              "      <td>122</td>\n",
              "      <td>122</td>\n",
              "      <td>122</td>\n",
              "      <td>122</td>\n",
              "      <td>122</td>\n",
              "      <td>122</td>\n",
              "      <td>189</td>\n",
              "      <td>189</td>\n",
              "      <td>189</td>\n",
              "      <td>...</td>\n",
              "      <td>122</td>\n",
              "      <td>122</td>\n",
              "      <td>122</td>\n",
              "      <td>122</td>\n",
              "      <td>122</td>\n",
              "      <td>122</td>\n",
              "      <td>122</td>\n",
              "      <td>122</td>\n",
              "      <td>122</td>\n",
              "      <td>122</td>\n",
              "    </tr>\n",
              "    <tr>\n",
              "      <th>1</th>\n",
              "      <td>0</td>\n",
              "      <td>128</td>\n",
              "      <td>128</td>\n",
              "      <td>200</td>\n",
              "      <td>200</td>\n",
              "      <td>200</td>\n",
              "      <td>200</td>\n",
              "      <td>200</td>\n",
              "      <td>200</td>\n",
              "      <td>200</td>\n",
              "      <td>...</td>\n",
              "      <td>200</td>\n",
              "      <td>200</td>\n",
              "      <td>128</td>\n",
              "      <td>128</td>\n",
              "      <td>128</td>\n",
              "      <td>128</td>\n",
              "      <td>128</td>\n",
              "      <td>128</td>\n",
              "      <td>128</td>\n",
              "      <td>128</td>\n",
              "    </tr>\n",
              "    <tr>\n",
              "      <th>2</th>\n",
              "      <td>0</td>\n",
              "      <td>75</td>\n",
              "      <td>75</td>\n",
              "      <td>75</td>\n",
              "      <td>75</td>\n",
              "      <td>75</td>\n",
              "      <td>75</td>\n",
              "      <td>112</td>\n",
              "      <td>112</td>\n",
              "      <td>112</td>\n",
              "      <td>...</td>\n",
              "      <td>112</td>\n",
              "      <td>112</td>\n",
              "      <td>112</td>\n",
              "      <td>112</td>\n",
              "      <td>75</td>\n",
              "      <td>75</td>\n",
              "      <td>75</td>\n",
              "      <td>75</td>\n",
              "      <td>75</td>\n",
              "      <td>75</td>\n",
              "    </tr>\n",
              "    <tr>\n",
              "      <th>3</th>\n",
              "      <td>0</td>\n",
              "      <td>72</td>\n",
              "      <td>72</td>\n",
              "      <td>72</td>\n",
              "      <td>72</td>\n",
              "      <td>72</td>\n",
              "      <td>72</td>\n",
              "      <td>119</td>\n",
              "      <td>119</td>\n",
              "      <td>119</td>\n",
              "      <td>...</td>\n",
              "      <td>119</td>\n",
              "      <td>119</td>\n",
              "      <td>119</td>\n",
              "      <td>119</td>\n",
              "      <td>119</td>\n",
              "      <td>119</td>\n",
              "      <td>119</td>\n",
              "      <td>119</td>\n",
              "      <td>119</td>\n",
              "      <td>119</td>\n",
              "    </tr>\n",
              "    <tr>\n",
              "      <th>4</th>\n",
              "      <td>0</td>\n",
              "      <td>88</td>\n",
              "      <td>88</td>\n",
              "      <td>88</td>\n",
              "      <td>122</td>\n",
              "      <td>122</td>\n",
              "      <td>122</td>\n",
              "      <td>122</td>\n",
              "      <td>122</td>\n",
              "      <td>122</td>\n",
              "      <td>...</td>\n",
              "      <td>150</td>\n",
              "      <td>150</td>\n",
              "      <td>122</td>\n",
              "      <td>122</td>\n",
              "      <td>122</td>\n",
              "      <td>122</td>\n",
              "      <td>122</td>\n",
              "      <td>122</td>\n",
              "      <td>122</td>\n",
              "      <td>122</td>\n",
              "    </tr>\n",
              "  </tbody>\n",
              "</table>\n",
              "<p>5 rows × 4097 columns</p>\n",
              "</div>\n",
              "      <button class=\"colab-df-convert\" onclick=\"convertToInteractive('df-0e3a901d-9b35-4225-959d-d141a6525fdd')\"\n",
              "              title=\"Convert this dataframe to an interactive table.\"\n",
              "              style=\"display:none;\">\n",
              "        \n",
              "  <svg xmlns=\"http://www.w3.org/2000/svg\" height=\"24px\"viewBox=\"0 0 24 24\"\n",
              "       width=\"24px\">\n",
              "    <path d=\"M0 0h24v24H0V0z\" fill=\"none\"/>\n",
              "    <path d=\"M18.56 5.44l.94 2.06.94-2.06 2.06-.94-2.06-.94-.94-2.06-.94 2.06-2.06.94zm-11 1L8.5 8.5l.94-2.06 2.06-.94-2.06-.94L8.5 2.5l-.94 2.06-2.06.94zm10 10l.94 2.06.94-2.06 2.06-.94-2.06-.94-.94-2.06-.94 2.06-2.06.94z\"/><path d=\"M17.41 7.96l-1.37-1.37c-.4-.4-.92-.59-1.43-.59-.52 0-1.04.2-1.43.59L10.3 9.45l-7.72 7.72c-.78.78-.78 2.05 0 2.83L4 21.41c.39.39.9.59 1.41.59.51 0 1.02-.2 1.41-.59l7.78-7.78 2.81-2.81c.8-.78.8-2.07 0-2.86zM5.41 20L4 18.59l7.72-7.72 1.47 1.35L5.41 20z\"/>\n",
              "  </svg>\n",
              "      </button>\n",
              "      \n",
              "  <style>\n",
              "    .colab-df-container {\n",
              "      display:flex;\n",
              "      flex-wrap:wrap;\n",
              "      gap: 12px;\n",
              "    }\n",
              "\n",
              "    .colab-df-convert {\n",
              "      background-color: #E8F0FE;\n",
              "      border: none;\n",
              "      border-radius: 50%;\n",
              "      cursor: pointer;\n",
              "      display: none;\n",
              "      fill: #1967D2;\n",
              "      height: 32px;\n",
              "      padding: 0 0 0 0;\n",
              "      width: 32px;\n",
              "    }\n",
              "\n",
              "    .colab-df-convert:hover {\n",
              "      background-color: #E2EBFA;\n",
              "      box-shadow: 0px 1px 2px rgba(60, 64, 67, 0.3), 0px 1px 3px 1px rgba(60, 64, 67, 0.15);\n",
              "      fill: #174EA6;\n",
              "    }\n",
              "\n",
              "    [theme=dark] .colab-df-convert {\n",
              "      background-color: #3B4455;\n",
              "      fill: #D2E3FC;\n",
              "    }\n",
              "\n",
              "    [theme=dark] .colab-df-convert:hover {\n",
              "      background-color: #434B5C;\n",
              "      box-shadow: 0px 1px 3px 1px rgba(0, 0, 0, 0.15);\n",
              "      filter: drop-shadow(0px 1px 2px rgba(0, 0, 0, 0.3));\n",
              "      fill: #FFFFFF;\n",
              "    }\n",
              "  </style>\n",
              "\n",
              "      <script>\n",
              "        const buttonEl =\n",
              "          document.querySelector('#df-0e3a901d-9b35-4225-959d-d141a6525fdd button.colab-df-convert');\n",
              "        buttonEl.style.display =\n",
              "          google.colab.kernel.accessAllowed ? 'block' : 'none';\n",
              "\n",
              "        async function convertToInteractive(key) {\n",
              "          const element = document.querySelector('#df-0e3a901d-9b35-4225-959d-d141a6525fdd');\n",
              "          const dataTable =\n",
              "            await google.colab.kernel.invokeFunction('convertToInteractive',\n",
              "                                                     [key], {});\n",
              "          if (!dataTable) return;\n",
              "\n",
              "          const docLinkHtml = 'Like what you see? Visit the ' +\n",
              "            '<a target=\"_blank\" href=https://colab.research.google.com/notebooks/data_table.ipynb>data table notebook</a>'\n",
              "            + ' to learn more about interactive tables.';\n",
              "          element.innerHTML = '';\n",
              "          dataTable['output_type'] = 'display_data';\n",
              "          await google.colab.output.renderOutput(dataTable, element);\n",
              "          const docLink = document.createElement('div');\n",
              "          docLink.innerHTML = docLinkHtml;\n",
              "          element.appendChild(docLink);\n",
              "        }\n",
              "      </script>\n",
              "    </div>\n",
              "  </div>\n",
              "  "
            ]
          },
          "metadata": {},
          "execution_count": 23
        }
      ],
      "source": [
        "train_seg_data = train_seg_data.astype(int)\n",
        "train_seg_data.head()"
      ]
    },
    {
      "cell_type": "code",
      "execution_count": 24,
      "id": "AIGC7k7C2jux",
      "metadata": {
        "id": "AIGC7k7C2jux"
      },
      "outputs": [],
      "source": [
        "features = train_seg_data.iloc[:,1:].values\n",
        "target = train_seg_data.iloc[:,0].values"
      ]
    },
    {
      "cell_type": "markdown",
      "id": "uIBZXPZu4Ie9",
      "metadata": {
        "id": "uIBZXPZu4Ie9"
      },
      "source": [
        "## Lets work out for test images"
      ]
    },
    {
      "cell_type": "code",
      "execution_count": 25,
      "id": "WO-lEH3g29Kr",
      "metadata": {
        "colab": {
          "base_uri": "https://localhost:8080/",
          "height": 235
        },
        "id": "WO-lEH3g29Kr",
        "outputId": "89c4e249-e228-4ad9-a5e0-3aa0fdb66b1a"
      },
      "outputs": [
        {
          "output_type": "execute_result",
          "data": {
            "text/plain": [
              "   labels  f 1  f 2  f 3  f 4  f 5  f 6  f 7  f 8  f 9  ...  f 4087  f 4088  \\\n",
              "0       0   77   77  139  139  139  139  139  139  139  ...     139     139   \n",
              "1       0  146  146  146  105  105  105  105  105  105  ...      76      76   \n",
              "2       0   64   64   64   64   64  140  140  140  140  ...     140     140   \n",
              "3       0  114  114  154  154  154  154  154  154  114  ...     114     114   \n",
              "4       0   84   84   84   84   84   84   84  148  148  ...      84      84   \n",
              "\n",
              "   f 4089  f 4090  f 4091  f 4092  f 4093  f 4094  f 4095  f 4096  \n",
              "0     139     139      77      77      77      77      77      77  \n",
              "1     105     105     105     105     105     105     105     105  \n",
              "2     140     140     140     140     140     140     140      64  \n",
              "3     114     114     114     114     114     114     114     114  \n",
              "4      84      84      84      84      84      84      84      84  \n",
              "\n",
              "[5 rows x 4097 columns]"
            ],
            "text/html": [
              "\n",
              "  <div id=\"df-1b88ebd6-7528-4ed2-a6c0-29443a20bcb1\">\n",
              "    <div class=\"colab-df-container\">\n",
              "      <div>\n",
              "<style scoped>\n",
              "    .dataframe tbody tr th:only-of-type {\n",
              "        vertical-align: middle;\n",
              "    }\n",
              "\n",
              "    .dataframe tbody tr th {\n",
              "        vertical-align: top;\n",
              "    }\n",
              "\n",
              "    .dataframe thead th {\n",
              "        text-align: right;\n",
              "    }\n",
              "</style>\n",
              "<table border=\"1\" class=\"dataframe\">\n",
              "  <thead>\n",
              "    <tr style=\"text-align: right;\">\n",
              "      <th></th>\n",
              "      <th>labels</th>\n",
              "      <th>f 1</th>\n",
              "      <th>f 2</th>\n",
              "      <th>f 3</th>\n",
              "      <th>f 4</th>\n",
              "      <th>f 5</th>\n",
              "      <th>f 6</th>\n",
              "      <th>f 7</th>\n",
              "      <th>f 8</th>\n",
              "      <th>f 9</th>\n",
              "      <th>...</th>\n",
              "      <th>f 4087</th>\n",
              "      <th>f 4088</th>\n",
              "      <th>f 4089</th>\n",
              "      <th>f 4090</th>\n",
              "      <th>f 4091</th>\n",
              "      <th>f 4092</th>\n",
              "      <th>f 4093</th>\n",
              "      <th>f 4094</th>\n",
              "      <th>f 4095</th>\n",
              "      <th>f 4096</th>\n",
              "    </tr>\n",
              "  </thead>\n",
              "  <tbody>\n",
              "    <tr>\n",
              "      <th>0</th>\n",
              "      <td>0</td>\n",
              "      <td>77</td>\n",
              "      <td>77</td>\n",
              "      <td>139</td>\n",
              "      <td>139</td>\n",
              "      <td>139</td>\n",
              "      <td>139</td>\n",
              "      <td>139</td>\n",
              "      <td>139</td>\n",
              "      <td>139</td>\n",
              "      <td>...</td>\n",
              "      <td>139</td>\n",
              "      <td>139</td>\n",
              "      <td>139</td>\n",
              "      <td>139</td>\n",
              "      <td>77</td>\n",
              "      <td>77</td>\n",
              "      <td>77</td>\n",
              "      <td>77</td>\n",
              "      <td>77</td>\n",
              "      <td>77</td>\n",
              "    </tr>\n",
              "    <tr>\n",
              "      <th>1</th>\n",
              "      <td>0</td>\n",
              "      <td>146</td>\n",
              "      <td>146</td>\n",
              "      <td>146</td>\n",
              "      <td>105</td>\n",
              "      <td>105</td>\n",
              "      <td>105</td>\n",
              "      <td>105</td>\n",
              "      <td>105</td>\n",
              "      <td>105</td>\n",
              "      <td>...</td>\n",
              "      <td>76</td>\n",
              "      <td>76</td>\n",
              "      <td>105</td>\n",
              "      <td>105</td>\n",
              "      <td>105</td>\n",
              "      <td>105</td>\n",
              "      <td>105</td>\n",
              "      <td>105</td>\n",
              "      <td>105</td>\n",
              "      <td>105</td>\n",
              "    </tr>\n",
              "    <tr>\n",
              "      <th>2</th>\n",
              "      <td>0</td>\n",
              "      <td>64</td>\n",
              "      <td>64</td>\n",
              "      <td>64</td>\n",
              "      <td>64</td>\n",
              "      <td>64</td>\n",
              "      <td>140</td>\n",
              "      <td>140</td>\n",
              "      <td>140</td>\n",
              "      <td>140</td>\n",
              "      <td>...</td>\n",
              "      <td>140</td>\n",
              "      <td>140</td>\n",
              "      <td>140</td>\n",
              "      <td>140</td>\n",
              "      <td>140</td>\n",
              "      <td>140</td>\n",
              "      <td>140</td>\n",
              "      <td>140</td>\n",
              "      <td>140</td>\n",
              "      <td>64</td>\n",
              "    </tr>\n",
              "    <tr>\n",
              "      <th>3</th>\n",
              "      <td>0</td>\n",
              "      <td>114</td>\n",
              "      <td>114</td>\n",
              "      <td>154</td>\n",
              "      <td>154</td>\n",
              "      <td>154</td>\n",
              "      <td>154</td>\n",
              "      <td>154</td>\n",
              "      <td>154</td>\n",
              "      <td>114</td>\n",
              "      <td>...</td>\n",
              "      <td>114</td>\n",
              "      <td>114</td>\n",
              "      <td>114</td>\n",
              "      <td>114</td>\n",
              "      <td>114</td>\n",
              "      <td>114</td>\n",
              "      <td>114</td>\n",
              "      <td>114</td>\n",
              "      <td>114</td>\n",
              "      <td>114</td>\n",
              "    </tr>\n",
              "    <tr>\n",
              "      <th>4</th>\n",
              "      <td>0</td>\n",
              "      <td>84</td>\n",
              "      <td>84</td>\n",
              "      <td>84</td>\n",
              "      <td>84</td>\n",
              "      <td>84</td>\n",
              "      <td>84</td>\n",
              "      <td>84</td>\n",
              "      <td>148</td>\n",
              "      <td>148</td>\n",
              "      <td>...</td>\n",
              "      <td>84</td>\n",
              "      <td>84</td>\n",
              "      <td>84</td>\n",
              "      <td>84</td>\n",
              "      <td>84</td>\n",
              "      <td>84</td>\n",
              "      <td>84</td>\n",
              "      <td>84</td>\n",
              "      <td>84</td>\n",
              "      <td>84</td>\n",
              "    </tr>\n",
              "  </tbody>\n",
              "</table>\n",
              "<p>5 rows × 4097 columns</p>\n",
              "</div>\n",
              "      <button class=\"colab-df-convert\" onclick=\"convertToInteractive('df-1b88ebd6-7528-4ed2-a6c0-29443a20bcb1')\"\n",
              "              title=\"Convert this dataframe to an interactive table.\"\n",
              "              style=\"display:none;\">\n",
              "        \n",
              "  <svg xmlns=\"http://www.w3.org/2000/svg\" height=\"24px\"viewBox=\"0 0 24 24\"\n",
              "       width=\"24px\">\n",
              "    <path d=\"M0 0h24v24H0V0z\" fill=\"none\"/>\n",
              "    <path d=\"M18.56 5.44l.94 2.06.94-2.06 2.06-.94-2.06-.94-.94-2.06-.94 2.06-2.06.94zm-11 1L8.5 8.5l.94-2.06 2.06-.94-2.06-.94L8.5 2.5l-.94 2.06-2.06.94zm10 10l.94 2.06.94-2.06 2.06-.94-2.06-.94-.94-2.06-.94 2.06-2.06.94z\"/><path d=\"M17.41 7.96l-1.37-1.37c-.4-.4-.92-.59-1.43-.59-.52 0-1.04.2-1.43.59L10.3 9.45l-7.72 7.72c-.78.78-.78 2.05 0 2.83L4 21.41c.39.39.9.59 1.41.59.51 0 1.02-.2 1.41-.59l7.78-7.78 2.81-2.81c.8-.78.8-2.07 0-2.86zM5.41 20L4 18.59l7.72-7.72 1.47 1.35L5.41 20z\"/>\n",
              "  </svg>\n",
              "      </button>\n",
              "      \n",
              "  <style>\n",
              "    .colab-df-container {\n",
              "      display:flex;\n",
              "      flex-wrap:wrap;\n",
              "      gap: 12px;\n",
              "    }\n",
              "\n",
              "    .colab-df-convert {\n",
              "      background-color: #E8F0FE;\n",
              "      border: none;\n",
              "      border-radius: 50%;\n",
              "      cursor: pointer;\n",
              "      display: none;\n",
              "      fill: #1967D2;\n",
              "      height: 32px;\n",
              "      padding: 0 0 0 0;\n",
              "      width: 32px;\n",
              "    }\n",
              "\n",
              "    .colab-df-convert:hover {\n",
              "      background-color: #E2EBFA;\n",
              "      box-shadow: 0px 1px 2px rgba(60, 64, 67, 0.3), 0px 1px 3px 1px rgba(60, 64, 67, 0.15);\n",
              "      fill: #174EA6;\n",
              "    }\n",
              "\n",
              "    [theme=dark] .colab-df-convert {\n",
              "      background-color: #3B4455;\n",
              "      fill: #D2E3FC;\n",
              "    }\n",
              "\n",
              "    [theme=dark] .colab-df-convert:hover {\n",
              "      background-color: #434B5C;\n",
              "      box-shadow: 0px 1px 3px 1px rgba(0, 0, 0, 0.15);\n",
              "      filter: drop-shadow(0px 1px 2px rgba(0, 0, 0, 0.3));\n",
              "      fill: #FFFFFF;\n",
              "    }\n",
              "  </style>\n",
              "\n",
              "      <script>\n",
              "        const buttonEl =\n",
              "          document.querySelector('#df-1b88ebd6-7528-4ed2-a6c0-29443a20bcb1 button.colab-df-convert');\n",
              "        buttonEl.style.display =\n",
              "          google.colab.kernel.accessAllowed ? 'block' : 'none';\n",
              "\n",
              "        async function convertToInteractive(key) {\n",
              "          const element = document.querySelector('#df-1b88ebd6-7528-4ed2-a6c0-29443a20bcb1');\n",
              "          const dataTable =\n",
              "            await google.colab.kernel.invokeFunction('convertToInteractive',\n",
              "                                                     [key], {});\n",
              "          if (!dataTable) return;\n",
              "\n",
              "          const docLinkHtml = 'Like what you see? Visit the ' +\n",
              "            '<a target=\"_blank\" href=https://colab.research.google.com/notebooks/data_table.ipynb>data table notebook</a>'\n",
              "            + ' to learn more about interactive tables.';\n",
              "          element.innerHTML = '';\n",
              "          dataTable['output_type'] = 'display_data';\n",
              "          await google.colab.output.renderOutput(dataTable, element);\n",
              "          const docLink = document.createElement('div');\n",
              "          docLink.innerHTML = docLinkHtml;\n",
              "          element.appendChild(docLink);\n",
              "        }\n",
              "      </script>\n",
              "    </div>\n",
              "  </div>\n",
              "  "
            ]
          },
          "metadata": {},
          "execution_count": 25
        }
      ],
      "source": [
        "ltest_paths = list(test_data['path'])\n",
        "ltest_labels = list(test_data['label'])\n",
        "test_segments = []\n",
        "for i in range(len(ltest_paths)):\n",
        "    l = []\n",
        "    l.append(ltest_labels[i])\n",
        "    l.extend(segmentation(ltest_paths[i]))\n",
        "    test_segments.append(l)\n",
        "test_seg_data = pd.DataFrame(test_segments,columns=cols)\n",
        "test_seg_data = test_seg_data.astype(int)\n",
        "test_seg_data.head()"
      ]
    },
    {
      "cell_type": "code",
      "execution_count": 26,
      "id": "OOysidVt29NJ",
      "metadata": {
        "id": "OOysidVt29NJ"
      },
      "outputs": [],
      "source": [
        "t_features = test_seg_data.iloc[:,1:].values\n",
        "t_target = test_seg_data.iloc[:,0].values"
      ]
    },
    {
      "cell_type": "markdown",
      "source": [
        "## Use Different Classifiers for Detection and Severity Prediction"
      ],
      "metadata": {
        "id": "Agl9dz2GqfD8"
      },
      "id": "Agl9dz2GqfD8"
    },
    {
      "cell_type": "markdown",
      "source": [
        "### 1. K Nearest Neignbors Algorithm"
      ],
      "metadata": {
        "id": "9DdXhe44qmc0"
      },
      "id": "9DdXhe44qmc0"
    },
    {
      "cell_type": "code",
      "execution_count": 27,
      "id": "sduUcvgh2j2Q",
      "metadata": {
        "colab": {
          "base_uri": "https://localhost:8080/",
          "height": 295
        },
        "id": "sduUcvgh2j2Q",
        "outputId": "d65bb176-1c9c-43f3-f514-5c2e24c3845d"
      },
      "outputs": [
        {
          "output_type": "display_data",
          "data": {
            "text/plain": [
              "<Figure size 432x288 with 1 Axes>"
            ],
            "image/png": "[encoded data removed]"
          },
          "metadata": {
            "needs_background": "light"
          }
        }
      ],
      "source": [
        "from sklearn.neighbors import KNeighborsClassifier\n",
        "from sklearn.metrics import mean_squared_error\n",
        "acc = []\n",
        "for i in range(2,16):\n",
        "  model = KNeighborsClassifier(n_neighbors=i)\n",
        "  model.fit(features,target)\n",
        "  y_pred = model.predict(t_features)\n",
        "  acc.append(mean_squared_error(t_target,y_pred))\n",
        "plt.plot(range(2,16),acc)\n",
        "plt.title('No of Clusters Calculations')\n",
        "plt.xlabel('Number of Neignbors')\n",
        "plt.ylabel('Error')\n",
        "plt.grid()\n",
        "plt.show()"
      ]
    },
    {
      "cell_type": "code",
      "execution_count": 28,
      "id": "HJbXV_mm29P3",
      "metadata": {
        "id": "HJbXV_mm29P3"
      },
      "outputs": [],
      "source": [
        "model = KNeighborsClassifier(n_neighbors=2)\n",
        "model.fit(features,target)\n",
        "y_pred = model.predict(t_features)"
      ]
    },
    {
      "cell_type": "code",
      "execution_count": 29,
      "id": "m8KeXBAU29TN",
      "metadata": {
        "colab": {
          "base_uri": "https://localhost:8080/",
          "height": 325
        },
        "id": "m8KeXBAU29TN",
        "outputId": "091437a0-d10d-4360-e771-78e02330a581"
      },
      "outputs": [
        {
          "output_type": "display_data",
          "data": {
            "text/plain": [
              "<Figure size 432x288 with 2 Axes>"
            ],
            "image/png": "[encoded data removed]"
          },
          "metadata": {
            "needs_background": "light"
          }
        }
      ],
      "source": [
        "from sklearn.metrics import confusion_matrix, accuracy_score, precision_score, recall_score, f1_score\n",
        "cnf = confusion_matrix(t_target,y_pred)\n",
        "class_names = ['malignant', 'benign']\n",
        "fig, ax = plt.subplots()\n",
        "tick_marks = np.arange(len(class_names))\n",
        "plt.xticks(tick_marks,class_names)\n",
        "plt.yticks(tick_marks,class_names)\n",
        "sns.heatmap(pd.DataFrame(cnf),annot=True,cmap='Blues_r',fmt='g')\n",
        "ax.xaxis.set_label_position(\"top\")\n",
        "plt.tight_layout()\n",
        "plt.title('Confusion matrix', y=1.1)\n",
        "plt.ylabel('Actual label')\n",
        "plt.xlabel('Predicted label')\n",
        "plt.Text(0.5,257.44,'Predicted label')\n",
        "plt.show()"
      ]
    },
    {
      "cell_type": "code",
      "execution_count": 30,
      "id": "D2yGY1CN-Fg7",
      "metadata": {
        "colab": {
          "base_uri": "https://localhost:8080/"
        },
        "id": "D2yGY1CN-Fg7",
        "outputId": "4cb1560f-b2f0-472e-8271-96f312d5f369"
      },
      "outputs": [
        {
          "output_type": "stream",
          "name": "stdout",
          "text": [
            "Accuracy Score:  0.37077294685990336\n"
          ]
        }
      ],
      "source": [
        "print('Accuracy Score: ',accuracy_score(t_target,y_pred))"
      ]
    },
    {
      "cell_type": "code",
      "execution_count": 31,
      "id": "swRdr05L-v0M",
      "metadata": {
        "colab": {
          "base_uri": "https://localhost:8080/"
        },
        "id": "swRdr05L-v0M",
        "outputId": "75e34ae8-ac3f-406a-f726-765574426c62"
      },
      "outputs": [
        {
          "output_type": "stream",
          "name": "stdout",
          "text": [
            "              precision    recall  f1-score   support\n",
            "\n",
            "           0       0.44      0.72      0.55       639\n",
            "           1       0.17      0.18      0.17       296\n",
            "           2       0.32      0.19      0.24       447\n",
            "           3       0.38      0.08      0.13       223\n",
            "           4       0.50      0.02      0.04        51\n",
            "\n",
            "    accuracy                           0.37      1656\n",
            "   macro avg       0.36      0.24      0.22      1656\n",
            "weighted avg       0.35      0.37      0.32      1656\n",
            "\n"
          ]
        }
      ],
      "source": [
        "from sklearn.metrics import classification_report\n",
        "print(classification_report(t_target,y_pred))"
      ]
    },
    {
      "cell_type": "code",
      "source": [
        "print('F1 Score (Macro): ',f1_score(t_target,y_pred,average='macro'))\n",
        "print('F1 Score (Micro): ',f1_score(t_target,y_pred,average='micro'))\n",
        "print('F1 Score (Weighted): ',f1_score(t_target,y_pred,average='weighted'))"
      ],
      "metadata": {
        "colab": {
          "base_uri": "https://localhost:8080/"
        },
        "id": "N0ubjC9VpHim",
        "outputId": "210afd07-60f3-45e9-c899-2adbc0213e0e"
      },
      "id": "N0ubjC9VpHim",
      "execution_count": 32,
      "outputs": [
        {
          "output_type": "stream",
          "name": "stdout",
          "text": [
            "F1 Score (Macro):  0.2240242576158026\n",
            "F1 Score (Micro):  0.37077294685990336\n",
            "F1 Score (Weighted):  0.32350956811753306\n"
          ]
        }
      ]
    },
    {
      "cell_type": "code",
      "source": [
        "from sklearn.metrics import roc_auc_score\n",
        "print('ROC-AUC_Score (OVR):',roc_auc_score(t_target,model.predict_proba(t_features),multi_class='ovr'))\n",
        "print('ROC-AUC_Score (OVO):',roc_auc_score(t_target,model.predict_proba(t_features),multi_class='ovo'))"
      ],
      "metadata": {
        "colab": {
          "base_uri": "https://localhost:8080/"
        },
        "id": "xq_3krDIpSw0",
        "outputId": "d604c74a-1a3c-4561-8a8b-e53ee7c6786e"
      },
      "id": "xq_3krDIpSw0",
      "execution_count": 33,
      "outputs": [
        {
          "output_type": "stream",
          "name": "stdout",
          "text": [
            "ROC-AUC_Score (OVR): 0.562828000125818\n",
            "ROC-AUC_Score (OVO): 0.5630734652661309\n"
          ]
        }
      ]
    },
    {
      "cell_type": "markdown",
      "source": [
        "### 2. Logistic Regression"
      ],
      "metadata": {
        "id": "zeLgNV-Rqsof"
      },
      "id": "zeLgNV-Rqsof"
    },
    {
      "cell_type": "code",
      "source": [
        "from sklearn.linear_model import LogisticRegression\n",
        "log_reg = LogisticRegression()\n",
        "log_reg.fit(features,target)\n",
        "y_pred = log_reg.predict(t_features)\n",
        "cnf = confusion_matrix(t_target,y_pred)\n",
        "class_names = ['0','1','2','3','4']\n",
        "fig, ax = plt.subplots()\n",
        "tick_marks = np.arange(len(class_names))\n",
        "plt.xticks(tick_marks,class_names)\n",
        "plt.yticks(tick_marks,class_names)\n",
        "sns.heatmap(pd.DataFrame(cnf),annot=True,cmap='Blues_r',fmt='g')\n",
        "ax.xaxis.set_label_position(\"top\")\n",
        "plt.tight_layout()\n",
        "plt.title('Confusion matrix', y=1.1)\n",
        "plt.ylabel('Actual label')\n",
        "plt.xlabel('Predicted label')\n",
        "plt.Text(0.5,257.44,'Predicted label')\n",
        "plt.show()"
      ],
      "metadata": {
        "colab": {
          "base_uri": "https://localhost:8080/",
          "height": 464
        },
        "id": "jnczY9eJrYw-",
        "outputId": "2acb4128-2712-4403-80ea-ef9d2951b1d3"
      },
      "id": "jnczY9eJrYw-",
      "execution_count": 34,
      "outputs": [
        {
          "output_type": "stream",
          "name": "stderr",
          "text": [
            "/usr/local/lib/python3.7/dist-packages/sklearn/linear_model/_logistic.py:818: ConvergenceWarning: lbfgs failed to converge (status=1):\n",
            "STOP: TOTAL NO. of ITERATIONS REACHED LIMIT.\n",
            "\n",
            "Increase the number of iterations (max_iter) or scale the data as shown in:\n",
            "    https://scikit-learn.org/stable/modules/preprocessing.html\n",
            "Please also refer to the documentation for alternative solver options:\n",
            "    https://scikit-learn.org/stable/modules/linear_model.html#logistic-regression\n",
            "  extra_warning_msg=_LOGISTIC_SOLVER_CONVERGENCE_MSG,\n"
          ]
        },
        {
          "output_type": "display_data",
          "data": {
            "text/plain": [
              "<Figure size 432x288 with 2 Axes>"
            ],
            "image/png": "[encoded data removed]"
          },
          "metadata": {
            "needs_background": "light"
          }
        }
      ]
    },
    {
      "cell_type": "code",
      "source": [
        "print('Accuracy Score: ',accuracy_score(t_target,y_pred))\n",
        "print('F1 Score (Macro): ',f1_score(t_target,y_pred,average='macro'))\n",
        "print('F1 Score (Micro): ',f1_score(t_target,y_pred,average='micro'))\n",
        "print('F1 Score (Weighted): ',f1_score(t_target,y_pred,average='weighted'))\n",
        "print('ROC-AUC_Score (OVR):',roc_auc_score(t_target,log_reg.predict_proba(t_features),multi_class='ovr'))\n",
        "print('ROC-AUC_Score (OVO):',roc_auc_score(t_target,log_reg.predict_proba(t_features),multi_class='ovo'))"
      ],
      "metadata": {
        "colab": {
          "base_uri": "https://localhost:8080/"
        },
        "id": "1k4qbfrCrb4x",
        "outputId": "fc470286-b790-4a56-91d7-ef7269708e04"
      },
      "id": "1k4qbfrCrb4x",
      "execution_count": 35,
      "outputs": [
        {
          "output_type": "stream",
          "name": "stdout",
          "text": [
            "Accuracy Score:  0.45471014492753625\n",
            "F1 Score (Macro):  0.2670581833474199\n",
            "F1 Score (Micro):  0.45471014492753625\n",
            "F1 Score (Weighted):  0.38326765947013686\n",
            "ROC-AUC_Score (OVR): 0.696101771497726\n",
            "ROC-AUC_Score (OVO): 0.6968044708081559\n"
          ]
        }
      ]
    },
    {
      "cell_type": "code",
      "source": [
        "print(classification_report(t_target,y_pred))"
      ],
      "metadata": {
        "colab": {
          "base_uri": "https://localhost:8080/"
        },
        "id": "BsEucxMkruHi",
        "outputId": "b7345acd-2258-4595-933f-074d43b8dfd4"
      },
      "id": "BsEucxMkruHi",
      "execution_count": 36,
      "outputs": [
        {
          "output_type": "stream",
          "name": "stdout",
          "text": [
            "              precision    recall  f1-score   support\n",
            "\n",
            "           0       0.48      0.83      0.61       639\n",
            "           1       0.20      0.00      0.01       296\n",
            "           2       0.41      0.33      0.37       447\n",
            "           3       0.39      0.32      0.35       223\n",
            "           4       0.00      0.00      0.00        51\n",
            "\n",
            "    accuracy                           0.45      1656\n",
            "   macro avg       0.30      0.30      0.27      1656\n",
            "weighted avg       0.39      0.45      0.38      1656\n",
            "\n"
          ]
        }
      ]
    },
    {
      "cell_type": "markdown",
      "source": [
        "### 3. Naive Bayes Classifier"
      ],
      "metadata": {
        "id": "P-5XPT6UqsuP"
      },
      "id": "P-5XPT6UqsuP"
    },
    {
      "cell_type": "code",
      "source": [
        "from sklearn.naive_bayes import GaussianNB\n",
        "clf = GaussianNB()\n",
        "clf.fit(features,target)\n",
        "y_pred = clf.predict(t_features)\n",
        "cnf = confusion_matrix(t_target,y_pred)\n",
        "class_names = ['0','1','2','3','4']\n",
        "fig, ax = plt.subplots()\n",
        "tick_marks = np.arange(len(class_names))\n",
        "plt.xticks(tick_marks,class_names)\n",
        "plt.yticks(tick_marks,class_names)\n",
        "sns.heatmap(pd.DataFrame(cnf),annot=True,cmap='Blues_r',fmt='g')\n",
        "ax.xaxis.set_label_position(\"top\")\n",
        "plt.tight_layout()\n",
        "plt.title('Confusion matrix', y=1.1)\n",
        "plt.ylabel('Actual label')\n",
        "plt.xlabel('Predicted label')\n",
        "plt.Text(0.5,257.44,'Predicted label')\n",
        "plt.show()"
      ],
      "metadata": {
        "colab": {
          "base_uri": "https://localhost:8080/",
          "height": 325
        },
        "id": "t_3Y4_Y3rZMi",
        "outputId": "c8196010-06e2-4ea8-f9bc-a4eeadf6e91d"
      },
      "id": "t_3Y4_Y3rZMi",
      "execution_count": 37,
      "outputs": [
        {
          "output_type": "display_data",
          "data": {
            "text/plain": [
              "<Figure size 432x288 with 2 Axes>"
            ],
            "image/png": "[encoded data removed]"
          },
          "metadata": {
            "needs_background": "light"
          }
        }
      ]
    },
    {
      "cell_type": "code",
      "source": [
        "print('Accuracy Score: ',accuracy_score(t_target,y_pred))\n",
        "print('F1 Score (Macro): ',f1_score(t_target,y_pred,average='macro'))\n",
        "print('F1 Score (Micro): ',f1_score(t_target,y_pred,average='micro'))\n",
        "print('F1 Score (Weighted): ',f1_score(t_target,y_pred,average='weighted'))\n",
        "print('ROC-AUC_Score (OVR):',roc_auc_score(t_target,clf.predict_proba(t_features),multi_class='ovr'))\n",
        "print('ROC-AUC_Score (OVO):',roc_auc_score(t_target,clf.predict_proba(t_features),multi_class='ovo'))"
      ],
      "metadata": {
        "colab": {
          "base_uri": "https://localhost:8080/"
        },
        "id": "EJKVW2a8rv4C",
        "outputId": "4a06913a-2096-4d49-ae46-f9f8ce263992"
      },
      "id": "EJKVW2a8rv4C",
      "execution_count": 38,
      "outputs": [
        {
          "output_type": "stream",
          "name": "stdout",
          "text": [
            "Accuracy Score:  0.20531400966183574\n",
            "F1 Score (Macro):  0.17981930006502303\n",
            "F1 Score (Micro):  0.20531400966183574\n",
            "F1 Score (Weighted):  0.2007497693337107\n",
            "ROC-AUC_Score (OVR): 0.5445163176076114\n",
            "ROC-AUC_Score (OVO): 0.548766442793016\n"
          ]
        }
      ]
    },
    {
      "cell_type": "code",
      "source": [
        "print(classification_report(t_target,y_pred))"
      ],
      "metadata": {
        "colab": {
          "base_uri": "https://localhost:8080/"
        },
        "id": "ep2hq8bFrc1A",
        "outputId": "c4c51d9b-6fc3-4f11-a6a0-b20f401d34ca"
      },
      "id": "ep2hq8bFrc1A",
      "execution_count": 39,
      "outputs": [
        {
          "output_type": "stream",
          "name": "stdout",
          "text": [
            "              precision    recall  f1-score   support\n",
            "\n",
            "           0       0.46      0.16      0.24       639\n",
            "           1       0.19      0.48      0.28       296\n",
            "           2       0.25      0.07      0.11       447\n",
            "           3       0.17      0.23      0.20       223\n",
            "           4       0.04      0.24      0.07        51\n",
            "\n",
            "    accuracy                           0.21      1656\n",
            "   macro avg       0.22      0.24      0.18      1656\n",
            "weighted avg       0.31      0.21      0.20      1656\n",
            "\n"
          ]
        }
      ]
    },
    {
      "cell_type": "markdown",
      "source": [
        "### 4. Support Vector Machines"
      ],
      "metadata": {
        "id": "2z7p4ibOqsxJ"
      },
      "id": "2z7p4ibOqsxJ"
    },
    {
      "cell_type": "code",
      "source": [
        "from sklearn.svm import SVC\n",
        "svm_model = SVC(kernel='rbf',C=1,probability=True)\n",
        "svm_model.fit(features,target)\n",
        "y_pred = svm_model.predict(t_features)\n",
        "cnf = confusion_matrix(t_target,y_pred)\n",
        "class_names = ['0','1','2','3','4']\n",
        "fig, ax = plt.subplots()\n",
        "tick_marks = np.arange(len(class_names))\n",
        "plt.xticks(tick_marks,class_names)\n",
        "plt.yticks(tick_marks,class_names)\n",
        "sns.heatmap(pd.DataFrame(cnf),annot=True,cmap='Blues_r',fmt='g')\n",
        "ax.xaxis.set_label_position(\"top\")\n",
        "plt.tight_layout()\n",
        "plt.title('Confusion matrix', y=1.1)\n",
        "plt.ylabel('Actual label')\n",
        "plt.xlabel('Predicted label')\n",
        "plt.Text(0.5,257.44,'Predicted label')\n",
        "plt.show()"
      ],
      "metadata": {
        "colab": {
          "base_uri": "https://localhost:8080/",
          "height": 325
        },
        "id": "L5LC6hGYrZ92",
        "outputId": "ae75d673-3406-4f62-a607-4ea51f3acb94"
      },
      "id": "L5LC6hGYrZ92",
      "execution_count": 40,
      "outputs": [
        {
          "output_type": "display_data",
          "data": {
            "text/plain": [
              "<Figure size 432x288 with 2 Axes>"
            ],
            "image/png": "[encoded data removed]"
          },
          "metadata": {
            "needs_background": "light"
          }
        }
      ]
    },
    {
      "cell_type": "code",
      "source": [
        "print('Accuracy Score: ',accuracy_score(t_target,y_pred))\n",
        "print('F1 Score (Macro): ',f1_score(t_target,y_pred,average='macro'))\n",
        "print('F1 Score (Micro): ',f1_score(t_target,y_pred,average='micro'))\n",
        "print('F1 Score (Weighted): ',f1_score(t_target,y_pred,average='weighted'))\n",
        "print('ROC-AUC_Score (OVR):',roc_auc_score(t_target,svm_model.predict_proba(t_features),multi_class='ovr'))\n",
        "print('ROC-AUC_Score (OVO):',roc_auc_score(t_target,svm_model.predict_proba(t_features),multi_class='ovo'))"
      ],
      "metadata": {
        "colab": {
          "base_uri": "https://localhost:8080/"
        },
        "id": "oj2lABP7rwbK",
        "outputId": "e9864517-fb87-42bd-b308-b2a2882e0c75"
      },
      "id": "oj2lABP7rwbK",
      "execution_count": 41,
      "outputs": [
        {
          "output_type": "stream",
          "name": "stdout",
          "text": [
            "Accuracy Score:  0.4106280193236715\n",
            "F1 Score (Macro):  0.17368739311159784\n",
            "F1 Score (Micro):  0.4106280193236715\n",
            "F1 Score (Weighted):  0.29944292899058744\n",
            "ROC-AUC_Score (OVR): 0.7073230177077531\n",
            "ROC-AUC_Score (OVO): 0.719862189490871\n"
          ]
        }
      ]
    },
    {
      "cell_type": "code",
      "source": [
        "print(classification_report(t_target,y_pred))"
      ],
      "metadata": {
        "colab": {
          "base_uri": "https://localhost:8080/"
        },
        "id": "iE23hLhBrdx6",
        "outputId": "0a838450-06d4-4092-935f-ea6f09de7952"
      },
      "id": "iE23hLhBrdx6",
      "execution_count": 42,
      "outputs": [
        {
          "output_type": "stream",
          "name": "stdout",
          "text": [
            "              precision    recall  f1-score   support\n",
            "\n",
            "           0       0.43      0.90      0.58       639\n",
            "           1       0.00      0.00      0.00       296\n",
            "           2       0.34      0.23      0.27       447\n",
            "           3       0.25      0.01      0.02       223\n",
            "           4       0.00      0.00      0.00        51\n",
            "\n",
            "    accuracy                           0.41      1656\n",
            "   macro avg       0.20      0.23      0.17      1656\n",
            "weighted avg       0.29      0.41      0.30      1656\n",
            "\n"
          ]
        },
        {
          "output_type": "stream",
          "name": "stderr",
          "text": [
            "/usr/local/lib/python3.7/dist-packages/sklearn/metrics/_classification.py:1318: UndefinedMetricWarning: Precision and F-score are ill-defined and being set to 0.0 in labels with no predicted samples. Use `zero_division` parameter to control this behavior.\n",
            "  _warn_prf(average, modifier, msg_start, len(result))\n",
            "/usr/local/lib/python3.7/dist-packages/sklearn/metrics/_classification.py:1318: UndefinedMetricWarning: Precision and F-score are ill-defined and being set to 0.0 in labels with no predicted samples. Use `zero_division` parameter to control this behavior.\n",
            "  _warn_prf(average, modifier, msg_start, len(result))\n",
            "/usr/local/lib/python3.7/dist-packages/sklearn/metrics/_classification.py:1318: UndefinedMetricWarning: Precision and F-score are ill-defined and being set to 0.0 in labels with no predicted samples. Use `zero_division` parameter to control this behavior.\n",
            "  _warn_prf(average, modifier, msg_start, len(result))\n"
          ]
        }
      ]
    },
    {
      "cell_type": "markdown",
      "source": [
        "###  5. Decision Trees Classifier"
      ],
      "metadata": {
        "id": "_q2MWUjCqs0Y"
      },
      "id": "_q2MWUjCqs0Y"
    },
    {
      "cell_type": "code",
      "source": [
        "from sklearn.tree import DecisionTreeClassifier\n",
        "clf = DecisionTreeClassifier()\n",
        "clf.fit(features,target)\n",
        "y_pred = clf.predict(t_features)\n",
        "cnf = confusion_matrix(t_target,y_pred)\n",
        "class_names = ['0','1','2','3','4']\n",
        "fig, ax = plt.subplots()\n",
        "tick_marks = np.arange(len(class_names))\n",
        "plt.xticks(tick_marks,class_names)\n",
        "plt.yticks(tick_marks,class_names)\n",
        "sns.heatmap(pd.DataFrame(cnf),annot=True,cmap='Blues_r',fmt='g')\n",
        "ax.xaxis.set_label_position(\"top\")\n",
        "plt.tight_layout()\n",
        "plt.title('Confusion matrix', y=1.1)\n",
        "plt.ylabel('Actual label')\n",
        "plt.xlabel('Predicted label')\n",
        "plt.Text(0.5,257.44,'Predicted label')\n",
        "plt.show()"
      ],
      "metadata": {
        "colab": {
          "base_uri": "https://localhost:8080/",
          "height": 325
        },
        "id": "zc40KSNNrada",
        "outputId": "532b2d78-347c-4ff9-88de-256c98b40e0a"
      },
      "id": "zc40KSNNrada",
      "execution_count": 43,
      "outputs": [
        {
          "output_type": "display_data",
          "data": {
            "text/plain": [
              "<Figure size 432x288 with 2 Axes>"
            ],
            "image/png": "[encoded data removed]"
          },
          "metadata": {
            "needs_background": "light"
          }
        }
      ]
    },
    {
      "cell_type": "code",
      "source": [
        "print('Accuracy Score: ',accuracy_score(t_target,y_pred))\n",
        "print('F1 Score (Macro): ',f1_score(t_target,y_pred,average='macro'))\n",
        "print('F1 Score (Micro): ',f1_score(t_target,y_pred,average='micro'))\n",
        "print('F1 Score (Weighted): ',f1_score(t_target,y_pred,average='weighted'))\n",
        "print('ROC-AUC_Score (OVR):',roc_auc_score(t_target,clf.predict_proba(t_features),multi_class='ovr'))\n",
        "print('ROC-AUC_Score (OVO):',roc_auc_score(t_target,clf.predict_proba(t_features),multi_class='ovo'))"
      ],
      "metadata": {
        "colab": {
          "base_uri": "https://localhost:8080/"
        },
        "id": "ZlvmOpsBrw6J",
        "outputId": "3e51c86e-7ab9-4e89-dcdf-2621e45af6c5"
      },
      "id": "ZlvmOpsBrw6J",
      "execution_count": 44,
      "outputs": [
        {
          "output_type": "stream",
          "name": "stdout",
          "text": [
            "Accuracy Score:  0.3007246376811594\n",
            "F1 Score (Macro):  0.21618728432458229\n",
            "F1 Score (Micro):  0.3007246376811594\n",
            "F1 Score (Weighted):  0.2995103345582135\n",
            "ROC-AUC_Score (OVR): 0.5121210465478294\n",
            "ROC-AUC_Score (OVO): 0.5104250949494437\n"
          ]
        }
      ]
    },
    {
      "cell_type": "code",
      "source": [
        "print(classification_report(t_target,y_pred))"
      ],
      "metadata": {
        "colab": {
          "base_uri": "https://localhost:8080/"
        },
        "id": "Gc1eTHyDrear",
        "outputId": "424d2089-3382-4046-e0dc-8f387c36ded4"
      },
      "id": "Gc1eTHyDrear",
      "execution_count": 45,
      "outputs": [
        {
          "output_type": "stream",
          "name": "stdout",
          "text": [
            "              precision    recall  f1-score   support\n",
            "\n",
            "           0       0.43      0.43      0.43       639\n",
            "           1       0.16      0.17      0.17       296\n",
            "           2       0.28      0.29      0.28       447\n",
            "           3       0.21      0.19      0.20       223\n",
            "           4       0.00      0.00      0.00        51\n",
            "\n",
            "    accuracy                           0.30      1656\n",
            "   macro avg       0.22      0.22      0.22      1656\n",
            "weighted avg       0.30      0.30      0.30      1656\n",
            "\n"
          ]
        }
      ]
    },
    {
      "cell_type": "markdown",
      "source": [
        "### 6. Random Forests Classifier"
      ],
      "metadata": {
        "id": "NyEr269gqs8K"
      },
      "id": "NyEr269gqs8K"
    },
    {
      "cell_type": "code",
      "source": [
        "from sklearn.ensemble import RandomForestClassifier\n",
        "clf = RandomForestClassifier(max_depth=3,random_state=0)\n",
        "clf.fit(features,target)\n",
        "y_pred = clf.predict(t_features)\n",
        "cnf = confusion_matrix(t_target,y_pred)\n",
        "class_names = ['0','1','2','3','4']\n",
        "fig, ax = plt.subplots()\n",
        "tick_marks = np.arange(len(class_names))\n",
        "plt.xticks(tick_marks,class_names)\n",
        "plt.yticks(tick_marks,class_names)\n",
        "sns.heatmap(pd.DataFrame(cnf),annot=True,cmap='Blues_r',fmt='g')\n",
        "ax.xaxis.set_label_position(\"top\")\n",
        "plt.tight_layout()\n",
        "plt.title('Confusion matrix', y=1.1)\n",
        "plt.ylabel('Actual label')\n",
        "plt.xlabel('Predicted label')\n",
        "plt.Text(0.5,257.44,'Predicted label')\n",
        "plt.show()"
      ],
      "metadata": {
        "colab": {
          "base_uri": "https://localhost:8080/",
          "height": 325
        },
        "id": "GcUMFJNTrbD-",
        "outputId": "9a61611b-43b9-4b0b-d5a9-9b0c332314ae"
      },
      "id": "GcUMFJNTrbD-",
      "execution_count": 46,
      "outputs": [
        {
          "output_type": "display_data",
          "data": {
            "text/plain": [
              "<Figure size 432x288 with 2 Axes>"
            ],
            "image/png": "[encoded data removed]"
          },
          "metadata": {
            "needs_background": "light"
          }
        }
      ]
    },
    {
      "cell_type": "code",
      "source": [
        "print('Accuracy Score: ',accuracy_score(t_target,y_pred))\n",
        "print('F1 Score (Macro): ',f1_score(t_target,y_pred,average='macro'))\n",
        "print('F1 Score (Micro): ',f1_score(t_target,y_pred,average='micro'))\n",
        "print('F1 Score (Weighted): ',f1_score(t_target,y_pred,average='weighted'))\n",
        "print('ROC-AUC_Score (OVR):',roc_auc_score(t_target,clf.predict_proba(t_features),multi_class='ovr'))\n",
        "print('ROC-AUC_Score (OVO):',roc_auc_score(t_target,clf.predict_proba(t_features),multi_class='ovo'))"
      ],
      "metadata": {
        "colab": {
          "base_uri": "https://localhost:8080/"
        },
        "id": "UYC3770-rxab",
        "outputId": "57d0e071-bb41-4910-9b6d-ee5a7ba4c458"
      },
      "id": "UYC3770-rxab",
      "execution_count": 47,
      "outputs": [
        {
          "output_type": "stream",
          "name": "stdout",
          "text": [
            "Accuracy Score:  0.392512077294686\n",
            "F1 Score (Macro):  0.15224436711307957\n",
            "F1 Score (Micro):  0.39251207729468607\n",
            "F1 Score (Weighted):  0.27033119525863986\n",
            "ROC-AUC_Score (OVR): 0.617847987634574\n",
            "ROC-AUC_Score (OVO): 0.6092481555955154\n"
          ]
        }
      ]
    },
    {
      "cell_type": "code",
      "source": [
        "print(classification_report(t_target,y_pred))"
      ],
      "metadata": {
        "colab": {
          "base_uri": "https://localhost:8080/"
        },
        "id": "GkVLfF6mrfHM",
        "outputId": "8839839f-2ccd-4991-d068-90a46e7a0628"
      },
      "id": "GkVLfF6mrfHM",
      "execution_count": 48,
      "outputs": [
        {
          "output_type": "stream",
          "name": "stdout",
          "text": [
            "              precision    recall  f1-score   support\n",
            "\n",
            "           0       0.40      0.91      0.56       639\n",
            "           1       0.00      0.00      0.00       296\n",
            "           2       0.32      0.15      0.20       447\n",
            "           3       0.00      0.00      0.00       223\n",
            "           4       0.00      0.00      0.00        51\n",
            "\n",
            "    accuracy                           0.39      1656\n",
            "   macro avg       0.14      0.21      0.15      1656\n",
            "weighted avg       0.24      0.39      0.27      1656\n",
            "\n"
          ]
        },
        {
          "output_type": "stream",
          "name": "stderr",
          "text": [
            "/usr/local/lib/python3.7/dist-packages/sklearn/metrics/_classification.py:1318: UndefinedMetricWarning: Precision and F-score are ill-defined and being set to 0.0 in labels with no predicted samples. Use `zero_division` parameter to control this behavior.\n",
            "  _warn_prf(average, modifier, msg_start, len(result))\n",
            "/usr/local/lib/python3.7/dist-packages/sklearn/metrics/_classification.py:1318: UndefinedMetricWarning: Precision and F-score are ill-defined and being set to 0.0 in labels with no predicted samples. Use `zero_division` parameter to control this behavior.\n",
            "  _warn_prf(average, modifier, msg_start, len(result))\n",
            "/usr/local/lib/python3.7/dist-packages/sklearn/metrics/_classification.py:1318: UndefinedMetricWarning: Precision and F-score are ill-defined and being set to 0.0 in labels with no predicted samples. Use `zero_division` parameter to control this behavior.\n",
            "  _warn_prf(average, modifier, msg_start, len(result))\n"
          ]
        }
      ]
    }
  ],
  "metadata": {
    "colab": {
      "collapsed_sections": [],
      "provenance": [],
      "include_colab_link": true
    },
    "kernelspec": {
      "display_name": "Python 3 (ipykernel)",
      "language": "python",
      "name": "python3"
    },
    "language_info": {
      "codemirror_mode": {
        "name": "ipython",
        "version": 3
      },
      "file_extension": ".py",
      "mimetype": "text/x-python",
      "name": "python",
      "nbconvert_exporter": "python",
      "pygments_lexer": "ipython3",
      "version": "3.8.13"
    }
  },
  "nbformat": 4,
  "nbformat_minor": 5
}