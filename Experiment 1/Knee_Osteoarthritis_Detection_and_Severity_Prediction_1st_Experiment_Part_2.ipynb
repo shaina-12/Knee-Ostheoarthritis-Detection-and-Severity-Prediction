{
  "cells": [
    {
      "cell_type": "markdown",
      "metadata": {
        "id": "view-in-github",
        "colab_type": "text"
      },
      "source": [
        "<a href=\"https://colab.research.google.com/github/shaina-12/Knee-Ostheoarthritis-Detection-and-Severity-Prediction/blob/main/Experiment%201/Knee_Osteoarthritis_Detection_and_Severity_Prediction_1st_Experiment_Part_2.ipynb\" target=\"_parent\"><img src=\"https://colab.research.google.com/assets/colab-badge.svg\" alt=\"Open In Colab\"/></a>"
      ]
    },
    {
      "cell_type": "code",
      "execution_count": 1,
      "id": "62dc09dd",
      "metadata": {
        "id": "62dc09dd"
      },
      "outputs": [],
      "source": [
        "import numpy as np\n",
        "import pandas as pd\n",
        "import matplotlib.pyplot as plt\n",
        "import seaborn as sns\n",
        "%matplotlib inline"
      ]
    },
    {
      "cell_type": "code",
      "execution_count": 2,
      "id": "9d6e4ae2",
      "metadata": {
        "id": "9d6e4ae2"
      },
      "outputs": [],
      "source": [
        "import cv2 as cv\n",
        "import os\n",
        "from sklearn.cluster import KMeans"
      ]
    },
    {
      "cell_type": "code",
      "execution_count": 3,
      "id": "koCoXwBBEP23",
      "metadata": {
        "colab": {
          "base_uri": "https://localhost:8080/"
        },
        "id": "koCoXwBBEP23",
        "outputId": "0d687d5a-4e44-4ee5-8de3-701a95d9cc96"
      },
      "outputs": [
        {
          "output_type": "stream",
          "name": "stdout",
          "text": [
            "Mounted at /content/drive/\n"
          ]
        }
      ],
      "source": [
        "from google.colab import drive\n",
        "drive.mount('/content/drive/')"
      ]
    },
    {
      "cell_type": "code",
      "execution_count": 4,
      "id": "2312b98d",
      "metadata": {
        "id": "2312b98d"
      },
      "outputs": [],
      "source": [
        "train_path = \"/content/drive/My Drive/train/\"\n",
        "test_path = \"/content/drive/My Drive/test/\""
      ]
    },
    {
      "cell_type": "markdown",
      "id": "c65ffa9d",
      "metadata": {
        "id": "c65ffa9d"
      },
      "source": [
        "## Lets Collect The Training Data"
      ]
    },
    {
      "cell_type": "code",
      "execution_count": 5,
      "id": "bf2f001c",
      "metadata": {
        "id": "bf2f001c"
      },
      "outputs": [],
      "source": [
        "grades = ['grade_0','grade_1','grade_2','grade_3','grade_4']\n",
        "finalListTrain = []\n",
        "finalTrainLabels = []\n",
        "for i in range(len(grades)):\n",
        "    dir_join = train_path+grades[i]\n",
        "    for file in os.listdir(dir_join):\n",
        "        finalListTrain.append(dir_join+'/'+file)\n",
        "        finalTrainLabels.append(i)\n",
        "#dir_join = train_path+grades[0]  \n",
        "#l = os.listdir(os.path.join(dir_join))\n",
        "#l"
      ]
    },
    {
      "cell_type": "markdown",
      "id": "17e079de",
      "metadata": {
        "id": "17e079de"
      },
      "source": [
        "## Similarly, we can collect the test data"
      ]
    },
    {
      "cell_type": "code",
      "execution_count": 6,
      "id": "3097e3e1",
      "metadata": {
        "id": "3097e3e1"
      },
      "outputs": [],
      "source": [
        "finalListTest = []\n",
        "finalTestLabels = []\n",
        "for i in range(len(grades)):\n",
        "    dir_join = test_path+grades[i]\n",
        "    for file in os.listdir(dir_join):\n",
        "        finalListTest.append(dir_join+'/'+file)\n",
        "        finalTestLabels.append(i)"
      ]
    },
    {
      "cell_type": "markdown",
      "id": "091870a7",
      "metadata": {
        "id": "091870a7"
      },
      "source": [
        "## Lets create pandas dataframe for both training and test data"
      ]
    },
    {
      "cell_type": "code",
      "execution_count": 7,
      "id": "1f9ce756",
      "metadata": {
        "id": "1f9ce756"
      },
      "outputs": [],
      "source": [
        "train_dat = {'path':finalListTrain,'label':finalTrainLabels}\n",
        "test_dat = {'path':finalListTest,'label':finalTestLabels}"
      ]
    },
    {
      "cell_type": "code",
      "source": [],
      "metadata": {
        "id": "xSyD9ONHZr1z"
      },
      "id": "xSyD9ONHZr1z",
      "execution_count": 7,
      "outputs": []
    },
    {
      "cell_type": "code",
      "execution_count": 8,
      "id": "e433f9c9",
      "metadata": {
        "colab": {
          "base_uri": "https://localhost:8080/",
          "height": 206
        },
        "id": "e433f9c9",
        "outputId": "69c50067-57cf-45ac-bc44-d4ce1367723d"
      },
      "outputs": [
        {
          "output_type": "execute_result",
          "data": {
            "text/plain": [
              "                                                path  label\n",
              "0  /content/drive/My Drive/train/grade_0/9512848R...      0\n",
              "1  /content/drive/My Drive/train/grade_0/9465265L...      0\n",
              "2  /content/drive/My Drive/train/grade_0/9679243L...      0\n",
              "3  /content/drive/My Drive/train/grade_0/9302341L...      0\n",
              "4  /content/drive/My Drive/train/grade_0/9023407L...      0"
            ],
            "text/html": [
              "\n",
              "  <div id=\"df-5633040e-0149-4b3f-93aa-6b776a94c450\">\n",
              "    <div class=\"colab-df-container\">\n",
              "      <div>\n",
              "<style scoped>\n",
              "    .dataframe tbody tr th:only-of-type {\n",
              "        vertical-align: middle;\n",
              "    }\n",
              "\n",
              "    .dataframe tbody tr th {\n",
              "        vertical-align: top;\n",
              "    }\n",
              "\n",
              "    .dataframe thead th {\n",
              "        text-align: right;\n",
              "    }\n",
              "</style>\n",
              "<table border=\"1\" class=\"dataframe\">\n",
              "  <thead>\n",
              "    <tr style=\"text-align: right;\">\n",
              "      <th></th>\n",
              "      <th>path</th>\n",
              "      <th>label</th>\n",
              "    </tr>\n",
              "  </thead>\n",
              "  <tbody>\n",
              "    <tr>\n",
              "      <th>0</th>\n",
              "      <td>/content/drive/My Drive/train/grade_0/9512848R...</td>\n",
              "      <td>0</td>\n",
              "    </tr>\n",
              "    <tr>\n",
              "      <th>1</th>\n",
              "      <td>/content/drive/My Drive/train/grade_0/9465265L...</td>\n",
              "      <td>0</td>\n",
              "    </tr>\n",
              "    <tr>\n",
              "      <th>2</th>\n",
              "      <td>/content/drive/My Drive/train/grade_0/9679243L...</td>\n",
              "      <td>0</td>\n",
              "    </tr>\n",
              "    <tr>\n",
              "      <th>3</th>\n",
              "      <td>/content/drive/My Drive/train/grade_0/9302341L...</td>\n",
              "      <td>0</td>\n",
              "    </tr>\n",
              "    <tr>\n",
              "      <th>4</th>\n",
              "      <td>/content/drive/My Drive/train/grade_0/9023407L...</td>\n",
              "      <td>0</td>\n",
              "    </tr>\n",
              "  </tbody>\n",
              "</table>\n",
              "</div>\n",
              "      <button class=\"colab-df-convert\" onclick=\"convertToInteractive('df-5633040e-0149-4b3f-93aa-6b776a94c450')\"\n",
              "              title=\"Convert this dataframe to an interactive table.\"\n",
              "              style=\"display:none;\">\n",
              "        \n",
              "  <svg xmlns=\"http://www.w3.org/2000/svg\" height=\"24px\"viewBox=\"0 0 24 24\"\n",
              "       width=\"24px\">\n",
              "    <path d=\"M0 0h24v24H0V0z\" fill=\"none\"/>\n",
              "    <path d=\"M18.56 5.44l.94 2.06.94-2.06 2.06-.94-2.06-.94-.94-2.06-.94 2.06-2.06.94zm-11 1L8.5 8.5l.94-2.06 2.06-.94-2.06-.94L8.5 2.5l-.94 2.06-2.06.94zm10 10l.94 2.06.94-2.06 2.06-.94-2.06-.94-.94-2.06-.94 2.06-2.06.94z\"/><path d=\"M17.41 7.96l-1.37-1.37c-.4-.4-.92-.59-1.43-.59-.52 0-1.04.2-1.43.59L10.3 9.45l-7.72 7.72c-.78.78-.78 2.05 0 2.83L4 21.41c.39.39.9.59 1.41.59.51 0 1.02-.2 1.41-.59l7.78-7.78 2.81-2.81c.8-.78.8-2.07 0-2.86zM5.41 20L4 18.59l7.72-7.72 1.47 1.35L5.41 20z\"/>\n",
              "  </svg>\n",
              "      </button>\n",
              "      \n",
              "  <style>\n",
              "    .colab-df-container {\n",
              "      display:flex;\n",
              "      flex-wrap:wrap;\n",
              "      gap: 12px;\n",
              "    }\n",
              "\n",
              "    .colab-df-convert {\n",
              "      background-color: #E8F0FE;\n",
              "      border: none;\n",
              "      border-radius: 50%;\n",
              "      cursor: pointer;\n",
              "      display: none;\n",
              "      fill: #1967D2;\n",
              "      height: 32px;\n",
              "      padding: 0 0 0 0;\n",
              "      width: 32px;\n",
              "    }\n",
              "\n",
              "    .colab-df-convert:hover {\n",
              "      background-color: #E2EBFA;\n",
              "      box-shadow: 0px 1px 2px rgba(60, 64, 67, 0.3), 0px 1px 3px 1px rgba(60, 64, 67, 0.15);\n",
              "      fill: #174EA6;\n",
              "    }\n",
              "\n",
              "    [theme=dark] .colab-df-convert {\n",
              "      background-color: #3B4455;\n",
              "      fill: #D2E3FC;\n",
              "    }\n",
              "\n",
              "    [theme=dark] .colab-df-convert:hover {\n",
              "      background-color: #434B5C;\n",
              "      box-shadow: 0px 1px 3px 1px rgba(0, 0, 0, 0.15);\n",
              "      filter: drop-shadow(0px 1px 2px rgba(0, 0, 0, 0.3));\n",
              "      fill: #FFFFFF;\n",
              "    }\n",
              "  </style>\n",
              "\n",
              "      <script>\n",
              "        const buttonEl =\n",
              "          document.querySelector('#df-5633040e-0149-4b3f-93aa-6b776a94c450 button.colab-df-convert');\n",
              "        buttonEl.style.display =\n",
              "          google.colab.kernel.accessAllowed ? 'block' : 'none';\n",
              "\n",
              "        async function convertToInteractive(key) {\n",
              "          const element = document.querySelector('#df-5633040e-0149-4b3f-93aa-6b776a94c450');\n",
              "          const dataTable =\n",
              "            await google.colab.kernel.invokeFunction('convertToInteractive',\n",
              "                                                     [key], {});\n",
              "          if (!dataTable) return;\n",
              "\n",
              "          const docLinkHtml = 'Like what you see? Visit the ' +\n",
              "            '<a target=\"_blank\" href=https://colab.research.google.com/notebooks/data_table.ipynb>data table notebook</a>'\n",
              "            + ' to learn more about interactive tables.';\n",
              "          element.innerHTML = '';\n",
              "          dataTable['output_type'] = 'display_data';\n",
              "          await google.colab.output.renderOutput(dataTable, element);\n",
              "          const docLink = document.createElement('div');\n",
              "          docLink.innerHTML = docLinkHtml;\n",
              "          element.appendChild(docLink);\n",
              "        }\n",
              "      </script>\n",
              "    </div>\n",
              "  </div>\n",
              "  "
            ]
          },
          "metadata": {},
          "execution_count": 8
        }
      ],
      "source": [
        "train_data = pd.DataFrame.from_dict(train_dat)\n",
        "train_data.head()"
      ]
    },
    {
      "cell_type": "code",
      "execution_count": 9,
      "id": "4fc961ab",
      "metadata": {
        "colab": {
          "base_uri": "https://localhost:8080/",
          "height": 206
        },
        "id": "4fc961ab",
        "outputId": "0ef510e5-c64a-416b-ae78-27832948496d"
      },
      "outputs": [
        {
          "output_type": "execute_result",
          "data": {
            "text/plain": [
              "                                                path  label\n",
              "0  /content/drive/My Drive/test/grade_0/9807132L.png      0\n",
              "1  /content/drive/My Drive/test/grade_0/9588277L.png      0\n",
              "2  /content/drive/My Drive/test/grade_0/9074232L.png      0\n",
              "3  /content/drive/My Drive/test/grade_0/9952817R.png      0\n",
              "4  /content/drive/My Drive/test/grade_0/9254422R.png      0"
            ],
            "text/html": [
              "\n",
              "  <div id=\"df-548233f1-83e5-43fe-a223-705042436ee2\">\n",
              "    <div class=\"colab-df-container\">\n",
              "      <div>\n",
              "<style scoped>\n",
              "    .dataframe tbody tr th:only-of-type {\n",
              "        vertical-align: middle;\n",
              "    }\n",
              "\n",
              "    .dataframe tbody tr th {\n",
              "        vertical-align: top;\n",
              "    }\n",
              "\n",
              "    .dataframe thead th {\n",
              "        text-align: right;\n",
              "    }\n",
              "</style>\n",
              "<table border=\"1\" class=\"dataframe\">\n",
              "  <thead>\n",
              "    <tr style=\"text-align: right;\">\n",
              "      <th></th>\n",
              "      <th>path</th>\n",
              "      <th>label</th>\n",
              "    </tr>\n",
              "  </thead>\n",
              "  <tbody>\n",
              "    <tr>\n",
              "      <th>0</th>\n",
              "      <td>/content/drive/My Drive/test/grade_0/9807132L.png</td>\n",
              "      <td>0</td>\n",
              "    </tr>\n",
              "    <tr>\n",
              "      <th>1</th>\n",
              "      <td>/content/drive/My Drive/test/grade_0/9588277L.png</td>\n",
              "      <td>0</td>\n",
              "    </tr>\n",
              "    <tr>\n",
              "      <th>2</th>\n",
              "      <td>/content/drive/My Drive/test/grade_0/9074232L.png</td>\n",
              "      <td>0</td>\n",
              "    </tr>\n",
              "    <tr>\n",
              "      <th>3</th>\n",
              "      <td>/content/drive/My Drive/test/grade_0/9952817R.png</td>\n",
              "      <td>0</td>\n",
              "    </tr>\n",
              "    <tr>\n",
              "      <th>4</th>\n",
              "      <td>/content/drive/My Drive/test/grade_0/9254422R.png</td>\n",
              "      <td>0</td>\n",
              "    </tr>\n",
              "  </tbody>\n",
              "</table>\n",
              "</div>\n",
              "      <button class=\"colab-df-convert\" onclick=\"convertToInteractive('df-548233f1-83e5-43fe-a223-705042436ee2')\"\n",
              "              title=\"Convert this dataframe to an interactive table.\"\n",
              "              style=\"display:none;\">\n",
              "        \n",
              "  <svg xmlns=\"http://www.w3.org/2000/svg\" height=\"24px\"viewBox=\"0 0 24 24\"\n",
              "       width=\"24px\">\n",
              "    <path d=\"M0 0h24v24H0V0z\" fill=\"none\"/>\n",
              "    <path d=\"M18.56 5.44l.94 2.06.94-2.06 2.06-.94-2.06-.94-.94-2.06-.94 2.06-2.06.94zm-11 1L8.5 8.5l.94-2.06 2.06-.94-2.06-.94L8.5 2.5l-.94 2.06-2.06.94zm10 10l.94 2.06.94-2.06 2.06-.94-2.06-.94-.94-2.06-.94 2.06-2.06.94z\"/><path d=\"M17.41 7.96l-1.37-1.37c-.4-.4-.92-.59-1.43-.59-.52 0-1.04.2-1.43.59L10.3 9.45l-7.72 7.72c-.78.78-.78 2.05 0 2.83L4 21.41c.39.39.9.59 1.41.59.51 0 1.02-.2 1.41-.59l7.78-7.78 2.81-2.81c.8-.78.8-2.07 0-2.86zM5.41 20L4 18.59l7.72-7.72 1.47 1.35L5.41 20z\"/>\n",
              "  </svg>\n",
              "      </button>\n",
              "      \n",
              "  <style>\n",
              "    .colab-df-container {\n",
              "      display:flex;\n",
              "      flex-wrap:wrap;\n",
              "      gap: 12px;\n",
              "    }\n",
              "\n",
              "    .colab-df-convert {\n",
              "      background-color: #E8F0FE;\n",
              "      border: none;\n",
              "      border-radius: 50%;\n",
              "      cursor: pointer;\n",
              "      display: none;\n",
              "      fill: #1967D2;\n",
              "      height: 32px;\n",
              "      padding: 0 0 0 0;\n",
              "      width: 32px;\n",
              "    }\n",
              "\n",
              "    .colab-df-convert:hover {\n",
              "      background-color: #E2EBFA;\n",
              "      box-shadow: 0px 1px 2px rgba(60, 64, 67, 0.3), 0px 1px 3px 1px rgba(60, 64, 67, 0.15);\n",
              "      fill: #174EA6;\n",
              "    }\n",
              "\n",
              "    [theme=dark] .colab-df-convert {\n",
              "      background-color: #3B4455;\n",
              "      fill: #D2E3FC;\n",
              "    }\n",
              "\n",
              "    [theme=dark] .colab-df-convert:hover {\n",
              "      background-color: #434B5C;\n",
              "      box-shadow: 0px 1px 3px 1px rgba(0, 0, 0, 0.15);\n",
              "      filter: drop-shadow(0px 1px 2px rgba(0, 0, 0, 0.3));\n",
              "      fill: #FFFFFF;\n",
              "    }\n",
              "  </style>\n",
              "\n",
              "      <script>\n",
              "        const buttonEl =\n",
              "          document.querySelector('#df-548233f1-83e5-43fe-a223-705042436ee2 button.colab-df-convert');\n",
              "        buttonEl.style.display =\n",
              "          google.colab.kernel.accessAllowed ? 'block' : 'none';\n",
              "\n",
              "        async function convertToInteractive(key) {\n",
              "          const element = document.querySelector('#df-548233f1-83e5-43fe-a223-705042436ee2');\n",
              "          const dataTable =\n",
              "            await google.colab.kernel.invokeFunction('convertToInteractive',\n",
              "                                                     [key], {});\n",
              "          if (!dataTable) return;\n",
              "\n",
              "          const docLinkHtml = 'Like what you see? Visit the ' +\n",
              "            '<a target=\"_blank\" href=https://colab.research.google.com/notebooks/data_table.ipynb>data table notebook</a>'\n",
              "            + ' to learn more about interactive tables.';\n",
              "          element.innerHTML = '';\n",
              "          dataTable['output_type'] = 'display_data';\n",
              "          await google.colab.output.renderOutput(dataTable, element);\n",
              "          const docLink = document.createElement('div');\n",
              "          docLink.innerHTML = docLinkHtml;\n",
              "          element.appendChild(docLink);\n",
              "        }\n",
              "      </script>\n",
              "    </div>\n",
              "  </div>\n",
              "  "
            ]
          },
          "metadata": {},
          "execution_count": 9
        }
      ],
      "source": [
        "test_data = pd.DataFrame.from_dict(test_dat)\n",
        "test_data.head()"
      ]
    },
    {
      "cell_type": "markdown",
      "id": "3be794c8",
      "metadata": {
        "id": "3be794c8"
      },
      "source": [
        "## Time for Data Analysis"
      ]
    },
    {
      "cell_type": "code",
      "execution_count": 10,
      "id": "3dfa5d4c",
      "metadata": {
        "colab": {
          "base_uri": "https://localhost:8080/"
        },
        "id": "3dfa5d4c",
        "outputId": "4df637c6-bfef-457d-f757-171e347bef89"
      },
      "outputs": [
        {
          "output_type": "execute_result",
          "data": {
            "text/plain": [
              "pandas.core.frame.DataFrame"
            ]
          },
          "metadata": {},
          "execution_count": 10
        }
      ],
      "source": [
        "type(train_data)"
      ]
    },
    {
      "cell_type": "code",
      "execution_count": 11,
      "id": "22c23fea",
      "metadata": {
        "colab": {
          "base_uri": "https://localhost:8080/"
        },
        "id": "22c23fea",
        "outputId": "85b0bf0b-db3f-416d-c91b-790859a3a297"
      },
      "outputs": [
        {
          "output_type": "execute_result",
          "data": {
            "text/plain": [
              "path     6621\n",
              "label    6621\n",
              "dtype: int64"
            ]
          },
          "metadata": {},
          "execution_count": 11
        }
      ],
      "source": [
        "train_data.count()"
      ]
    },
    {
      "cell_type": "code",
      "execution_count": 12,
      "id": "9dfc55b4",
      "metadata": {
        "colab": {
          "base_uri": "https://localhost:8080/"
        },
        "id": "9dfc55b4",
        "outputId": "628063cf-8316-4350-8031-46b661f5e95b"
      },
      "outputs": [
        {
          "output_type": "stream",
          "name": "stdout",
          "text": [
            "<class 'pandas.core.frame.DataFrame'>\n",
            "RangeIndex: 6621 entries, 0 to 6620\n",
            "Data columns (total 2 columns):\n",
            " #   Column  Non-Null Count  Dtype \n",
            "---  ------  --------------  ----- \n",
            " 0   path    6621 non-null   object\n",
            " 1   label   6621 non-null   int64 \n",
            "dtypes: int64(1), object(1)\n",
            "memory usage: 103.6+ KB\n"
          ]
        }
      ],
      "source": [
        "train_data.info()"
      ]
    },
    {
      "cell_type": "code",
      "execution_count": 13,
      "id": "4d23fa5b",
      "metadata": {
        "colab": {
          "base_uri": "https://localhost:8080/"
        },
        "id": "4d23fa5b",
        "outputId": "51ed963e-344b-48a6-91bf-56cd633bd454"
      },
      "outputs": [
        {
          "output_type": "execute_result",
          "data": {
            "text/plain": [
              "(6621, 2)"
            ]
          },
          "metadata": {},
          "execution_count": 13
        }
      ],
      "source": [
        "train_data.shape"
      ]
    },
    {
      "cell_type": "code",
      "execution_count": 14,
      "id": "66a7f1c7",
      "metadata": {
        "colab": {
          "base_uri": "https://localhost:8080/"
        },
        "id": "66a7f1c7",
        "outputId": "e05ed139-376c-4374-b7dc-60b1f20bfe4b"
      },
      "outputs": [
        {
          "output_type": "execute_result",
          "data": {
            "text/plain": [
              "path     1656\n",
              "label    1656\n",
              "dtype: int64"
            ]
          },
          "metadata": {},
          "execution_count": 14
        }
      ],
      "source": [
        "test_data.count()"
      ]
    },
    {
      "cell_type": "code",
      "execution_count": 15,
      "id": "b0eb5329",
      "metadata": {
        "colab": {
          "base_uri": "https://localhost:8080/"
        },
        "id": "b0eb5329",
        "outputId": "ed1dc168-6a51-4af9-c0ab-c64827014679"
      },
      "outputs": [
        {
          "output_type": "execute_result",
          "data": {
            "text/plain": [
              "(1656, 2)"
            ]
          },
          "metadata": {},
          "execution_count": 15
        }
      ],
      "source": [
        "test_data.shape"
      ]
    },
    {
      "cell_type": "code",
      "execution_count": 16,
      "id": "c744131c",
      "metadata": {
        "colab": {
          "base_uri": "https://localhost:8080/",
          "height": 206
        },
        "id": "c744131c",
        "outputId": "347c2092-51aa-4109-9fb9-87271095b9b7"
      },
      "outputs": [
        {
          "output_type": "execute_result",
          "data": {
            "text/plain": [
              "  ostheoarthritis grading  count (both training and testing)\n",
              "0                 Grade 0                               3270\n",
              "1                 Grade 1                               1495\n",
              "2                 Grade 2                               2175\n",
              "3                 Grade 3                               1086\n",
              "4                 Grade 4                                251"
            ],
            "text/html": [
              "\n",
              "  <div id=\"df-98252519-0b90-4b00-9e36-72f6012035b1\">\n",
              "    <div class=\"colab-df-container\">\n",
              "      <div>\n",
              "<style scoped>\n",
              "    .dataframe tbody tr th:only-of-type {\n",
              "        vertical-align: middle;\n",
              "    }\n",
              "\n",
              "    .dataframe tbody tr th {\n",
              "        vertical-align: top;\n",
              "    }\n",
              "\n",
              "    .dataframe thead th {\n",
              "        text-align: right;\n",
              "    }\n",
              "</style>\n",
              "<table border=\"1\" class=\"dataframe\">\n",
              "  <thead>\n",
              "    <tr style=\"text-align: right;\">\n",
              "      <th></th>\n",
              "      <th>ostheoarthritis grading</th>\n",
              "      <th>count (both training and testing)</th>\n",
              "    </tr>\n",
              "  </thead>\n",
              "  <tbody>\n",
              "    <tr>\n",
              "      <th>0</th>\n",
              "      <td>Grade 0</td>\n",
              "      <td>3270</td>\n",
              "    </tr>\n",
              "    <tr>\n",
              "      <th>1</th>\n",
              "      <td>Grade 1</td>\n",
              "      <td>1495</td>\n",
              "    </tr>\n",
              "    <tr>\n",
              "      <th>2</th>\n",
              "      <td>Grade 2</td>\n",
              "      <td>2175</td>\n",
              "    </tr>\n",
              "    <tr>\n",
              "      <th>3</th>\n",
              "      <td>Grade 3</td>\n",
              "      <td>1086</td>\n",
              "    </tr>\n",
              "    <tr>\n",
              "      <th>4</th>\n",
              "      <td>Grade 4</td>\n",
              "      <td>251</td>\n",
              "    </tr>\n",
              "  </tbody>\n",
              "</table>\n",
              "</div>\n",
              "      <button class=\"colab-df-convert\" onclick=\"convertToInteractive('df-98252519-0b90-4b00-9e36-72f6012035b1')\"\n",
              "              title=\"Convert this dataframe to an interactive table.\"\n",
              "              style=\"display:none;\">\n",
              "        \n",
              "  <svg xmlns=\"http://www.w3.org/2000/svg\" height=\"24px\"viewBox=\"0 0 24 24\"\n",
              "       width=\"24px\">\n",
              "    <path d=\"M0 0h24v24H0V0z\" fill=\"none\"/>\n",
              "    <path d=\"M18.56 5.44l.94 2.06.94-2.06 2.06-.94-2.06-.94-.94-2.06-.94 2.06-2.06.94zm-11 1L8.5 8.5l.94-2.06 2.06-.94-2.06-.94L8.5 2.5l-.94 2.06-2.06.94zm10 10l.94 2.06.94-2.06 2.06-.94-2.06-.94-.94-2.06-.94 2.06-2.06.94z\"/><path d=\"M17.41 7.96l-1.37-1.37c-.4-.4-.92-.59-1.43-.59-.52 0-1.04.2-1.43.59L10.3 9.45l-7.72 7.72c-.78.78-.78 2.05 0 2.83L4 21.41c.39.39.9.59 1.41.59.51 0 1.02-.2 1.41-.59l7.78-7.78 2.81-2.81c.8-.78.8-2.07 0-2.86zM5.41 20L4 18.59l7.72-7.72 1.47 1.35L5.41 20z\"/>\n",
              "  </svg>\n",
              "      </button>\n",
              "      \n",
              "  <style>\n",
              "    .colab-df-container {\n",
              "      display:flex;\n",
              "      flex-wrap:wrap;\n",
              "      gap: 12px;\n",
              "    }\n",
              "\n",
              "    .colab-df-convert {\n",
              "      background-color: #E8F0FE;\n",
              "      border: none;\n",
              "      border-radius: 50%;\n",
              "      cursor: pointer;\n",
              "      display: none;\n",
              "      fill: #1967D2;\n",
              "      height: 32px;\n",
              "      padding: 0 0 0 0;\n",
              "      width: 32px;\n",
              "    }\n",
              "\n",
              "    .colab-df-convert:hover {\n",
              "      background-color: #E2EBFA;\n",
              "      box-shadow: 0px 1px 2px rgba(60, 64, 67, 0.3), 0px 1px 3px 1px rgba(60, 64, 67, 0.15);\n",
              "      fill: #174EA6;\n",
              "    }\n",
              "\n",
              "    [theme=dark] .colab-df-convert {\n",
              "      background-color: #3B4455;\n",
              "      fill: #D2E3FC;\n",
              "    }\n",
              "\n",
              "    [theme=dark] .colab-df-convert:hover {\n",
              "      background-color: #434B5C;\n",
              "      box-shadow: 0px 1px 3px 1px rgba(0, 0, 0, 0.15);\n",
              "      filter: drop-shadow(0px 1px 2px rgba(0, 0, 0, 0.3));\n",
              "      fill: #FFFFFF;\n",
              "    }\n",
              "  </style>\n",
              "\n",
              "      <script>\n",
              "        const buttonEl =\n",
              "          document.querySelector('#df-98252519-0b90-4b00-9e36-72f6012035b1 button.colab-df-convert');\n",
              "        buttonEl.style.display =\n",
              "          google.colab.kernel.accessAllowed ? 'block' : 'none';\n",
              "\n",
              "        async function convertToInteractive(key) {\n",
              "          const element = document.querySelector('#df-98252519-0b90-4b00-9e36-72f6012035b1');\n",
              "          const dataTable =\n",
              "            await google.colab.kernel.invokeFunction('convertToInteractive',\n",
              "                                                     [key], {});\n",
              "          if (!dataTable) return;\n",
              "\n",
              "          const docLinkHtml = 'Like what you see? Visit the ' +\n",
              "            '<a target=\"_blank\" href=https://colab.research.google.com/notebooks/data_table.ipynb>data table notebook</a>'\n",
              "            + ' to learn more about interactive tables.';\n",
              "          element.innerHTML = '';\n",
              "          dataTable['output_type'] = 'display_data';\n",
              "          await google.colab.output.renderOutput(dataTable, element);\n",
              "          const docLink = document.createElement('div');\n",
              "          docLink.innerHTML = docLinkHtml;\n",
              "          element.appendChild(docLink);\n",
              "        }\n",
              "      </script>\n",
              "    </div>\n",
              "  </div>\n",
              "  "
            ]
          },
          "metadata": {},
          "execution_count": 16
        }
      ],
      "source": [
        "df = pd.DataFrame()\n",
        "df['ostheoarthritis grading'] = ['Grade 0','Grade 1','Grade 2','Grade 3','Grade 4']\n",
        "grade_count = []\n",
        "for i in range(5):\n",
        "    gc = len(train_data[train_data['label']==i]) + len(test_data[test_data['label']==i])\n",
        "    grade_count.append(gc)\n",
        "df['count (both training and testing)'] = grade_count[:]\n",
        "df"
      ]
    },
    {
      "cell_type": "code",
      "execution_count": 17,
      "id": "a4e93839",
      "metadata": {
        "colab": {
          "base_uri": "https://localhost:8080/",
          "height": 295
        },
        "id": "a4e93839",
        "outputId": "cdd0878a-e3a2-4e06-d9ae-7590d86b531d"
      },
      "outputs": [
        {
          "output_type": "display_data",
          "data": {
            "text/plain": [
              "<Figure size 432x288 with 1 Axes>"
            ],
            "image/png": "[encoded data removed]"
          },
          "metadata": {
            "needs_background": "light"
          }
        }
      ],
      "source": [
        "x = list(np.arange(5))\n",
        "y = list(df['count (both training and testing)'])\n",
        "plt.bar(x,y,color=['#9a01ff','#71a9fc','#01ffd5','#5cfe9d','#b7ff01'])\n",
        "plt.grid()\n",
        "plt.xticks(x,list(df['ostheoarthritis grading']))\n",
        "plt.xlabel('ostheoarthritis grading')\n",
        "plt.ylabel('count (both training and testing)')\n",
        "plt.title('Knee Ostheoarthritis')\n",
        "plt.show()"
      ]
    },
    {
      "cell_type": "code",
      "execution_count": 18,
      "id": "e5c4434a",
      "metadata": {
        "colab": {
          "base_uri": "https://localhost:8080/",
          "height": 236
        },
        "id": "e5c4434a",
        "outputId": "6a9c1928-57a2-4383-f61d-284ee5f0219f"
      },
      "outputs": [
        {
          "output_type": "display_data",
          "data": {
            "text/plain": [
              "<Figure size 1080x1080 with 5 Axes>"
            ],
            "image/png": "[encoded data removed]"
          },
          "metadata": {
            "needs_background": "light"
          }
        }
      ],
      "source": [
        "fig, ax = plt.subplots(1,5,figsize=(15,15))\n",
        "ax = ax.ravel()\n",
        "plt.tight_layout()\n",
        "ax = ax.ravel()\n",
        "plt.tight_layout()\n",
        "ldata = ['/content/drive/My Drive/train/grade_0/9005656L.png',\n",
        "         '/content/drive/My Drive/train/grade_1/9008561R.png',\n",
        "        '/content/drive/My Drive/train/grade_2/9024940L.png',\n",
        "        '/content/drive/My Drive/train/grade_3/9037823L.png',\n",
        "        '/content/drive/My Drive/train/grade_4/9204055R.png']\n",
        "lab = ['Grade 0','Grade 1','Grade 2','Grade 3','Grade 4']\n",
        "for i in range(0,5):\n",
        "    ax[i].imshow(plt.imread(ldata[i]), cmap='gray')\n",
        "    ax[i].set_title(lab[i])\n",
        "plt.show()"
      ]
    },
    {
      "cell_type": "markdown",
      "id": "a4855a0f",
      "metadata": {
        "id": "a4855a0f"
      },
      "source": [
        "## Lets Perform Image Segmentation on training images using K-Means \n"
      ]
    },
    {
      "cell_type": "code",
      "execution_count": 19,
      "id": "3dd3511c",
      "metadata": {
        "id": "3dd3511c"
      },
      "outputs": [],
      "source": [
        "def segmentation(path):\n",
        "    image = cv.imread(path,0)\n",
        "    image = cv.GaussianBlur(image,(9,9),13,13)\n",
        "    image = cv.resize(image,(64,64))\n",
        "    pixelValues = image.reshape(-1,1)\n",
        "    pixelValues = np.float32(pixelValues)\n",
        "    kmeans = KMeans(n_clusters=3)\n",
        "    kmeans.fit(pixelValues)\n",
        "    centers = np.uint8(kmeans.cluster_centers_)\n",
        "    labels = kmeans.labels_\n",
        "    segmented_data  =  centers[labels.flatten()]\n",
        "    return segmented_data"
      ]
    },
    {
      "cell_type": "code",
      "execution_count": 20,
      "id": "d35848ba",
      "metadata": {
        "id": "d35848ba"
      },
      "outputs": [],
      "source": [
        "ltrain_paths = list(train_data['path'])\n",
        "ltrain_labels = list(train_data['label'])\n",
        "train_segments = []\n",
        "for i in range(len(ltrain_paths)):\n",
        "    l = []\n",
        "    l.append(ltrain_labels[i])\n",
        "    l.extend(segmentation(ltrain_paths[i]))\n",
        "    train_segments.append(l)\n",
        "#train_segments\n",
        "\n",
        "#train_df = pd.DataFrame()\n"
      ]
    },
    {
      "cell_type": "markdown",
      "id": "5Ii8KDU1ggoK",
      "metadata": {
        "id": "5Ii8KDU1ggoK"
      },
      "source": [
        "## Lets create the training data"
      ]
    },
    {
      "cell_type": "code",
      "execution_count": 21,
      "id": "31d73c74",
      "metadata": {
        "id": "31d73c74"
      },
      "outputs": [],
      "source": [
        "cols = ['labels']\n",
        "cols.extend(['f '+str(i+1) for i in range(4096)])\n",
        "train_seg_data = pd.DataFrame(train_segments,columns=cols)"
      ]
    },
    {
      "cell_type": "code",
      "execution_count": 22,
      "id": "WkK8V7VE143Y",
      "metadata": {
        "colab": {
          "base_uri": "https://localhost:8080/",
          "height": 279
        },
        "id": "WkK8V7VE143Y",
        "outputId": "e2afe019-b8cb-443a-e750-be3c9787438d"
      },
      "outputs": [
        {
          "output_type": "execute_result",
          "data": {
            "text/plain": [
              "   labels    f 1    f 2    f 3    f 4    f 5    f 6    f 7    f 8    f 9  ...  \\\n",
              "0       0  [120]  [120]  [120]  [120]  [185]  [185]  [185]  [185]  [185]  ...   \n",
              "1       0  [131]  [131]  [200]  [200]  [200]  [200]  [200]  [200]  [200]  ...   \n",
              "2       0   [76]   [76]   [76]   [76]   [76]   [76]  [113]  [113]  [113]  ...   \n",
              "3       0   [72]   [72]   [72]   [72]   [72]   [72]  [119]  [119]  [119]  ...   \n",
              "4       0   [88]   [88]   [88]   [88]  [123]  [123]  [123]  [123]  [123]  ...   \n",
              "\n",
              "  f 4087 f 4088 f 4089 f 4090 f 4091 f 4092 f 4093 f 4094 f 4095 f 4096  \n",
              "0  [120]  [120]  [120]  [120]  [120]  [120]  [120]  [120]  [120]  [120]  \n",
              "1  [200]  [200]  [131]  [131]  [131]  [131]  [131]  [131]  [131]  [131]  \n",
              "2  [113]  [113]  [113]  [113]  [113]   [76]   [76]   [76]   [76]   [76]  \n",
              "3  [119]  [119]  [119]  [119]  [119]  [119]  [119]  [119]  [119]  [119]  \n",
              "4  [150]  [150]  [123]  [123]  [123]  [123]  [123]  [123]  [123]  [123]  \n",
              "\n",
              "[5 rows x 4097 columns]"
            ],
            "text/html": [
              "\n",
              "  <div id=\"df-63b3cfe0-6770-4e9a-8b5c-08780d2fcef2\">\n",
              "    <div class=\"colab-df-container\">\n",
              "      <div>\n",
              "<style scoped>\n",
              "    .dataframe tbody tr th:only-of-type {\n",
              "        vertical-align: middle;\n",
              "    }\n",
              "\n",
              "    .dataframe tbody tr th {\n",
              "        vertical-align: top;\n",
              "    }\n",
              "\n",
              "    .dataframe thead th {\n",
              "        text-align: right;\n",
              "    }\n",
              "</style>\n",
              "<table border=\"1\" class=\"dataframe\">\n",
              "  <thead>\n",
              "    <tr style=\"text-align: right;\">\n",
              "      <th></th>\n",
              "      <th>labels</th>\n",
              "      <th>f 1</th>\n",
              "      <th>f 2</th>\n",
              "      <th>f 3</th>\n",
              "      <th>f 4</th>\n",
              "      <th>f 5</th>\n",
              "      <th>f 6</th>\n",
              "      <th>f 7</th>\n",
              "      <th>f 8</th>\n",
              "      <th>f 9</th>\n",
              "      <th>...</th>\n",
              "      <th>f 4087</th>\n",
              "      <th>f 4088</th>\n",
              "      <th>f 4089</th>\n",
              "      <th>f 4090</th>\n",
              "      <th>f 4091</th>\n",
              "      <th>f 4092</th>\n",
              "      <th>f 4093</th>\n",
              "      <th>f 4094</th>\n",
              "      <th>f 4095</th>\n",
              "      <th>f 4096</th>\n",
              "    </tr>\n",
              "  </thead>\n",
              "  <tbody>\n",
              "    <tr>\n",
              "      <th>0</th>\n",
              "      <td>0</td>\n",
              "      <td>[120]</td>\n",
              "      <td>[120]</td>\n",
              "      <td>[120]</td>\n",
              "      <td>[120]</td>\n",
              "      <td>[185]</td>\n",
              "      <td>[185]</td>\n",
              "      <td>[185]</td>\n",
              "      <td>[185]</td>\n",
              "      <td>[185]</td>\n",
              "      <td>...</td>\n",
              "      <td>[120]</td>\n",
              "      <td>[120]</td>\n",
              "      <td>[120]</td>\n",
              "      <td>[120]</td>\n",
              "      <td>[120]</td>\n",
              "      <td>[120]</td>\n",
              "      <td>[120]</td>\n",
              "      <td>[120]</td>\n",
              "      <td>[120]</td>\n",
              "      <td>[120]</td>\n",
              "    </tr>\n",
              "    <tr>\n",
              "      <th>1</th>\n",
              "      <td>0</td>\n",
              "      <td>[131]</td>\n",
              "      <td>[131]</td>\n",
              "      <td>[200]</td>\n",
              "      <td>[200]</td>\n",
              "      <td>[200]</td>\n",
              "      <td>[200]</td>\n",
              "      <td>[200]</td>\n",
              "      <td>[200]</td>\n",
              "      <td>[200]</td>\n",
              "      <td>...</td>\n",
              "      <td>[200]</td>\n",
              "      <td>[200]</td>\n",
              "      <td>[131]</td>\n",
              "      <td>[131]</td>\n",
              "      <td>[131]</td>\n",
              "      <td>[131]</td>\n",
              "      <td>[131]</td>\n",
              "      <td>[131]</td>\n",
              "      <td>[131]</td>\n",
              "      <td>[131]</td>\n",
              "    </tr>\n",
              "    <tr>\n",
              "      <th>2</th>\n",
              "      <td>0</td>\n",
              "      <td>[76]</td>\n",
              "      <td>[76]</td>\n",
              "      <td>[76]</td>\n",
              "      <td>[76]</td>\n",
              "      <td>[76]</td>\n",
              "      <td>[76]</td>\n",
              "      <td>[113]</td>\n",
              "      <td>[113]</td>\n",
              "      <td>[113]</td>\n",
              "      <td>...</td>\n",
              "      <td>[113]</td>\n",
              "      <td>[113]</td>\n",
              "      <td>[113]</td>\n",
              "      <td>[113]</td>\n",
              "      <td>[113]</td>\n",
              "      <td>[76]</td>\n",
              "      <td>[76]</td>\n",
              "      <td>[76]</td>\n",
              "      <td>[76]</td>\n",
              "      <td>[76]</td>\n",
              "    </tr>\n",
              "    <tr>\n",
              "      <th>3</th>\n",
              "      <td>0</td>\n",
              "      <td>[72]</td>\n",
              "      <td>[72]</td>\n",
              "      <td>[72]</td>\n",
              "      <td>[72]</td>\n",
              "      <td>[72]</td>\n",
              "      <td>[72]</td>\n",
              "      <td>[119]</td>\n",
              "      <td>[119]</td>\n",
              "      <td>[119]</td>\n",
              "      <td>...</td>\n",
              "      <td>[119]</td>\n",
              "      <td>[119]</td>\n",
              "      <td>[119]</td>\n",
              "      <td>[119]</td>\n",
              "      <td>[119]</td>\n",
              "      <td>[119]</td>\n",
              "      <td>[119]</td>\n",
              "      <td>[119]</td>\n",
              "      <td>[119]</td>\n",
              "      <td>[119]</td>\n",
              "    </tr>\n",
              "    <tr>\n",
              "      <th>4</th>\n",
              "      <td>0</td>\n",
              "      <td>[88]</td>\n",
              "      <td>[88]</td>\n",
              "      <td>[88]</td>\n",
              "      <td>[88]</td>\n",
              "      <td>[123]</td>\n",
              "      <td>[123]</td>\n",
              "      <td>[123]</td>\n",
              "      <td>[123]</td>\n",
              "      <td>[123]</td>\n",
              "      <td>...</td>\n",
              "      <td>[150]</td>\n",
              "      <td>[150]</td>\n",
              "      <td>[123]</td>\n",
              "      <td>[123]</td>\n",
              "      <td>[123]</td>\n",
              "      <td>[123]</td>\n",
              "      <td>[123]</td>\n",
              "      <td>[123]</td>\n",
              "      <td>[123]</td>\n",
              "      <td>[123]</td>\n",
              "    </tr>\n",
              "  </tbody>\n",
              "</table>\n",
              "<p>5 rows × 4097 columns</p>\n",
              "</div>\n",
              "      <button class=\"colab-df-convert\" onclick=\"convertToInteractive('df-63b3cfe0-6770-4e9a-8b5c-08780d2fcef2')\"\n",
              "              title=\"Convert this dataframe to an interactive table.\"\n",
              "              style=\"display:none;\">\n",
              "        \n",
              "  <svg xmlns=\"http://www.w3.org/2000/svg\" height=\"24px\"viewBox=\"0 0 24 24\"\n",
              "       width=\"24px\">\n",
              "    <path d=\"M0 0h24v24H0V0z\" fill=\"none\"/>\n",
              "    <path d=\"M18.56 5.44l.94 2.06.94-2.06 2.06-.94-2.06-.94-.94-2.06-.94 2.06-2.06.94zm-11 1L8.5 8.5l.94-2.06 2.06-.94-2.06-.94L8.5 2.5l-.94 2.06-2.06.94zm10 10l.94 2.06.94-2.06 2.06-.94-2.06-.94-.94-2.06-.94 2.06-2.06.94z\"/><path d=\"M17.41 7.96l-1.37-1.37c-.4-.4-.92-.59-1.43-.59-.52 0-1.04.2-1.43.59L10.3 9.45l-7.72 7.72c-.78.78-.78 2.05 0 2.83L4 21.41c.39.39.9.59 1.41.59.51 0 1.02-.2 1.41-.59l7.78-7.78 2.81-2.81c.8-.78.8-2.07 0-2.86zM5.41 20L4 18.59l7.72-7.72 1.47 1.35L5.41 20z\"/>\n",
              "  </svg>\n",
              "      </button>\n",
              "      \n",
              "  <style>\n",
              "    .colab-df-container {\n",
              "      display:flex;\n",
              "      flex-wrap:wrap;\n",
              "      gap: 12px;\n",
              "    }\n",
              "\n",
              "    .colab-df-convert {\n",
              "      background-color: #E8F0FE;\n",
              "      border: none;\n",
              "      border-radius: 50%;\n",
              "      cursor: pointer;\n",
              "      display: none;\n",
              "      fill: #1967D2;\n",
              "      height: 32px;\n",
              "      padding: 0 0 0 0;\n",
              "      width: 32px;\n",
              "    }\n",
              "\n",
              "    .colab-df-convert:hover {\n",
              "      background-color: #E2EBFA;\n",
              "      box-shadow: 0px 1px 2px rgba(60, 64, 67, 0.3), 0px 1px 3px 1px rgba(60, 64, 67, 0.15);\n",
              "      fill: #174EA6;\n",
              "    }\n",
              "\n",
              "    [theme=dark] .colab-df-convert {\n",
              "      background-color: #3B4455;\n",
              "      fill: #D2E3FC;\n",
              "    }\n",
              "\n",
              "    [theme=dark] .colab-df-convert:hover {\n",
              "      background-color: #434B5C;\n",
              "      box-shadow: 0px 1px 3px 1px rgba(0, 0, 0, 0.15);\n",
              "      filter: drop-shadow(0px 1px 2px rgba(0, 0, 0, 0.3));\n",
              "      fill: #FFFFFF;\n",
              "    }\n",
              "  </style>\n",
              "\n",
              "      <script>\n",
              "        const buttonEl =\n",
              "          document.querySelector('#df-63b3cfe0-6770-4e9a-8b5c-08780d2fcef2 button.colab-df-convert');\n",
              "        buttonEl.style.display =\n",
              "          google.colab.kernel.accessAllowed ? 'block' : 'none';\n",
              "\n",
              "        async function convertToInteractive(key) {\n",
              "          const element = document.querySelector('#df-63b3cfe0-6770-4e9a-8b5c-08780d2fcef2');\n",
              "          const dataTable =\n",
              "            await google.colab.kernel.invokeFunction('convertToInteractive',\n",
              "                                                     [key], {});\n",
              "          if (!dataTable) return;\n",
              "\n",
              "          const docLinkHtml = 'Like what you see? Visit the ' +\n",
              "            '<a target=\"_blank\" href=https://colab.research.google.com/notebooks/data_table.ipynb>data table notebook</a>'\n",
              "            + ' to learn more about interactive tables.';\n",
              "          element.innerHTML = '';\n",
              "          dataTable['output_type'] = 'display_data';\n",
              "          await google.colab.output.renderOutput(dataTable, element);\n",
              "          const docLink = document.createElement('div');\n",
              "          docLink.innerHTML = docLinkHtml;\n",
              "          element.appendChild(docLink);\n",
              "        }\n",
              "      </script>\n",
              "    </div>\n",
              "  </div>\n",
              "  "
            ]
          },
          "metadata": {},
          "execution_count": 22
        }
      ],
      "source": [
        "train_seg_data.head()"
      ]
    },
    {
      "cell_type": "code",
      "execution_count": 23,
      "id": "XxYahFPS1-IB",
      "metadata": {
        "colab": {
          "base_uri": "https://localhost:8080/",
          "height": 235
        },
        "id": "XxYahFPS1-IB",
        "outputId": "a580d2dd-2022-40e6-f028-3279f4f0f3d4"
      },
      "outputs": [
        {
          "output_type": "execute_result",
          "data": {
            "text/plain": [
              "   labels  f 1  f 2  f 3  f 4  f 5  f 6  f 7  f 8  f 9  ...  f 4087  f 4088  \\\n",
              "0       0  120  120  120  120  185  185  185  185  185  ...     120     120   \n",
              "1       0  131  131  200  200  200  200  200  200  200  ...     200     200   \n",
              "2       0   76   76   76   76   76   76  113  113  113  ...     113     113   \n",
              "3       0   72   72   72   72   72   72  119  119  119  ...     119     119   \n",
              "4       0   88   88   88   88  123  123  123  123  123  ...     150     150   \n",
              "\n",
              "   f 4089  f 4090  f 4091  f 4092  f 4093  f 4094  f 4095  f 4096  \n",
              "0     120     120     120     120     120     120     120     120  \n",
              "1     131     131     131     131     131     131     131     131  \n",
              "2     113     113     113      76      76      76      76      76  \n",
              "3     119     119     119     119     119     119     119     119  \n",
              "4     123     123     123     123     123     123     123     123  \n",
              "\n",
              "[5 rows x 4097 columns]"
            ],
            "text/html": [
              "\n",
              "  <div id=\"df-53f1d14d-f3e1-4136-a6de-33af8f250244\">\n",
              "    <div class=\"colab-df-container\">\n",
              "      <div>\n",
              "<style scoped>\n",
              "    .dataframe tbody tr th:only-of-type {\n",
              "        vertical-align: middle;\n",
              "    }\n",
              "\n",
              "    .dataframe tbody tr th {\n",
              "        vertical-align: top;\n",
              "    }\n",
              "\n",
              "    .dataframe thead th {\n",
              "        text-align: right;\n",
              "    }\n",
              "</style>\n",
              "<table border=\"1\" class=\"dataframe\">\n",
              "  <thead>\n",
              "    <tr style=\"text-align: right;\">\n",
              "      <th></th>\n",
              "      <th>labels</th>\n",
              "      <th>f 1</th>\n",
              "      <th>f 2</th>\n",
              "      <th>f 3</th>\n",
              "      <th>f 4</th>\n",
              "      <th>f 5</th>\n",
              "      <th>f 6</th>\n",
              "      <th>f 7</th>\n",
              "      <th>f 8</th>\n",
              "      <th>f 9</th>\n",
              "      <th>...</th>\n",
              "      <th>f 4087</th>\n",
              "      <th>f 4088</th>\n",
              "      <th>f 4089</th>\n",
              "      <th>f 4090</th>\n",
              "      <th>f 4091</th>\n",
              "      <th>f 4092</th>\n",
              "      <th>f 4093</th>\n",
              "      <th>f 4094</th>\n",
              "      <th>f 4095</th>\n",
              "      <th>f 4096</th>\n",
              "    </tr>\n",
              "  </thead>\n",
              "  <tbody>\n",
              "    <tr>\n",
              "      <th>0</th>\n",
              "      <td>0</td>\n",
              "      <td>120</td>\n",
              "      <td>120</td>\n",
              "      <td>120</td>\n",
              "      <td>120</td>\n",
              "      <td>185</td>\n",
              "      <td>185</td>\n",
              "      <td>185</td>\n",
              "      <td>185</td>\n",
              "      <td>185</td>\n",
              "      <td>...</td>\n",
              "      <td>120</td>\n",
              "      <td>120</td>\n",
              "      <td>120</td>\n",
              "      <td>120</td>\n",
              "      <td>120</td>\n",
              "      <td>120</td>\n",
              "      <td>120</td>\n",
              "      <td>120</td>\n",
              "      <td>120</td>\n",
              "      <td>120</td>\n",
              "    </tr>\n",
              "    <tr>\n",
              "      <th>1</th>\n",
              "      <td>0</td>\n",
              "      <td>131</td>\n",
              "      <td>131</td>\n",
              "      <td>200</td>\n",
              "      <td>200</td>\n",
              "      <td>200</td>\n",
              "      <td>200</td>\n",
              "      <td>200</td>\n",
              "      <td>200</td>\n",
              "      <td>200</td>\n",
              "      <td>...</td>\n",
              "      <td>200</td>\n",
              "      <td>200</td>\n",
              "      <td>131</td>\n",
              "      <td>131</td>\n",
              "      <td>131</td>\n",
              "      <td>131</td>\n",
              "      <td>131</td>\n",
              "      <td>131</td>\n",
              "      <td>131</td>\n",
              "      <td>131</td>\n",
              "    </tr>\n",
              "    <tr>\n",
              "      <th>2</th>\n",
              "      <td>0</td>\n",
              "      <td>76</td>\n",
              "      <td>76</td>\n",
              "      <td>76</td>\n",
              "      <td>76</td>\n",
              "      <td>76</td>\n",
              "      <td>76</td>\n",
              "      <td>113</td>\n",
              "      <td>113</td>\n",
              "      <td>113</td>\n",
              "      <td>...</td>\n",
              "      <td>113</td>\n",
              "      <td>113</td>\n",
              "      <td>113</td>\n",
              "      <td>113</td>\n",
              "      <td>113</td>\n",
              "      <td>76</td>\n",
              "      <td>76</td>\n",
              "      <td>76</td>\n",
              "      <td>76</td>\n",
              "      <td>76</td>\n",
              "    </tr>\n",
              "    <tr>\n",
              "      <th>3</th>\n",
              "      <td>0</td>\n",
              "      <td>72</td>\n",
              "      <td>72</td>\n",
              "      <td>72</td>\n",
              "      <td>72</td>\n",
              "      <td>72</td>\n",
              "      <td>72</td>\n",
              "      <td>119</td>\n",
              "      <td>119</td>\n",
              "      <td>119</td>\n",
              "      <td>...</td>\n",
              "      <td>119</td>\n",
              "      <td>119</td>\n",
              "      <td>119</td>\n",
              "      <td>119</td>\n",
              "      <td>119</td>\n",
              "      <td>119</td>\n",
              "      <td>119</td>\n",
              "      <td>119</td>\n",
              "      <td>119</td>\n",
              "      <td>119</td>\n",
              "    </tr>\n",
              "    <tr>\n",
              "      <th>4</th>\n",
              "      <td>0</td>\n",
              "      <td>88</td>\n",
              "      <td>88</td>\n",
              "      <td>88</td>\n",
              "      <td>88</td>\n",
              "      <td>123</td>\n",
              "      <td>123</td>\n",
              "      <td>123</td>\n",
              "      <td>123</td>\n",
              "      <td>123</td>\n",
              "      <td>...</td>\n",
              "      <td>150</td>\n",
              "      <td>150</td>\n",
              "      <td>123</td>\n",
              "      <td>123</td>\n",
              "      <td>123</td>\n",
              "      <td>123</td>\n",
              "      <td>123</td>\n",
              "      <td>123</td>\n",
              "      <td>123</td>\n",
              "      <td>123</td>\n",
              "    </tr>\n",
              "  </tbody>\n",
              "</table>\n",
              "<p>5 rows × 4097 columns</p>\n",
              "</div>\n",
              "      <button class=\"colab-df-convert\" onclick=\"convertToInteractive('df-53f1d14d-f3e1-4136-a6de-33af8f250244')\"\n",
              "              title=\"Convert this dataframe to an interactive table.\"\n",
              "              style=\"display:none;\">\n",
              "        \n",
              "  <svg xmlns=\"http://www.w3.org/2000/svg\" height=\"24px\"viewBox=\"0 0 24 24\"\n",
              "       width=\"24px\">\n",
              "    <path d=\"M0 0h24v24H0V0z\" fill=\"none\"/>\n",
              "    <path d=\"M18.56 5.44l.94 2.06.94-2.06 2.06-.94-2.06-.94-.94-2.06-.94 2.06-2.06.94zm-11 1L8.5 8.5l.94-2.06 2.06-.94-2.06-.94L8.5 2.5l-.94 2.06-2.06.94zm10 10l.94 2.06.94-2.06 2.06-.94-2.06-.94-.94-2.06-.94 2.06-2.06.94z\"/><path d=\"M17.41 7.96l-1.37-1.37c-.4-.4-.92-.59-1.43-.59-.52 0-1.04.2-1.43.59L10.3 9.45l-7.72 7.72c-.78.78-.78 2.05 0 2.83L4 21.41c.39.39.9.59 1.41.59.51 0 1.02-.2 1.41-.59l7.78-7.78 2.81-2.81c.8-.78.8-2.07 0-2.86zM5.41 20L4 18.59l7.72-7.72 1.47 1.35L5.41 20z\"/>\n",
              "  </svg>\n",
              "      </button>\n",
              "      \n",
              "  <style>\n",
              "    .colab-df-container {\n",
              "      display:flex;\n",
              "      flex-wrap:wrap;\n",
              "      gap: 12px;\n",
              "    }\n",
              "\n",
              "    .colab-df-convert {\n",
              "      background-color: #E8F0FE;\n",
              "      border: none;\n",
              "      border-radius: 50%;\n",
              "      cursor: pointer;\n",
              "      display: none;\n",
              "      fill: #1967D2;\n",
              "      height: 32px;\n",
              "      padding: 0 0 0 0;\n",
              "      width: 32px;\n",
              "    }\n",
              "\n",
              "    .colab-df-convert:hover {\n",
              "      background-color: #E2EBFA;\n",
              "      box-shadow: 0px 1px 2px rgba(60, 64, 67, 0.3), 0px 1px 3px 1px rgba(60, 64, 67, 0.15);\n",
              "      fill: #174EA6;\n",
              "    }\n",
              "\n",
              "    [theme=dark] .colab-df-convert {\n",
              "      background-color: #3B4455;\n",
              "      fill: #D2E3FC;\n",
              "    }\n",
              "\n",
              "    [theme=dark] .colab-df-convert:hover {\n",
              "      background-color: #434B5C;\n",
              "      box-shadow: 0px 1px 3px 1px rgba(0, 0, 0, 0.15);\n",
              "      filter: drop-shadow(0px 1px 2px rgba(0, 0, 0, 0.3));\n",
              "      fill: #FFFFFF;\n",
              "    }\n",
              "  </style>\n",
              "\n",
              "      <script>\n",
              "        const buttonEl =\n",
              "          document.querySelector('#df-53f1d14d-f3e1-4136-a6de-33af8f250244 button.colab-df-convert');\n",
              "        buttonEl.style.display =\n",
              "          google.colab.kernel.accessAllowed ? 'block' : 'none';\n",
              "\n",
              "        async function convertToInteractive(key) {\n",
              "          const element = document.querySelector('#df-53f1d14d-f3e1-4136-a6de-33af8f250244');\n",
              "          const dataTable =\n",
              "            await google.colab.kernel.invokeFunction('convertToInteractive',\n",
              "                                                     [key], {});\n",
              "          if (!dataTable) return;\n",
              "\n",
              "          const docLinkHtml = 'Like what you see? Visit the ' +\n",
              "            '<a target=\"_blank\" href=https://colab.research.google.com/notebooks/data_table.ipynb>data table notebook</a>'\n",
              "            + ' to learn more about interactive tables.';\n",
              "          element.innerHTML = '';\n",
              "          dataTable['output_type'] = 'display_data';\n",
              "          await google.colab.output.renderOutput(dataTable, element);\n",
              "          const docLink = document.createElement('div');\n",
              "          docLink.innerHTML = docLinkHtml;\n",
              "          element.appendChild(docLink);\n",
              "        }\n",
              "      </script>\n",
              "    </div>\n",
              "  </div>\n",
              "  "
            ]
          },
          "metadata": {},
          "execution_count": 23
        }
      ],
      "source": [
        "train_seg_data = train_seg_data.astype(int)\n",
        "train_seg_data.head()"
      ]
    },
    {
      "cell_type": "code",
      "execution_count": 24,
      "id": "AIGC7k7C2jux",
      "metadata": {
        "id": "AIGC7k7C2jux"
      },
      "outputs": [],
      "source": [
        "features = train_seg_data.iloc[:,1:].values\n",
        "target = train_seg_data.iloc[:,0].values"
      ]
    },
    {
      "cell_type": "markdown",
      "id": "uIBZXPZu4Ie9",
      "metadata": {
        "id": "uIBZXPZu4Ie9"
      },
      "source": [
        "## Lets work out for test images"
      ]
    },
    {
      "cell_type": "code",
      "execution_count": 25,
      "id": "WO-lEH3g29Kr",
      "metadata": {
        "colab": {
          "base_uri": "https://localhost:8080/",
          "height": 235
        },
        "id": "WO-lEH3g29Kr",
        "outputId": "97f97633-dc64-4e32-a4f7-9e009a033841"
      },
      "outputs": [
        {
          "output_type": "execute_result",
          "data": {
            "text/plain": [
              "   labels  f 1  f 2  f 3  f 4  f 5  f 6  f 7  f 8  f 9  ...  f 4087  f 4088  \\\n",
              "0       0   77   77  139  139  139  139  139  139  139  ...     139     139   \n",
              "1       0  143  143  143  103  103  103  103  103  103  ...     103     103   \n",
              "2       0   63   63   63   63   63  138  138  138  138  ...     138     138   \n",
              "3       0  115  115  154  154  154  154  154  154  154  ...     115     115   \n",
              "4       0   84   84   84   84   84   84  148  148  148  ...      84      84   \n",
              "\n",
              "   f 4089  f 4090  f 4091  f 4092  f 4093  f 4094  f 4095  f 4096  \n",
              "0     139     139      77      77      77      77      77      77  \n",
              "1     103     103     103     103     103     103     103     103  \n",
              "2     138     138     138     138     138     138     138      63  \n",
              "3     115     115     115     115     115     115     115     115  \n",
              "4      84      84      84      84      84      84      84      84  \n",
              "\n",
              "[5 rows x 4097 columns]"
            ],
            "text/html": [
              "\n",
              "  <div id=\"df-33dbaa45-7a3e-4f6c-915a-03b7894fa7dc\">\n",
              "    <div class=\"colab-df-container\">\n",
              "      <div>\n",
              "<style scoped>\n",
              "    .dataframe tbody tr th:only-of-type {\n",
              "        vertical-align: middle;\n",
              "    }\n",
              "\n",
              "    .dataframe tbody tr th {\n",
              "        vertical-align: top;\n",
              "    }\n",
              "\n",
              "    .dataframe thead th {\n",
              "        text-align: right;\n",
              "    }\n",
              "</style>\n",
              "<table border=\"1\" class=\"dataframe\">\n",
              "  <thead>\n",
              "    <tr style=\"text-align: right;\">\n",
              "      <th></th>\n",
              "      <th>labels</th>\n",
              "      <th>f 1</th>\n",
              "      <th>f 2</th>\n",
              "      <th>f 3</th>\n",
              "      <th>f 4</th>\n",
              "      <th>f 5</th>\n",
              "      <th>f 6</th>\n",
              "      <th>f 7</th>\n",
              "      <th>f 8</th>\n",
              "      <th>f 9</th>\n",
              "      <th>...</th>\n",
              "      <th>f 4087</th>\n",
              "      <th>f 4088</th>\n",
              "      <th>f 4089</th>\n",
              "      <th>f 4090</th>\n",
              "      <th>f 4091</th>\n",
              "      <th>f 4092</th>\n",
              "      <th>f 4093</th>\n",
              "      <th>f 4094</th>\n",
              "      <th>f 4095</th>\n",
              "      <th>f 4096</th>\n",
              "    </tr>\n",
              "  </thead>\n",
              "  <tbody>\n",
              "    <tr>\n",
              "      <th>0</th>\n",
              "      <td>0</td>\n",
              "      <td>77</td>\n",
              "      <td>77</td>\n",
              "      <td>139</td>\n",
              "      <td>139</td>\n",
              "      <td>139</td>\n",
              "      <td>139</td>\n",
              "      <td>139</td>\n",
              "      <td>139</td>\n",
              "      <td>139</td>\n",
              "      <td>...</td>\n",
              "      <td>139</td>\n",
              "      <td>139</td>\n",
              "      <td>139</td>\n",
              "      <td>139</td>\n",
              "      <td>77</td>\n",
              "      <td>77</td>\n",
              "      <td>77</td>\n",
              "      <td>77</td>\n",
              "      <td>77</td>\n",
              "      <td>77</td>\n",
              "    </tr>\n",
              "    <tr>\n",
              "      <th>1</th>\n",
              "      <td>0</td>\n",
              "      <td>143</td>\n",
              "      <td>143</td>\n",
              "      <td>143</td>\n",
              "      <td>103</td>\n",
              "      <td>103</td>\n",
              "      <td>103</td>\n",
              "      <td>103</td>\n",
              "      <td>103</td>\n",
              "      <td>103</td>\n",
              "      <td>...</td>\n",
              "      <td>103</td>\n",
              "      <td>103</td>\n",
              "      <td>103</td>\n",
              "      <td>103</td>\n",
              "      <td>103</td>\n",
              "      <td>103</td>\n",
              "      <td>103</td>\n",
              "      <td>103</td>\n",
              "      <td>103</td>\n",
              "      <td>103</td>\n",
              "    </tr>\n",
              "    <tr>\n",
              "      <th>2</th>\n",
              "      <td>0</td>\n",
              "      <td>63</td>\n",
              "      <td>63</td>\n",
              "      <td>63</td>\n",
              "      <td>63</td>\n",
              "      <td>63</td>\n",
              "      <td>138</td>\n",
              "      <td>138</td>\n",
              "      <td>138</td>\n",
              "      <td>138</td>\n",
              "      <td>...</td>\n",
              "      <td>138</td>\n",
              "      <td>138</td>\n",
              "      <td>138</td>\n",
              "      <td>138</td>\n",
              "      <td>138</td>\n",
              "      <td>138</td>\n",
              "      <td>138</td>\n",
              "      <td>138</td>\n",
              "      <td>138</td>\n",
              "      <td>63</td>\n",
              "    </tr>\n",
              "    <tr>\n",
              "      <th>3</th>\n",
              "      <td>0</td>\n",
              "      <td>115</td>\n",
              "      <td>115</td>\n",
              "      <td>154</td>\n",
              "      <td>154</td>\n",
              "      <td>154</td>\n",
              "      <td>154</td>\n",
              "      <td>154</td>\n",
              "      <td>154</td>\n",
              "      <td>154</td>\n",
              "      <td>...</td>\n",
              "      <td>115</td>\n",
              "      <td>115</td>\n",
              "      <td>115</td>\n",
              "      <td>115</td>\n",
              "      <td>115</td>\n",
              "      <td>115</td>\n",
              "      <td>115</td>\n",
              "      <td>115</td>\n",
              "      <td>115</td>\n",
              "      <td>115</td>\n",
              "    </tr>\n",
              "    <tr>\n",
              "      <th>4</th>\n",
              "      <td>0</td>\n",
              "      <td>84</td>\n",
              "      <td>84</td>\n",
              "      <td>84</td>\n",
              "      <td>84</td>\n",
              "      <td>84</td>\n",
              "      <td>84</td>\n",
              "      <td>148</td>\n",
              "      <td>148</td>\n",
              "      <td>148</td>\n",
              "      <td>...</td>\n",
              "      <td>84</td>\n",
              "      <td>84</td>\n",
              "      <td>84</td>\n",
              "      <td>84</td>\n",
              "      <td>84</td>\n",
              "      <td>84</td>\n",
              "      <td>84</td>\n",
              "      <td>84</td>\n",
              "      <td>84</td>\n",
              "      <td>84</td>\n",
              "    </tr>\n",
              "  </tbody>\n",
              "</table>\n",
              "<p>5 rows × 4097 columns</p>\n",
              "</div>\n",
              "      <button class=\"colab-df-convert\" onclick=\"convertToInteractive('df-33dbaa45-7a3e-4f6c-915a-03b7894fa7dc')\"\n",
              "              title=\"Convert this dataframe to an interactive table.\"\n",
              "              style=\"display:none;\">\n",
              "        \n",
              "  <svg xmlns=\"http://www.w3.org/2000/svg\" height=\"24px\"viewBox=\"0 0 24 24\"\n",
              "       width=\"24px\">\n",
              "    <path d=\"M0 0h24v24H0V0z\" fill=\"none\"/>\n",
              "    <path d=\"M18.56 5.44l.94 2.06.94-2.06 2.06-.94-2.06-.94-.94-2.06-.94 2.06-2.06.94zm-11 1L8.5 8.5l.94-2.06 2.06-.94-2.06-.94L8.5 2.5l-.94 2.06-2.06.94zm10 10l.94 2.06.94-2.06 2.06-.94-2.06-.94-.94-2.06-.94 2.06-2.06.94z\"/><path d=\"M17.41 7.96l-1.37-1.37c-.4-.4-.92-.59-1.43-.59-.52 0-1.04.2-1.43.59L10.3 9.45l-7.72 7.72c-.78.78-.78 2.05 0 2.83L4 21.41c.39.39.9.59 1.41.59.51 0 1.02-.2 1.41-.59l7.78-7.78 2.81-2.81c.8-.78.8-2.07 0-2.86zM5.41 20L4 18.59l7.72-7.72 1.47 1.35L5.41 20z\"/>\n",
              "  </svg>\n",
              "      </button>\n",
              "      \n",
              "  <style>\n",
              "    .colab-df-container {\n",
              "      display:flex;\n",
              "      flex-wrap:wrap;\n",
              "      gap: 12px;\n",
              "    }\n",
              "\n",
              "    .colab-df-convert {\n",
              "      background-color: #E8F0FE;\n",
              "      border: none;\n",
              "      border-radius: 50%;\n",
              "      cursor: pointer;\n",
              "      display: none;\n",
              "      fill: #1967D2;\n",
              "      height: 32px;\n",
              "      padding: 0 0 0 0;\n",
              "      width: 32px;\n",
              "    }\n",
              "\n",
              "    .colab-df-convert:hover {\n",
              "      background-color: #E2EBFA;\n",
              "      box-shadow: 0px 1px 2px rgba(60, 64, 67, 0.3), 0px 1px 3px 1px rgba(60, 64, 67, 0.15);\n",
              "      fill: #174EA6;\n",
              "    }\n",
              "\n",
              "    [theme=dark] .colab-df-convert {\n",
              "      background-color: #3B4455;\n",
              "      fill: #D2E3FC;\n",
              "    }\n",
              "\n",
              "    [theme=dark] .colab-df-convert:hover {\n",
              "      background-color: #434B5C;\n",
              "      box-shadow: 0px 1px 3px 1px rgba(0, 0, 0, 0.15);\n",
              "      filter: drop-shadow(0px 1px 2px rgba(0, 0, 0, 0.3));\n",
              "      fill: #FFFFFF;\n",
              "    }\n",
              "  </style>\n",
              "\n",
              "      <script>\n",
              "        const buttonEl =\n",
              "          document.querySelector('#df-33dbaa45-7a3e-4f6c-915a-03b7894fa7dc button.colab-df-convert');\n",
              "        buttonEl.style.display =\n",
              "          google.colab.kernel.accessAllowed ? 'block' : 'none';\n",
              "\n",
              "        async function convertToInteractive(key) {\n",
              "          const element = document.querySelector('#df-33dbaa45-7a3e-4f6c-915a-03b7894fa7dc');\n",
              "          const dataTable =\n",
              "            await google.colab.kernel.invokeFunction('convertToInteractive',\n",
              "                                                     [key], {});\n",
              "          if (!dataTable) return;\n",
              "\n",
              "          const docLinkHtml = 'Like what you see? Visit the ' +\n",
              "            '<a target=\"_blank\" href=https://colab.research.google.com/notebooks/data_table.ipynb>data table notebook</a>'\n",
              "            + ' to learn more about interactive tables.';\n",
              "          element.innerHTML = '';\n",
              "          dataTable['output_type'] = 'display_data';\n",
              "          await google.colab.output.renderOutput(dataTable, element);\n",
              "          const docLink = document.createElement('div');\n",
              "          docLink.innerHTML = docLinkHtml;\n",
              "          element.appendChild(docLink);\n",
              "        }\n",
              "      </script>\n",
              "    </div>\n",
              "  </div>\n",
              "  "
            ]
          },
          "metadata": {},
          "execution_count": 25
        }
      ],
      "source": [
        "ltest_paths = list(test_data['path'])\n",
        "ltest_labels = list(test_data['label'])\n",
        "test_segments = []\n",
        "for i in range(len(ltest_paths)):\n",
        "    l = []\n",
        "    l.append(ltest_labels[i])\n",
        "    l.extend(segmentation(ltest_paths[i]))\n",
        "    test_segments.append(l)\n",
        "test_seg_data = pd.DataFrame(test_segments,columns=cols)\n",
        "test_seg_data = test_seg_data.astype(int)\n",
        "test_seg_data.head()"
      ]
    },
    {
      "cell_type": "code",
      "execution_count": 26,
      "id": "OOysidVt29NJ",
      "metadata": {
        "id": "OOysidVt29NJ"
      },
      "outputs": [],
      "source": [
        "t_features = test_seg_data.iloc[:,1:].values\n",
        "t_target = test_seg_data.iloc[:,0].values"
      ]
    },
    {
      "cell_type": "markdown",
      "source": [
        "## Use Different Classifiers for Detection and Severity Prediction"
      ],
      "metadata": {
        "id": "Agl9dz2GqfD8"
      },
      "id": "Agl9dz2GqfD8"
    },
    {
      "cell_type": "markdown",
      "source": [
        "### 1. K Nearest Neignbors Algorithm"
      ],
      "metadata": {
        "id": "9DdXhe44qmc0"
      },
      "id": "9DdXhe44qmc0"
    },
    {
      "cell_type": "code",
      "execution_count": 27,
      "id": "sduUcvgh2j2Q",
      "metadata": {
        "colab": {
          "base_uri": "https://localhost:8080/",
          "height": 295
        },
        "id": "sduUcvgh2j2Q",
        "outputId": "8a94173d-add2-4af2-cdb3-b76623f783e0"
      },
      "outputs": [
        {
          "output_type": "display_data",
          "data": {
            "text/plain": [
              "<Figure size 432x288 with 1 Axes>"
            ],
            "image/png": "[encoded data removed]"
          },
          "metadata": {
            "needs_background": "light"
          }
        }
      ],
      "source": [
        "from sklearn.neighbors import KNeighborsClassifier\n",
        "from sklearn.metrics import mean_squared_error\n",
        "acc = []\n",
        "for i in range(2,16):\n",
        "  model = KNeighborsClassifier(n_neighbors=i)\n",
        "  model.fit(features,target)\n",
        "  y_pred = model.predict(t_features)\n",
        "  acc.append(mean_squared_error(t_target,y_pred))\n",
        "plt.plot(range(2,16),acc)\n",
        "plt.title('No of Clusters Calculations')\n",
        "plt.xlabel('Number of Neignbors')\n",
        "plt.ylabel('Error')\n",
        "plt.grid()\n",
        "plt.show()"
      ]
    },
    {
      "cell_type": "code",
      "execution_count": 28,
      "id": "HJbXV_mm29P3",
      "metadata": {
        "id": "HJbXV_mm29P3"
      },
      "outputs": [],
      "source": [
        "model = KNeighborsClassifier(n_neighbors=2)\n",
        "model.fit(features,target)\n",
        "y_pred = model.predict(t_features)"
      ]
    },
    {
      "cell_type": "code",
      "execution_count": 29,
      "id": "m8KeXBAU29TN",
      "metadata": {
        "colab": {
          "base_uri": "https://localhost:8080/",
          "height": 325
        },
        "id": "m8KeXBAU29TN",
        "outputId": "c1ca7d21-288d-4695-f837-9b0549df2715"
      },
      "outputs": [
        {
          "output_type": "display_data",
          "data": {
            "text/plain": [
              "<Figure size 432x288 with 2 Axes>"
            ],
            "image/png": "[encoded data removed]"
          },
          "metadata": {
            "needs_background": "light"
          }
        }
      ],
      "source": [
        "from sklearn.metrics import confusion_matrix, accuracy_score, precision_score, recall_score, f1_score\n",
        "cnf = confusion_matrix(t_target,y_pred)\n",
        "class_names = ['malignant', 'benign']\n",
        "fig, ax = plt.subplots()\n",
        "tick_marks = np.arange(len(class_names))\n",
        "plt.xticks(tick_marks,class_names)\n",
        "plt.yticks(tick_marks,class_names)\n",
        "sns.heatmap(pd.DataFrame(cnf),annot=True,cmap='Blues_r',fmt='g')\n",
        "ax.xaxis.set_label_position(\"top\")\n",
        "plt.tight_layout()\n",
        "plt.title('Confusion matrix', y=1.1)\n",
        "plt.ylabel('Actual label')\n",
        "plt.xlabel('Predicted label')\n",
        "plt.Text(0.5,257.44,'Predicted label')\n",
        "plt.show()"
      ]
    },
    {
      "cell_type": "code",
      "execution_count": 30,
      "id": "D2yGY1CN-Fg7",
      "metadata": {
        "colab": {
          "base_uri": "https://localhost:8080/"
        },
        "id": "D2yGY1CN-Fg7",
        "outputId": "0da16316-8b7b-4485-d556-f36441c739be"
      },
      "outputs": [
        {
          "output_type": "stream",
          "name": "stdout",
          "text": [
            "Accuracy Score:  0.37922705314009664\n"
          ]
        }
      ],
      "source": [
        "print('Accuracy Score: ',accuracy_score(t_target,y_pred))"
      ]
    },
    {
      "cell_type": "code",
      "execution_count": 31,
      "id": "swRdr05L-v0M",
      "metadata": {
        "colab": {
          "base_uri": "https://localhost:8080/"
        },
        "id": "swRdr05L-v0M",
        "outputId": "3cf5745e-10ad-464a-b971-847ad11eaa25"
      },
      "outputs": [
        {
          "output_type": "stream",
          "name": "stdout",
          "text": [
            "              precision    recall  f1-score   support\n",
            "\n",
            "           0       0.44      0.72      0.55       639\n",
            "           1       0.21      0.22      0.22       296\n",
            "           2       0.33      0.19      0.24       447\n",
            "           3       0.41      0.09      0.14       223\n",
            "           4       0.50      0.02      0.04        51\n",
            "\n",
            "    accuracy                           0.38      1656\n",
            "   macro avg       0.38      0.25      0.24      1656\n",
            "weighted avg       0.37      0.38      0.33      1656\n",
            "\n"
          ]
        }
      ],
      "source": [
        "from sklearn.metrics import classification_report\n",
        "print(classification_report(t_target,y_pred))"
      ]
    },
    {
      "cell_type": "code",
      "source": [
        "print('F1 Score (Macro): ',f1_score(t_target,y_pred,average='macro'))\n",
        "print('F1 Score (Micro): ',f1_score(t_target,y_pred,average='micro'))\n",
        "print('F1 Score (Weighted): ',f1_score(t_target,y_pred,average='weighted'))"
      ],
      "metadata": {
        "colab": {
          "base_uri": "https://localhost:8080/"
        },
        "id": "N0ubjC9VpHim",
        "outputId": "501c6123-480c-4c83-f6a3-6c5c78c7dbc4"
      },
      "id": "N0ubjC9VpHim",
      "execution_count": 32,
      "outputs": [
        {
          "output_type": "stream",
          "name": "stdout",
          "text": [
            "F1 Score (Macro):  0.2361137570416782\n",
            "F1 Score (Micro):  0.37922705314009664\n",
            "F1 Score (Weighted):  0.3341659325498582\n"
          ]
        }
      ]
    },
    {
      "cell_type": "code",
      "source": [
        "from sklearn.metrics import roc_auc_score\n",
        "print('ROC-AUC_Score (OVR):',roc_auc_score(t_target,model.predict_proba(t_features),multi_class='ovr'))\n",
        "print('ROC-AUC_Score (OVO):',roc_auc_score(t_target,model.predict_proba(t_features),multi_class='ovo'))"
      ],
      "metadata": {
        "colab": {
          "base_uri": "https://localhost:8080/"
        },
        "id": "xq_3krDIpSw0",
        "outputId": "383ff53b-b8c8-4a8c-fe5b-58591744c5a9"
      },
      "id": "xq_3krDIpSw0",
      "execution_count": 33,
      "outputs": [
        {
          "output_type": "stream",
          "name": "stdout",
          "text": [
            "ROC-AUC_Score (OVR): 0.563994904281526\n",
            "ROC-AUC_Score (OVO): 0.5645221271212593\n"
          ]
        }
      ]
    },
    {
      "cell_type": "markdown",
      "source": [
        "### 2. Logistic Regression"
      ],
      "metadata": {
        "id": "zeLgNV-Rqsof"
      },
      "id": "zeLgNV-Rqsof"
    },
    {
      "cell_type": "code",
      "source": [
        "from sklearn.linear_model import LogisticRegression\n",
        "log_reg = LogisticRegression()\n",
        "log_reg.fit(features,target)\n",
        "y_pred = log_reg.predict(t_features)\n",
        "cnf = confusion_matrix(t_target,y_pred)\n",
        "class_names = ['0','1','2','3','4']\n",
        "fig, ax = plt.subplots()\n",
        "tick_marks = np.arange(len(class_names))\n",
        "plt.xticks(tick_marks,class_names)\n",
        "plt.yticks(tick_marks,class_names)\n",
        "sns.heatmap(pd.DataFrame(cnf),annot=True,cmap='Blues_r',fmt='g')\n",
        "ax.xaxis.set_label_position(\"top\")\n",
        "plt.tight_layout()\n",
        "plt.title('Confusion matrix', y=1.1)\n",
        "plt.ylabel('Actual label')\n",
        "plt.xlabel('Predicted label')\n",
        "plt.Text(0.5,257.44,'Predicted label')\n",
        "plt.show()"
      ],
      "metadata": {
        "colab": {
          "base_uri": "https://localhost:8080/",
          "height": 464
        },
        "id": "jnczY9eJrYw-",
        "outputId": "70bed3b0-b452-4b63-af3e-3e19bca73e95"
      },
      "id": "jnczY9eJrYw-",
      "execution_count": 34,
      "outputs": [
        {
          "output_type": "stream",
          "name": "stderr",
          "text": [
            "/usr/local/lib/python3.7/dist-packages/sklearn/linear_model/_logistic.py:818: ConvergenceWarning: lbfgs failed to converge (status=1):\n",
            "STOP: TOTAL NO. of ITERATIONS REACHED LIMIT.\n",
            "\n",
            "Increase the number of iterations (max_iter) or scale the data as shown in:\n",
            "    https://scikit-learn.org/stable/modules/preprocessing.html\n",
            "Please also refer to the documentation for alternative solver options:\n",
            "    https://scikit-learn.org/stable/modules/linear_model.html#logistic-regression\n",
            "  extra_warning_msg=_LOGISTIC_SOLVER_CONVERGENCE_MSG,\n"
          ]
        },
        {
          "output_type": "display_data",
          "data": {
            "text/plain": [
              "<Figure size 432x288 with 2 Axes>"
            ],
            "image/png": "[encoded data removed]"
          },
          "metadata": {
            "needs_background": "light"
          }
        }
      ]
    },
    {
      "cell_type": "code",
      "source": [
        "print('Accuracy Score: ',accuracy_score(t_target,y_pred))\n",
        "print('F1 Score (Macro): ',f1_score(t_target,y_pred,average='macro'))\n",
        "print('F1 Score (Micro): ',f1_score(t_target,y_pred,average='micro'))\n",
        "print('F1 Score (Weighted): ',f1_score(t_target,y_pred,average='weighted'))\n",
        "print('ROC-AUC_Score (OVR):',roc_auc_score(t_target,log_reg.predict_proba(t_features),multi_class='ovr'))\n",
        "print('ROC-AUC_Score (OVO):',roc_auc_score(t_target,log_reg.predict_proba(t_features),multi_class='ovo'))"
      ],
      "metadata": {
        "colab": {
          "base_uri": "https://localhost:8080/"
        },
        "id": "1k4qbfrCrb4x",
        "outputId": "57136bf7-f670-4a7b-bfc6-ceba61dc6e4a"
      },
      "id": "1k4qbfrCrb4x",
      "execution_count": 35,
      "outputs": [
        {
          "output_type": "stream",
          "name": "stdout",
          "text": [
            "Accuracy Score:  0.4522946859903382\n",
            "F1 Score (Macro):  0.2656584781126635\n",
            "F1 Score (Micro):  0.4522946859903382\n",
            "F1 Score (Weighted):  0.3837796466490821\n",
            "ROC-AUC_Score (OVR): 0.7029182837531798\n",
            "ROC-AUC_Score (OVO): 0.7066284186006775\n"
          ]
        }
      ]
    },
    {
      "cell_type": "code",
      "source": [
        "print(classification_report(t_target,y_pred))"
      ],
      "metadata": {
        "colab": {
          "base_uri": "https://localhost:8080/"
        },
        "id": "BsEucxMkruHi",
        "outputId": "ce707bdc-7604-4370-f628-7959b14679de"
      },
      "id": "BsEucxMkruHi",
      "execution_count": 36,
      "outputs": [
        {
          "output_type": "stream",
          "name": "stdout",
          "text": [
            "              precision    recall  f1-score   support\n",
            "\n",
            "           0       0.49      0.84      0.62       639\n",
            "           1       0.10      0.01      0.01       296\n",
            "           2       0.42      0.32      0.37       447\n",
            "           3       0.37      0.30      0.33       223\n",
            "           4       0.00      0.00      0.00        51\n",
            "\n",
            "    accuracy                           0.45      1656\n",
            "   macro avg       0.28      0.29      0.27      1656\n",
            "weighted avg       0.37      0.45      0.38      1656\n",
            "\n"
          ]
        }
      ]
    },
    {
      "cell_type": "markdown",
      "source": [
        "### 3. Naive Bayes Classifier"
      ],
      "metadata": {
        "id": "P-5XPT6UqsuP"
      },
      "id": "P-5XPT6UqsuP"
    },
    {
      "cell_type": "code",
      "source": [
        "from sklearn.naive_bayes import GaussianNB\n",
        "clf = GaussianNB()\n",
        "clf.fit(features,target)\n",
        "y_pred = clf.predict(t_features)\n",
        "cnf = confusion_matrix(t_target,y_pred)\n",
        "class_names = ['0','1','2','3','4']\n",
        "fig, ax = plt.subplots()\n",
        "tick_marks = np.arange(len(class_names))\n",
        "plt.xticks(tick_marks,class_names)\n",
        "plt.yticks(tick_marks,class_names)\n",
        "sns.heatmap(pd.DataFrame(cnf),annot=True,cmap='Blues_r',fmt='g')\n",
        "ax.xaxis.set_label_position(\"top\")\n",
        "plt.tight_layout()\n",
        "plt.title('Confusion matrix', y=1.1)\n",
        "plt.ylabel('Actual label')\n",
        "plt.xlabel('Predicted label')\n",
        "plt.Text(0.5,257.44,'Predicted label')\n",
        "plt.show()"
      ],
      "metadata": {
        "colab": {
          "base_uri": "https://localhost:8080/",
          "height": 325
        },
        "id": "t_3Y4_Y3rZMi",
        "outputId": "e039980a-1d47-4b62-ab13-7418c9f0784d"
      },
      "id": "t_3Y4_Y3rZMi",
      "execution_count": 37,
      "outputs": [
        {
          "output_type": "display_data",
          "data": {
            "text/plain": [
              "<Figure size 432x288 with 2 Axes>"
            ],
            "image/png": "[encoded data removed]"
          },
          "metadata": {
            "needs_background": "light"
          }
        }
      ]
    },
    {
      "cell_type": "code",
      "source": [
        "print('Accuracy Score: ',accuracy_score(t_target,y_pred))\n",
        "print('F1 Score (Macro): ',f1_score(t_target,y_pred,average='macro'))\n",
        "print('F1 Score (Micro): ',f1_score(t_target,y_pred,average='micro'))\n",
        "print('F1 Score (Weighted): ',f1_score(t_target,y_pred,average='weighted'))\n",
        "print('ROC-AUC_Score (OVR):',roc_auc_score(t_target,clf.predict_proba(t_features),multi_class='ovr'))\n",
        "print('ROC-AUC_Score (OVO):',roc_auc_score(t_target,clf.predict_proba(t_features),multi_class='ovo'))"
      ],
      "metadata": {
        "colab": {
          "base_uri": "https://localhost:8080/"
        },
        "id": "EJKVW2a8rv4C",
        "outputId": "43283d92-ec44-4dc6-a903-d50f518d793d"
      },
      "id": "EJKVW2a8rv4C",
      "execution_count": 38,
      "outputs": [
        {
          "output_type": "stream",
          "name": "stdout",
          "text": [
            "Accuracy Score:  0.20652173913043478\n",
            "F1 Score (Macro):  0.1812396079464397\n",
            "F1 Score (Micro):  0.20652173913043478\n",
            "F1 Score (Weighted):  0.20118261655851058\n",
            "ROC-AUC_Score (OVR): 0.5438055459577379\n",
            "ROC-AUC_Score (OVO): 0.5485300396582309\n"
          ]
        }
      ]
    },
    {
      "cell_type": "code",
      "source": [
        "print(classification_report(t_target,y_pred))"
      ],
      "metadata": {
        "colab": {
          "base_uri": "https://localhost:8080/"
        },
        "id": "ep2hq8bFrc1A",
        "outputId": "7cea5439-b406-4575-a712-7814a09f9d7b"
      },
      "id": "ep2hq8bFrc1A",
      "execution_count": 39,
      "outputs": [
        {
          "output_type": "stream",
          "name": "stdout",
          "text": [
            "              precision    recall  f1-score   support\n",
            "\n",
            "           0       0.46      0.16      0.23       639\n",
            "           1       0.20      0.48      0.28       296\n",
            "           2       0.25      0.08      0.12       447\n",
            "           3       0.18      0.24      0.20       223\n",
            "           4       0.04      0.24      0.07        51\n",
            "\n",
            "    accuracy                           0.21      1656\n",
            "   macro avg       0.22      0.24      0.18      1656\n",
            "weighted avg       0.30      0.21      0.20      1656\n",
            "\n"
          ]
        }
      ]
    },
    {
      "cell_type": "markdown",
      "source": [
        "### 4. Support Vector Machines"
      ],
      "metadata": {
        "id": "2z7p4ibOqsxJ"
      },
      "id": "2z7p4ibOqsxJ"
    },
    {
      "cell_type": "code",
      "source": [
        "from sklearn.svm import SVC\n",
        "svm_model = SVC(kernel='rbf',C=1,probability=True)\n",
        "svm_model.fit(features,target)\n",
        "y_pred = svm_model.predict(t_features)\n",
        "cnf = confusion_matrix(t_target,y_pred)\n",
        "class_names = ['0','1','2','3','4']\n",
        "fig, ax = plt.subplots()\n",
        "tick_marks = np.arange(len(class_names))\n",
        "plt.xticks(tick_marks,class_names)\n",
        "plt.yticks(tick_marks,class_names)\n",
        "sns.heatmap(pd.DataFrame(cnf),annot=True,cmap='Blues_r',fmt='g')\n",
        "ax.xaxis.set_label_position(\"top\")\n",
        "plt.tight_layout()\n",
        "plt.title('Confusion matrix', y=1.1)\n",
        "plt.ylabel('Actual label')\n",
        "plt.xlabel('Predicted label')\n",
        "plt.Text(0.5,257.44,'Predicted label')\n",
        "plt.show()"
      ],
      "metadata": {
        "colab": {
          "base_uri": "https://localhost:8080/",
          "height": 325
        },
        "id": "L5LC6hGYrZ92",
        "outputId": "bfe0afa7-6794-41a5-9862-46277444e040"
      },
      "id": "L5LC6hGYrZ92",
      "execution_count": 40,
      "outputs": [
        {
          "output_type": "display_data",
          "data": {
            "text/plain": [
              "<Figure size 432x288 with 2 Axes>"
            ],
            "image/png": "[encoded data removed]"
          },
          "metadata": {
            "needs_background": "light"
          }
        }
      ]
    },
    {
      "cell_type": "code",
      "source": [
        "print('Accuracy Score: ',accuracy_score(t_target,y_pred))\n",
        "print('F1 Score (Macro): ',f1_score(t_target,y_pred,average='macro'))\n",
        "print('F1 Score (Micro): ',f1_score(t_target,y_pred,average='micro'))\n",
        "print('F1 Score (Weighted): ',f1_score(t_target,y_pred,average='weighted'))\n",
        "print('ROC-AUC_Score (OVR):',roc_auc_score(t_target,svm_model.predict_proba(t_features),multi_class='ovr'))\n",
        "print('ROC-AUC_Score (OVO):',roc_auc_score(t_target,svm_model.predict_proba(t_features),multi_class='ovo'))"
      ],
      "metadata": {
        "colab": {
          "base_uri": "https://localhost:8080/"
        },
        "id": "oj2lABP7rwbK",
        "outputId": "500ba8c2-ee7b-44c0-ed97-8153961b68e9"
      },
      "id": "oj2lABP7rwbK",
      "execution_count": 41,
      "outputs": [
        {
          "output_type": "stream",
          "name": "stdout",
          "text": [
            "Accuracy Score:  0.41002415458937197\n",
            "F1 Score (Macro):  0.17577345100511615\n",
            "F1 Score (Micro):  0.41002415458937197\n",
            "F1 Score (Weighted):  0.2997058547068137\n",
            "ROC-AUC_Score (OVR): 0.704900835473617\n",
            "ROC-AUC_Score (OVO): 0.719604865833459\n"
          ]
        }
      ]
    },
    {
      "cell_type": "code",
      "source": [
        "print(classification_report(t_target,y_pred))"
      ],
      "metadata": {
        "colab": {
          "base_uri": "https://localhost:8080/"
        },
        "id": "iE23hLhBrdx6",
        "outputId": "93812e8c-0d35-4074-8753-da1f9c9f3e27"
      },
      "id": "iE23hLhBrdx6",
      "execution_count": 42,
      "outputs": [
        {
          "output_type": "stream",
          "name": "stdout",
          "text": [
            "              precision    recall  f1-score   support\n",
            "\n",
            "           0       0.43      0.90      0.58       639\n",
            "           1       0.00      0.00      0.00       296\n",
            "           2       0.34      0.22      0.27       447\n",
            "           3       0.36      0.02      0.03       223\n",
            "           4       0.00      0.00      0.00        51\n",
            "\n",
            "    accuracy                           0.41      1656\n",
            "   macro avg       0.23      0.23      0.18      1656\n",
            "weighted avg       0.30      0.41      0.30      1656\n",
            "\n"
          ]
        },
        {
          "output_type": "stream",
          "name": "stderr",
          "text": [
            "/usr/local/lib/python3.7/dist-packages/sklearn/metrics/_classification.py:1318: UndefinedMetricWarning: Precision and F-score are ill-defined and being set to 0.0 in labels with no predicted samples. Use `zero_division` parameter to control this behavior.\n",
            "  _warn_prf(average, modifier, msg_start, len(result))\n",
            "/usr/local/lib/python3.7/dist-packages/sklearn/metrics/_classification.py:1318: UndefinedMetricWarning: Precision and F-score are ill-defined and being set to 0.0 in labels with no predicted samples. Use `zero_division` parameter to control this behavior.\n",
            "  _warn_prf(average, modifier, msg_start, len(result))\n",
            "/usr/local/lib/python3.7/dist-packages/sklearn/metrics/_classification.py:1318: UndefinedMetricWarning: Precision and F-score are ill-defined and being set to 0.0 in labels with no predicted samples. Use `zero_division` parameter to control this behavior.\n",
            "  _warn_prf(average, modifier, msg_start, len(result))\n"
          ]
        }
      ]
    },
    {
      "cell_type": "markdown",
      "source": [
        "###  5. Decision Trees Classifier"
      ],
      "metadata": {
        "id": "_q2MWUjCqs0Y"
      },
      "id": "_q2MWUjCqs0Y"
    },
    {
      "cell_type": "code",
      "source": [
        "from sklearn.tree import DecisionTreeClassifier\n",
        "clf = DecisionTreeClassifier()\n",
        "clf.fit(features,target)\n",
        "y_pred = clf.predict(t_features)\n",
        "cnf = confusion_matrix(t_target,y_pred)\n",
        "class_names = ['0','1','2','3','4']\n",
        "fig, ax = plt.subplots()\n",
        "tick_marks = np.arange(len(class_names))\n",
        "plt.xticks(tick_marks,class_names)\n",
        "plt.yticks(tick_marks,class_names)\n",
        "sns.heatmap(pd.DataFrame(cnf),annot=True,cmap='Blues_r',fmt='g')\n",
        "ax.xaxis.set_label_position(\"top\")\n",
        "plt.tight_layout()\n",
        "plt.title('Confusion matrix', y=1.1)\n",
        "plt.ylabel('Actual label')\n",
        "plt.xlabel('Predicted label')\n",
        "plt.Text(0.5,257.44,'Predicted label')\n",
        "plt.show()"
      ],
      "metadata": {
        "colab": {
          "base_uri": "https://localhost:8080/",
          "height": 325
        },
        "id": "zc40KSNNrada",
        "outputId": "95aebedd-172d-4fa1-f82f-1fd7fd8c4e7b"
      },
      "id": "zc40KSNNrada",
      "execution_count": 43,
      "outputs": [
        {
          "output_type": "display_data",
          "data": {
            "text/plain": [
              "<Figure size 432x288 with 2 Axes>"
            ],
            "image/png": "[encoded data removed]"
          },
          "metadata": {
            "needs_background": "light"
          }
        }
      ]
    },
    {
      "cell_type": "code",
      "source": [
        "print('Accuracy Score: ',accuracy_score(t_target,y_pred))\n",
        "print('F1 Score (Macro): ',f1_score(t_target,y_pred,average='macro'))\n",
        "print('F1 Score (Micro): ',f1_score(t_target,y_pred,average='micro'))\n",
        "print('F1 Score (Weighted): ',f1_score(t_target,y_pred,average='weighted'))\n",
        "print('ROC-AUC_Score (OVR):',roc_auc_score(t_target,clf.predict_proba(t_features),multi_class='ovr'))\n",
        "print('ROC-AUC_Score (OVO):',roc_auc_score(t_target,clf.predict_proba(t_features),multi_class='ovo'))"
      ],
      "metadata": {
        "colab": {
          "base_uri": "https://localhost:8080/"
        },
        "id": "ZlvmOpsBrw6J",
        "outputId": "c6972636-5b9e-4ece-abb6-b4812f1010fc"
      },
      "id": "ZlvmOpsBrw6J",
      "execution_count": 44,
      "outputs": [
        {
          "output_type": "stream",
          "name": "stdout",
          "text": [
            "Accuracy Score:  0.31219806763285024\n",
            "F1 Score (Macro):  0.24317952376329885\n",
            "F1 Score (Micro):  0.31219806763285024\n",
            "F1 Score (Weighted):  0.3090279569582053\n",
            "ROC-AUC_Score (OVR): 0.5259136788680167\n",
            "ROC-AUC_Score (OVO): 0.5263062035414074\n"
          ]
        }
      ]
    },
    {
      "cell_type": "code",
      "source": [
        "print(classification_report(t_target,y_pred))"
      ],
      "metadata": {
        "colab": {
          "base_uri": "https://localhost:8080/"
        },
        "id": "Gc1eTHyDrear",
        "outputId": "82526806-183d-486e-e7b7-5802b03c3f0f"
      },
      "id": "Gc1eTHyDrear",
      "execution_count": 45,
      "outputs": [
        {
          "output_type": "stream",
          "name": "stdout",
          "text": [
            "              precision    recall  f1-score   support\n",
            "\n",
            "           0       0.44      0.46      0.45       639\n",
            "           1       0.18      0.18      0.18       296\n",
            "           2       0.28      0.27      0.27       447\n",
            "           3       0.20      0.17      0.19       223\n",
            "           4       0.13      0.12      0.12        51\n",
            "\n",
            "    accuracy                           0.31      1656\n",
            "   macro avg       0.24      0.24      0.24      1656\n",
            "weighted avg       0.31      0.31      0.31      1656\n",
            "\n"
          ]
        }
      ]
    },
    {
      "cell_type": "markdown",
      "source": [
        "### 6. Random Forests Classifier"
      ],
      "metadata": {
        "id": "NyEr269gqs8K"
      },
      "id": "NyEr269gqs8K"
    },
    {
      "cell_type": "code",
      "source": [
        "from sklearn.ensemble import RandomForestClassifier\n",
        "clf = RandomForestClassifier(max_depth=3,random_state=0)\n",
        "clf.fit(features,target)\n",
        "y_pred = clf.predict(t_features)\n",
        "cnf = confusion_matrix(t_target,y_pred)\n",
        "class_names = ['0','1','2','3','4']\n",
        "fig, ax = plt.subplots()\n",
        "tick_marks = np.arange(len(class_names))\n",
        "plt.xticks(tick_marks,class_names)\n",
        "plt.yticks(tick_marks,class_names)\n",
        "sns.heatmap(pd.DataFrame(cnf),annot=True,cmap='Blues_r',fmt='g')\n",
        "ax.xaxis.set_label_position(\"top\")\n",
        "plt.tight_layout()\n",
        "plt.title('Confusion matrix', y=1.1)\n",
        "plt.ylabel('Actual label')\n",
        "plt.xlabel('Predicted label')\n",
        "plt.Text(0.5,257.44,'Predicted label')\n",
        "plt.show()"
      ],
      "metadata": {
        "colab": {
          "base_uri": "https://localhost:8080/",
          "height": 325
        },
        "id": "GcUMFJNTrbD-",
        "outputId": "8d9aacb5-4716-4911-e1a9-a1621aa1f155"
      },
      "id": "GcUMFJNTrbD-",
      "execution_count": 46,
      "outputs": [
        {
          "output_type": "display_data",
          "data": {
            "text/plain": [
              "<Figure size 432x288 with 2 Axes>"
            ],
            "image/png": "[encoded data removed]"
          },
          "metadata": {
            "needs_background": "light"
          }
        }
      ]
    },
    {
      "cell_type": "code",
      "source": [
        "print('Accuracy Score: ',accuracy_score(t_target,y_pred))\n",
        "print('F1 Score (Macro): ',f1_score(t_target,y_pred,average='macro'))\n",
        "print('F1 Score (Micro): ',f1_score(t_target,y_pred,average='micro'))\n",
        "print('F1 Score (Weighted): ',f1_score(t_target,y_pred,average='weighted'))\n",
        "print('ROC-AUC_Score (OVR):',roc_auc_score(t_target,clf.predict_proba(t_features),multi_class='ovr'))\n",
        "print('ROC-AUC_Score (OVO):',roc_auc_score(t_target,clf.predict_proba(t_features),multi_class='ovo'))"
      ],
      "metadata": {
        "colab": {
          "base_uri": "https://localhost:8080/"
        },
        "id": "UYC3770-rxab",
        "outputId": "9adc8b47-0d71-4253-ceea-f6fe7708e75f"
      },
      "id": "UYC3770-rxab",
      "execution_count": 47,
      "outputs": [
        {
          "output_type": "stream",
          "name": "stdout",
          "text": [
            "Accuracy Score:  0.39070048309178745\n",
            "F1 Score (Macro):  0.1516378953263831\n",
            "F1 Score (Micro):  0.39070048309178745\n",
            "F1 Score (Weighted):  0.2693033564266703\n",
            "ROC-AUC_Score (OVR): 0.6175565875681259\n",
            "ROC-AUC_Score (OVO): 0.6094830032805832\n"
          ]
        }
      ]
    },
    {
      "cell_type": "code",
      "source": [
        "print(classification_report(t_target,y_pred))"
      ],
      "metadata": {
        "colab": {
          "base_uri": "https://localhost:8080/"
        },
        "id": "GkVLfF6mrfHM",
        "outputId": "7d113c95-f380-4e34-db0f-fc53c249c9fb"
      },
      "id": "GkVLfF6mrfHM",
      "execution_count": 48,
      "outputs": [
        {
          "output_type": "stream",
          "name": "stdout",
          "text": [
            "              precision    recall  f1-score   support\n",
            "\n",
            "           0       0.40      0.91      0.56       639\n",
            "           1       0.00      0.00      0.00       296\n",
            "           2       0.31      0.15      0.20       447\n",
            "           3       0.00      0.00      0.00       223\n",
            "           4       0.00      0.00      0.00        51\n",
            "\n",
            "    accuracy                           0.39      1656\n",
            "   macro avg       0.14      0.21      0.15      1656\n",
            "weighted avg       0.24      0.39      0.27      1656\n",
            "\n"
          ]
        },
        {
          "output_type": "stream",
          "name": "stderr",
          "text": [
            "/usr/local/lib/python3.7/dist-packages/sklearn/metrics/_classification.py:1318: UndefinedMetricWarning: Precision and F-score are ill-defined and being set to 0.0 in labels with no predicted samples. Use `zero_division` parameter to control this behavior.\n",
            "  _warn_prf(average, modifier, msg_start, len(result))\n",
            "/usr/local/lib/python3.7/dist-packages/sklearn/metrics/_classification.py:1318: UndefinedMetricWarning: Precision and F-score are ill-defined and being set to 0.0 in labels with no predicted samples. Use `zero_division` parameter to control this behavior.\n",
            "  _warn_prf(average, modifier, msg_start, len(result))\n",
            "/usr/local/lib/python3.7/dist-packages/sklearn/metrics/_classification.py:1318: UndefinedMetricWarning: Precision and F-score are ill-defined and being set to 0.0 in labels with no predicted samples. Use `zero_division` parameter to control this behavior.\n",
            "  _warn_prf(average, modifier, msg_start, len(result))\n"
          ]
        }
      ]
    }
  ],
  "metadata": {
    "colab": {
      "collapsed_sections": [],
      "provenance": [],
      "include_colab_link": true
    },
    "kernelspec": {
      "display_name": "Python 3 (ipykernel)",
      "language": "python",
      "name": "python3"
    },
    "language_info": {
      "codemirror_mode": {
        "name": "ipython",
        "version": 3
      },
      "file_extension": ".py",
      "mimetype": "text/x-python",
      "name": "python",
      "nbconvert_exporter": "python",
      "pygments_lexer": "ipython3",
      "version": "3.8.13"
    }
  },
  "nbformat": 4,
  "nbformat_minor": 5
}