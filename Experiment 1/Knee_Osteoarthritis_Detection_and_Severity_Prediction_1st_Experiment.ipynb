{
  "cells": [
    {
      "cell_type": "markdown",
      "metadata": {
        "id": "view-in-github",
        "colab_type": "text"
      },
      "source": [
        "<a href=\"https://colab.research.google.com/github/shaina-12/Knee-Ostheoarthritis-Detection-and-Severity-Prediction/blob/main/Experiment%201/Knee_Osteoarthritis_Detection_and_Severity_Prediction_1st_Experiment.ipynb\" target=\"_parent\"><img src=\"https://colab.research.google.com/assets/colab-badge.svg\" alt=\"Open In Colab\"/></a>"
      ]
    },
    {
      "cell_type": "code",
      "execution_count": null,
      "id": "62dc09dd",
      "metadata": {
        "id": "62dc09dd"
      },
      "outputs": [],
      "source": [
        "import numpy as np\n",
        "import pandas as pd\n",
        "import matplotlib.pyplot as plt\n",
        "import seaborn as sns\n",
        "%matplotlib inline"
      ]
    },
    {
      "cell_type": "code",
      "execution_count": null,
      "id": "9d6e4ae2",
      "metadata": {
        "id": "9d6e4ae2"
      },
      "outputs": [],
      "source": [
        "import cv2 as cv\n",
        "import os\n",
        "from sklearn.cluster import KMeans"
      ]
    },
    {
      "cell_type": "code",
      "source": [
        "from google.colab import drive\n",
        "drive.mount('/content/drive/')"
      ],
      "metadata": {
        "colab": {
          "base_uri": "https://localhost:8080/"
        },
        "id": "koCoXwBBEP23",
        "outputId": "5a9c9dc0-154d-4822-b30e-cb6c6edf38a0"
      },
      "id": "koCoXwBBEP23",
      "execution_count": null,
      "outputs": [
        {
          "output_type": "stream",
          "name": "stdout",
          "text": [
            "Mounted at /content/drive/\n"
          ]
        }
      ]
    },
    {
      "cell_type": "code",
      "execution_count": null,
      "id": "2312b98d",
      "metadata": {
        "id": "2312b98d"
      },
      "outputs": [],
      "source": [
        "train_path = \"/content/drive/My Drive/train/\"\n",
        "test_path = \"/content/drive/My Drive/test/\""
      ]
    },
    {
      "cell_type": "markdown",
      "id": "c65ffa9d",
      "metadata": {
        "id": "c65ffa9d"
      },
      "source": [
        "## Lets Collect The Training Data"
      ]
    },
    {
      "cell_type": "code",
      "execution_count": null,
      "id": "bf2f001c",
      "metadata": {
        "id": "bf2f001c"
      },
      "outputs": [],
      "source": [
        "grades = ['grade_0','grade_1','grade_2','grade_3','grade_4']\n",
        "finalListTrain = []\n",
        "finalTrainLabels = []\n",
        "for i in range(len(grades)):\n",
        "    dir_join = train_path+grades[i]\n",
        "    for file in os.listdir(dir_join):\n",
        "        finalListTrain.append(dir_join+'/'+file)\n",
        "        finalTrainLabels.append(i)\n",
        "#dir_join = train_path+grades[0]  \n",
        "#l = os.listdir(os.path.join(dir_join))\n",
        "#l"
      ]
    },
    {
      "cell_type": "markdown",
      "id": "17e079de",
      "metadata": {
        "id": "17e079de"
      },
      "source": [
        "## Similarly, we can collect the test data"
      ]
    },
    {
      "cell_type": "code",
      "execution_count": null,
      "id": "3097e3e1",
      "metadata": {
        "id": "3097e3e1"
      },
      "outputs": [],
      "source": [
        "finalListTest = []\n",
        "finalTestLabels = []\n",
        "for i in range(len(grades)):\n",
        "    dir_join = test_path+grades[i]\n",
        "    for file in os.listdir(dir_join):\n",
        "        finalListTest.append(dir_join+'/'+file)\n",
        "        finalTestLabels.append(i)"
      ]
    },
    {
      "cell_type": "markdown",
      "id": "091870a7",
      "metadata": {
        "id": "091870a7"
      },
      "source": [
        "## Lets create pandas dataframe for both training and test data"
      ]
    },
    {
      "cell_type": "code",
      "execution_count": null,
      "id": "1f9ce756",
      "metadata": {
        "id": "1f9ce756"
      },
      "outputs": [],
      "source": [
        "train_dat = {'path':finalListTrain,'label':finalTrainLabels}\n",
        "test_dat = {'path':finalListTest,'label':finalTestLabels}"
      ]
    },
    {
      "cell_type": "code",
      "execution_count": null,
      "id": "e433f9c9",
      "metadata": {
        "id": "e433f9c9",
        "outputId": "5f03942e-3b54-45cf-a206-4734875655a2",
        "colab": {
          "base_uri": "https://localhost:8080/",
          "height": 206
        }
      },
      "outputs": [
        {
          "output_type": "execute_result",
          "data": {
            "text/plain": [
              "                                                path  label\n",
              "0  /content/drive/My Drive/train/grade_0/9512848R...      0\n",
              "1  /content/drive/My Drive/train/grade_0/9465265L...      0\n",
              "2  /content/drive/My Drive/train/grade_0/9679243L...      0\n",
              "3  /content/drive/My Drive/train/grade_0/9302341L...      0\n",
              "4  /content/drive/My Drive/train/grade_0/9023407L...      0"
            ],
            "text/html": [
              "\n",
              "  <div id=\"df-d73c8bba-458f-4dc6-baa5-7ebcef13f180\">\n",
              "    <div class=\"colab-df-container\">\n",
              "      <div>\n",
              "<style scoped>\n",
              "    .dataframe tbody tr th:only-of-type {\n",
              "        vertical-align: middle;\n",
              "    }\n",
              "\n",
              "    .dataframe tbody tr th {\n",
              "        vertical-align: top;\n",
              "    }\n",
              "\n",
              "    .dataframe thead th {\n",
              "        text-align: right;\n",
              "    }\n",
              "</style>\n",
              "<table border=\"1\" class=\"dataframe\">\n",
              "  <thead>\n",
              "    <tr style=\"text-align: right;\">\n",
              "      <th></th>\n",
              "      <th>path</th>\n",
              "      <th>label</th>\n",
              "    </tr>\n",
              "  </thead>\n",
              "  <tbody>\n",
              "    <tr>\n",
              "      <th>0</th>\n",
              "      <td>/content/drive/My Drive/train/grade_0/9512848R...</td>\n",
              "      <td>0</td>\n",
              "    </tr>\n",
              "    <tr>\n",
              "      <th>1</th>\n",
              "      <td>/content/drive/My Drive/train/grade_0/9465265L...</td>\n",
              "      <td>0</td>\n",
              "    </tr>\n",
              "    <tr>\n",
              "      <th>2</th>\n",
              "      <td>/content/drive/My Drive/train/grade_0/9679243L...</td>\n",
              "      <td>0</td>\n",
              "    </tr>\n",
              "    <tr>\n",
              "      <th>3</th>\n",
              "      <td>/content/drive/My Drive/train/grade_0/9302341L...</td>\n",
              "      <td>0</td>\n",
              "    </tr>\n",
              "    <tr>\n",
              "      <th>4</th>\n",
              "      <td>/content/drive/My Drive/train/grade_0/9023407L...</td>\n",
              "      <td>0</td>\n",
              "    </tr>\n",
              "  </tbody>\n",
              "</table>\n",
              "</div>\n",
              "      <button class=\"colab-df-convert\" onclick=\"convertToInteractive('df-d73c8bba-458f-4dc6-baa5-7ebcef13f180')\"\n",
              "              title=\"Convert this dataframe to an interactive table.\"\n",
              "              style=\"display:none;\">\n",
              "        \n",
              "  <svg xmlns=\"http://www.w3.org/2000/svg\" height=\"24px\"viewBox=\"0 0 24 24\"\n",
              "       width=\"24px\">\n",
              "    <path d=\"M0 0h24v24H0V0z\" fill=\"none\"/>\n",
              "    <path d=\"M18.56 5.44l.94 2.06.94-2.06 2.06-.94-2.06-.94-.94-2.06-.94 2.06-2.06.94zm-11 1L8.5 8.5l.94-2.06 2.06-.94-2.06-.94L8.5 2.5l-.94 2.06-2.06.94zm10 10l.94 2.06.94-2.06 2.06-.94-2.06-.94-.94-2.06-.94 2.06-2.06.94z\"/><path d=\"M17.41 7.96l-1.37-1.37c-.4-.4-.92-.59-1.43-.59-.52 0-1.04.2-1.43.59L10.3 9.45l-7.72 7.72c-.78.78-.78 2.05 0 2.83L4 21.41c.39.39.9.59 1.41.59.51 0 1.02-.2 1.41-.59l7.78-7.78 2.81-2.81c.8-.78.8-2.07 0-2.86zM5.41 20L4 18.59l7.72-7.72 1.47 1.35L5.41 20z\"/>\n",
              "  </svg>\n",
              "      </button>\n",
              "      \n",
              "  <style>\n",
              "    .colab-df-container {\n",
              "      display:flex;\n",
              "      flex-wrap:wrap;\n",
              "      gap: 12px;\n",
              "    }\n",
              "\n",
              "    .colab-df-convert {\n",
              "      background-color: #E8F0FE;\n",
              "      border: none;\n",
              "      border-radius: 50%;\n",
              "      cursor: pointer;\n",
              "      display: none;\n",
              "      fill: #1967D2;\n",
              "      height: 32px;\n",
              "      padding: 0 0 0 0;\n",
              "      width: 32px;\n",
              "    }\n",
              "\n",
              "    .colab-df-convert:hover {\n",
              "      background-color: #E2EBFA;\n",
              "      box-shadow: 0px 1px 2px rgba(60, 64, 67, 0.3), 0px 1px 3px 1px rgba(60, 64, 67, 0.15);\n",
              "      fill: #174EA6;\n",
              "    }\n",
              "\n",
              "    [theme=dark] .colab-df-convert {\n",
              "      background-color: #3B4455;\n",
              "      fill: #D2E3FC;\n",
              "    }\n",
              "\n",
              "    [theme=dark] .colab-df-convert:hover {\n",
              "      background-color: #434B5C;\n",
              "      box-shadow: 0px 1px 3px 1px rgba(0, 0, 0, 0.15);\n",
              "      filter: drop-shadow(0px 1px 2px rgba(0, 0, 0, 0.3));\n",
              "      fill: #FFFFFF;\n",
              "    }\n",
              "  </style>\n",
              "\n",
              "      <script>\n",
              "        const buttonEl =\n",
              "          document.querySelector('#df-d73c8bba-458f-4dc6-baa5-7ebcef13f180 button.colab-df-convert');\n",
              "        buttonEl.style.display =\n",
              "          google.colab.kernel.accessAllowed ? 'block' : 'none';\n",
              "\n",
              "        async function convertToInteractive(key) {\n",
              "          const element = document.querySelector('#df-d73c8bba-458f-4dc6-baa5-7ebcef13f180');\n",
              "          const dataTable =\n",
              "            await google.colab.kernel.invokeFunction('convertToInteractive',\n",
              "                                                     [key], {});\n",
              "          if (!dataTable) return;\n",
              "\n",
              "          const docLinkHtml = 'Like what you see? Visit the ' +\n",
              "            '<a target=\"_blank\" href=https://colab.research.google.com/notebooks/data_table.ipynb>data table notebook</a>'\n",
              "            + ' to learn more about interactive tables.';\n",
              "          element.innerHTML = '';\n",
              "          dataTable['output_type'] = 'display_data';\n",
              "          await google.colab.output.renderOutput(dataTable, element);\n",
              "          const docLink = document.createElement('div');\n",
              "          docLink.innerHTML = docLinkHtml;\n",
              "          element.appendChild(docLink);\n",
              "        }\n",
              "      </script>\n",
              "    </div>\n",
              "  </div>\n",
              "  "
            ]
          },
          "metadata": {},
          "execution_count": 8
        }
      ],
      "source": [
        "train_data = pd.DataFrame.from_dict(train_dat)\n",
        "train_data.head()"
      ]
    },
    {
      "cell_type": "code",
      "execution_count": null,
      "id": "4fc961ab",
      "metadata": {
        "id": "4fc961ab",
        "outputId": "168176bf-054c-4d02-996c-66cc86dac5dc",
        "colab": {
          "base_uri": "https://localhost:8080/",
          "height": 206
        }
      },
      "outputs": [
        {
          "output_type": "execute_result",
          "data": {
            "text/plain": [
              "                                                path  label\n",
              "0  /content/drive/My Drive/test/grade_0/9807132L.png      0\n",
              "1  /content/drive/My Drive/test/grade_0/9588277L.png      0\n",
              "2  /content/drive/My Drive/test/grade_0/9074232L.png      0\n",
              "3  /content/drive/My Drive/test/grade_0/9952817R.png      0\n",
              "4  /content/drive/My Drive/test/grade_0/9254422R.png      0"
            ],
            "text/html": [
              "\n",
              "  <div id=\"df-60b38dc8-5023-4044-807f-4568861031c0\">\n",
              "    <div class=\"colab-df-container\">\n",
              "      <div>\n",
              "<style scoped>\n",
              "    .dataframe tbody tr th:only-of-type {\n",
              "        vertical-align: middle;\n",
              "    }\n",
              "\n",
              "    .dataframe tbody tr th {\n",
              "        vertical-align: top;\n",
              "    }\n",
              "\n",
              "    .dataframe thead th {\n",
              "        text-align: right;\n",
              "    }\n",
              "</style>\n",
              "<table border=\"1\" class=\"dataframe\">\n",
              "  <thead>\n",
              "    <tr style=\"text-align: right;\">\n",
              "      <th></th>\n",
              "      <th>path</th>\n",
              "      <th>label</th>\n",
              "    </tr>\n",
              "  </thead>\n",
              "  <tbody>\n",
              "    <tr>\n",
              "      <th>0</th>\n",
              "      <td>/content/drive/My Drive/test/grade_0/9807132L.png</td>\n",
              "      <td>0</td>\n",
              "    </tr>\n",
              "    <tr>\n",
              "      <th>1</th>\n",
              "      <td>/content/drive/My Drive/test/grade_0/9588277L.png</td>\n",
              "      <td>0</td>\n",
              "    </tr>\n",
              "    <tr>\n",
              "      <th>2</th>\n",
              "      <td>/content/drive/My Drive/test/grade_0/9074232L.png</td>\n",
              "      <td>0</td>\n",
              "    </tr>\n",
              "    <tr>\n",
              "      <th>3</th>\n",
              "      <td>/content/drive/My Drive/test/grade_0/9952817R.png</td>\n",
              "      <td>0</td>\n",
              "    </tr>\n",
              "    <tr>\n",
              "      <th>4</th>\n",
              "      <td>/content/drive/My Drive/test/grade_0/9254422R.png</td>\n",
              "      <td>0</td>\n",
              "    </tr>\n",
              "  </tbody>\n",
              "</table>\n",
              "</div>\n",
              "      <button class=\"colab-df-convert\" onclick=\"convertToInteractive('df-60b38dc8-5023-4044-807f-4568861031c0')\"\n",
              "              title=\"Convert this dataframe to an interactive table.\"\n",
              "              style=\"display:none;\">\n",
              "        \n",
              "  <svg xmlns=\"http://www.w3.org/2000/svg\" height=\"24px\"viewBox=\"0 0 24 24\"\n",
              "       width=\"24px\">\n",
              "    <path d=\"M0 0h24v24H0V0z\" fill=\"none\"/>\n",
              "    <path d=\"M18.56 5.44l.94 2.06.94-2.06 2.06-.94-2.06-.94-.94-2.06-.94 2.06-2.06.94zm-11 1L8.5 8.5l.94-2.06 2.06-.94-2.06-.94L8.5 2.5l-.94 2.06-2.06.94zm10 10l.94 2.06.94-2.06 2.06-.94-2.06-.94-.94-2.06-.94 2.06-2.06.94z\"/><path d=\"M17.41 7.96l-1.37-1.37c-.4-.4-.92-.59-1.43-.59-.52 0-1.04.2-1.43.59L10.3 9.45l-7.72 7.72c-.78.78-.78 2.05 0 2.83L4 21.41c.39.39.9.59 1.41.59.51 0 1.02-.2 1.41-.59l7.78-7.78 2.81-2.81c.8-.78.8-2.07 0-2.86zM5.41 20L4 18.59l7.72-7.72 1.47 1.35L5.41 20z\"/>\n",
              "  </svg>\n",
              "      </button>\n",
              "      \n",
              "  <style>\n",
              "    .colab-df-container {\n",
              "      display:flex;\n",
              "      flex-wrap:wrap;\n",
              "      gap: 12px;\n",
              "    }\n",
              "\n",
              "    .colab-df-convert {\n",
              "      background-color: #E8F0FE;\n",
              "      border: none;\n",
              "      border-radius: 50%;\n",
              "      cursor: pointer;\n",
              "      display: none;\n",
              "      fill: #1967D2;\n",
              "      height: 32px;\n",
              "      padding: 0 0 0 0;\n",
              "      width: 32px;\n",
              "    }\n",
              "\n",
              "    .colab-df-convert:hover {\n",
              "      background-color: #E2EBFA;\n",
              "      box-shadow: 0px 1px 2px rgba(60, 64, 67, 0.3), 0px 1px 3px 1px rgba(60, 64, 67, 0.15);\n",
              "      fill: #174EA6;\n",
              "    }\n",
              "\n",
              "    [theme=dark] .colab-df-convert {\n",
              "      background-color: #3B4455;\n",
              "      fill: #D2E3FC;\n",
              "    }\n",
              "\n",
              "    [theme=dark] .colab-df-convert:hover {\n",
              "      background-color: #434B5C;\n",
              "      box-shadow: 0px 1px 3px 1px rgba(0, 0, 0, 0.15);\n",
              "      filter: drop-shadow(0px 1px 2px rgba(0, 0, 0, 0.3));\n",
              "      fill: #FFFFFF;\n",
              "    }\n",
              "  </style>\n",
              "\n",
              "      <script>\n",
              "        const buttonEl =\n",
              "          document.querySelector('#df-60b38dc8-5023-4044-807f-4568861031c0 button.colab-df-convert');\n",
              "        buttonEl.style.display =\n",
              "          google.colab.kernel.accessAllowed ? 'block' : 'none';\n",
              "\n",
              "        async function convertToInteractive(key) {\n",
              "          const element = document.querySelector('#df-60b38dc8-5023-4044-807f-4568861031c0');\n",
              "          const dataTable =\n",
              "            await google.colab.kernel.invokeFunction('convertToInteractive',\n",
              "                                                     [key], {});\n",
              "          if (!dataTable) return;\n",
              "\n",
              "          const docLinkHtml = 'Like what you see? Visit the ' +\n",
              "            '<a target=\"_blank\" href=https://colab.research.google.com/notebooks/data_table.ipynb>data table notebook</a>'\n",
              "            + ' to learn more about interactive tables.';\n",
              "          element.innerHTML = '';\n",
              "          dataTable['output_type'] = 'display_data';\n",
              "          await google.colab.output.renderOutput(dataTable, element);\n",
              "          const docLink = document.createElement('div');\n",
              "          docLink.innerHTML = docLinkHtml;\n",
              "          element.appendChild(docLink);\n",
              "        }\n",
              "      </script>\n",
              "    </div>\n",
              "  </div>\n",
              "  "
            ]
          },
          "metadata": {},
          "execution_count": 9
        }
      ],
      "source": [
        "test_data = pd.DataFrame.from_dict(test_dat)\n",
        "test_data.head()"
      ]
    },
    {
      "cell_type": "markdown",
      "id": "3be794c8",
      "metadata": {
        "id": "3be794c8"
      },
      "source": [
        "## Time for Data Analysis"
      ]
    },
    {
      "cell_type": "code",
      "execution_count": null,
      "id": "3dfa5d4c",
      "metadata": {
        "id": "3dfa5d4c",
        "outputId": "203eed2b-1389-4507-93d9-00806b70cba9",
        "colab": {
          "base_uri": "https://localhost:8080/"
        }
      },
      "outputs": [
        {
          "output_type": "execute_result",
          "data": {
            "text/plain": [
              "pandas.core.frame.DataFrame"
            ]
          },
          "metadata": {},
          "execution_count": 10
        }
      ],
      "source": [
        "type(train_data)"
      ]
    },
    {
      "cell_type": "code",
      "execution_count": null,
      "id": "22c23fea",
      "metadata": {
        "id": "22c23fea",
        "outputId": "52f7bfad-4f69-4dac-92eb-83ed87cef6fa",
        "colab": {
          "base_uri": "https://localhost:8080/"
        }
      },
      "outputs": [
        {
          "output_type": "execute_result",
          "data": {
            "text/plain": [
              "path     6621\n",
              "label    6621\n",
              "dtype: int64"
            ]
          },
          "metadata": {},
          "execution_count": 11
        }
      ],
      "source": [
        "train_data.count()"
      ]
    },
    {
      "cell_type": "code",
      "execution_count": null,
      "id": "9dfc55b4",
      "metadata": {
        "id": "9dfc55b4",
        "outputId": "ad0cd42b-63a3-46e4-c397-e6d04074e836",
        "colab": {
          "base_uri": "https://localhost:8080/"
        }
      },
      "outputs": [
        {
          "output_type": "stream",
          "name": "stdout",
          "text": [
            "<class 'pandas.core.frame.DataFrame'>\n",
            "RangeIndex: 6621 entries, 0 to 6620\n",
            "Data columns (total 2 columns):\n",
            " #   Column  Non-Null Count  Dtype \n",
            "---  ------  --------------  ----- \n",
            " 0   path    6621 non-null   object\n",
            " 1   label   6621 non-null   int64 \n",
            "dtypes: int64(1), object(1)\n",
            "memory usage: 103.6+ KB\n"
          ]
        }
      ],
      "source": [
        "train_data.info()"
      ]
    },
    {
      "cell_type": "code",
      "execution_count": null,
      "id": "4d23fa5b",
      "metadata": {
        "id": "4d23fa5b",
        "outputId": "87cbcb06-eced-4530-8870-4ceae67b3afe",
        "colab": {
          "base_uri": "https://localhost:8080/"
        }
      },
      "outputs": [
        {
          "output_type": "execute_result",
          "data": {
            "text/plain": [
              "(6621, 2)"
            ]
          },
          "metadata": {},
          "execution_count": 13
        }
      ],
      "source": [
        "train_data.shape"
      ]
    },
    {
      "cell_type": "code",
      "execution_count": null,
      "id": "66a7f1c7",
      "metadata": {
        "id": "66a7f1c7",
        "outputId": "17aafc4f-2b2a-4fec-e3e0-47c795e9fca5",
        "colab": {
          "base_uri": "https://localhost:8080/"
        }
      },
      "outputs": [
        {
          "output_type": "execute_result",
          "data": {
            "text/plain": [
              "path     1656\n",
              "label    1656\n",
              "dtype: int64"
            ]
          },
          "metadata": {},
          "execution_count": 14
        }
      ],
      "source": [
        "test_data.count()"
      ]
    },
    {
      "cell_type": "code",
      "execution_count": null,
      "id": "b0eb5329",
      "metadata": {
        "id": "b0eb5329",
        "outputId": "37df6f4a-d7f3-4bee-91f5-a52eec43d881",
        "colab": {
          "base_uri": "https://localhost:8080/"
        }
      },
      "outputs": [
        {
          "output_type": "execute_result",
          "data": {
            "text/plain": [
              "(1656, 2)"
            ]
          },
          "metadata": {},
          "execution_count": 15
        }
      ],
      "source": [
        "test_data.shape"
      ]
    },
    {
      "cell_type": "code",
      "execution_count": null,
      "id": "c744131c",
      "metadata": {
        "id": "c744131c",
        "outputId": "dce7cdde-633d-41f8-ad1b-f011790c81cd",
        "colab": {
          "base_uri": "https://localhost:8080/",
          "height": 206
        }
      },
      "outputs": [
        {
          "output_type": "execute_result",
          "data": {
            "text/plain": [
              "  ostheoarthritis grading  count (both training and testing)\n",
              "0                 Grade 0                               3270\n",
              "1                 Grade 1                               1495\n",
              "2                 Grade 2                               2175\n",
              "3                 Grade 3                               1086\n",
              "4                 Grade 4                                251"
            ],
            "text/html": [
              "\n",
              "  <div id=\"df-f8f6f388-56b0-4951-9656-04944a9f245d\">\n",
              "    <div class=\"colab-df-container\">\n",
              "      <div>\n",
              "<style scoped>\n",
              "    .dataframe tbody tr th:only-of-type {\n",
              "        vertical-align: middle;\n",
              "    }\n",
              "\n",
              "    .dataframe tbody tr th {\n",
              "        vertical-align: top;\n",
              "    }\n",
              "\n",
              "    .dataframe thead th {\n",
              "        text-align: right;\n",
              "    }\n",
              "</style>\n",
              "<table border=\"1\" class=\"dataframe\">\n",
              "  <thead>\n",
              "    <tr style=\"text-align: right;\">\n",
              "      <th></th>\n",
              "      <th>ostheoarthritis grading</th>\n",
              "      <th>count (both training and testing)</th>\n",
              "    </tr>\n",
              "  </thead>\n",
              "  <tbody>\n",
              "    <tr>\n",
              "      <th>0</th>\n",
              "      <td>Grade 0</td>\n",
              "      <td>3270</td>\n",
              "    </tr>\n",
              "    <tr>\n",
              "      <th>1</th>\n",
              "      <td>Grade 1</td>\n",
              "      <td>1495</td>\n",
              "    </tr>\n",
              "    <tr>\n",
              "      <th>2</th>\n",
              "      <td>Grade 2</td>\n",
              "      <td>2175</td>\n",
              "    </tr>\n",
              "    <tr>\n",
              "      <th>3</th>\n",
              "      <td>Grade 3</td>\n",
              "      <td>1086</td>\n",
              "    </tr>\n",
              "    <tr>\n",
              "      <th>4</th>\n",
              "      <td>Grade 4</td>\n",
              "      <td>251</td>\n",
              "    </tr>\n",
              "  </tbody>\n",
              "</table>\n",
              "</div>\n",
              "      <button class=\"colab-df-convert\" onclick=\"convertToInteractive('df-f8f6f388-56b0-4951-9656-04944a9f245d')\"\n",
              "              title=\"Convert this dataframe to an interactive table.\"\n",
              "              style=\"display:none;\">\n",
              "        \n",
              "  <svg xmlns=\"http://www.w3.org/2000/svg\" height=\"24px\"viewBox=\"0 0 24 24\"\n",
              "       width=\"24px\">\n",
              "    <path d=\"M0 0h24v24H0V0z\" fill=\"none\"/>\n",
              "    <path d=\"M18.56 5.44l.94 2.06.94-2.06 2.06-.94-2.06-.94-.94-2.06-.94 2.06-2.06.94zm-11 1L8.5 8.5l.94-2.06 2.06-.94-2.06-.94L8.5 2.5l-.94 2.06-2.06.94zm10 10l.94 2.06.94-2.06 2.06-.94-2.06-.94-.94-2.06-.94 2.06-2.06.94z\"/><path d=\"M17.41 7.96l-1.37-1.37c-.4-.4-.92-.59-1.43-.59-.52 0-1.04.2-1.43.59L10.3 9.45l-7.72 7.72c-.78.78-.78 2.05 0 2.83L4 21.41c.39.39.9.59 1.41.59.51 0 1.02-.2 1.41-.59l7.78-7.78 2.81-2.81c.8-.78.8-2.07 0-2.86zM5.41 20L4 18.59l7.72-7.72 1.47 1.35L5.41 20z\"/>\n",
              "  </svg>\n",
              "      </button>\n",
              "      \n",
              "  <style>\n",
              "    .colab-df-container {\n",
              "      display:flex;\n",
              "      flex-wrap:wrap;\n",
              "      gap: 12px;\n",
              "    }\n",
              "\n",
              "    .colab-df-convert {\n",
              "      background-color: #E8F0FE;\n",
              "      border: none;\n",
              "      border-radius: 50%;\n",
              "      cursor: pointer;\n",
              "      display: none;\n",
              "      fill: #1967D2;\n",
              "      height: 32px;\n",
              "      padding: 0 0 0 0;\n",
              "      width: 32px;\n",
              "    }\n",
              "\n",
              "    .colab-df-convert:hover {\n",
              "      background-color: #E2EBFA;\n",
              "      box-shadow: 0px 1px 2px rgba(60, 64, 67, 0.3), 0px 1px 3px 1px rgba(60, 64, 67, 0.15);\n",
              "      fill: #174EA6;\n",
              "    }\n",
              "\n",
              "    [theme=dark] .colab-df-convert {\n",
              "      background-color: #3B4455;\n",
              "      fill: #D2E3FC;\n",
              "    }\n",
              "\n",
              "    [theme=dark] .colab-df-convert:hover {\n",
              "      background-color: #434B5C;\n",
              "      box-shadow: 0px 1px 3px 1px rgba(0, 0, 0, 0.15);\n",
              "      filter: drop-shadow(0px 1px 2px rgba(0, 0, 0, 0.3));\n",
              "      fill: #FFFFFF;\n",
              "    }\n",
              "  </style>\n",
              "\n",
              "      <script>\n",
              "        const buttonEl =\n",
              "          document.querySelector('#df-f8f6f388-56b0-4951-9656-04944a9f245d button.colab-df-convert');\n",
              "        buttonEl.style.display =\n",
              "          google.colab.kernel.accessAllowed ? 'block' : 'none';\n",
              "\n",
              "        async function convertToInteractive(key) {\n",
              "          const element = document.querySelector('#df-f8f6f388-56b0-4951-9656-04944a9f245d');\n",
              "          const dataTable =\n",
              "            await google.colab.kernel.invokeFunction('convertToInteractive',\n",
              "                                                     [key], {});\n",
              "          if (!dataTable) return;\n",
              "\n",
              "          const docLinkHtml = 'Like what you see? Visit the ' +\n",
              "            '<a target=\"_blank\" href=https://colab.research.google.com/notebooks/data_table.ipynb>data table notebook</a>'\n",
              "            + ' to learn more about interactive tables.';\n",
              "          element.innerHTML = '';\n",
              "          dataTable['output_type'] = 'display_data';\n",
              "          await google.colab.output.renderOutput(dataTable, element);\n",
              "          const docLink = document.createElement('div');\n",
              "          docLink.innerHTML = docLinkHtml;\n",
              "          element.appendChild(docLink);\n",
              "        }\n",
              "      </script>\n",
              "    </div>\n",
              "  </div>\n",
              "  "
            ]
          },
          "metadata": {},
          "execution_count": 16
        }
      ],
      "source": [
        "df = pd.DataFrame()\n",
        "df['ostheoarthritis grading'] = ['Grade 0','Grade 1','Grade 2','Grade 3','Grade 4']\n",
        "grade_count = []\n",
        "for i in range(5):\n",
        "    gc = len(train_data[train_data['label']==i]) + len(test_data[test_data['label']==i])\n",
        "    grade_count.append(gc)\n",
        "df['count (both training and testing)'] = grade_count[:]\n",
        "df"
      ]
    },
    {
      "cell_type": "code",
      "execution_count": null,
      "id": "a4e93839",
      "metadata": {
        "id": "a4e93839",
        "outputId": "136302a2-47d9-4c4d-a61d-677968448c18",
        "colab": {
          "base_uri": "https://localhost:8080/",
          "height": 295
        }
      },
      "outputs": [
        {
          "output_type": "display_data",
          "data": {
            "text/plain": [
              "<Figure size 432x288 with 1 Axes>"
            ],
            "image/png": "[encoded data removed]"
          },
          "metadata": {
            "needs_background": "light"
          }
        }
      ],
      "source": [
        "x = list(np.arange(5))\n",
        "y = list(df['count (both training and testing)'])\n",
        "plt.bar(x,y,color=['#9a01ff','#71a9fc','#01ffd5','#5cfe9d','#b7ff01'])\n",
        "plt.grid()\n",
        "plt.xticks(x,list(df['ostheoarthritis grading']))\n",
        "plt.xlabel('ostheoarthritis grading')\n",
        "plt.ylabel('count (both training and testing)')\n",
        "plt.title('Knee Ostheoarthritis')\n",
        "plt.show()"
      ]
    },
    {
      "cell_type": "code",
      "execution_count": null,
      "id": "e5c4434a",
      "metadata": {
        "id": "e5c4434a",
        "outputId": "3ccd01a8-662d-42ec-a44e-1cb59f32e67f",
        "colab": {
          "base_uri": "https://localhost:8080/",
          "height": 236
        }
      },
      "outputs": [
        {
          "output_type": "display_data",
          "data": {
            "text/plain": [
              "<Figure size 1080x1080 with 5 Axes>"
            ],
            "image/png": "[encoded data removed]"
          },
          "metadata": {
            "needs_background": "light"
          }
        }
      ],
      "source": [
        "fig, ax = plt.subplots(1,5,figsize=(15,15))\n",
        "ax = ax.ravel()\n",
        "plt.tight_layout()\n",
        "ax = ax.ravel()\n",
        "plt.tight_layout()\n",
        "ldata = ['/content/drive/My Drive/train/grade_0/9005656L.png',\n",
        "         '/content/drive/My Drive/train/grade_1/9008561R.png',\n",
        "        '/content/drive/My Drive/train/grade_2/9024940L.png',\n",
        "        '/content/drive/My Drive/train/grade_3/9037823L.png',\n",
        "        '/content/drive/My Drive/train/grade_4/9204055R.png']\n",
        "lab = ['Grade 0','Grade 1','Grade 2','Grade 3','Grade 4']\n",
        "for i in range(0,5):\n",
        "    ax[i].imshow(plt.imread(ldata[i]), cmap='gray')\n",
        "    ax[i].set_title(lab[i])\n",
        "plt.show()"
      ]
    },
    {
      "cell_type": "markdown",
      "id": "a4855a0f",
      "metadata": {
        "id": "a4855a0f"
      },
      "source": [
        "## Lets Perform Image Segmentation on training images using K-Means \n"
      ]
    },
    {
      "cell_type": "code",
      "execution_count": null,
      "id": "3dd3511c",
      "metadata": {
        "id": "3dd3511c"
      },
      "outputs": [],
      "source": [
        "def segmentation(path):\n",
        "    image = cv.imread(path,0)\n",
        "    image = cv.resize(image,(64,64))\n",
        "    pixelValues = image.reshape(-1,1)\n",
        "    pixelValues = np.float32(pixelValues)\n",
        "    kmeans = KMeans(n_clusters=3)\n",
        "    kmeans.fit(pixelValues)\n",
        "    centers = np.uint8(kmeans.cluster_centers_)\n",
        "    labels = kmeans.labels_\n",
        "    segmented_data  =  centers[labels.flatten()]\n",
        "    return segmented_data"
      ]
    },
    {
      "cell_type": "code",
      "execution_count": null,
      "id": "d35848ba",
      "metadata": {
        "id": "d35848ba"
      },
      "outputs": [],
      "source": [
        "ltrain_paths = list(train_data['path'])\n",
        "ltrain_labels = list(train_data['label'])\n",
        "train_segments = []\n",
        "for i in range(len(ltrain_paths)):\n",
        "    l = []\n",
        "    l.append(ltrain_labels[i])\n",
        "    l.extend(segmentation(ltrain_paths[i]))\n",
        "    train_segments.append(l)\n",
        "#train_segments\n",
        "\n",
        "#train_df = pd.DataFrame()\n"
      ]
    },
    {
      "cell_type": "markdown",
      "source": [
        "## Lets create the training data"
      ],
      "metadata": {
        "id": "5Ii8KDU1ggoK"
      },
      "id": "5Ii8KDU1ggoK"
    },
    {
      "cell_type": "code",
      "execution_count": null,
      "id": "31d73c74",
      "metadata": {
        "id": "31d73c74"
      },
      "outputs": [],
      "source": [
        "cols = ['labels']\n",
        "cols.extend(['f '+str(i+1) for i in range(4096)])\n",
        "train_seg_data = pd.DataFrame(train_segments,columns=cols)"
      ]
    },
    {
      "cell_type": "code",
      "source": [
        "train_seg_data.head()"
      ],
      "metadata": {
        "colab": {
          "base_uri": "https://localhost:8080/",
          "height": 279
        },
        "id": "WkK8V7VE143Y",
        "outputId": "3ccde4b7-9118-447e-bd80-7755154c3c94"
      },
      "id": "WkK8V7VE143Y",
      "execution_count": null,
      "outputs": [
        {
          "output_type": "execute_result",
          "data": {
            "text/plain": [
              "   labels    f 1    f 2    f 3    f 4    f 5    f 6    f 7    f 8    f 9  ...  \\\n",
              "0       0  [121]  [121]  [121]  [121]  [121]  [121]  [189]  [189]  [189]  ...   \n",
              "1       0  [129]  [129]  [201]  [201]  [201]  [201]  [201]  [201]  [201]  ...   \n",
              "2       0   [75]   [75]   [75]   [75]   [75]   [75]  [113]  [113]  [113]  ...   \n",
              "3       0   [72]   [72]   [72]   [72]   [72]   [72]  [120]  [120]  [120]  ...   \n",
              "4       0   [88]   [88]   [88]  [123]  [123]  [123]  [123]  [123]  [123]  ...   \n",
              "\n",
              "  f 4087 f 4088 f 4089 f 4090 f 4091 f 4092 f 4093 f 4094 f 4095 f 4096  \n",
              "0  [121]  [121]  [121]  [121]  [121]  [121]  [121]  [121]  [121]  [121]  \n",
              "1  [201]  [201]  [129]  [129]  [129]  [129]  [129]  [129]  [129]  [129]  \n",
              "2  [113]  [113]  [113]  [113]   [75]   [75]   [75]   [75]   [75]   [75]  \n",
              "3  [120]  [120]  [120]  [120]  [120]  [120]  [120]  [120]  [120]  [120]  \n",
              "4  [150]  [150]  [123]  [123]  [123]  [123]  [123]  [123]  [123]  [123]  \n",
              "\n",
              "[5 rows x 4097 columns]"
            ],
            "text/html": [
              "\n",
              "  <div id=\"df-9db41d98-a3d2-4b30-be67-9f914cc01f48\">\n",
              "    <div class=\"colab-df-container\">\n",
              "      <div>\n",
              "<style scoped>\n",
              "    .dataframe tbody tr th:only-of-type {\n",
              "        vertical-align: middle;\n",
              "    }\n",
              "\n",
              "    .dataframe tbody tr th {\n",
              "        vertical-align: top;\n",
              "    }\n",
              "\n",
              "    .dataframe thead th {\n",
              "        text-align: right;\n",
              "    }\n",
              "</style>\n",
              "<table border=\"1\" class=\"dataframe\">\n",
              "  <thead>\n",
              "    <tr style=\"text-align: right;\">\n",
              "      <th></th>\n",
              "      <th>labels</th>\n",
              "      <th>f 1</th>\n",
              "      <th>f 2</th>\n",
              "      <th>f 3</th>\n",
              "      <th>f 4</th>\n",
              "      <th>f 5</th>\n",
              "      <th>f 6</th>\n",
              "      <th>f 7</th>\n",
              "      <th>f 8</th>\n",
              "      <th>f 9</th>\n",
              "      <th>...</th>\n",
              "      <th>f 4087</th>\n",
              "      <th>f 4088</th>\n",
              "      <th>f 4089</th>\n",
              "      <th>f 4090</th>\n",
              "      <th>f 4091</th>\n",
              "      <th>f 4092</th>\n",
              "      <th>f 4093</th>\n",
              "      <th>f 4094</th>\n",
              "      <th>f 4095</th>\n",
              "      <th>f 4096</th>\n",
              "    </tr>\n",
              "  </thead>\n",
              "  <tbody>\n",
              "    <tr>\n",
              "      <th>0</th>\n",
              "      <td>0</td>\n",
              "      <td>[121]</td>\n",
              "      <td>[121]</td>\n",
              "      <td>[121]</td>\n",
              "      <td>[121]</td>\n",
              "      <td>[121]</td>\n",
              "      <td>[121]</td>\n",
              "      <td>[189]</td>\n",
              "      <td>[189]</td>\n",
              "      <td>[189]</td>\n",
              "      <td>...</td>\n",
              "      <td>[121]</td>\n",
              "      <td>[121]</td>\n",
              "      <td>[121]</td>\n",
              "      <td>[121]</td>\n",
              "      <td>[121]</td>\n",
              "      <td>[121]</td>\n",
              "      <td>[121]</td>\n",
              "      <td>[121]</td>\n",
              "      <td>[121]</td>\n",
              "      <td>[121]</td>\n",
              "    </tr>\n",
              "    <tr>\n",
              "      <th>1</th>\n",
              "      <td>0</td>\n",
              "      <td>[129]</td>\n",
              "      <td>[129]</td>\n",
              "      <td>[201]</td>\n",
              "      <td>[201]</td>\n",
              "      <td>[201]</td>\n",
              "      <td>[201]</td>\n",
              "      <td>[201]</td>\n",
              "      <td>[201]</td>\n",
              "      <td>[201]</td>\n",
              "      <td>...</td>\n",
              "      <td>[201]</td>\n",
              "      <td>[201]</td>\n",
              "      <td>[129]</td>\n",
              "      <td>[129]</td>\n",
              "      <td>[129]</td>\n",
              "      <td>[129]</td>\n",
              "      <td>[129]</td>\n",
              "      <td>[129]</td>\n",
              "      <td>[129]</td>\n",
              "      <td>[129]</td>\n",
              "    </tr>\n",
              "    <tr>\n",
              "      <th>2</th>\n",
              "      <td>0</td>\n",
              "      <td>[75]</td>\n",
              "      <td>[75]</td>\n",
              "      <td>[75]</td>\n",
              "      <td>[75]</td>\n",
              "      <td>[75]</td>\n",
              "      <td>[75]</td>\n",
              "      <td>[113]</td>\n",
              "      <td>[113]</td>\n",
              "      <td>[113]</td>\n",
              "      <td>...</td>\n",
              "      <td>[113]</td>\n",
              "      <td>[113]</td>\n",
              "      <td>[113]</td>\n",
              "      <td>[113]</td>\n",
              "      <td>[75]</td>\n",
              "      <td>[75]</td>\n",
              "      <td>[75]</td>\n",
              "      <td>[75]</td>\n",
              "      <td>[75]</td>\n",
              "      <td>[75]</td>\n",
              "    </tr>\n",
              "    <tr>\n",
              "      <th>3</th>\n",
              "      <td>0</td>\n",
              "      <td>[72]</td>\n",
              "      <td>[72]</td>\n",
              "      <td>[72]</td>\n",
              "      <td>[72]</td>\n",
              "      <td>[72]</td>\n",
              "      <td>[72]</td>\n",
              "      <td>[120]</td>\n",
              "      <td>[120]</td>\n",
              "      <td>[120]</td>\n",
              "      <td>...</td>\n",
              "      <td>[120]</td>\n",
              "      <td>[120]</td>\n",
              "      <td>[120]</td>\n",
              "      <td>[120]</td>\n",
              "      <td>[120]</td>\n",
              "      <td>[120]</td>\n",
              "      <td>[120]</td>\n",
              "      <td>[120]</td>\n",
              "      <td>[120]</td>\n",
              "      <td>[120]</td>\n",
              "    </tr>\n",
              "    <tr>\n",
              "      <th>4</th>\n",
              "      <td>0</td>\n",
              "      <td>[88]</td>\n",
              "      <td>[88]</td>\n",
              "      <td>[88]</td>\n",
              "      <td>[123]</td>\n",
              "      <td>[123]</td>\n",
              "      <td>[123]</td>\n",
              "      <td>[123]</td>\n",
              "      <td>[123]</td>\n",
              "      <td>[123]</td>\n",
              "      <td>...</td>\n",
              "      <td>[150]</td>\n",
              "      <td>[150]</td>\n",
              "      <td>[123]</td>\n",
              "      <td>[123]</td>\n",
              "      <td>[123]</td>\n",
              "      <td>[123]</td>\n",
              "      <td>[123]</td>\n",
              "      <td>[123]</td>\n",
              "      <td>[123]</td>\n",
              "      <td>[123]</td>\n",
              "    </tr>\n",
              "  </tbody>\n",
              "</table>\n",
              "<p>5 rows × 4097 columns</p>\n",
              "</div>\n",
              "      <button class=\"colab-df-convert\" onclick=\"convertToInteractive('df-9db41d98-a3d2-4b30-be67-9f914cc01f48')\"\n",
              "              title=\"Convert this dataframe to an interactive table.\"\n",
              "              style=\"display:none;\">\n",
              "        \n",
              "  <svg xmlns=\"http://www.w3.org/2000/svg\" height=\"24px\"viewBox=\"0 0 24 24\"\n",
              "       width=\"24px\">\n",
              "    <path d=\"M0 0h24v24H0V0z\" fill=\"none\"/>\n",
              "    <path d=\"M18.56 5.44l.94 2.06.94-2.06 2.06-.94-2.06-.94-.94-2.06-.94 2.06-2.06.94zm-11 1L8.5 8.5l.94-2.06 2.06-.94-2.06-.94L8.5 2.5l-.94 2.06-2.06.94zm10 10l.94 2.06.94-2.06 2.06-.94-2.06-.94-.94-2.06-.94 2.06-2.06.94z\"/><path d=\"M17.41 7.96l-1.37-1.37c-.4-.4-.92-.59-1.43-.59-.52 0-1.04.2-1.43.59L10.3 9.45l-7.72 7.72c-.78.78-.78 2.05 0 2.83L4 21.41c.39.39.9.59 1.41.59.51 0 1.02-.2 1.41-.59l7.78-7.78 2.81-2.81c.8-.78.8-2.07 0-2.86zM5.41 20L4 18.59l7.72-7.72 1.47 1.35L5.41 20z\"/>\n",
              "  </svg>\n",
              "      </button>\n",
              "      \n",
              "  <style>\n",
              "    .colab-df-container {\n",
              "      display:flex;\n",
              "      flex-wrap:wrap;\n",
              "      gap: 12px;\n",
              "    }\n",
              "\n",
              "    .colab-df-convert {\n",
              "      background-color: #E8F0FE;\n",
              "      border: none;\n",
              "      border-radius: 50%;\n",
              "      cursor: pointer;\n",
              "      display: none;\n",
              "      fill: #1967D2;\n",
              "      height: 32px;\n",
              "      padding: 0 0 0 0;\n",
              "      width: 32px;\n",
              "    }\n",
              "\n",
              "    .colab-df-convert:hover {\n",
              "      background-color: #E2EBFA;\n",
              "      box-shadow: 0px 1px 2px rgba(60, 64, 67, 0.3), 0px 1px 3px 1px rgba(60, 64, 67, 0.15);\n",
              "      fill: #174EA6;\n",
              "    }\n",
              "\n",
              "    [theme=dark] .colab-df-convert {\n",
              "      background-color: #3B4455;\n",
              "      fill: #D2E3FC;\n",
              "    }\n",
              "\n",
              "    [theme=dark] .colab-df-convert:hover {\n",
              "      background-color: #434B5C;\n",
              "      box-shadow: 0px 1px 3px 1px rgba(0, 0, 0, 0.15);\n",
              "      filter: drop-shadow(0px 1px 2px rgba(0, 0, 0, 0.3));\n",
              "      fill: #FFFFFF;\n",
              "    }\n",
              "  </style>\n",
              "\n",
              "      <script>\n",
              "        const buttonEl =\n",
              "          document.querySelector('#df-9db41d98-a3d2-4b30-be67-9f914cc01f48 button.colab-df-convert');\n",
              "        buttonEl.style.display =\n",
              "          google.colab.kernel.accessAllowed ? 'block' : 'none';\n",
              "\n",
              "        async function convertToInteractive(key) {\n",
              "          const element = document.querySelector('#df-9db41d98-a3d2-4b30-be67-9f914cc01f48');\n",
              "          const dataTable =\n",
              "            await google.colab.kernel.invokeFunction('convertToInteractive',\n",
              "                                                     [key], {});\n",
              "          if (!dataTable) return;\n",
              "\n",
              "          const docLinkHtml = 'Like what you see? Visit the ' +\n",
              "            '<a target=\"_blank\" href=https://colab.research.google.com/notebooks/data_table.ipynb>data table notebook</a>'\n",
              "            + ' to learn more about interactive tables.';\n",
              "          element.innerHTML = '';\n",
              "          dataTable['output_type'] = 'display_data';\n",
              "          await google.colab.output.renderOutput(dataTable, element);\n",
              "          const docLink = document.createElement('div');\n",
              "          docLink.innerHTML = docLinkHtml;\n",
              "          element.appendChild(docLink);\n",
              "        }\n",
              "      </script>\n",
              "    </div>\n",
              "  </div>\n",
              "  "
            ]
          },
          "metadata": {},
          "execution_count": 22
        }
      ]
    },
    {
      "cell_type": "code",
      "source": [
        "train_seg_data = train_seg_data.astype(int)\n",
        "train_seg_data.head()"
      ],
      "metadata": {
        "colab": {
          "base_uri": "https://localhost:8080/",
          "height": 235
        },
        "id": "XxYahFPS1-IB",
        "outputId": "bf728db8-5b54-4966-8c72-de0dc80e3064"
      },
      "id": "XxYahFPS1-IB",
      "execution_count": null,
      "outputs": [
        {
          "output_type": "execute_result",
          "data": {
            "text/plain": [
              "   labels  f 1  f 2  f 3  f 4  f 5  f 6  f 7  f 8  f 9  ...  f 4087  f 4088  \\\n",
              "0       0  121  121  121  121  121  121  189  189  189  ...     121     121   \n",
              "1       0  129  129  201  201  201  201  201  201  201  ...     201     201   \n",
              "2       0   75   75   75   75   75   75  113  113  113  ...     113     113   \n",
              "3       0   72   72   72   72   72   72  120  120  120  ...     120     120   \n",
              "4       0   88   88   88  123  123  123  123  123  123  ...     150     150   \n",
              "\n",
              "   f 4089  f 4090  f 4091  f 4092  f 4093  f 4094  f 4095  f 4096  \n",
              "0     121     121     121     121     121     121     121     121  \n",
              "1     129     129     129     129     129     129     129     129  \n",
              "2     113     113      75      75      75      75      75      75  \n",
              "3     120     120     120     120     120     120     120     120  \n",
              "4     123     123     123     123     123     123     123     123  \n",
              "\n",
              "[5 rows x 4097 columns]"
            ],
            "text/html": [
              "\n",
              "  <div id=\"df-c9fc3815-394c-428e-a39b-ff782d959871\">\n",
              "    <div class=\"colab-df-container\">\n",
              "      <div>\n",
              "<style scoped>\n",
              "    .dataframe tbody tr th:only-of-type {\n",
              "        vertical-align: middle;\n",
              "    }\n",
              "\n",
              "    .dataframe tbody tr th {\n",
              "        vertical-align: top;\n",
              "    }\n",
              "\n",
              "    .dataframe thead th {\n",
              "        text-align: right;\n",
              "    }\n",
              "</style>\n",
              "<table border=\"1\" class=\"dataframe\">\n",
              "  <thead>\n",
              "    <tr style=\"text-align: right;\">\n",
              "      <th></th>\n",
              "      <th>labels</th>\n",
              "      <th>f 1</th>\n",
              "      <th>f 2</th>\n",
              "      <th>f 3</th>\n",
              "      <th>f 4</th>\n",
              "      <th>f 5</th>\n",
              "      <th>f 6</th>\n",
              "      <th>f 7</th>\n",
              "      <th>f 8</th>\n",
              "      <th>f 9</th>\n",
              "      <th>...</th>\n",
              "      <th>f 4087</th>\n",
              "      <th>f 4088</th>\n",
              "      <th>f 4089</th>\n",
              "      <th>f 4090</th>\n",
              "      <th>f 4091</th>\n",
              "      <th>f 4092</th>\n",
              "      <th>f 4093</th>\n",
              "      <th>f 4094</th>\n",
              "      <th>f 4095</th>\n",
              "      <th>f 4096</th>\n",
              "    </tr>\n",
              "  </thead>\n",
              "  <tbody>\n",
              "    <tr>\n",
              "      <th>0</th>\n",
              "      <td>0</td>\n",
              "      <td>121</td>\n",
              "      <td>121</td>\n",
              "      <td>121</td>\n",
              "      <td>121</td>\n",
              "      <td>121</td>\n",
              "      <td>121</td>\n",
              "      <td>189</td>\n",
              "      <td>189</td>\n",
              "      <td>189</td>\n",
              "      <td>...</td>\n",
              "      <td>121</td>\n",
              "      <td>121</td>\n",
              "      <td>121</td>\n",
              "      <td>121</td>\n",
              "      <td>121</td>\n",
              "      <td>121</td>\n",
              "      <td>121</td>\n",
              "      <td>121</td>\n",
              "      <td>121</td>\n",
              "      <td>121</td>\n",
              "    </tr>\n",
              "    <tr>\n",
              "      <th>1</th>\n",
              "      <td>0</td>\n",
              "      <td>129</td>\n",
              "      <td>129</td>\n",
              "      <td>201</td>\n",
              "      <td>201</td>\n",
              "      <td>201</td>\n",
              "      <td>201</td>\n",
              "      <td>201</td>\n",
              "      <td>201</td>\n",
              "      <td>201</td>\n",
              "      <td>...</td>\n",
              "      <td>201</td>\n",
              "      <td>201</td>\n",
              "      <td>129</td>\n",
              "      <td>129</td>\n",
              "      <td>129</td>\n",
              "      <td>129</td>\n",
              "      <td>129</td>\n",
              "      <td>129</td>\n",
              "      <td>129</td>\n",
              "      <td>129</td>\n",
              "    </tr>\n",
              "    <tr>\n",
              "      <th>2</th>\n",
              "      <td>0</td>\n",
              "      <td>75</td>\n",
              "      <td>75</td>\n",
              "      <td>75</td>\n",
              "      <td>75</td>\n",
              "      <td>75</td>\n",
              "      <td>75</td>\n",
              "      <td>113</td>\n",
              "      <td>113</td>\n",
              "      <td>113</td>\n",
              "      <td>...</td>\n",
              "      <td>113</td>\n",
              "      <td>113</td>\n",
              "      <td>113</td>\n",
              "      <td>113</td>\n",
              "      <td>75</td>\n",
              "      <td>75</td>\n",
              "      <td>75</td>\n",
              "      <td>75</td>\n",
              "      <td>75</td>\n",
              "      <td>75</td>\n",
              "    </tr>\n",
              "    <tr>\n",
              "      <th>3</th>\n",
              "      <td>0</td>\n",
              "      <td>72</td>\n",
              "      <td>72</td>\n",
              "      <td>72</td>\n",
              "      <td>72</td>\n",
              "      <td>72</td>\n",
              "      <td>72</td>\n",
              "      <td>120</td>\n",
              "      <td>120</td>\n",
              "      <td>120</td>\n",
              "      <td>...</td>\n",
              "      <td>120</td>\n",
              "      <td>120</td>\n",
              "      <td>120</td>\n",
              "      <td>120</td>\n",
              "      <td>120</td>\n",
              "      <td>120</td>\n",
              "      <td>120</td>\n",
              "      <td>120</td>\n",
              "      <td>120</td>\n",
              "      <td>120</td>\n",
              "    </tr>\n",
              "    <tr>\n",
              "      <th>4</th>\n",
              "      <td>0</td>\n",
              "      <td>88</td>\n",
              "      <td>88</td>\n",
              "      <td>88</td>\n",
              "      <td>123</td>\n",
              "      <td>123</td>\n",
              "      <td>123</td>\n",
              "      <td>123</td>\n",
              "      <td>123</td>\n",
              "      <td>123</td>\n",
              "      <td>...</td>\n",
              "      <td>150</td>\n",
              "      <td>150</td>\n",
              "      <td>123</td>\n",
              "      <td>123</td>\n",
              "      <td>123</td>\n",
              "      <td>123</td>\n",
              "      <td>123</td>\n",
              "      <td>123</td>\n",
              "      <td>123</td>\n",
              "      <td>123</td>\n",
              "    </tr>\n",
              "  </tbody>\n",
              "</table>\n",
              "<p>5 rows × 4097 columns</p>\n",
              "</div>\n",
              "      <button class=\"colab-df-convert\" onclick=\"convertToInteractive('df-c9fc3815-394c-428e-a39b-ff782d959871')\"\n",
              "              title=\"Convert this dataframe to an interactive table.\"\n",
              "              style=\"display:none;\">\n",
              "        \n",
              "  <svg xmlns=\"http://www.w3.org/2000/svg\" height=\"24px\"viewBox=\"0 0 24 24\"\n",
              "       width=\"24px\">\n",
              "    <path d=\"M0 0h24v24H0V0z\" fill=\"none\"/>\n",
              "    <path d=\"M18.56 5.44l.94 2.06.94-2.06 2.06-.94-2.06-.94-.94-2.06-.94 2.06-2.06.94zm-11 1L8.5 8.5l.94-2.06 2.06-.94-2.06-.94L8.5 2.5l-.94 2.06-2.06.94zm10 10l.94 2.06.94-2.06 2.06-.94-2.06-.94-.94-2.06-.94 2.06-2.06.94z\"/><path d=\"M17.41 7.96l-1.37-1.37c-.4-.4-.92-.59-1.43-.59-.52 0-1.04.2-1.43.59L10.3 9.45l-7.72 7.72c-.78.78-.78 2.05 0 2.83L4 21.41c.39.39.9.59 1.41.59.51 0 1.02-.2 1.41-.59l7.78-7.78 2.81-2.81c.8-.78.8-2.07 0-2.86zM5.41 20L4 18.59l7.72-7.72 1.47 1.35L5.41 20z\"/>\n",
              "  </svg>\n",
              "      </button>\n",
              "      \n",
              "  <style>\n",
              "    .colab-df-container {\n",
              "      display:flex;\n",
              "      flex-wrap:wrap;\n",
              "      gap: 12px;\n",
              "    }\n",
              "\n",
              "    .colab-df-convert {\n",
              "      background-color: #E8F0FE;\n",
              "      border: none;\n",
              "      border-radius: 50%;\n",
              "      cursor: pointer;\n",
              "      display: none;\n",
              "      fill: #1967D2;\n",
              "      height: 32px;\n",
              "      padding: 0 0 0 0;\n",
              "      width: 32px;\n",
              "    }\n",
              "\n",
              "    .colab-df-convert:hover {\n",
              "      background-color: #E2EBFA;\n",
              "      box-shadow: 0px 1px 2px rgba(60, 64, 67, 0.3), 0px 1px 3px 1px rgba(60, 64, 67, 0.15);\n",
              "      fill: #174EA6;\n",
              "    }\n",
              "\n",
              "    [theme=dark] .colab-df-convert {\n",
              "      background-color: #3B4455;\n",
              "      fill: #D2E3FC;\n",
              "    }\n",
              "\n",
              "    [theme=dark] .colab-df-convert:hover {\n",
              "      background-color: #434B5C;\n",
              "      box-shadow: 0px 1px 3px 1px rgba(0, 0, 0, 0.15);\n",
              "      filter: drop-shadow(0px 1px 2px rgba(0, 0, 0, 0.3));\n",
              "      fill: #FFFFFF;\n",
              "    }\n",
              "  </style>\n",
              "\n",
              "      <script>\n",
              "        const buttonEl =\n",
              "          document.querySelector('#df-c9fc3815-394c-428e-a39b-ff782d959871 button.colab-df-convert');\n",
              "        buttonEl.style.display =\n",
              "          google.colab.kernel.accessAllowed ? 'block' : 'none';\n",
              "\n",
              "        async function convertToInteractive(key) {\n",
              "          const element = document.querySelector('#df-c9fc3815-394c-428e-a39b-ff782d959871');\n",
              "          const dataTable =\n",
              "            await google.colab.kernel.invokeFunction('convertToInteractive',\n",
              "                                                     [key], {});\n",
              "          if (!dataTable) return;\n",
              "\n",
              "          const docLinkHtml = 'Like what you see? Visit the ' +\n",
              "            '<a target=\"_blank\" href=https://colab.research.google.com/notebooks/data_table.ipynb>data table notebook</a>'\n",
              "            + ' to learn more about interactive tables.';\n",
              "          element.innerHTML = '';\n",
              "          dataTable['output_type'] = 'display_data';\n",
              "          await google.colab.output.renderOutput(dataTable, element);\n",
              "          const docLink = document.createElement('div');\n",
              "          docLink.innerHTML = docLinkHtml;\n",
              "          element.appendChild(docLink);\n",
              "        }\n",
              "      </script>\n",
              "    </div>\n",
              "  </div>\n",
              "  "
            ]
          },
          "metadata": {},
          "execution_count": 23
        }
      ]
    },
    {
      "cell_type": "code",
      "source": [
        "features = train_seg_data.iloc[:,1:].values\n",
        "target = train_seg_data.iloc[:,0].values"
      ],
      "metadata": {
        "id": "AIGC7k7C2jux"
      },
      "id": "AIGC7k7C2jux",
      "execution_count": null,
      "outputs": []
    },
    {
      "cell_type": "markdown",
      "source": [
        "## Lets work out for test images"
      ],
      "metadata": {
        "id": "uIBZXPZu4Ie9"
      },
      "id": "uIBZXPZu4Ie9"
    },
    {
      "cell_type": "code",
      "source": [
        "ltest_paths = list(test_data['path'])\n",
        "ltest_labels = list(test_data['label'])\n",
        "test_segments = []\n",
        "for i in range(len(ltest_paths)):\n",
        "    l = []\n",
        "    l.append(ltest_labels[i])\n",
        "    l.extend(segmentation(ltest_paths[i]))\n",
        "    test_segments.append(l)\n",
        "test_seg_data = pd.DataFrame(test_segments,columns=cols)\n",
        "test_seg_data = test_seg_data.astype(int)\n",
        "test_seg_data.head()"
      ],
      "metadata": {
        "colab": {
          "base_uri": "https://localhost:8080/",
          "height": 235
        },
        "id": "WO-lEH3g29Kr",
        "outputId": "2e681a02-6a97-4ca2-ce6e-bed270059663"
      },
      "id": "WO-lEH3g29Kr",
      "execution_count": null,
      "outputs": [
        {
          "output_type": "execute_result",
          "data": {
            "text/plain": [
              "   labels  f 1  f 2  f 3  f 4  f 5  f 6  f 7  f 8  f 9  ...  f 4087  f 4088  \\\n",
              "0       0   77   77  139  139  139  139  139  139  139  ...     139     139   \n",
              "1       0  145  145  145  103  103  103  103  103  103  ...      75     103   \n",
              "2       0   66   66   66   66   66  144  144  144  144  ...     144     144   \n",
              "3       0  114  114  154  154  154  154  154  154  114  ...     114     114   \n",
              "4       0   85   85   85   85   85   85   85  149  149  ...      85      85   \n",
              "\n",
              "   f 4089  f 4090  f 4091  f 4092  f 4093  f 4094  f 4095  f 4096  \n",
              "0     139     139      77      77      77      77      77      77  \n",
              "1     103     103     103     103     103     103     103     103  \n",
              "2     144     144     144     144     144     144     144      66  \n",
              "3     114     114     114     114     114     114     114     114  \n",
              "4      85      85      85      85      85      85      85      85  \n",
              "\n",
              "[5 rows x 4097 columns]"
            ],
            "text/html": [
              "\n",
              "  <div id=\"df-8f0b91b2-ba6f-47e3-8323-1231efe19305\">\n",
              "    <div class=\"colab-df-container\">\n",
              "      <div>\n",
              "<style scoped>\n",
              "    .dataframe tbody tr th:only-of-type {\n",
              "        vertical-align: middle;\n",
              "    }\n",
              "\n",
              "    .dataframe tbody tr th {\n",
              "        vertical-align: top;\n",
              "    }\n",
              "\n",
              "    .dataframe thead th {\n",
              "        text-align: right;\n",
              "    }\n",
              "</style>\n",
              "<table border=\"1\" class=\"dataframe\">\n",
              "  <thead>\n",
              "    <tr style=\"text-align: right;\">\n",
              "      <th></th>\n",
              "      <th>labels</th>\n",
              "      <th>f 1</th>\n",
              "      <th>f 2</th>\n",
              "      <th>f 3</th>\n",
              "      <th>f 4</th>\n",
              "      <th>f 5</th>\n",
              "      <th>f 6</th>\n",
              "      <th>f 7</th>\n",
              "      <th>f 8</th>\n",
              "      <th>f 9</th>\n",
              "      <th>...</th>\n",
              "      <th>f 4087</th>\n",
              "      <th>f 4088</th>\n",
              "      <th>f 4089</th>\n",
              "      <th>f 4090</th>\n",
              "      <th>f 4091</th>\n",
              "      <th>f 4092</th>\n",
              "      <th>f 4093</th>\n",
              "      <th>f 4094</th>\n",
              "      <th>f 4095</th>\n",
              "      <th>f 4096</th>\n",
              "    </tr>\n",
              "  </thead>\n",
              "  <tbody>\n",
              "    <tr>\n",
              "      <th>0</th>\n",
              "      <td>0</td>\n",
              "      <td>77</td>\n",
              "      <td>77</td>\n",
              "      <td>139</td>\n",
              "      <td>139</td>\n",
              "      <td>139</td>\n",
              "      <td>139</td>\n",
              "      <td>139</td>\n",
              "      <td>139</td>\n",
              "      <td>139</td>\n",
              "      <td>...</td>\n",
              "      <td>139</td>\n",
              "      <td>139</td>\n",
              "      <td>139</td>\n",
              "      <td>139</td>\n",
              "      <td>77</td>\n",
              "      <td>77</td>\n",
              "      <td>77</td>\n",
              "      <td>77</td>\n",
              "      <td>77</td>\n",
              "      <td>77</td>\n",
              "    </tr>\n",
              "    <tr>\n",
              "      <th>1</th>\n",
              "      <td>0</td>\n",
              "      <td>145</td>\n",
              "      <td>145</td>\n",
              "      <td>145</td>\n",
              "      <td>103</td>\n",
              "      <td>103</td>\n",
              "      <td>103</td>\n",
              "      <td>103</td>\n",
              "      <td>103</td>\n",
              "      <td>103</td>\n",
              "      <td>...</td>\n",
              "      <td>75</td>\n",
              "      <td>103</td>\n",
              "      <td>103</td>\n",
              "      <td>103</td>\n",
              "      <td>103</td>\n",
              "      <td>103</td>\n",
              "      <td>103</td>\n",
              "      <td>103</td>\n",
              "      <td>103</td>\n",
              "      <td>103</td>\n",
              "    </tr>\n",
              "    <tr>\n",
              "      <th>2</th>\n",
              "      <td>0</td>\n",
              "      <td>66</td>\n",
              "      <td>66</td>\n",
              "      <td>66</td>\n",
              "      <td>66</td>\n",
              "      <td>66</td>\n",
              "      <td>144</td>\n",
              "      <td>144</td>\n",
              "      <td>144</td>\n",
              "      <td>144</td>\n",
              "      <td>...</td>\n",
              "      <td>144</td>\n",
              "      <td>144</td>\n",
              "      <td>144</td>\n",
              "      <td>144</td>\n",
              "      <td>144</td>\n",
              "      <td>144</td>\n",
              "      <td>144</td>\n",
              "      <td>144</td>\n",
              "      <td>144</td>\n",
              "      <td>66</td>\n",
              "    </tr>\n",
              "    <tr>\n",
              "      <th>3</th>\n",
              "      <td>0</td>\n",
              "      <td>114</td>\n",
              "      <td>114</td>\n",
              "      <td>154</td>\n",
              "      <td>154</td>\n",
              "      <td>154</td>\n",
              "      <td>154</td>\n",
              "      <td>154</td>\n",
              "      <td>154</td>\n",
              "      <td>114</td>\n",
              "      <td>...</td>\n",
              "      <td>114</td>\n",
              "      <td>114</td>\n",
              "      <td>114</td>\n",
              "      <td>114</td>\n",
              "      <td>114</td>\n",
              "      <td>114</td>\n",
              "      <td>114</td>\n",
              "      <td>114</td>\n",
              "      <td>114</td>\n",
              "      <td>114</td>\n",
              "    </tr>\n",
              "    <tr>\n",
              "      <th>4</th>\n",
              "      <td>0</td>\n",
              "      <td>85</td>\n",
              "      <td>85</td>\n",
              "      <td>85</td>\n",
              "      <td>85</td>\n",
              "      <td>85</td>\n",
              "      <td>85</td>\n",
              "      <td>85</td>\n",
              "      <td>149</td>\n",
              "      <td>149</td>\n",
              "      <td>...</td>\n",
              "      <td>85</td>\n",
              "      <td>85</td>\n",
              "      <td>85</td>\n",
              "      <td>85</td>\n",
              "      <td>85</td>\n",
              "      <td>85</td>\n",
              "      <td>85</td>\n",
              "      <td>85</td>\n",
              "      <td>85</td>\n",
              "      <td>85</td>\n",
              "    </tr>\n",
              "  </tbody>\n",
              "</table>\n",
              "<p>5 rows × 4097 columns</p>\n",
              "</div>\n",
              "      <button class=\"colab-df-convert\" onclick=\"convertToInteractive('df-8f0b91b2-ba6f-47e3-8323-1231efe19305')\"\n",
              "              title=\"Convert this dataframe to an interactive table.\"\n",
              "              style=\"display:none;\">\n",
              "        \n",
              "  <svg xmlns=\"http://www.w3.org/2000/svg\" height=\"24px\"viewBox=\"0 0 24 24\"\n",
              "       width=\"24px\">\n",
              "    <path d=\"M0 0h24v24H0V0z\" fill=\"none\"/>\n",
              "    <path d=\"M18.56 5.44l.94 2.06.94-2.06 2.06-.94-2.06-.94-.94-2.06-.94 2.06-2.06.94zm-11 1L8.5 8.5l.94-2.06 2.06-.94-2.06-.94L8.5 2.5l-.94 2.06-2.06.94zm10 10l.94 2.06.94-2.06 2.06-.94-2.06-.94-.94-2.06-.94 2.06-2.06.94z\"/><path d=\"M17.41 7.96l-1.37-1.37c-.4-.4-.92-.59-1.43-.59-.52 0-1.04.2-1.43.59L10.3 9.45l-7.72 7.72c-.78.78-.78 2.05 0 2.83L4 21.41c.39.39.9.59 1.41.59.51 0 1.02-.2 1.41-.59l7.78-7.78 2.81-2.81c.8-.78.8-2.07 0-2.86zM5.41 20L4 18.59l7.72-7.72 1.47 1.35L5.41 20z\"/>\n",
              "  </svg>\n",
              "      </button>\n",
              "      \n",
              "  <style>\n",
              "    .colab-df-container {\n",
              "      display:flex;\n",
              "      flex-wrap:wrap;\n",
              "      gap: 12px;\n",
              "    }\n",
              "\n",
              "    .colab-df-convert {\n",
              "      background-color: #E8F0FE;\n",
              "      border: none;\n",
              "      border-radius: 50%;\n",
              "      cursor: pointer;\n",
              "      display: none;\n",
              "      fill: #1967D2;\n",
              "      height: 32px;\n",
              "      padding: 0 0 0 0;\n",
              "      width: 32px;\n",
              "    }\n",
              "\n",
              "    .colab-df-convert:hover {\n",
              "      background-color: #E2EBFA;\n",
              "      box-shadow: 0px 1px 2px rgba(60, 64, 67, 0.3), 0px 1px 3px 1px rgba(60, 64, 67, 0.15);\n",
              "      fill: #174EA6;\n",
              "    }\n",
              "\n",
              "    [theme=dark] .colab-df-convert {\n",
              "      background-color: #3B4455;\n",
              "      fill: #D2E3FC;\n",
              "    }\n",
              "\n",
              "    [theme=dark] .colab-df-convert:hover {\n",
              "      background-color: #434B5C;\n",
              "      box-shadow: 0px 1px 3px 1px rgba(0, 0, 0, 0.15);\n",
              "      filter: drop-shadow(0px 1px 2px rgba(0, 0, 0, 0.3));\n",
              "      fill: #FFFFFF;\n",
              "    }\n",
              "  </style>\n",
              "\n",
              "      <script>\n",
              "        const buttonEl =\n",
              "          document.querySelector('#df-8f0b91b2-ba6f-47e3-8323-1231efe19305 button.colab-df-convert');\n",
              "        buttonEl.style.display =\n",
              "          google.colab.kernel.accessAllowed ? 'block' : 'none';\n",
              "\n",
              "        async function convertToInteractive(key) {\n",
              "          const element = document.querySelector('#df-8f0b91b2-ba6f-47e3-8323-1231efe19305');\n",
              "          const dataTable =\n",
              "            await google.colab.kernel.invokeFunction('convertToInteractive',\n",
              "                                                     [key], {});\n",
              "          if (!dataTable) return;\n",
              "\n",
              "          const docLinkHtml = 'Like what you see? Visit the ' +\n",
              "            '<a target=\"_blank\" href=https://colab.research.google.com/notebooks/data_table.ipynb>data table notebook</a>'\n",
              "            + ' to learn more about interactive tables.';\n",
              "          element.innerHTML = '';\n",
              "          dataTable['output_type'] = 'display_data';\n",
              "          await google.colab.output.renderOutput(dataTable, element);\n",
              "          const docLink = document.createElement('div');\n",
              "          docLink.innerHTML = docLinkHtml;\n",
              "          element.appendChild(docLink);\n",
              "        }\n",
              "      </script>\n",
              "    </div>\n",
              "  </div>\n",
              "  "
            ]
          },
          "metadata": {},
          "execution_count": 25
        }
      ]
    },
    {
      "cell_type": "code",
      "source": [
        "t_features = test_seg_data.iloc[:,1:].values\n",
        "t_target = test_seg_data.iloc[:,0].values"
      ],
      "metadata": {
        "id": "OOysidVt29NJ"
      },
      "id": "OOysidVt29NJ",
      "execution_count": null,
      "outputs": []
    },
    {
      "cell_type": "markdown",
      "source": [
        "## Use Different Classifiers for Detection and Severity Prediction"
      ],
      "metadata": {
        "id": "7A2sUTFAA22S"
      },
      "id": "7A2sUTFAA22S"
    },
    {
      "cell_type": "markdown",
      "source": [
        "### 1. K Nearest Neignbors Algorithm"
      ],
      "metadata": {
        "id": "zkM4Dzd-BNoG"
      },
      "id": "zkM4Dzd-BNoG"
    },
    {
      "cell_type": "code",
      "source": [
        "from sklearn.neighbors import KNeighborsClassifier\n",
        "from sklearn.metrics import mean_squared_error\n",
        "acc = []\n",
        "for i in range(2,16):\n",
        "  model = KNeighborsClassifier(n_neighbors=i)\n",
        "  model.fit(features,target)\n",
        "  y_pred = model.predict(t_features)\n",
        "  acc.append(mean_squared_error(t_target,y_pred))\n",
        "plt.plot(range(2,16),acc)\n",
        "plt.title('No of Clusters Calculations')\n",
        "plt.xlabel('Number of Neignbors')\n",
        "plt.ylabel('Error')\n",
        "plt.grid()\n",
        "plt.show()"
      ],
      "metadata": {
        "colab": {
          "base_uri": "https://localhost:8080/",
          "height": 295
        },
        "id": "sduUcvgh2j2Q",
        "outputId": "08bdf766-3493-488b-dac5-913991686cb7"
      },
      "id": "sduUcvgh2j2Q",
      "execution_count": null,
      "outputs": [
        {
          "output_type": "display_data",
          "data": {
            "text/plain": [
              "<Figure size 432x288 with 1 Axes>"
            ],
            "image/png": "[encoded data removed]"
          },
          "metadata": {
            "needs_background": "light"
          }
        }
      ]
    },
    {
      "cell_type": "code",
      "source": [
        "model = KNeighborsClassifier(n_neighbors=2)\n",
        "model.fit(features,target)\n",
        "y_pred = model.predict(t_features)"
      ],
      "metadata": {
        "id": "HJbXV_mm29P3"
      },
      "id": "HJbXV_mm29P3",
      "execution_count": null,
      "outputs": []
    },
    {
      "cell_type": "code",
      "source": [
        "from sklearn.metrics import confusion_matrix, accuracy_score, precision_score, recall_score, f1_score\n",
        "cnf = confusion_matrix(t_target,y_pred)\n",
        "class_names = ['0','1','2','3','4']\n",
        "fig, ax = plt.subplots()\n",
        "tick_marks = np.arange(len(class_names))\n",
        "plt.xticks(tick_marks,class_names)\n",
        "plt.yticks(tick_marks,class_names)\n",
        "sns.heatmap(pd.DataFrame(cnf),annot=True,cmap='Blues_r',fmt='g')\n",
        "ax.xaxis.set_label_position(\"top\")\n",
        "plt.tight_layout()\n",
        "plt.title('Confusion matrix', y=1.1)\n",
        "plt.ylabel('Actual label')\n",
        "plt.xlabel('Predicted label')\n",
        "plt.Text(0.5,257.44,'Predicted label')\n",
        "plt.show()"
      ],
      "metadata": {
        "colab": {
          "base_uri": "https://localhost:8080/",
          "height": 325
        },
        "id": "m8KeXBAU29TN",
        "outputId": "cf4a0701-07e4-47d8-e307-d0130912fc8b"
      },
      "id": "m8KeXBAU29TN",
      "execution_count": null,
      "outputs": [
        {
          "output_type": "display_data",
          "data": {
            "text/plain": [
              "<Figure size 432x288 with 2 Axes>"
            ],
            "image/png": "[encoded data removed]"
          },
          "metadata": {
            "needs_background": "light"
          }
        }
      ]
    },
    {
      "cell_type": "code",
      "source": [
        "print('Accuracy Score: ',accuracy_score(t_target,y_pred))"
      ],
      "metadata": {
        "colab": {
          "base_uri": "https://localhost:8080/"
        },
        "id": "D2yGY1CN-Fg7",
        "outputId": "80dc9a51-904d-4717-cfe5-c9c890d4ab07"
      },
      "id": "D2yGY1CN-Fg7",
      "execution_count": null,
      "outputs": [
        {
          "output_type": "stream",
          "name": "stdout",
          "text": [
            "Accuracy Score:  0.3725845410628019\n"
          ]
        }
      ]
    },
    {
      "cell_type": "code",
      "source": [
        "from sklearn.metrics import classification_report\n",
        "print(classification_report(t_target,y_pred))"
      ],
      "metadata": {
        "colab": {
          "base_uri": "https://localhost:8080/"
        },
        "id": "swRdr05L-v0M",
        "outputId": "e15dedae-6c9f-4207-8e2a-7b12f5485724"
      },
      "id": "swRdr05L-v0M",
      "execution_count": null,
      "outputs": [
        {
          "output_type": "stream",
          "name": "stdout",
          "text": [
            "              precision    recall  f1-score   support\n",
            "\n",
            "           0       0.44      0.73      0.55       639\n",
            "           1       0.18      0.18      0.18       296\n",
            "           2       0.31      0.17      0.22       447\n",
            "           3       0.42      0.09      0.14       223\n",
            "           4       1.00      0.02      0.04        51\n",
            "\n",
            "    accuracy                           0.37      1656\n",
            "   macro avg       0.47      0.24      0.23      1656\n",
            "weighted avg       0.37      0.37      0.32      1656\n",
            "\n"
          ]
        }
      ]
    },
    {
      "cell_type": "code",
      "source": [
        "print('F1 Score (Macro): ',f1_score(t_target,y_pred,average='macro'))\n",
        "print('F1 Score (Micro): ',f1_score(t_target,y_pred,average='micro'))\n",
        "print('F1 Score (Weighted): ',f1_score(t_target,y_pred,average='weighted'))"
      ],
      "metadata": {
        "colab": {
          "base_uri": "https://localhost:8080/"
        },
        "id": "MUgMfJnbMi-2",
        "outputId": "38eb89c7-59e0-440f-dbeb-ea725b50bf0f"
      },
      "id": "MUgMfJnbMi-2",
      "execution_count": null,
      "outputs": [
        {
          "output_type": "stream",
          "name": "stdout",
          "text": [
            "F1 Score (Macro):  0.22538550142740887\n",
            "F1 Score (Micro):  0.3725845410628019\n",
            "F1 Score (Weighted):  0.32290216876724454\n"
          ]
        }
      ]
    },
    {
      "cell_type": "code",
      "source": [
        "from sklearn.metrics import roc_auc_score\n",
        "print('ROC-AUC_Score (OVR):',roc_auc_score(t_target,model.predict_proba(t_features),multi_class='ovr'))\n",
        "print('ROC-AUC_Score (OVO):',roc_auc_score(t_target,model.predict_proba(t_features),multi_class='ovo'))"
      ],
      "metadata": {
        "colab": {
          "base_uri": "https://localhost:8080/"
        },
        "id": "1HUAtfynbC-D",
        "outputId": "9af99995-07c0-4ae8-b8db-0f7bac794096"
      },
      "id": "1HUAtfynbC-D",
      "execution_count": null,
      "outputs": [
        {
          "output_type": "stream",
          "name": "stdout",
          "text": [
            "ROC-AUC_Score (OVR): 0.5621256724390044\n",
            "ROC-AUC_Score (OVO): 0.5621991602094163\n"
          ]
        }
      ]
    },
    {
      "cell_type": "markdown",
      "source": [
        "### 2. Logistic Regression"
      ],
      "metadata": {
        "id": "4zIrLz0MBWqp"
      },
      "id": "4zIrLz0MBWqp"
    },
    {
      "cell_type": "code",
      "source": [
        "from sklearn.linear_model import LogisticRegression\n",
        "log_reg = LogisticRegression()\n",
        "log_reg.fit(features,target)\n",
        "y_pred = log_reg.predict(t_features)\n",
        "cnf = confusion_matrix(t_target,y_pred)\n",
        "class_names = ['0','1','2','3','4']\n",
        "fig, ax = plt.subplots()\n",
        "tick_marks = np.arange(len(class_names))\n",
        "plt.xticks(tick_marks,class_names)\n",
        "plt.yticks(tick_marks,class_names)\n",
        "sns.heatmap(pd.DataFrame(cnf),annot=True,cmap='Blues_r',fmt='g')\n",
        "ax.xaxis.set_label_position(\"top\")\n",
        "plt.tight_layout()\n",
        "plt.title('Confusion matrix', y=1.1)\n",
        "plt.ylabel('Actual label')\n",
        "plt.xlabel('Predicted label')\n",
        "plt.Text(0.5,257.44,'Predicted label')\n",
        "plt.show()"
      ],
      "metadata": {
        "colab": {
          "base_uri": "https://localhost:8080/",
          "height": 463
        },
        "id": "G3TPshY5B65q",
        "outputId": "bd1415b9-9a07-4cf1-8515-c5bfd14ef81c"
      },
      "id": "G3TPshY5B65q",
      "execution_count": null,
      "outputs": [
        {
          "output_type": "stream",
          "name": "stderr",
          "text": [
            "/usr/local/lib/python3.7/dist-packages/sklearn/linear_model/_logistic.py:818: ConvergenceWarning: lbfgs failed to converge (status=1):\n",
            "STOP: TOTAL NO. of ITERATIONS REACHED LIMIT.\n",
            "\n",
            "Increase the number of iterations (max_iter) or scale the data as shown in:\n",
            "    https://scikit-learn.org/stable/modules/preprocessing.html\n",
            "Please also refer to the documentation for alternative solver options:\n",
            "    https://scikit-learn.org/stable/modules/linear_model.html#logistic-regression\n",
            "  extra_warning_msg=_LOGISTIC_SOLVER_CONVERGENCE_MSG,\n"
          ]
        },
        {
          "output_type": "display_data",
          "data": {
            "text/plain": [
              "<Figure size 432x288 with 2 Axes>"
            ],
            "image/png": "[encoded data removed]"
          },
          "metadata": {
            "needs_background": "light"
          }
        }
      ]
    },
    {
      "cell_type": "code",
      "source": [
        "print('Accuracy Score: ',accuracy_score(t_target,y_pred))\n",
        "print('F1 Score (Macro): ',f1_score(t_target,y_pred,average='macro'))\n",
        "print('F1 Score (Micro): ',f1_score(t_target,y_pred,average='micro'))\n",
        "print('F1 Score (Weighted): ',f1_score(t_target,y_pred,average='weighted'))\n",
        "print('ROC-AUC_Score (OVR):',roc_auc_score(t_target,log_reg.predict_proba(t_features),multi_class='ovr'))\n",
        "print('ROC-AUC_Score (OVO):',roc_auc_score(t_target,log_reg.predict_proba(t_features),multi_class='ovo'))"
      ],
      "metadata": {
        "colab": {
          "base_uri": "https://localhost:8080/"
        },
        "id": "eOcwgu1veoPN",
        "outputId": "51558af2-d81f-4d1b-d291-1e7cad0e1273"
      },
      "id": "eOcwgu1veoPN",
      "execution_count": null,
      "outputs": [
        {
          "output_type": "stream",
          "name": "stdout",
          "text": [
            "Accuracy Score:  0.4468599033816425\n",
            "F1 Score (Macro):  0.2638931880558823\n",
            "F1 Score (Micro):  0.4468599033816425\n",
            "F1 Score (Weighted):  0.3814278278774038\n",
            "ROC-AUC_Score (OVR): 0.6944715965843165\n",
            "ROC-AUC_Score (OVO): 0.6965842012771103\n"
          ]
        }
      ]
    },
    {
      "cell_type": "code",
      "source": [
        "print(classification_report(t_target,y_pred))"
      ],
      "metadata": {
        "colab": {
          "base_uri": "https://localhost:8080/"
        },
        "id": "ncHs_5aye4Nn",
        "outputId": "1052b235-5c78-436f-cbfc-52bb6825726b"
      },
      "id": "ncHs_5aye4Nn",
      "execution_count": null,
      "outputs": [
        {
          "output_type": "stream",
          "name": "stdout",
          "text": [
            "              precision    recall  f1-score   support\n",
            "\n",
            "           0       0.49      0.79      0.61       639\n",
            "           1       0.00      0.00      0.00       296\n",
            "           2       0.39      0.37      0.38       447\n",
            "           3       0.37      0.30      0.33       223\n",
            "           4       0.00      0.00      0.00        51\n",
            "\n",
            "    accuracy                           0.45      1656\n",
            "   macro avg       0.25      0.29      0.26      1656\n",
            "weighted avg       0.34      0.45      0.38      1656\n",
            "\n"
          ]
        }
      ]
    },
    {
      "cell_type": "markdown",
      "source": [
        "### 3. Naive Bayes Classifier"
      ],
      "metadata": {
        "id": "-Svj0Z1bBdEr"
      },
      "id": "-Svj0Z1bBdEr"
    },
    {
      "cell_type": "code",
      "source": [
        "from sklearn.naive_bayes import GaussianNB\n",
        "clf = GaussianNB()\n",
        "clf.fit(features,target)\n",
        "y_pred = clf.predict(t_features)\n",
        "cnf = confusion_matrix(t_target,y_pred)\n",
        "class_names = ['0','1','2','3','4']\n",
        "fig, ax = plt.subplots()\n",
        "tick_marks = np.arange(len(class_names))\n",
        "plt.xticks(tick_marks,class_names)\n",
        "plt.yticks(tick_marks,class_names)\n",
        "sns.heatmap(pd.DataFrame(cnf),annot=True,cmap='Blues_r',fmt='g')\n",
        "ax.xaxis.set_label_position(\"top\")\n",
        "plt.tight_layout()\n",
        "plt.title('Confusion matrix', y=1.1)\n",
        "plt.ylabel('Actual label')\n",
        "plt.xlabel('Predicted label')\n",
        "plt.Text(0.5,257.44,'Predicted label')\n",
        "plt.show()"
      ],
      "metadata": {
        "colab": {
          "base_uri": "https://localhost:8080/",
          "height": 325
        },
        "id": "bURQjLRPB7lo",
        "outputId": "7859adbe-bec2-40f7-f0b1-bce836c9e704"
      },
      "id": "bURQjLRPB7lo",
      "execution_count": null,
      "outputs": [
        {
          "output_type": "display_data",
          "data": {
            "text/plain": [
              "<Figure size 432x288 with 2 Axes>"
            ],
            "image/png": "[encoded data removed]"
          },
          "metadata": {
            "needs_background": "light"
          }
        }
      ]
    },
    {
      "cell_type": "code",
      "source": [
        "print('Accuracy Score: ',accuracy_score(t_target,y_pred))\n",
        "print('F1 Score (Macro): ',f1_score(t_target,y_pred,average='macro'))\n",
        "print('F1 Score (Micro): ',f1_score(t_target,y_pred,average='micro'))\n",
        "print('F1 Score (Weighted): ',f1_score(t_target,y_pred,average='weighted'))\n",
        "print('ROC-AUC_Score (OVR):',roc_auc_score(t_target,clf.predict_proba(t_features),multi_class='ovr'))\n",
        "print('ROC-AUC_Score (OVO):',roc_auc_score(t_target,clf.predict_proba(t_features),multi_class='ovo'))"
      ],
      "metadata": {
        "colab": {
          "base_uri": "https://localhost:8080/"
        },
        "id": "4wsgFtgWfBSI",
        "outputId": "e5b901c8-a052-48d3-e2a0-e1448464a65d"
      },
      "id": "4wsgFtgWfBSI",
      "execution_count": null,
      "outputs": [
        {
          "output_type": "stream",
          "name": "stdout",
          "text": [
            "Accuracy Score:  0.20893719806763286\n",
            "F1 Score (Macro):  0.182432382365392\n",
            "F1 Score (Micro):  0.20893719806763286\n",
            "F1 Score (Weighted):  0.2043566103526038\n",
            "ROC-AUC_Score (OVR): 0.5455079568762807\n",
            "ROC-AUC_Score (OVO): 0.549574939738492\n"
          ]
        }
      ]
    },
    {
      "cell_type": "code",
      "source": [
        "print(classification_report(t_target,y_pred))"
      ],
      "metadata": {
        "colab": {
          "base_uri": "https://localhost:8080/"
        },
        "id": "Xvtx4thPfBbT",
        "outputId": "e1317c9a-9760-4da8-ae91-b6fa34279dc2"
      },
      "id": "Xvtx4thPfBbT",
      "execution_count": null,
      "outputs": [
        {
          "output_type": "stream",
          "name": "stdout",
          "text": [
            "              precision    recall  f1-score   support\n",
            "\n",
            "           0       0.48      0.16      0.24       639\n",
            "           1       0.20      0.49      0.28       296\n",
            "           2       0.25      0.07      0.11       447\n",
            "           3       0.17      0.23      0.20       223\n",
            "           4       0.04      0.24      0.07        51\n",
            "\n",
            "    accuracy                           0.21      1656\n",
            "   macro avg       0.23      0.24      0.18      1656\n",
            "weighted avg       0.31      0.21      0.20      1656\n",
            "\n"
          ]
        }
      ]
    },
    {
      "cell_type": "markdown",
      "source": [
        "### 4. Support Vector Machines"
      ],
      "metadata": {
        "id": "DgW-ypUEBdG9"
      },
      "id": "DgW-ypUEBdG9"
    },
    {
      "cell_type": "code",
      "source": [
        "from sklearn.svm import SVC\n",
        "svm_model = SVC(kernel='rbf',C=1,probability=True)\n",
        "svm_model.fit(features,target)\n",
        "y_pred = svm_model.predict(t_features)\n",
        "cnf = confusion_matrix(t_target,y_pred)\n",
        "class_names = ['0','1','2','3','4']\n",
        "fig, ax = plt.subplots()\n",
        "tick_marks = np.arange(len(class_names))\n",
        "plt.xticks(tick_marks,class_names)\n",
        "plt.yticks(tick_marks,class_names)\n",
        "sns.heatmap(pd.DataFrame(cnf),annot=True,cmap='Blues_r',fmt='g')\n",
        "ax.xaxis.set_label_position(\"top\")\n",
        "plt.tight_layout()\n",
        "plt.title('Confusion matrix', y=1.1)\n",
        "plt.ylabel('Actual label')\n",
        "plt.xlabel('Predicted label')\n",
        "plt.Text(0.5,257.44,'Predicted label')\n",
        "plt.show()"
      ],
      "metadata": {
        "id": "7XoVI0fzCuJg",
        "colab": {
          "base_uri": "https://localhost:8080/",
          "height": 325
        },
        "outputId": "5da9c5d7-bf45-428c-ca48-e78b0a506613"
      },
      "id": "7XoVI0fzCuJg",
      "execution_count": null,
      "outputs": [
        {
          "output_type": "display_data",
          "data": {
            "text/plain": [
              "<Figure size 432x288 with 2 Axes>"
            ],
            "image/png": "[encoded data removed]"
          },
          "metadata": {
            "needs_background": "light"
          }
        }
      ]
    },
    {
      "cell_type": "code",
      "source": [
        "print('Accuracy Score: ',accuracy_score(t_target,y_pred))\n",
        "print('F1 Score (Macro): ',f1_score(t_target,y_pred,average='macro'))\n",
        "print('F1 Score (Micro): ',f1_score(t_target,y_pred,average='micro'))\n",
        "print('F1 Score (Weighted): ',f1_score(t_target,y_pred,average='weighted'))\n",
        "print('ROC-AUC_Score (OVR):',roc_auc_score(t_target,svm_model.predict_proba(t_features),multi_class='ovr'))\n",
        "print('ROC-AUC_Score (OVO):',roc_auc_score(t_target,svm_model.predict_proba(t_features),multi_class='ovo'))"
      ],
      "metadata": {
        "id": "A57quiTHgGwL",
        "colab": {
          "base_uri": "https://localhost:8080/"
        },
        "outputId": "a0fed9c8-7270-434c-9147-39ba5aa5a751"
      },
      "id": "A57quiTHgGwL",
      "execution_count": null,
      "outputs": [
        {
          "output_type": "stream",
          "name": "stdout",
          "text": [
            "Accuracy Score:  0.41002415458937197\n",
            "F1 Score (Macro):  0.17319193527986648\n",
            "F1 Score (Micro):  0.41002415458937197\n",
            "F1 Score (Weighted):  0.298527432999478\n",
            "ROC-AUC_Score (OVR): 0.7051706470939567\n",
            "ROC-AUC_Score (OVO): 0.717887254061518\n"
          ]
        }
      ]
    },
    {
      "cell_type": "code",
      "source": [
        "print(classification_report(t_target,y_pred))"
      ],
      "metadata": {
        "id": "DZLyKxShgG5B",
        "colab": {
          "base_uri": "https://localhost:8080/"
        },
        "outputId": "c0f014a5-8475-4713-fd06-feea4d4858e6"
      },
      "id": "DZLyKxShgG5B",
      "execution_count": null,
      "outputs": [
        {
          "output_type": "stream",
          "name": "stdout",
          "text": [
            "              precision    recall  f1-score   support\n",
            "\n",
            "           0       0.43      0.90      0.58       639\n",
            "           1       0.00      0.00      0.00       296\n",
            "           2       0.34      0.22      0.27       447\n",
            "           3       0.29      0.01      0.02       223\n",
            "           4       0.00      0.00      0.00        51\n",
            "\n",
            "    accuracy                           0.41      1656\n",
            "   macro avg       0.21      0.23      0.17      1656\n",
            "weighted avg       0.29      0.41      0.30      1656\n",
            "\n"
          ]
        },
        {
          "output_type": "stream",
          "name": "stderr",
          "text": [
            "/usr/local/lib/python3.7/dist-packages/sklearn/metrics/_classification.py:1318: UndefinedMetricWarning: Precision and F-score are ill-defined and being set to 0.0 in labels with no predicted samples. Use `zero_division` parameter to control this behavior.\n",
            "  _warn_prf(average, modifier, msg_start, len(result))\n",
            "/usr/local/lib/python3.7/dist-packages/sklearn/metrics/_classification.py:1318: UndefinedMetricWarning: Precision and F-score are ill-defined and being set to 0.0 in labels with no predicted samples. Use `zero_division` parameter to control this behavior.\n",
            "  _warn_prf(average, modifier, msg_start, len(result))\n",
            "/usr/local/lib/python3.7/dist-packages/sklearn/metrics/_classification.py:1318: UndefinedMetricWarning: Precision and F-score are ill-defined and being set to 0.0 in labels with no predicted samples. Use `zero_division` parameter to control this behavior.\n",
            "  _warn_prf(average, modifier, msg_start, len(result))\n"
          ]
        }
      ]
    },
    {
      "cell_type": "markdown",
      "source": [
        "### 5. Decision Tree Classifier"
      ],
      "metadata": {
        "id": "XEf6INH2BdJH"
      },
      "id": "XEf6INH2BdJH"
    },
    {
      "cell_type": "code",
      "source": [
        "from sklearn.tree import DecisionTreeClassifier\n",
        "clf = DecisionTreeClassifier()\n",
        "clf.fit(features,target)\n",
        "y_pred = clf.predict(t_features)\n",
        "cnf = confusion_matrix(t_target,y_pred)\n",
        "class_names = ['0','1','2','3','4']\n",
        "fig, ax = plt.subplots()\n",
        "tick_marks = np.arange(len(class_names))\n",
        "plt.xticks(tick_marks,class_names)\n",
        "plt.yticks(tick_marks,class_names)\n",
        "sns.heatmap(pd.DataFrame(cnf),annot=True,cmap='Blues_r',fmt='g')\n",
        "ax.xaxis.set_label_position(\"top\")\n",
        "plt.tight_layout()\n",
        "plt.title('Confusion matrix', y=1.1)\n",
        "plt.ylabel('Actual label')\n",
        "plt.xlabel('Predicted label')\n",
        "plt.Text(0.5,257.44,'Predicted label')\n",
        "plt.show()"
      ],
      "metadata": {
        "id": "5cv6hZ47Cva0",
        "colab": {
          "base_uri": "https://localhost:8080/",
          "height": 325
        },
        "outputId": "d9499b74-c7f8-4e35-855e-5315197a9c24"
      },
      "id": "5cv6hZ47Cva0",
      "execution_count": null,
      "outputs": [
        {
          "data": {
            "image/png": "[encoded data removed]",
            "text/plain": [
              "<Figure size 432x288 with 2 Axes>"
            ]
          },
          "metadata": {},
          "output_type": "display_data"
        }
      ]
    },
    {
      "cell_type": "code",
      "source": [
        "print('Accuracy Score: ',accuracy_score(t_target,y_pred))\n",
        "print('F1 Score (Macro): ',f1_score(t_target,y_pred,average='macro'))\n",
        "print('F1 Score (Micro): ',f1_score(t_target,y_pred,average='micro'))\n",
        "print('F1 Score (Weighted): ',f1_score(t_target,y_pred,average='weighted'))\n",
        "print('ROC-AUC_Score (OVR):',roc_auc_score(t_target,clf.predict_proba(t_features),multi_class='ovr'))\n",
        "print('ROC-AUC_Score (OVO):',roc_auc_score(t_target,clf.predict_proba(t_features),multi_class='ovo'))"
      ],
      "metadata": {
        "id": "K0egRFykgYbx",
        "colab": {
          "base_uri": "https://localhost:8080/"
        },
        "outputId": "ceb07ded-e1fd-4447-fdbe-2280d69c8988"
      },
      "id": "K0egRFykgYbx",
      "execution_count": null,
      "outputs": [
        {
          "metadata": {
            "tags": null
          },
          "name": "stdout",
          "output_type": "stream",
          "text": [
            "Accuracy Score:  0.3164251207729469\n",
            "F1 Score (Macro):  0.24945219276447003\n",
            "F1 Score (Micro):  0.3164251207729469\n",
            "F1 Score (Weighted):  0.3175262414349375\n",
            "ROC-AUC_Score (OVR): 0.5310269559581415\n",
            "ROC-AUC_Score (OVO): 0.5304680787020182\n"
          ]
        }
      ]
    },
    {
      "cell_type": "code",
      "source": [
        "print(classification_report(t_target,y_pred))"
      ],
      "metadata": {
        "id": "3AqOAhHNgYko",
        "colab": {
          "base_uri": "https://localhost:8080/"
        },
        "outputId": "40688a03-b833-412c-8bfc-dbfe77c05c46"
      },
      "id": "3AqOAhHNgYko",
      "execution_count": null,
      "outputs": [
        {
          "metadata": {
            "tags": null
          },
          "name": "stdout",
          "output_type": "stream",
          "text": [
            "              precision    recall  f1-score   support\n",
            "\n",
            "           0       0.45      0.45      0.45       639\n",
            "           1       0.19      0.22      0.20       296\n",
            "           2       0.30      0.27      0.29       447\n",
            "           3       0.20      0.21      0.20       223\n",
            "           4       0.12      0.10      0.11        51\n",
            "\n",
            "    accuracy                           0.32      1656\n",
            "   macro avg       0.25      0.25      0.25      1656\n",
            "weighted avg       0.32      0.32      0.32      1656\n",
            "\n"
          ]
        }
      ]
    },
    {
      "cell_type": "markdown",
      "source": [
        "### 6. Random Forest Classifier"
      ],
      "metadata": {
        "id": "o2pSY9yHBdLU"
      },
      "id": "o2pSY9yHBdLU"
    },
    {
      "cell_type": "code",
      "source": [
        "from sklearn.ensemble import RandomForestClassifier\n",
        "clf = RandomForestClassifier(max_depth=3,random_state=0)\n",
        "clf.fit(features,target)\n",
        "y_pred = clf.predict(t_features)\n",
        "cnf = confusion_matrix(t_target,y_pred)\n",
        "class_names = ['0','1','2','3','4']\n",
        "fig, ax = plt.subplots()\n",
        "tick_marks = np.arange(len(class_names))\n",
        "plt.xticks(tick_marks,class_names)\n",
        "plt.yticks(tick_marks,class_names)\n",
        "sns.heatmap(pd.DataFrame(cnf),annot=True,cmap='Blues_r',fmt='g')\n",
        "ax.xaxis.set_label_position(\"top\")\n",
        "plt.tight_layout()\n",
        "plt.title('Confusion matrix', y=1.1)\n",
        "plt.ylabel('Actual label')\n",
        "plt.xlabel('Predicted label')\n",
        "plt.Text(0.5,257.44,'Predicted label')\n",
        "plt.show()"
      ],
      "metadata": {
        "id": "G6q9527DCwv7",
        "colab": {
          "base_uri": "https://localhost:8080/",
          "height": 325
        },
        "outputId": "f4ecb111-6afc-4f9e-d84c-382e4c4b165c"
      },
      "id": "G6q9527DCwv7",
      "execution_count": null,
      "outputs": [
        {
          "output_type": "display_data",
          "data": {
            "text/plain": [
              "<Figure size 432x288 with 2 Axes>"
            ],
            "image/png": "[encoded data removed]"
          },
          "metadata": {
            "needs_background": "light"
          }
        }
      ]
    },
    {
      "cell_type": "code",
      "source": [
        "print('Accuracy Score: ',accuracy_score(t_target,y_pred))\n",
        "print('F1 Score (Macro): ',f1_score(t_target,y_pred,average='macro'))\n",
        "print('F1 Score (Micro): ',f1_score(t_target,y_pred,average='micro'))\n",
        "print('F1 Score (Weighted): ',f1_score(t_target,y_pred,average='weighted'))\n",
        "print('ROC-AUC_Score (OVR):',roc_auc_score(t_target,clf.predict_proba(t_features),multi_class='ovr'))\n",
        "print('ROC-AUC_Score (OVO):',roc_auc_score(t_target,clf.predict_proba(t_features),multi_class='ovo'))"
      ],
      "metadata": {
        "id": "7BCxlwPggZv0",
        "colab": {
          "base_uri": "https://localhost:8080/"
        },
        "outputId": "987199d1-061e-4bc8-ba1b-010a2bb392c5"
      },
      "id": "7BCxlwPggZv0",
      "execution_count": null,
      "outputs": [
        {
          "output_type": "stream",
          "name": "stdout",
          "text": [
            "Accuracy Score:  0.3864734299516908\n",
            "F1 Score (Macro):  0.14824120049278564\n",
            "F1 Score (Micro):  0.3864734299516908\n",
            "F1 Score (Weighted):  0.26428083861967006\n",
            "ROC-AUC_Score (OVR): 0.6165844599309672\n",
            "ROC-AUC_Score (OVO): 0.6073051200338779\n"
          ]
        }
      ]
    },
    {
      "cell_type": "code",
      "source": [
        "print(classification_report(t_target,y_pred))"
      ],
      "metadata": {
        "id": "XducDeuHgZ3w",
        "colab": {
          "base_uri": "https://localhost:8080/"
        },
        "outputId": "7c64bd30-ebbf-4c46-84ef-1c1957eb7626"
      },
      "id": "XducDeuHgZ3w",
      "execution_count": null,
      "outputs": [
        {
          "output_type": "stream",
          "name": "stdout",
          "text": [
            "              precision    recall  f1-score   support\n",
            "\n",
            "           0       0.40      0.91      0.55       639\n",
            "           1       0.00      0.00      0.00       296\n",
            "           2       0.30      0.14      0.19       447\n",
            "           3       0.00      0.00      0.00       223\n",
            "           4       0.00      0.00      0.00        51\n",
            "\n",
            "    accuracy                           0.39      1656\n",
            "   macro avg       0.14      0.21      0.15      1656\n",
            "weighted avg       0.23      0.39      0.26      1656\n",
            "\n"
          ]
        },
        {
          "output_type": "stream",
          "name": "stderr",
          "text": [
            "/usr/local/lib/python3.7/dist-packages/sklearn/metrics/_classification.py:1318: UndefinedMetricWarning: Precision and F-score are ill-defined and being set to 0.0 in labels with no predicted samples. Use `zero_division` parameter to control this behavior.\n",
            "  _warn_prf(average, modifier, msg_start, len(result))\n",
            "/usr/local/lib/python3.7/dist-packages/sklearn/metrics/_classification.py:1318: UndefinedMetricWarning: Precision and F-score are ill-defined and being set to 0.0 in labels with no predicted samples. Use `zero_division` parameter to control this behavior.\n",
            "  _warn_prf(average, modifier, msg_start, len(result))\n",
            "/usr/local/lib/python3.7/dist-packages/sklearn/metrics/_classification.py:1318: UndefinedMetricWarning: Precision and F-score are ill-defined and being set to 0.0 in labels with no predicted samples. Use `zero_division` parameter to control this behavior.\n",
            "  _warn_prf(average, modifier, msg_start, len(result))\n"
          ]
        }
      ]
    }
  ],
  "metadata": {
    "kernelspec": {
      "display_name": "Python 3 (ipykernel)",
      "language": "python",
      "name": "python3"
    },
    "language_info": {
      "codemirror_mode": {
        "name": "ipython",
        "version": 3
      },
      "file_extension": ".py",
      "mimetype": "text/x-python",
      "name": "python",
      "nbconvert_exporter": "python",
      "pygments_lexer": "ipython3",
      "version": "3.8.13"
    },
    "colab": {
      "provenance": [],
      "collapsed_sections": [],
      "include_colab_link": true
    }
  },
  "nbformat": 4,
  "nbformat_minor": 5
}