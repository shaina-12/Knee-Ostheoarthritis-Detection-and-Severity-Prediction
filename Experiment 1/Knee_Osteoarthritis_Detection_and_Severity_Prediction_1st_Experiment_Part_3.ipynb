{
  "cells": [
    {
      "cell_type": "markdown",
      "metadata": {
        "id": "view-in-github",
        "colab_type": "text"
      },
      "source": [
        "<a href=\"https://colab.research.google.com/github/shaina-12/Knee-Ostheoarthritis-Detection-and-Severity-Prediction/blob/main/Experiment%201/Knee_Osteoarthritis_Detection_and_Severity_Prediction_1st_Experiment_Part_3.ipynb\" target=\"_parent\"><img src=\"https://colab.research.google.com/assets/colab-badge.svg\" alt=\"Open In Colab\"/></a>"
      ]
    },
    {
      "cell_type": "code",
      "execution_count": 49,
      "id": "62dc09dd",
      "metadata": {
        "id": "62dc09dd"
      },
      "outputs": [],
      "source": [
        "import numpy as np\n",
        "import pandas as pd\n",
        "import matplotlib.pyplot as plt\n",
        "import seaborn as sns\n",
        "%matplotlib inline"
      ]
    },
    {
      "cell_type": "code",
      "execution_count": 50,
      "id": "9d6e4ae2",
      "metadata": {
        "id": "9d6e4ae2"
      },
      "outputs": [],
      "source": [
        "import cv2 as cv\n",
        "import os\n",
        "from sklearn.cluster import KMeans"
      ]
    },
    {
      "cell_type": "code",
      "execution_count": 51,
      "id": "koCoXwBBEP23",
      "metadata": {
        "colab": {
          "base_uri": "https://localhost:8080/"
        },
        "id": "koCoXwBBEP23",
        "outputId": "c343bc5c-25ba-46a5-ab20-188946e4c73c"
      },
      "outputs": [
        {
          "output_type": "stream",
          "name": "stdout",
          "text": [
            "Drive already mounted at /content/drive/; to attempt to forcibly remount, call drive.mount(\"/content/drive/\", force_remount=True).\n"
          ]
        }
      ],
      "source": [
        "from google.colab import drive\n",
        "drive.mount('/content/drive/')"
      ]
    },
    {
      "cell_type": "code",
      "execution_count": 52,
      "id": "2312b98d",
      "metadata": {
        "id": "2312b98d"
      },
      "outputs": [],
      "source": [
        "train_path = \"/content/drive/My Drive/train/\"\n",
        "test_path = \"/content/drive/My Drive/test/\""
      ]
    },
    {
      "cell_type": "markdown",
      "id": "c65ffa9d",
      "metadata": {
        "id": "c65ffa9d"
      },
      "source": [
        "## Lets Collect The Training Data"
      ]
    },
    {
      "cell_type": "code",
      "execution_count": 53,
      "id": "bf2f001c",
      "metadata": {
        "id": "bf2f001c"
      },
      "outputs": [],
      "source": [
        "grades = ['grade_0','grade_1','grade_2','grade_3','grade_4']\n",
        "finalListTrain = []\n",
        "finalTrainLabels = []\n",
        "for i in range(len(grades)):\n",
        "    dir_join = train_path+grades[i]\n",
        "    for file in os.listdir(dir_join):\n",
        "        finalListTrain.append(dir_join+'/'+file)\n",
        "        finalTrainLabels.append(i)\n",
        "#dir_join = train_path+grades[0]  \n",
        "#l = os.listdir(os.path.join(dir_join))\n",
        "#l"
      ]
    },
    {
      "cell_type": "markdown",
      "id": "17e079de",
      "metadata": {
        "id": "17e079de"
      },
      "source": [
        "## Similarly, we can collect the test data"
      ]
    },
    {
      "cell_type": "code",
      "execution_count": 54,
      "id": "3097e3e1",
      "metadata": {
        "id": "3097e3e1"
      },
      "outputs": [],
      "source": [
        "finalListTest = []\n",
        "finalTestLabels = []\n",
        "for i in range(len(grades)):\n",
        "    dir_join = test_path+grades[i]\n",
        "    for file in os.listdir(dir_join):\n",
        "        finalListTest.append(dir_join+'/'+file)\n",
        "        finalTestLabels.append(i)"
      ]
    },
    {
      "cell_type": "markdown",
      "id": "091870a7",
      "metadata": {
        "id": "091870a7"
      },
      "source": [
        "## Lets create pandas dataframe for both training and test data"
      ]
    },
    {
      "cell_type": "code",
      "execution_count": 55,
      "id": "1f9ce756",
      "metadata": {
        "id": "1f9ce756"
      },
      "outputs": [],
      "source": [
        "train_dat = {'path':finalListTrain,'label':finalTrainLabels}\n",
        "test_dat = {'path':finalListTest,'label':finalTestLabels}"
      ]
    },
    {
      "cell_type": "code",
      "execution_count": 56,
      "id": "e433f9c9",
      "metadata": {
        "colab": {
          "base_uri": "https://localhost:8080/",
          "height": 206
        },
        "id": "e433f9c9",
        "outputId": "5328864d-21a0-445e-e228-35e0c3cad365"
      },
      "outputs": [
        {
          "output_type": "execute_result",
          "data": {
            "text/plain": [
              "                                                path  label\n",
              "0  /content/drive/My Drive/train/grade_0/9512848R...      0\n",
              "1  /content/drive/My Drive/train/grade_0/9465265L...      0\n",
              "2  /content/drive/My Drive/train/grade_0/9679243L...      0\n",
              "3  /content/drive/My Drive/train/grade_0/9302341L...      0\n",
              "4  /content/drive/My Drive/train/grade_0/9023407L...      0"
            ],
            "text/html": [
              "\n",
              "  <div id=\"df-24e83e57-b275-49cd-8059-10b88fe602f1\">\n",
              "    <div class=\"colab-df-container\">\n",
              "      <div>\n",
              "<style scoped>\n",
              "    .dataframe tbody tr th:only-of-type {\n",
              "        vertical-align: middle;\n",
              "    }\n",
              "\n",
              "    .dataframe tbody tr th {\n",
              "        vertical-align: top;\n",
              "    }\n",
              "\n",
              "    .dataframe thead th {\n",
              "        text-align: right;\n",
              "    }\n",
              "</style>\n",
              "<table border=\"1\" class=\"dataframe\">\n",
              "  <thead>\n",
              "    <tr style=\"text-align: right;\">\n",
              "      <th></th>\n",
              "      <th>path</th>\n",
              "      <th>label</th>\n",
              "    </tr>\n",
              "  </thead>\n",
              "  <tbody>\n",
              "    <tr>\n",
              "      <th>0</th>\n",
              "      <td>/content/drive/My Drive/train/grade_0/9512848R...</td>\n",
              "      <td>0</td>\n",
              "    </tr>\n",
              "    <tr>\n",
              "      <th>1</th>\n",
              "      <td>/content/drive/My Drive/train/grade_0/9465265L...</td>\n",
              "      <td>0</td>\n",
              "    </tr>\n",
              "    <tr>\n",
              "      <th>2</th>\n",
              "      <td>/content/drive/My Drive/train/grade_0/9679243L...</td>\n",
              "      <td>0</td>\n",
              "    </tr>\n",
              "    <tr>\n",
              "      <th>3</th>\n",
              "      <td>/content/drive/My Drive/train/grade_0/9302341L...</td>\n",
              "      <td>0</td>\n",
              "    </tr>\n",
              "    <tr>\n",
              "      <th>4</th>\n",
              "      <td>/content/drive/My Drive/train/grade_0/9023407L...</td>\n",
              "      <td>0</td>\n",
              "    </tr>\n",
              "  </tbody>\n",
              "</table>\n",
              "</div>\n",
              "      <button class=\"colab-df-convert\" onclick=\"convertToInteractive('df-24e83e57-b275-49cd-8059-10b88fe602f1')\"\n",
              "              title=\"Convert this dataframe to an interactive table.\"\n",
              "              style=\"display:none;\">\n",
              "        \n",
              "  <svg xmlns=\"http://www.w3.org/2000/svg\" height=\"24px\"viewBox=\"0 0 24 24\"\n",
              "       width=\"24px\">\n",
              "    <path d=\"M0 0h24v24H0V0z\" fill=\"none\"/>\n",
              "    <path d=\"M18.56 5.44l.94 2.06.94-2.06 2.06-.94-2.06-.94-.94-2.06-.94 2.06-2.06.94zm-11 1L8.5 8.5l.94-2.06 2.06-.94-2.06-.94L8.5 2.5l-.94 2.06-2.06.94zm10 10l.94 2.06.94-2.06 2.06-.94-2.06-.94-.94-2.06-.94 2.06-2.06.94z\"/><path d=\"M17.41 7.96l-1.37-1.37c-.4-.4-.92-.59-1.43-.59-.52 0-1.04.2-1.43.59L10.3 9.45l-7.72 7.72c-.78.78-.78 2.05 0 2.83L4 21.41c.39.39.9.59 1.41.59.51 0 1.02-.2 1.41-.59l7.78-7.78 2.81-2.81c.8-.78.8-2.07 0-2.86zM5.41 20L4 18.59l7.72-7.72 1.47 1.35L5.41 20z\"/>\n",
              "  </svg>\n",
              "      </button>\n",
              "      \n",
              "  <style>\n",
              "    .colab-df-container {\n",
              "      display:flex;\n",
              "      flex-wrap:wrap;\n",
              "      gap: 12px;\n",
              "    }\n",
              "\n",
              "    .colab-df-convert {\n",
              "      background-color: #E8F0FE;\n",
              "      border: none;\n",
              "      border-radius: 50%;\n",
              "      cursor: pointer;\n",
              "      display: none;\n",
              "      fill: #1967D2;\n",
              "      height: 32px;\n",
              "      padding: 0 0 0 0;\n",
              "      width: 32px;\n",
              "    }\n",
              "\n",
              "    .colab-df-convert:hover {\n",
              "      background-color: #E2EBFA;\n",
              "      box-shadow: 0px 1px 2px rgba(60, 64, 67, 0.3), 0px 1px 3px 1px rgba(60, 64, 67, 0.15);\n",
              "      fill: #174EA6;\n",
              "    }\n",
              "\n",
              "    [theme=dark] .colab-df-convert {\n",
              "      background-color: #3B4455;\n",
              "      fill: #D2E3FC;\n",
              "    }\n",
              "\n",
              "    [theme=dark] .colab-df-convert:hover {\n",
              "      background-color: #434B5C;\n",
              "      box-shadow: 0px 1px 3px 1px rgba(0, 0, 0, 0.15);\n",
              "      filter: drop-shadow(0px 1px 2px rgba(0, 0, 0, 0.3));\n",
              "      fill: #FFFFFF;\n",
              "    }\n",
              "  </style>\n",
              "\n",
              "      <script>\n",
              "        const buttonEl =\n",
              "          document.querySelector('#df-24e83e57-b275-49cd-8059-10b88fe602f1 button.colab-df-convert');\n",
              "        buttonEl.style.display =\n",
              "          google.colab.kernel.accessAllowed ? 'block' : 'none';\n",
              "\n",
              "        async function convertToInteractive(key) {\n",
              "          const element = document.querySelector('#df-24e83e57-b275-49cd-8059-10b88fe602f1');\n",
              "          const dataTable =\n",
              "            await google.colab.kernel.invokeFunction('convertToInteractive',\n",
              "                                                     [key], {});\n",
              "          if (!dataTable) return;\n",
              "\n",
              "          const docLinkHtml = 'Like what you see? Visit the ' +\n",
              "            '<a target=\"_blank\" href=https://colab.research.google.com/notebooks/data_table.ipynb>data table notebook</a>'\n",
              "            + ' to learn more about interactive tables.';\n",
              "          element.innerHTML = '';\n",
              "          dataTable['output_type'] = 'display_data';\n",
              "          await google.colab.output.renderOutput(dataTable, element);\n",
              "          const docLink = document.createElement('div');\n",
              "          docLink.innerHTML = docLinkHtml;\n",
              "          element.appendChild(docLink);\n",
              "        }\n",
              "      </script>\n",
              "    </div>\n",
              "  </div>\n",
              "  "
            ]
          },
          "metadata": {},
          "execution_count": 56
        }
      ],
      "source": [
        "train_data = pd.DataFrame.from_dict(train_dat)\n",
        "train_data.head()"
      ]
    },
    {
      "cell_type": "code",
      "execution_count": 57,
      "id": "4fc961ab",
      "metadata": {
        "colab": {
          "base_uri": "https://localhost:8080/",
          "height": 206
        },
        "id": "4fc961ab",
        "outputId": "b54134f4-1af1-4fe9-f536-5d5dd4e6f020"
      },
      "outputs": [
        {
          "output_type": "execute_result",
          "data": {
            "text/plain": [
              "                                                path  label\n",
              "0  /content/drive/My Drive/test/grade_0/9807132L.png      0\n",
              "1  /content/drive/My Drive/test/grade_0/9588277L.png      0\n",
              "2  /content/drive/My Drive/test/grade_0/9074232L.png      0\n",
              "3  /content/drive/My Drive/test/grade_0/9952817R.png      0\n",
              "4  /content/drive/My Drive/test/grade_0/9254422R.png      0"
            ],
            "text/html": [
              "\n",
              "  <div id=\"df-f2ded84e-828c-46e8-ba9a-ed3818d8ed5c\">\n",
              "    <div class=\"colab-df-container\">\n",
              "      <div>\n",
              "<style scoped>\n",
              "    .dataframe tbody tr th:only-of-type {\n",
              "        vertical-align: middle;\n",
              "    }\n",
              "\n",
              "    .dataframe tbody tr th {\n",
              "        vertical-align: top;\n",
              "    }\n",
              "\n",
              "    .dataframe thead th {\n",
              "        text-align: right;\n",
              "    }\n",
              "</style>\n",
              "<table border=\"1\" class=\"dataframe\">\n",
              "  <thead>\n",
              "    <tr style=\"text-align: right;\">\n",
              "      <th></th>\n",
              "      <th>path</th>\n",
              "      <th>label</th>\n",
              "    </tr>\n",
              "  </thead>\n",
              "  <tbody>\n",
              "    <tr>\n",
              "      <th>0</th>\n",
              "      <td>/content/drive/My Drive/test/grade_0/9807132L.png</td>\n",
              "      <td>0</td>\n",
              "    </tr>\n",
              "    <tr>\n",
              "      <th>1</th>\n",
              "      <td>/content/drive/My Drive/test/grade_0/9588277L.png</td>\n",
              "      <td>0</td>\n",
              "    </tr>\n",
              "    <tr>\n",
              "      <th>2</th>\n",
              "      <td>/content/drive/My Drive/test/grade_0/9074232L.png</td>\n",
              "      <td>0</td>\n",
              "    </tr>\n",
              "    <tr>\n",
              "      <th>3</th>\n",
              "      <td>/content/drive/My Drive/test/grade_0/9952817R.png</td>\n",
              "      <td>0</td>\n",
              "    </tr>\n",
              "    <tr>\n",
              "      <th>4</th>\n",
              "      <td>/content/drive/My Drive/test/grade_0/9254422R.png</td>\n",
              "      <td>0</td>\n",
              "    </tr>\n",
              "  </tbody>\n",
              "</table>\n",
              "</div>\n",
              "      <button class=\"colab-df-convert\" onclick=\"convertToInteractive('df-f2ded84e-828c-46e8-ba9a-ed3818d8ed5c')\"\n",
              "              title=\"Convert this dataframe to an interactive table.\"\n",
              "              style=\"display:none;\">\n",
              "        \n",
              "  <svg xmlns=\"http://www.w3.org/2000/svg\" height=\"24px\"viewBox=\"0 0 24 24\"\n",
              "       width=\"24px\">\n",
              "    <path d=\"M0 0h24v24H0V0z\" fill=\"none\"/>\n",
              "    <path d=\"M18.56 5.44l.94 2.06.94-2.06 2.06-.94-2.06-.94-.94-2.06-.94 2.06-2.06.94zm-11 1L8.5 8.5l.94-2.06 2.06-.94-2.06-.94L8.5 2.5l-.94 2.06-2.06.94zm10 10l.94 2.06.94-2.06 2.06-.94-2.06-.94-.94-2.06-.94 2.06-2.06.94z\"/><path d=\"M17.41 7.96l-1.37-1.37c-.4-.4-.92-.59-1.43-.59-.52 0-1.04.2-1.43.59L10.3 9.45l-7.72 7.72c-.78.78-.78 2.05 0 2.83L4 21.41c.39.39.9.59 1.41.59.51 0 1.02-.2 1.41-.59l7.78-7.78 2.81-2.81c.8-.78.8-2.07 0-2.86zM5.41 20L4 18.59l7.72-7.72 1.47 1.35L5.41 20z\"/>\n",
              "  </svg>\n",
              "      </button>\n",
              "      \n",
              "  <style>\n",
              "    .colab-df-container {\n",
              "      display:flex;\n",
              "      flex-wrap:wrap;\n",
              "      gap: 12px;\n",
              "    }\n",
              "\n",
              "    .colab-df-convert {\n",
              "      background-color: #E8F0FE;\n",
              "      border: none;\n",
              "      border-radius: 50%;\n",
              "      cursor: pointer;\n",
              "      display: none;\n",
              "      fill: #1967D2;\n",
              "      height: 32px;\n",
              "      padding: 0 0 0 0;\n",
              "      width: 32px;\n",
              "    }\n",
              "\n",
              "    .colab-df-convert:hover {\n",
              "      background-color: #E2EBFA;\n",
              "      box-shadow: 0px 1px 2px rgba(60, 64, 67, 0.3), 0px 1px 3px 1px rgba(60, 64, 67, 0.15);\n",
              "      fill: #174EA6;\n",
              "    }\n",
              "\n",
              "    [theme=dark] .colab-df-convert {\n",
              "      background-color: #3B4455;\n",
              "      fill: #D2E3FC;\n",
              "    }\n",
              "\n",
              "    [theme=dark] .colab-df-convert:hover {\n",
              "      background-color: #434B5C;\n",
              "      box-shadow: 0px 1px 3px 1px rgba(0, 0, 0, 0.15);\n",
              "      filter: drop-shadow(0px 1px 2px rgba(0, 0, 0, 0.3));\n",
              "      fill: #FFFFFF;\n",
              "    }\n",
              "  </style>\n",
              "\n",
              "      <script>\n",
              "        const buttonEl =\n",
              "          document.querySelector('#df-f2ded84e-828c-46e8-ba9a-ed3818d8ed5c button.colab-df-convert');\n",
              "        buttonEl.style.display =\n",
              "          google.colab.kernel.accessAllowed ? 'block' : 'none';\n",
              "\n",
              "        async function convertToInteractive(key) {\n",
              "          const element = document.querySelector('#df-f2ded84e-828c-46e8-ba9a-ed3818d8ed5c');\n",
              "          const dataTable =\n",
              "            await google.colab.kernel.invokeFunction('convertToInteractive',\n",
              "                                                     [key], {});\n",
              "          if (!dataTable) return;\n",
              "\n",
              "          const docLinkHtml = 'Like what you see? Visit the ' +\n",
              "            '<a target=\"_blank\" href=https://colab.research.google.com/notebooks/data_table.ipynb>data table notebook</a>'\n",
              "            + ' to learn more about interactive tables.';\n",
              "          element.innerHTML = '';\n",
              "          dataTable['output_type'] = 'display_data';\n",
              "          await google.colab.output.renderOutput(dataTable, element);\n",
              "          const docLink = document.createElement('div');\n",
              "          docLink.innerHTML = docLinkHtml;\n",
              "          element.appendChild(docLink);\n",
              "        }\n",
              "      </script>\n",
              "    </div>\n",
              "  </div>\n",
              "  "
            ]
          },
          "metadata": {},
          "execution_count": 57
        }
      ],
      "source": [
        "test_data = pd.DataFrame.from_dict(test_dat)\n",
        "test_data.head()"
      ]
    },
    {
      "cell_type": "markdown",
      "id": "3be794c8",
      "metadata": {
        "id": "3be794c8"
      },
      "source": [
        "## Time for Data Analysis"
      ]
    },
    {
      "cell_type": "code",
      "execution_count": 58,
      "id": "3dfa5d4c",
      "metadata": {
        "colab": {
          "base_uri": "https://localhost:8080/"
        },
        "id": "3dfa5d4c",
        "outputId": "a7b801dd-5e16-4702-d8f3-c05973146db7"
      },
      "outputs": [
        {
          "output_type": "execute_result",
          "data": {
            "text/plain": [
              "pandas.core.frame.DataFrame"
            ]
          },
          "metadata": {},
          "execution_count": 58
        }
      ],
      "source": [
        "type(train_data)"
      ]
    },
    {
      "cell_type": "code",
      "execution_count": 59,
      "id": "22c23fea",
      "metadata": {
        "colab": {
          "base_uri": "https://localhost:8080/"
        },
        "id": "22c23fea",
        "outputId": "ec2cf5fb-2687-4256-b29e-ed453fb0d09e"
      },
      "outputs": [
        {
          "output_type": "execute_result",
          "data": {
            "text/plain": [
              "path     6621\n",
              "label    6621\n",
              "dtype: int64"
            ]
          },
          "metadata": {},
          "execution_count": 59
        }
      ],
      "source": [
        "train_data.count()"
      ]
    },
    {
      "cell_type": "code",
      "execution_count": 60,
      "id": "9dfc55b4",
      "metadata": {
        "colab": {
          "base_uri": "https://localhost:8080/"
        },
        "id": "9dfc55b4",
        "outputId": "dc119d42-7327-4463-a03c-c46294ebbd64"
      },
      "outputs": [
        {
          "output_type": "stream",
          "name": "stdout",
          "text": [
            "<class 'pandas.core.frame.DataFrame'>\n",
            "RangeIndex: 6621 entries, 0 to 6620\n",
            "Data columns (total 2 columns):\n",
            " #   Column  Non-Null Count  Dtype \n",
            "---  ------  --------------  ----- \n",
            " 0   path    6621 non-null   object\n",
            " 1   label   6621 non-null   int64 \n",
            "dtypes: int64(1), object(1)\n",
            "memory usage: 103.6+ KB\n"
          ]
        }
      ],
      "source": [
        "train_data.info()"
      ]
    },
    {
      "cell_type": "code",
      "execution_count": 61,
      "id": "4d23fa5b",
      "metadata": {
        "colab": {
          "base_uri": "https://localhost:8080/"
        },
        "id": "4d23fa5b",
        "outputId": "9da267aa-8afb-42af-ffc2-51b014591b90"
      },
      "outputs": [
        {
          "output_type": "execute_result",
          "data": {
            "text/plain": [
              "(6621, 2)"
            ]
          },
          "metadata": {},
          "execution_count": 61
        }
      ],
      "source": [
        "train_data.shape"
      ]
    },
    {
      "cell_type": "code",
      "execution_count": 62,
      "id": "66a7f1c7",
      "metadata": {
        "colab": {
          "base_uri": "https://localhost:8080/"
        },
        "id": "66a7f1c7",
        "outputId": "24d83004-26cf-4e68-e760-13f6a083f48c"
      },
      "outputs": [
        {
          "output_type": "execute_result",
          "data": {
            "text/plain": [
              "path     1656\n",
              "label    1656\n",
              "dtype: int64"
            ]
          },
          "metadata": {},
          "execution_count": 62
        }
      ],
      "source": [
        "test_data.count()"
      ]
    },
    {
      "cell_type": "code",
      "execution_count": 63,
      "id": "b0eb5329",
      "metadata": {
        "colab": {
          "base_uri": "https://localhost:8080/"
        },
        "id": "b0eb5329",
        "outputId": "b799af73-3add-40f7-a81e-d16523adb69c"
      },
      "outputs": [
        {
          "output_type": "execute_result",
          "data": {
            "text/plain": [
              "(1656, 2)"
            ]
          },
          "metadata": {},
          "execution_count": 63
        }
      ],
      "source": [
        "test_data.shape"
      ]
    },
    {
      "cell_type": "code",
      "execution_count": 64,
      "id": "c744131c",
      "metadata": {
        "colab": {
          "base_uri": "https://localhost:8080/",
          "height": 206
        },
        "id": "c744131c",
        "outputId": "d53adf2e-28d6-406d-a224-96ae3d83a5d4"
      },
      "outputs": [
        {
          "output_type": "execute_result",
          "data": {
            "text/plain": [
              "  ostheoarthritis grading  count (both training and testing)\n",
              "0                 Grade 0                               3270\n",
              "1                 Grade 1                               1495\n",
              "2                 Grade 2                               2175\n",
              "3                 Grade 3                               1086\n",
              "4                 Grade 4                                251"
            ],
            "text/html": [
              "\n",
              "  <div id=\"df-4aca9967-1676-48c5-adce-064b912019f7\">\n",
              "    <div class=\"colab-df-container\">\n",
              "      <div>\n",
              "<style scoped>\n",
              "    .dataframe tbody tr th:only-of-type {\n",
              "        vertical-align: middle;\n",
              "    }\n",
              "\n",
              "    .dataframe tbody tr th {\n",
              "        vertical-align: top;\n",
              "    }\n",
              "\n",
              "    .dataframe thead th {\n",
              "        text-align: right;\n",
              "    }\n",
              "</style>\n",
              "<table border=\"1\" class=\"dataframe\">\n",
              "  <thead>\n",
              "    <tr style=\"text-align: right;\">\n",
              "      <th></th>\n",
              "      <th>ostheoarthritis grading</th>\n",
              "      <th>count (both training and testing)</th>\n",
              "    </tr>\n",
              "  </thead>\n",
              "  <tbody>\n",
              "    <tr>\n",
              "      <th>0</th>\n",
              "      <td>Grade 0</td>\n",
              "      <td>3270</td>\n",
              "    </tr>\n",
              "    <tr>\n",
              "      <th>1</th>\n",
              "      <td>Grade 1</td>\n",
              "      <td>1495</td>\n",
              "    </tr>\n",
              "    <tr>\n",
              "      <th>2</th>\n",
              "      <td>Grade 2</td>\n",
              "      <td>2175</td>\n",
              "    </tr>\n",
              "    <tr>\n",
              "      <th>3</th>\n",
              "      <td>Grade 3</td>\n",
              "      <td>1086</td>\n",
              "    </tr>\n",
              "    <tr>\n",
              "      <th>4</th>\n",
              "      <td>Grade 4</td>\n",
              "      <td>251</td>\n",
              "    </tr>\n",
              "  </tbody>\n",
              "</table>\n",
              "</div>\n",
              "      <button class=\"colab-df-convert\" onclick=\"convertToInteractive('df-4aca9967-1676-48c5-adce-064b912019f7')\"\n",
              "              title=\"Convert this dataframe to an interactive table.\"\n",
              "              style=\"display:none;\">\n",
              "        \n",
              "  <svg xmlns=\"http://www.w3.org/2000/svg\" height=\"24px\"viewBox=\"0 0 24 24\"\n",
              "       width=\"24px\">\n",
              "    <path d=\"M0 0h24v24H0V0z\" fill=\"none\"/>\n",
              "    <path d=\"M18.56 5.44l.94 2.06.94-2.06 2.06-.94-2.06-.94-.94-2.06-.94 2.06-2.06.94zm-11 1L8.5 8.5l.94-2.06 2.06-.94-2.06-.94L8.5 2.5l-.94 2.06-2.06.94zm10 10l.94 2.06.94-2.06 2.06-.94-2.06-.94-.94-2.06-.94 2.06-2.06.94z\"/><path d=\"M17.41 7.96l-1.37-1.37c-.4-.4-.92-.59-1.43-.59-.52 0-1.04.2-1.43.59L10.3 9.45l-7.72 7.72c-.78.78-.78 2.05 0 2.83L4 21.41c.39.39.9.59 1.41.59.51 0 1.02-.2 1.41-.59l7.78-7.78 2.81-2.81c.8-.78.8-2.07 0-2.86zM5.41 20L4 18.59l7.72-7.72 1.47 1.35L5.41 20z\"/>\n",
              "  </svg>\n",
              "      </button>\n",
              "      \n",
              "  <style>\n",
              "    .colab-df-container {\n",
              "      display:flex;\n",
              "      flex-wrap:wrap;\n",
              "      gap: 12px;\n",
              "    }\n",
              "\n",
              "    .colab-df-convert {\n",
              "      background-color: #E8F0FE;\n",
              "      border: none;\n",
              "      border-radius: 50%;\n",
              "      cursor: pointer;\n",
              "      display: none;\n",
              "      fill: #1967D2;\n",
              "      height: 32px;\n",
              "      padding: 0 0 0 0;\n",
              "      width: 32px;\n",
              "    }\n",
              "\n",
              "    .colab-df-convert:hover {\n",
              "      background-color: #E2EBFA;\n",
              "      box-shadow: 0px 1px 2px rgba(60, 64, 67, 0.3), 0px 1px 3px 1px rgba(60, 64, 67, 0.15);\n",
              "      fill: #174EA6;\n",
              "    }\n",
              "\n",
              "    [theme=dark] .colab-df-convert {\n",
              "      background-color: #3B4455;\n",
              "      fill: #D2E3FC;\n",
              "    }\n",
              "\n",
              "    [theme=dark] .colab-df-convert:hover {\n",
              "      background-color: #434B5C;\n",
              "      box-shadow: 0px 1px 3px 1px rgba(0, 0, 0, 0.15);\n",
              "      filter: drop-shadow(0px 1px 2px rgba(0, 0, 0, 0.3));\n",
              "      fill: #FFFFFF;\n",
              "    }\n",
              "  </style>\n",
              "\n",
              "      <script>\n",
              "        const buttonEl =\n",
              "          document.querySelector('#df-4aca9967-1676-48c5-adce-064b912019f7 button.colab-df-convert');\n",
              "        buttonEl.style.display =\n",
              "          google.colab.kernel.accessAllowed ? 'block' : 'none';\n",
              "\n",
              "        async function convertToInteractive(key) {\n",
              "          const element = document.querySelector('#df-4aca9967-1676-48c5-adce-064b912019f7');\n",
              "          const dataTable =\n",
              "            await google.colab.kernel.invokeFunction('convertToInteractive',\n",
              "                                                     [key], {});\n",
              "          if (!dataTable) return;\n",
              "\n",
              "          const docLinkHtml = 'Like what you see? Visit the ' +\n",
              "            '<a target=\"_blank\" href=https://colab.research.google.com/notebooks/data_table.ipynb>data table notebook</a>'\n",
              "            + ' to learn more about interactive tables.';\n",
              "          element.innerHTML = '';\n",
              "          dataTable['output_type'] = 'display_data';\n",
              "          await google.colab.output.renderOutput(dataTable, element);\n",
              "          const docLink = document.createElement('div');\n",
              "          docLink.innerHTML = docLinkHtml;\n",
              "          element.appendChild(docLink);\n",
              "        }\n",
              "      </script>\n",
              "    </div>\n",
              "  </div>\n",
              "  "
            ]
          },
          "metadata": {},
          "execution_count": 64
        }
      ],
      "source": [
        "df = pd.DataFrame()\n",
        "df['ostheoarthritis grading'] = ['Grade 0','Grade 1','Grade 2','Grade 3','Grade 4']\n",
        "grade_count = []\n",
        "for i in range(5):\n",
        "    gc = len(train_data[train_data['label']==i]) + len(test_data[test_data['label']==i])\n",
        "    grade_count.append(gc)\n",
        "df['count (both training and testing)'] = grade_count[:]\n",
        "df"
      ]
    },
    {
      "cell_type": "code",
      "execution_count": 65,
      "id": "a4e93839",
      "metadata": {
        "colab": {
          "base_uri": "https://localhost:8080/",
          "height": 295
        },
        "id": "a4e93839",
        "outputId": "977bd26c-ed8c-4409-a87c-88d7c9624eb7"
      },
      "outputs": [
        {
          "output_type": "display_data",
          "data": {
            "text/plain": [
              "<Figure size 432x288 with 1 Axes>"
            ],
            "image/png": "[encoded data removed]"
          },
          "metadata": {
            "needs_background": "light"
          }
        }
      ],
      "source": [
        "x = list(np.arange(5))\n",
        "y = list(df['count (both training and testing)'])\n",
        "plt.bar(x,y,color=['#9a01ff','#71a9fc','#01ffd5','#5cfe9d','#b7ff01'])\n",
        "plt.grid()\n",
        "plt.xticks(x,list(df['ostheoarthritis grading']))\n",
        "plt.xlabel('ostheoarthritis grading')\n",
        "plt.ylabel('count (both training and testing)')\n",
        "plt.title('Knee Ostheoarthritis')\n",
        "plt.show()"
      ]
    },
    {
      "cell_type": "code",
      "execution_count": 66,
      "id": "e5c4434a",
      "metadata": {
        "colab": {
          "base_uri": "https://localhost:8080/",
          "height": 236
        },
        "id": "e5c4434a",
        "outputId": "fa8d68f9-3f64-4177-eb85-4c8ea87c461d"
      },
      "outputs": [
        {
          "output_type": "display_data",
          "data": {
            "text/plain": [
              "<Figure size 1080x1080 with 5 Axes>"
            ],
            "image/png": "[encoded data removed]"
          },
          "metadata": {
            "needs_background": "light"
          }
        }
      ],
      "source": [
        "fig, ax = plt.subplots(1,5,figsize=(15,15))\n",
        "ax = ax.ravel()\n",
        "plt.tight_layout()\n",
        "ax = ax.ravel()\n",
        "plt.tight_layout()\n",
        "ldata = ['/content/drive/My Drive/train/grade_0/9005656L.png',\n",
        "         '/content/drive/My Drive/train/grade_1/9008561R.png',\n",
        "        '/content/drive/My Drive/train/grade_2/9024940L.png',\n",
        "        '/content/drive/My Drive/train/grade_3/9037823L.png',\n",
        "        '/content/drive/My Drive/train/grade_4/9204055R.png']\n",
        "lab = ['Grade 0','Grade 1','Grade 2','Grade 3','Grade 4']\n",
        "for i in range(0,5):\n",
        "    ax[i].imshow(plt.imread(ldata[i]), cmap='gray')\n",
        "    ax[i].set_title(lab[i])\n",
        "plt.show()"
      ]
    },
    {
      "cell_type": "markdown",
      "id": "a4855a0f",
      "metadata": {
        "id": "a4855a0f"
      },
      "source": [
        "## Lets Perform Image Segmentation on training images using K-Means \n"
      ]
    },
    {
      "cell_type": "code",
      "execution_count": 67,
      "id": "3dd3511c",
      "metadata": {
        "id": "3dd3511c"
      },
      "outputs": [],
      "source": [
        "def segmentation(path):\n",
        "    image = cv.imread(path,0)\n",
        "    image = cv.blur(image,(10,10))\n",
        "    image = cv.resize(image,(64,64))\n",
        "    pixelValues = image.reshape(-1,1)\n",
        "    pixelValues = np.float32(pixelValues)\n",
        "    kmeans = KMeans(n_clusters=3)\n",
        "    kmeans.fit(pixelValues)\n",
        "    centers = np.uint8(kmeans.cluster_centers_)\n",
        "    labels = kmeans.labels_\n",
        "    segmented_data  =  centers[labels.flatten()]\n",
        "    return segmented_data"
      ]
    },
    {
      "cell_type": "code",
      "execution_count": 68,
      "id": "d35848ba",
      "metadata": {
        "id": "d35848ba"
      },
      "outputs": [],
      "source": [
        "ltrain_paths = list(train_data['path'])\n",
        "ltrain_labels = list(train_data['label'])\n",
        "train_segments = []\n",
        "for i in range(len(ltrain_paths)):\n",
        "    l = []\n",
        "    l.append(ltrain_labels[i])\n",
        "    l.extend(segmentation(ltrain_paths[i]))\n",
        "    train_segments.append(l)\n",
        "#train_segments\n",
        "\n",
        "#train_df = pd.DataFrame()\n"
      ]
    },
    {
      "cell_type": "markdown",
      "id": "5Ii8KDU1ggoK",
      "metadata": {
        "id": "5Ii8KDU1ggoK"
      },
      "source": [
        "## Lets create the training data"
      ]
    },
    {
      "cell_type": "code",
      "execution_count": 69,
      "id": "31d73c74",
      "metadata": {
        "id": "31d73c74"
      },
      "outputs": [],
      "source": [
        "cols = ['labels']\n",
        "cols.extend(['f '+str(i+1) for i in range(4096)])\n",
        "train_seg_data = pd.DataFrame(train_segments,columns=cols)"
      ]
    },
    {
      "cell_type": "code",
      "execution_count": 70,
      "id": "WkK8V7VE143Y",
      "metadata": {
        "colab": {
          "base_uri": "https://localhost:8080/",
          "height": 279
        },
        "id": "WkK8V7VE143Y",
        "outputId": "c8f6e69b-26fc-4de5-aa74-3e143c2b1535"
      },
      "outputs": [
        {
          "output_type": "execute_result",
          "data": {
            "text/plain": [
              "   labels    f 1    f 2    f 3    f 4    f 5    f 6    f 7    f 8    f 9  ...  \\\n",
              "0       0  [122]  [122]  [122]  [122]  [122]  [186]  [186]  [186]  [186]  ...   \n",
              "1       0  [131]  [131]  [200]  [200]  [200]  [200]  [200]  [200]  [200]  ...   \n",
              "2       0   [76]   [76]   [76]   [76]   [76]   [76]   [76]  [113]  [113]  ...   \n",
              "3       0   [72]   [72]   [72]   [72]   [72]   [72]  [119]  [119]  [119]  ...   \n",
              "4       0   [89]   [89]   [89]   [89]   [89]  [124]  [124]  [124]  [124]  ...   \n",
              "\n",
              "  f 4087 f 4088 f 4089 f 4090 f 4091 f 4092 f 4093 f 4094 f 4095 f 4096  \n",
              "0  [122]  [122]  [122]  [122]  [122]  [122]  [122]  [122]  [122]  [122]  \n",
              "1  [200]  [200]  [131]  [131]  [131]  [131]  [131]  [131]  [131]  [131]  \n",
              "2  [113]  [113]  [113]  [113]  [113]   [76]   [76]   [76]   [76]   [76]  \n",
              "3  [119]  [119]  [119]  [119]  [119]  [119]  [119]  [119]  [119]  [119]  \n",
              "4  [150]  [150]  [124]  [124]  [124]  [124]  [124]  [124]  [124]  [124]  \n",
              "\n",
              "[5 rows x 4097 columns]"
            ],
            "text/html": [
              "\n",
              "  <div id=\"df-fe252841-ef26-4ed1-8783-d778024707a1\">\n",
              "    <div class=\"colab-df-container\">\n",
              "      <div>\n",
              "<style scoped>\n",
              "    .dataframe tbody tr th:only-of-type {\n",
              "        vertical-align: middle;\n",
              "    }\n",
              "\n",
              "    .dataframe tbody tr th {\n",
              "        vertical-align: top;\n",
              "    }\n",
              "\n",
              "    .dataframe thead th {\n",
              "        text-align: right;\n",
              "    }\n",
              "</style>\n",
              "<table border=\"1\" class=\"dataframe\">\n",
              "  <thead>\n",
              "    <tr style=\"text-align: right;\">\n",
              "      <th></th>\n",
              "      <th>labels</th>\n",
              "      <th>f 1</th>\n",
              "      <th>f 2</th>\n",
              "      <th>f 3</th>\n",
              "      <th>f 4</th>\n",
              "      <th>f 5</th>\n",
              "      <th>f 6</th>\n",
              "      <th>f 7</th>\n",
              "      <th>f 8</th>\n",
              "      <th>f 9</th>\n",
              "      <th>...</th>\n",
              "      <th>f 4087</th>\n",
              "      <th>f 4088</th>\n",
              "      <th>f 4089</th>\n",
              "      <th>f 4090</th>\n",
              "      <th>f 4091</th>\n",
              "      <th>f 4092</th>\n",
              "      <th>f 4093</th>\n",
              "      <th>f 4094</th>\n",
              "      <th>f 4095</th>\n",
              "      <th>f 4096</th>\n",
              "    </tr>\n",
              "  </thead>\n",
              "  <tbody>\n",
              "    <tr>\n",
              "      <th>0</th>\n",
              "      <td>0</td>\n",
              "      <td>[122]</td>\n",
              "      <td>[122]</td>\n",
              "      <td>[122]</td>\n",
              "      <td>[122]</td>\n",
              "      <td>[122]</td>\n",
              "      <td>[186]</td>\n",
              "      <td>[186]</td>\n",
              "      <td>[186]</td>\n",
              "      <td>[186]</td>\n",
              "      <td>...</td>\n",
              "      <td>[122]</td>\n",
              "      <td>[122]</td>\n",
              "      <td>[122]</td>\n",
              "      <td>[122]</td>\n",
              "      <td>[122]</td>\n",
              "      <td>[122]</td>\n",
              "      <td>[122]</td>\n",
              "      <td>[122]</td>\n",
              "      <td>[122]</td>\n",
              "      <td>[122]</td>\n",
              "    </tr>\n",
              "    <tr>\n",
              "      <th>1</th>\n",
              "      <td>0</td>\n",
              "      <td>[131]</td>\n",
              "      <td>[131]</td>\n",
              "      <td>[200]</td>\n",
              "      <td>[200]</td>\n",
              "      <td>[200]</td>\n",
              "      <td>[200]</td>\n",
              "      <td>[200]</td>\n",
              "      <td>[200]</td>\n",
              "      <td>[200]</td>\n",
              "      <td>...</td>\n",
              "      <td>[200]</td>\n",
              "      <td>[200]</td>\n",
              "      <td>[131]</td>\n",
              "      <td>[131]</td>\n",
              "      <td>[131]</td>\n",
              "      <td>[131]</td>\n",
              "      <td>[131]</td>\n",
              "      <td>[131]</td>\n",
              "      <td>[131]</td>\n",
              "      <td>[131]</td>\n",
              "    </tr>\n",
              "    <tr>\n",
              "      <th>2</th>\n",
              "      <td>0</td>\n",
              "      <td>[76]</td>\n",
              "      <td>[76]</td>\n",
              "      <td>[76]</td>\n",
              "      <td>[76]</td>\n",
              "      <td>[76]</td>\n",
              "      <td>[76]</td>\n",
              "      <td>[76]</td>\n",
              "      <td>[113]</td>\n",
              "      <td>[113]</td>\n",
              "      <td>...</td>\n",
              "      <td>[113]</td>\n",
              "      <td>[113]</td>\n",
              "      <td>[113]</td>\n",
              "      <td>[113]</td>\n",
              "      <td>[113]</td>\n",
              "      <td>[76]</td>\n",
              "      <td>[76]</td>\n",
              "      <td>[76]</td>\n",
              "      <td>[76]</td>\n",
              "      <td>[76]</td>\n",
              "    </tr>\n",
              "    <tr>\n",
              "      <th>3</th>\n",
              "      <td>0</td>\n",
              "      <td>[72]</td>\n",
              "      <td>[72]</td>\n",
              "      <td>[72]</td>\n",
              "      <td>[72]</td>\n",
              "      <td>[72]</td>\n",
              "      <td>[72]</td>\n",
              "      <td>[119]</td>\n",
              "      <td>[119]</td>\n",
              "      <td>[119]</td>\n",
              "      <td>...</td>\n",
              "      <td>[119]</td>\n",
              "      <td>[119]</td>\n",
              "      <td>[119]</td>\n",
              "      <td>[119]</td>\n",
              "      <td>[119]</td>\n",
              "      <td>[119]</td>\n",
              "      <td>[119]</td>\n",
              "      <td>[119]</td>\n",
              "      <td>[119]</td>\n",
              "      <td>[119]</td>\n",
              "    </tr>\n",
              "    <tr>\n",
              "      <th>4</th>\n",
              "      <td>0</td>\n",
              "      <td>[89]</td>\n",
              "      <td>[89]</td>\n",
              "      <td>[89]</td>\n",
              "      <td>[89]</td>\n",
              "      <td>[89]</td>\n",
              "      <td>[124]</td>\n",
              "      <td>[124]</td>\n",
              "      <td>[124]</td>\n",
              "      <td>[124]</td>\n",
              "      <td>...</td>\n",
              "      <td>[150]</td>\n",
              "      <td>[150]</td>\n",
              "      <td>[124]</td>\n",
              "      <td>[124]</td>\n",
              "      <td>[124]</td>\n",
              "      <td>[124]</td>\n",
              "      <td>[124]</td>\n",
              "      <td>[124]</td>\n",
              "      <td>[124]</td>\n",
              "      <td>[124]</td>\n",
              "    </tr>\n",
              "  </tbody>\n",
              "</table>\n",
              "<p>5 rows × 4097 columns</p>\n",
              "</div>\n",
              "      <button class=\"colab-df-convert\" onclick=\"convertToInteractive('df-fe252841-ef26-4ed1-8783-d778024707a1')\"\n",
              "              title=\"Convert this dataframe to an interactive table.\"\n",
              "              style=\"display:none;\">\n",
              "        \n",
              "  <svg xmlns=\"http://www.w3.org/2000/svg\" height=\"24px\"viewBox=\"0 0 24 24\"\n",
              "       width=\"24px\">\n",
              "    <path d=\"M0 0h24v24H0V0z\" fill=\"none\"/>\n",
              "    <path d=\"M18.56 5.44l.94 2.06.94-2.06 2.06-.94-2.06-.94-.94-2.06-.94 2.06-2.06.94zm-11 1L8.5 8.5l.94-2.06 2.06-.94-2.06-.94L8.5 2.5l-.94 2.06-2.06.94zm10 10l.94 2.06.94-2.06 2.06-.94-2.06-.94-.94-2.06-.94 2.06-2.06.94z\"/><path d=\"M17.41 7.96l-1.37-1.37c-.4-.4-.92-.59-1.43-.59-.52 0-1.04.2-1.43.59L10.3 9.45l-7.72 7.72c-.78.78-.78 2.05 0 2.83L4 21.41c.39.39.9.59 1.41.59.51 0 1.02-.2 1.41-.59l7.78-7.78 2.81-2.81c.8-.78.8-2.07 0-2.86zM5.41 20L4 18.59l7.72-7.72 1.47 1.35L5.41 20z\"/>\n",
              "  </svg>\n",
              "      </button>\n",
              "      \n",
              "  <style>\n",
              "    .colab-df-container {\n",
              "      display:flex;\n",
              "      flex-wrap:wrap;\n",
              "      gap: 12px;\n",
              "    }\n",
              "\n",
              "    .colab-df-convert {\n",
              "      background-color: #E8F0FE;\n",
              "      border: none;\n",
              "      border-radius: 50%;\n",
              "      cursor: pointer;\n",
              "      display: none;\n",
              "      fill: #1967D2;\n",
              "      height: 32px;\n",
              "      padding: 0 0 0 0;\n",
              "      width: 32px;\n",
              "    }\n",
              "\n",
              "    .colab-df-convert:hover {\n",
              "      background-color: #E2EBFA;\n",
              "      box-shadow: 0px 1px 2px rgba(60, 64, 67, 0.3), 0px 1px 3px 1px rgba(60, 64, 67, 0.15);\n",
              "      fill: #174EA6;\n",
              "    }\n",
              "\n",
              "    [theme=dark] .colab-df-convert {\n",
              "      background-color: #3B4455;\n",
              "      fill: #D2E3FC;\n",
              "    }\n",
              "\n",
              "    [theme=dark] .colab-df-convert:hover {\n",
              "      background-color: #434B5C;\n",
              "      box-shadow: 0px 1px 3px 1px rgba(0, 0, 0, 0.15);\n",
              "      filter: drop-shadow(0px 1px 2px rgba(0, 0, 0, 0.3));\n",
              "      fill: #FFFFFF;\n",
              "    }\n",
              "  </style>\n",
              "\n",
              "      <script>\n",
              "        const buttonEl =\n",
              "          document.querySelector('#df-fe252841-ef26-4ed1-8783-d778024707a1 button.colab-df-convert');\n",
              "        buttonEl.style.display =\n",
              "          google.colab.kernel.accessAllowed ? 'block' : 'none';\n",
              "\n",
              "        async function convertToInteractive(key) {\n",
              "          const element = document.querySelector('#df-fe252841-ef26-4ed1-8783-d778024707a1');\n",
              "          const dataTable =\n",
              "            await google.colab.kernel.invokeFunction('convertToInteractive',\n",
              "                                                     [key], {});\n",
              "          if (!dataTable) return;\n",
              "\n",
              "          const docLinkHtml = 'Like what you see? Visit the ' +\n",
              "            '<a target=\"_blank\" href=https://colab.research.google.com/notebooks/data_table.ipynb>data table notebook</a>'\n",
              "            + ' to learn more about interactive tables.';\n",
              "          element.innerHTML = '';\n",
              "          dataTable['output_type'] = 'display_data';\n",
              "          await google.colab.output.renderOutput(dataTable, element);\n",
              "          const docLink = document.createElement('div');\n",
              "          docLink.innerHTML = docLinkHtml;\n",
              "          element.appendChild(docLink);\n",
              "        }\n",
              "      </script>\n",
              "    </div>\n",
              "  </div>\n",
              "  "
            ]
          },
          "metadata": {},
          "execution_count": 70
        }
      ],
      "source": [
        "train_seg_data.head()"
      ]
    },
    {
      "cell_type": "code",
      "execution_count": 71,
      "id": "XxYahFPS1-IB",
      "metadata": {
        "colab": {
          "base_uri": "https://localhost:8080/",
          "height": 235
        },
        "id": "XxYahFPS1-IB",
        "outputId": "21b85446-9196-423b-b318-a32ab3cbb667"
      },
      "outputs": [
        {
          "output_type": "execute_result",
          "data": {
            "text/plain": [
              "   labels  f 1  f 2  f 3  f 4  f 5  f 6  f 7  f 8  f 9  ...  f 4087  f 4088  \\\n",
              "0       0  122  122  122  122  122  186  186  186  186  ...     122     122   \n",
              "1       0  131  131  200  200  200  200  200  200  200  ...     200     200   \n",
              "2       0   76   76   76   76   76   76   76  113  113  ...     113     113   \n",
              "3       0   72   72   72   72   72   72  119  119  119  ...     119     119   \n",
              "4       0   89   89   89   89   89  124  124  124  124  ...     150     150   \n",
              "\n",
              "   f 4089  f 4090  f 4091  f 4092  f 4093  f 4094  f 4095  f 4096  \n",
              "0     122     122     122     122     122     122     122     122  \n",
              "1     131     131     131     131     131     131     131     131  \n",
              "2     113     113     113      76      76      76      76      76  \n",
              "3     119     119     119     119     119     119     119     119  \n",
              "4     124     124     124     124     124     124     124     124  \n",
              "\n",
              "[5 rows x 4097 columns]"
            ],
            "text/html": [
              "\n",
              "  <div id=\"df-7a53744f-3454-4e96-af7b-cc44c20be94b\">\n",
              "    <div class=\"colab-df-container\">\n",
              "      <div>\n",
              "<style scoped>\n",
              "    .dataframe tbody tr th:only-of-type {\n",
              "        vertical-align: middle;\n",
              "    }\n",
              "\n",
              "    .dataframe tbody tr th {\n",
              "        vertical-align: top;\n",
              "    }\n",
              "\n",
              "    .dataframe thead th {\n",
              "        text-align: right;\n",
              "    }\n",
              "</style>\n",
              "<table border=\"1\" class=\"dataframe\">\n",
              "  <thead>\n",
              "    <tr style=\"text-align: right;\">\n",
              "      <th></th>\n",
              "      <th>labels</th>\n",
              "      <th>f 1</th>\n",
              "      <th>f 2</th>\n",
              "      <th>f 3</th>\n",
              "      <th>f 4</th>\n",
              "      <th>f 5</th>\n",
              "      <th>f 6</th>\n",
              "      <th>f 7</th>\n",
              "      <th>f 8</th>\n",
              "      <th>f 9</th>\n",
              "      <th>...</th>\n",
              "      <th>f 4087</th>\n",
              "      <th>f 4088</th>\n",
              "      <th>f 4089</th>\n",
              "      <th>f 4090</th>\n",
              "      <th>f 4091</th>\n",
              "      <th>f 4092</th>\n",
              "      <th>f 4093</th>\n",
              "      <th>f 4094</th>\n",
              "      <th>f 4095</th>\n",
              "      <th>f 4096</th>\n",
              "    </tr>\n",
              "  </thead>\n",
              "  <tbody>\n",
              "    <tr>\n",
              "      <th>0</th>\n",
              "      <td>0</td>\n",
              "      <td>122</td>\n",
              "      <td>122</td>\n",
              "      <td>122</td>\n",
              "      <td>122</td>\n",
              "      <td>122</td>\n",
              "      <td>186</td>\n",
              "      <td>186</td>\n",
              "      <td>186</td>\n",
              "      <td>186</td>\n",
              "      <td>...</td>\n",
              "      <td>122</td>\n",
              "      <td>122</td>\n",
              "      <td>122</td>\n",
              "      <td>122</td>\n",
              "      <td>122</td>\n",
              "      <td>122</td>\n",
              "      <td>122</td>\n",
              "      <td>122</td>\n",
              "      <td>122</td>\n",
              "      <td>122</td>\n",
              "    </tr>\n",
              "    <tr>\n",
              "      <th>1</th>\n",
              "      <td>0</td>\n",
              "      <td>131</td>\n",
              "      <td>131</td>\n",
              "      <td>200</td>\n",
              "      <td>200</td>\n",
              "      <td>200</td>\n",
              "      <td>200</td>\n",
              "      <td>200</td>\n",
              "      <td>200</td>\n",
              "      <td>200</td>\n",
              "      <td>...</td>\n",
              "      <td>200</td>\n",
              "      <td>200</td>\n",
              "      <td>131</td>\n",
              "      <td>131</td>\n",
              "      <td>131</td>\n",
              "      <td>131</td>\n",
              "      <td>131</td>\n",
              "      <td>131</td>\n",
              "      <td>131</td>\n",
              "      <td>131</td>\n",
              "    </tr>\n",
              "    <tr>\n",
              "      <th>2</th>\n",
              "      <td>0</td>\n",
              "      <td>76</td>\n",
              "      <td>76</td>\n",
              "      <td>76</td>\n",
              "      <td>76</td>\n",
              "      <td>76</td>\n",
              "      <td>76</td>\n",
              "      <td>76</td>\n",
              "      <td>113</td>\n",
              "      <td>113</td>\n",
              "      <td>...</td>\n",
              "      <td>113</td>\n",
              "      <td>113</td>\n",
              "      <td>113</td>\n",
              "      <td>113</td>\n",
              "      <td>113</td>\n",
              "      <td>76</td>\n",
              "      <td>76</td>\n",
              "      <td>76</td>\n",
              "      <td>76</td>\n",
              "      <td>76</td>\n",
              "    </tr>\n",
              "    <tr>\n",
              "      <th>3</th>\n",
              "      <td>0</td>\n",
              "      <td>72</td>\n",
              "      <td>72</td>\n",
              "      <td>72</td>\n",
              "      <td>72</td>\n",
              "      <td>72</td>\n",
              "      <td>72</td>\n",
              "      <td>119</td>\n",
              "      <td>119</td>\n",
              "      <td>119</td>\n",
              "      <td>...</td>\n",
              "      <td>119</td>\n",
              "      <td>119</td>\n",
              "      <td>119</td>\n",
              "      <td>119</td>\n",
              "      <td>119</td>\n",
              "      <td>119</td>\n",
              "      <td>119</td>\n",
              "      <td>119</td>\n",
              "      <td>119</td>\n",
              "      <td>119</td>\n",
              "    </tr>\n",
              "    <tr>\n",
              "      <th>4</th>\n",
              "      <td>0</td>\n",
              "      <td>89</td>\n",
              "      <td>89</td>\n",
              "      <td>89</td>\n",
              "      <td>89</td>\n",
              "      <td>89</td>\n",
              "      <td>124</td>\n",
              "      <td>124</td>\n",
              "      <td>124</td>\n",
              "      <td>124</td>\n",
              "      <td>...</td>\n",
              "      <td>150</td>\n",
              "      <td>150</td>\n",
              "      <td>124</td>\n",
              "      <td>124</td>\n",
              "      <td>124</td>\n",
              "      <td>124</td>\n",
              "      <td>124</td>\n",
              "      <td>124</td>\n",
              "      <td>124</td>\n",
              "      <td>124</td>\n",
              "    </tr>\n",
              "  </tbody>\n",
              "</table>\n",
              "<p>5 rows × 4097 columns</p>\n",
              "</div>\n",
              "      <button class=\"colab-df-convert\" onclick=\"convertToInteractive('df-7a53744f-3454-4e96-af7b-cc44c20be94b')\"\n",
              "              title=\"Convert this dataframe to an interactive table.\"\n",
              "              style=\"display:none;\">\n",
              "        \n",
              "  <svg xmlns=\"http://www.w3.org/2000/svg\" height=\"24px\"viewBox=\"0 0 24 24\"\n",
              "       width=\"24px\">\n",
              "    <path d=\"M0 0h24v24H0V0z\" fill=\"none\"/>\n",
              "    <path d=\"M18.56 5.44l.94 2.06.94-2.06 2.06-.94-2.06-.94-.94-2.06-.94 2.06-2.06.94zm-11 1L8.5 8.5l.94-2.06 2.06-.94-2.06-.94L8.5 2.5l-.94 2.06-2.06.94zm10 10l.94 2.06.94-2.06 2.06-.94-2.06-.94-.94-2.06-.94 2.06-2.06.94z\"/><path d=\"M17.41 7.96l-1.37-1.37c-.4-.4-.92-.59-1.43-.59-.52 0-1.04.2-1.43.59L10.3 9.45l-7.72 7.72c-.78.78-.78 2.05 0 2.83L4 21.41c.39.39.9.59 1.41.59.51 0 1.02-.2 1.41-.59l7.78-7.78 2.81-2.81c.8-.78.8-2.07 0-2.86zM5.41 20L4 18.59l7.72-7.72 1.47 1.35L5.41 20z\"/>\n",
              "  </svg>\n",
              "      </button>\n",
              "      \n",
              "  <style>\n",
              "    .colab-df-container {\n",
              "      display:flex;\n",
              "      flex-wrap:wrap;\n",
              "      gap: 12px;\n",
              "    }\n",
              "\n",
              "    .colab-df-convert {\n",
              "      background-color: #E8F0FE;\n",
              "      border: none;\n",
              "      border-radius: 50%;\n",
              "      cursor: pointer;\n",
              "      display: none;\n",
              "      fill: #1967D2;\n",
              "      height: 32px;\n",
              "      padding: 0 0 0 0;\n",
              "      width: 32px;\n",
              "    }\n",
              "\n",
              "    .colab-df-convert:hover {\n",
              "      background-color: #E2EBFA;\n",
              "      box-shadow: 0px 1px 2px rgba(60, 64, 67, 0.3), 0px 1px 3px 1px rgba(60, 64, 67, 0.15);\n",
              "      fill: #174EA6;\n",
              "    }\n",
              "\n",
              "    [theme=dark] .colab-df-convert {\n",
              "      background-color: #3B4455;\n",
              "      fill: #D2E3FC;\n",
              "    }\n",
              "\n",
              "    [theme=dark] .colab-df-convert:hover {\n",
              "      background-color: #434B5C;\n",
              "      box-shadow: 0px 1px 3px 1px rgba(0, 0, 0, 0.15);\n",
              "      filter: drop-shadow(0px 1px 2px rgba(0, 0, 0, 0.3));\n",
              "      fill: #FFFFFF;\n",
              "    }\n",
              "  </style>\n",
              "\n",
              "      <script>\n",
              "        const buttonEl =\n",
              "          document.querySelector('#df-7a53744f-3454-4e96-af7b-cc44c20be94b button.colab-df-convert');\n",
              "        buttonEl.style.display =\n",
              "          google.colab.kernel.accessAllowed ? 'block' : 'none';\n",
              "\n",
              "        async function convertToInteractive(key) {\n",
              "          const element = document.querySelector('#df-7a53744f-3454-4e96-af7b-cc44c20be94b');\n",
              "          const dataTable =\n",
              "            await google.colab.kernel.invokeFunction('convertToInteractive',\n",
              "                                                     [key], {});\n",
              "          if (!dataTable) return;\n",
              "\n",
              "          const docLinkHtml = 'Like what you see? Visit the ' +\n",
              "            '<a target=\"_blank\" href=https://colab.research.google.com/notebooks/data_table.ipynb>data table notebook</a>'\n",
              "            + ' to learn more about interactive tables.';\n",
              "          element.innerHTML = '';\n",
              "          dataTable['output_type'] = 'display_data';\n",
              "          await google.colab.output.renderOutput(dataTable, element);\n",
              "          const docLink = document.createElement('div');\n",
              "          docLink.innerHTML = docLinkHtml;\n",
              "          element.appendChild(docLink);\n",
              "        }\n",
              "      </script>\n",
              "    </div>\n",
              "  </div>\n",
              "  "
            ]
          },
          "metadata": {},
          "execution_count": 71
        }
      ],
      "source": [
        "train_seg_data = train_seg_data.astype(int)\n",
        "train_seg_data.head()"
      ]
    },
    {
      "cell_type": "code",
      "execution_count": 72,
      "id": "AIGC7k7C2jux",
      "metadata": {
        "id": "AIGC7k7C2jux"
      },
      "outputs": [],
      "source": [
        "features = train_seg_data.iloc[:,1:].values\n",
        "target = train_seg_data.iloc[:,0].values"
      ]
    },
    {
      "cell_type": "markdown",
      "id": "uIBZXPZu4Ie9",
      "metadata": {
        "id": "uIBZXPZu4Ie9"
      },
      "source": [
        "## Lets work out for test images"
      ]
    },
    {
      "cell_type": "code",
      "execution_count": 73,
      "id": "WO-lEH3g29Kr",
      "metadata": {
        "colab": {
          "base_uri": "https://localhost:8080/",
          "height": 235
        },
        "id": "WO-lEH3g29Kr",
        "outputId": "e37d1d47-e487-49c9-8f7c-c100028fe3f3"
      },
      "outputs": [
        {
          "output_type": "execute_result",
          "data": {
            "text/plain": [
              "   labels  f 1  f 2  f 3  f 4  f 5  f 6  f 7  f 8  f 9  ...  f 4087  f 4088  \\\n",
              "0       0   78   78  139  139  139  139  139  139  139  ...     139     139   \n",
              "1       0  145  145  145  104  104  104  104  104  104  ...      76     104   \n",
              "2       0   65   65   65   65   65  141  141  141  141  ...     141     141   \n",
              "3       0  115  115  115  154  154  154  154  154  154  ...     115     115   \n",
              "4       0   84   84   84   84   84   84  147  147  147  ...      84      84   \n",
              "\n",
              "   f 4089  f 4090  f 4091  f 4092  f 4093  f 4094  f 4095  f 4096  \n",
              "0     139     139      78      78      78      78      78      78  \n",
              "1     104     104     104     104     104     104     104     104  \n",
              "2     141     141     141     141     141     141     141      65  \n",
              "3     115     115     115     115     115     115     115     115  \n",
              "4      84      84      84      84      84      84      84      84  \n",
              "\n",
              "[5 rows x 4097 columns]"
            ],
            "text/html": [
              "\n",
              "  <div id=\"df-948f922e-12cc-42f4-abf3-d765de5dcc49\">\n",
              "    <div class=\"colab-df-container\">\n",
              "      <div>\n",
              "<style scoped>\n",
              "    .dataframe tbody tr th:only-of-type {\n",
              "        vertical-align: middle;\n",
              "    }\n",
              "\n",
              "    .dataframe tbody tr th {\n",
              "        vertical-align: top;\n",
              "    }\n",
              "\n",
              "    .dataframe thead th {\n",
              "        text-align: right;\n",
              "    }\n",
              "</style>\n",
              "<table border=\"1\" class=\"dataframe\">\n",
              "  <thead>\n",
              "    <tr style=\"text-align: right;\">\n",
              "      <th></th>\n",
              "      <th>labels</th>\n",
              "      <th>f 1</th>\n",
              "      <th>f 2</th>\n",
              "      <th>f 3</th>\n",
              "      <th>f 4</th>\n",
              "      <th>f 5</th>\n",
              "      <th>f 6</th>\n",
              "      <th>f 7</th>\n",
              "      <th>f 8</th>\n",
              "      <th>f 9</th>\n",
              "      <th>...</th>\n",
              "      <th>f 4087</th>\n",
              "      <th>f 4088</th>\n",
              "      <th>f 4089</th>\n",
              "      <th>f 4090</th>\n",
              "      <th>f 4091</th>\n",
              "      <th>f 4092</th>\n",
              "      <th>f 4093</th>\n",
              "      <th>f 4094</th>\n",
              "      <th>f 4095</th>\n",
              "      <th>f 4096</th>\n",
              "    </tr>\n",
              "  </thead>\n",
              "  <tbody>\n",
              "    <tr>\n",
              "      <th>0</th>\n",
              "      <td>0</td>\n",
              "      <td>78</td>\n",
              "      <td>78</td>\n",
              "      <td>139</td>\n",
              "      <td>139</td>\n",
              "      <td>139</td>\n",
              "      <td>139</td>\n",
              "      <td>139</td>\n",
              "      <td>139</td>\n",
              "      <td>139</td>\n",
              "      <td>...</td>\n",
              "      <td>139</td>\n",
              "      <td>139</td>\n",
              "      <td>139</td>\n",
              "      <td>139</td>\n",
              "      <td>78</td>\n",
              "      <td>78</td>\n",
              "      <td>78</td>\n",
              "      <td>78</td>\n",
              "      <td>78</td>\n",
              "      <td>78</td>\n",
              "    </tr>\n",
              "    <tr>\n",
              "      <th>1</th>\n",
              "      <td>0</td>\n",
              "      <td>145</td>\n",
              "      <td>145</td>\n",
              "      <td>145</td>\n",
              "      <td>104</td>\n",
              "      <td>104</td>\n",
              "      <td>104</td>\n",
              "      <td>104</td>\n",
              "      <td>104</td>\n",
              "      <td>104</td>\n",
              "      <td>...</td>\n",
              "      <td>76</td>\n",
              "      <td>104</td>\n",
              "      <td>104</td>\n",
              "      <td>104</td>\n",
              "      <td>104</td>\n",
              "      <td>104</td>\n",
              "      <td>104</td>\n",
              "      <td>104</td>\n",
              "      <td>104</td>\n",
              "      <td>104</td>\n",
              "    </tr>\n",
              "    <tr>\n",
              "      <th>2</th>\n",
              "      <td>0</td>\n",
              "      <td>65</td>\n",
              "      <td>65</td>\n",
              "      <td>65</td>\n",
              "      <td>65</td>\n",
              "      <td>65</td>\n",
              "      <td>141</td>\n",
              "      <td>141</td>\n",
              "      <td>141</td>\n",
              "      <td>141</td>\n",
              "      <td>...</td>\n",
              "      <td>141</td>\n",
              "      <td>141</td>\n",
              "      <td>141</td>\n",
              "      <td>141</td>\n",
              "      <td>141</td>\n",
              "      <td>141</td>\n",
              "      <td>141</td>\n",
              "      <td>141</td>\n",
              "      <td>141</td>\n",
              "      <td>65</td>\n",
              "    </tr>\n",
              "    <tr>\n",
              "      <th>3</th>\n",
              "      <td>0</td>\n",
              "      <td>115</td>\n",
              "      <td>115</td>\n",
              "      <td>115</td>\n",
              "      <td>154</td>\n",
              "      <td>154</td>\n",
              "      <td>154</td>\n",
              "      <td>154</td>\n",
              "      <td>154</td>\n",
              "      <td>154</td>\n",
              "      <td>...</td>\n",
              "      <td>115</td>\n",
              "      <td>115</td>\n",
              "      <td>115</td>\n",
              "      <td>115</td>\n",
              "      <td>115</td>\n",
              "      <td>115</td>\n",
              "      <td>115</td>\n",
              "      <td>115</td>\n",
              "      <td>115</td>\n",
              "      <td>115</td>\n",
              "    </tr>\n",
              "    <tr>\n",
              "      <th>4</th>\n",
              "      <td>0</td>\n",
              "      <td>84</td>\n",
              "      <td>84</td>\n",
              "      <td>84</td>\n",
              "      <td>84</td>\n",
              "      <td>84</td>\n",
              "      <td>84</td>\n",
              "      <td>147</td>\n",
              "      <td>147</td>\n",
              "      <td>147</td>\n",
              "      <td>...</td>\n",
              "      <td>84</td>\n",
              "      <td>84</td>\n",
              "      <td>84</td>\n",
              "      <td>84</td>\n",
              "      <td>84</td>\n",
              "      <td>84</td>\n",
              "      <td>84</td>\n",
              "      <td>84</td>\n",
              "      <td>84</td>\n",
              "      <td>84</td>\n",
              "    </tr>\n",
              "  </tbody>\n",
              "</table>\n",
              "<p>5 rows × 4097 columns</p>\n",
              "</div>\n",
              "      <button class=\"colab-df-convert\" onclick=\"convertToInteractive('df-948f922e-12cc-42f4-abf3-d765de5dcc49')\"\n",
              "              title=\"Convert this dataframe to an interactive table.\"\n",
              "              style=\"display:none;\">\n",
              "        \n",
              "  <svg xmlns=\"http://www.w3.org/2000/svg\" height=\"24px\"viewBox=\"0 0 24 24\"\n",
              "       width=\"24px\">\n",
              "    <path d=\"M0 0h24v24H0V0z\" fill=\"none\"/>\n",
              "    <path d=\"M18.56 5.44l.94 2.06.94-2.06 2.06-.94-2.06-.94-.94-2.06-.94 2.06-2.06.94zm-11 1L8.5 8.5l.94-2.06 2.06-.94-2.06-.94L8.5 2.5l-.94 2.06-2.06.94zm10 10l.94 2.06.94-2.06 2.06-.94-2.06-.94-.94-2.06-.94 2.06-2.06.94z\"/><path d=\"M17.41 7.96l-1.37-1.37c-.4-.4-.92-.59-1.43-.59-.52 0-1.04.2-1.43.59L10.3 9.45l-7.72 7.72c-.78.78-.78 2.05 0 2.83L4 21.41c.39.39.9.59 1.41.59.51 0 1.02-.2 1.41-.59l7.78-7.78 2.81-2.81c.8-.78.8-2.07 0-2.86zM5.41 20L4 18.59l7.72-7.72 1.47 1.35L5.41 20z\"/>\n",
              "  </svg>\n",
              "      </button>\n",
              "      \n",
              "  <style>\n",
              "    .colab-df-container {\n",
              "      display:flex;\n",
              "      flex-wrap:wrap;\n",
              "      gap: 12px;\n",
              "    }\n",
              "\n",
              "    .colab-df-convert {\n",
              "      background-color: #E8F0FE;\n",
              "      border: none;\n",
              "      border-radius: 50%;\n",
              "      cursor: pointer;\n",
              "      display: none;\n",
              "      fill: #1967D2;\n",
              "      height: 32px;\n",
              "      padding: 0 0 0 0;\n",
              "      width: 32px;\n",
              "    }\n",
              "\n",
              "    .colab-df-convert:hover {\n",
              "      background-color: #E2EBFA;\n",
              "      box-shadow: 0px 1px 2px rgba(60, 64, 67, 0.3), 0px 1px 3px 1px rgba(60, 64, 67, 0.15);\n",
              "      fill: #174EA6;\n",
              "    }\n",
              "\n",
              "    [theme=dark] .colab-df-convert {\n",
              "      background-color: #3B4455;\n",
              "      fill: #D2E3FC;\n",
              "    }\n",
              "\n",
              "    [theme=dark] .colab-df-convert:hover {\n",
              "      background-color: #434B5C;\n",
              "      box-shadow: 0px 1px 3px 1px rgba(0, 0, 0, 0.15);\n",
              "      filter: drop-shadow(0px 1px 2px rgba(0, 0, 0, 0.3));\n",
              "      fill: #FFFFFF;\n",
              "    }\n",
              "  </style>\n",
              "\n",
              "      <script>\n",
              "        const buttonEl =\n",
              "          document.querySelector('#df-948f922e-12cc-42f4-abf3-d765de5dcc49 button.colab-df-convert');\n",
              "        buttonEl.style.display =\n",
              "          google.colab.kernel.accessAllowed ? 'block' : 'none';\n",
              "\n",
              "        async function convertToInteractive(key) {\n",
              "          const element = document.querySelector('#df-948f922e-12cc-42f4-abf3-d765de5dcc49');\n",
              "          const dataTable =\n",
              "            await google.colab.kernel.invokeFunction('convertToInteractive',\n",
              "                                                     [key], {});\n",
              "          if (!dataTable) return;\n",
              "\n",
              "          const docLinkHtml = 'Like what you see? Visit the ' +\n",
              "            '<a target=\"_blank\" href=https://colab.research.google.com/notebooks/data_table.ipynb>data table notebook</a>'\n",
              "            + ' to learn more about interactive tables.';\n",
              "          element.innerHTML = '';\n",
              "          dataTable['output_type'] = 'display_data';\n",
              "          await google.colab.output.renderOutput(dataTable, element);\n",
              "          const docLink = document.createElement('div');\n",
              "          docLink.innerHTML = docLinkHtml;\n",
              "          element.appendChild(docLink);\n",
              "        }\n",
              "      </script>\n",
              "    </div>\n",
              "  </div>\n",
              "  "
            ]
          },
          "metadata": {},
          "execution_count": 73
        }
      ],
      "source": [
        "ltest_paths = list(test_data['path'])\n",
        "ltest_labels = list(test_data['label'])\n",
        "test_segments = []\n",
        "for i in range(len(ltest_paths)):\n",
        "    l = []\n",
        "    l.append(ltest_labels[i])\n",
        "    l.extend(segmentation(ltest_paths[i]))\n",
        "    test_segments.append(l)\n",
        "test_seg_data = pd.DataFrame(test_segments,columns=cols)\n",
        "test_seg_data = test_seg_data.astype(int)\n",
        "test_seg_data.head()"
      ]
    },
    {
      "cell_type": "code",
      "execution_count": 74,
      "id": "OOysidVt29NJ",
      "metadata": {
        "id": "OOysidVt29NJ"
      },
      "outputs": [],
      "source": [
        "t_features = test_seg_data.iloc[:,1:].values\n",
        "t_target = test_seg_data.iloc[:,0].values"
      ]
    },
    {
      "cell_type": "markdown",
      "source": [
        "## Use Different Classifiers for Detection and Severity Prediction"
      ],
      "metadata": {
        "id": "Agl9dz2GqfD8"
      },
      "id": "Agl9dz2GqfD8"
    },
    {
      "cell_type": "markdown",
      "source": [
        "### 1. K Nearest Neignbors Algorithm"
      ],
      "metadata": {
        "id": "9DdXhe44qmc0"
      },
      "id": "9DdXhe44qmc0"
    },
    {
      "cell_type": "code",
      "execution_count": 75,
      "id": "sduUcvgh2j2Q",
      "metadata": {
        "colab": {
          "base_uri": "https://localhost:8080/",
          "height": 295
        },
        "id": "sduUcvgh2j2Q",
        "outputId": "efa79519-dd8a-4048-8f2d-c9cdb03e26e4"
      },
      "outputs": [
        {
          "output_type": "display_data",
          "data": {
            "text/plain": [
              "<Figure size 432x288 with 1 Axes>"
            ],
            "image/png": "[encoded data removed]"
          },
          "metadata": {
            "needs_background": "light"
          }
        }
      ],
      "source": [
        "from sklearn.neighbors import KNeighborsClassifier\n",
        "from sklearn.metrics import mean_squared_error\n",
        "acc = []\n",
        "for i in range(2,16):\n",
        "  model = KNeighborsClassifier(n_neighbors=i)\n",
        "  model.fit(features,target)\n",
        "  y_pred = model.predict(t_features)\n",
        "  acc.append(mean_squared_error(t_target,y_pred))\n",
        "plt.plot(range(2,16),acc)\n",
        "plt.title('No of Clusters Calculations')\n",
        "plt.xlabel('Number of Neignbors')\n",
        "plt.ylabel('Error')\n",
        "plt.grid()\n",
        "plt.show()"
      ]
    },
    {
      "cell_type": "code",
      "execution_count": 76,
      "id": "HJbXV_mm29P3",
      "metadata": {
        "id": "HJbXV_mm29P3"
      },
      "outputs": [],
      "source": [
        "model = KNeighborsClassifier(n_neighbors=2)\n",
        "model.fit(features,target)\n",
        "y_pred = model.predict(t_features)"
      ]
    },
    {
      "cell_type": "code",
      "execution_count": 77,
      "id": "m8KeXBAU29TN",
      "metadata": {
        "colab": {
          "base_uri": "https://localhost:8080/",
          "height": 325
        },
        "id": "m8KeXBAU29TN",
        "outputId": "46997ee7-62ff-4a12-e8d2-b78c215571da"
      },
      "outputs": [
        {
          "output_type": "display_data",
          "data": {
            "text/plain": [
              "<Figure size 432x288 with 2 Axes>"
            ],
            "image/png": "[encoded data removed]"
          },
          "metadata": {
            "needs_background": "light"
          }
        }
      ],
      "source": [
        "from sklearn.metrics import confusion_matrix, accuracy_score, precision_score, recall_score, f1_score\n",
        "cnf = confusion_matrix(t_target,y_pred)\n",
        "class_names = ['malignant', 'benign']\n",
        "fig, ax = plt.subplots()\n",
        "tick_marks = np.arange(len(class_names))\n",
        "plt.xticks(tick_marks,class_names)\n",
        "plt.yticks(tick_marks,class_names)\n",
        "sns.heatmap(pd.DataFrame(cnf),annot=True,cmap='Blues_r',fmt='g')\n",
        "ax.xaxis.set_label_position(\"top\")\n",
        "plt.tight_layout()\n",
        "plt.title('Confusion matrix', y=1.1)\n",
        "plt.ylabel('Actual label')\n",
        "plt.xlabel('Predicted label')\n",
        "plt.Text(0.5,257.44,'Predicted label')\n",
        "plt.show()"
      ]
    },
    {
      "cell_type": "code",
      "execution_count": 78,
      "id": "D2yGY1CN-Fg7",
      "metadata": {
        "colab": {
          "base_uri": "https://localhost:8080/"
        },
        "id": "D2yGY1CN-Fg7",
        "outputId": "52376bf5-3c27-4fe7-f976-4e283cfd161e"
      },
      "outputs": [
        {
          "output_type": "stream",
          "name": "stdout",
          "text": [
            "Accuracy Score:  0.3641304347826087\n"
          ]
        }
      ],
      "source": [
        "print('Accuracy Score: ',accuracy_score(t_target,y_pred))"
      ]
    },
    {
      "cell_type": "code",
      "execution_count": 79,
      "id": "swRdr05L-v0M",
      "metadata": {
        "colab": {
          "base_uri": "https://localhost:8080/"
        },
        "id": "swRdr05L-v0M",
        "outputId": "e266dc9b-1ab6-4f30-d01d-8e8601b7e68f"
      },
      "outputs": [
        {
          "output_type": "stream",
          "name": "stdout",
          "text": [
            "              precision    recall  f1-score   support\n",
            "\n",
            "           0       0.43      0.71      0.54       639\n",
            "           1       0.18      0.19      0.18       296\n",
            "           2       0.31      0.17      0.22       447\n",
            "           3       0.36      0.07      0.11       223\n",
            "           4       0.50      0.02      0.04        51\n",
            "\n",
            "    accuracy                           0.36      1656\n",
            "   macro avg       0.36      0.23      0.22      1656\n",
            "weighted avg       0.35      0.36      0.32      1656\n",
            "\n"
          ]
        }
      ],
      "source": [
        "from sklearn.metrics import classification_report\n",
        "print(classification_report(t_target,y_pred))"
      ]
    },
    {
      "cell_type": "code",
      "source": [
        "print('F1 Score (Macro): ',f1_score(t_target,y_pred,average='macro'))\n",
        "print('F1 Score (Micro): ',f1_score(t_target,y_pred,average='micro'))\n",
        "print('F1 Score (Weighted): ',f1_score(t_target,y_pred,average='weighted'))"
      ],
      "metadata": {
        "colab": {
          "base_uri": "https://localhost:8080/"
        },
        "id": "N0ubjC9VpHim",
        "outputId": "6ba61a6f-9639-4088-db1c-b6ed5190db35"
      },
      "id": "N0ubjC9VpHim",
      "execution_count": 80,
      "outputs": [
        {
          "output_type": "stream",
          "name": "stdout",
          "text": [
            "F1 Score (Macro):  0.21874608392733083\n",
            "F1 Score (Micro):  0.3641304347826087\n",
            "F1 Score (Weighted):  0.3165530569758939\n"
          ]
        }
      ]
    },
    {
      "cell_type": "code",
      "source": [
        "from sklearn.metrics import roc_auc_score\n",
        "print('ROC-AUC_Score (OVR):',roc_auc_score(t_target,model.predict_proba(t_features),multi_class='ovr'))\n",
        "print('ROC-AUC_Score (OVO):',roc_auc_score(t_target,model.predict_proba(t_features),multi_class='ovo'))"
      ],
      "metadata": {
        "colab": {
          "base_uri": "https://localhost:8080/"
        },
        "id": "xq_3krDIpSw0",
        "outputId": "705f4638-5363-4685-f913-107f015fac25"
      },
      "id": "xq_3krDIpSw0",
      "execution_count": 81,
      "outputs": [
        {
          "output_type": "stream",
          "name": "stdout",
          "text": [
            "ROC-AUC_Score (OVR): 0.5592139338617328\n",
            "ROC-AUC_Score (OVO): 0.5604451605098427\n"
          ]
        }
      ]
    },
    {
      "cell_type": "markdown",
      "source": [
        "### 2. Logistic Regression"
      ],
      "metadata": {
        "id": "zeLgNV-Rqsof"
      },
      "id": "zeLgNV-Rqsof"
    },
    {
      "cell_type": "code",
      "source": [
        "from sklearn.linear_model import LogisticRegression\n",
        "log_reg = LogisticRegression()\n",
        "log_reg.fit(features,target)\n",
        "y_pred = log_reg.predict(t_features)\n",
        "cnf = confusion_matrix(t_target,y_pred)\n",
        "class_names = ['0','1','2','3','4']\n",
        "fig, ax = plt.subplots()\n",
        "tick_marks = np.arange(len(class_names))\n",
        "plt.xticks(tick_marks,class_names)\n",
        "plt.yticks(tick_marks,class_names)\n",
        "sns.heatmap(pd.DataFrame(cnf),annot=True,cmap='Blues_r',fmt='g')\n",
        "ax.xaxis.set_label_position(\"top\")\n",
        "plt.tight_layout()\n",
        "plt.title('Confusion matrix', y=1.1)\n",
        "plt.ylabel('Actual label')\n",
        "plt.xlabel('Predicted label')\n",
        "plt.Text(0.5,257.44,'Predicted label')\n",
        "plt.show()"
      ],
      "metadata": {
        "colab": {
          "base_uri": "https://localhost:8080/",
          "height": 464
        },
        "id": "jnczY9eJrYw-",
        "outputId": "d59ab2c7-dc33-4dd7-c814-abaf46f4a2a4"
      },
      "id": "jnczY9eJrYw-",
      "execution_count": 82,
      "outputs": [
        {
          "output_type": "stream",
          "name": "stderr",
          "text": [
            "/usr/local/lib/python3.7/dist-packages/sklearn/linear_model/_logistic.py:818: ConvergenceWarning: lbfgs failed to converge (status=1):\n",
            "STOP: TOTAL NO. of ITERATIONS REACHED LIMIT.\n",
            "\n",
            "Increase the number of iterations (max_iter) or scale the data as shown in:\n",
            "    https://scikit-learn.org/stable/modules/preprocessing.html\n",
            "Please also refer to the documentation for alternative solver options:\n",
            "    https://scikit-learn.org/stable/modules/linear_model.html#logistic-regression\n",
            "  extra_warning_msg=_LOGISTIC_SOLVER_CONVERGENCE_MSG,\n"
          ]
        },
        {
          "output_type": "display_data",
          "data": {
            "text/plain": [
              "<Figure size 432x288 with 2 Axes>"
            ],
            "image/png": "[encoded data removed]"
          },
          "metadata": {
            "needs_background": "light"
          }
        }
      ]
    },
    {
      "cell_type": "code",
      "source": [
        "print('Accuracy Score: ',accuracy_score(t_target,y_pred))\n",
        "print('F1 Score (Macro): ',f1_score(t_target,y_pred,average='macro'))\n",
        "print('F1 Score (Micro): ',f1_score(t_target,y_pred,average='micro'))\n",
        "print('F1 Score (Weighted): ',f1_score(t_target,y_pred,average='weighted'))\n",
        "print('ROC-AUC_Score (OVR):',roc_auc_score(t_target,log_reg.predict_proba(t_features),multi_class='ovr'))\n",
        "print('ROC-AUC_Score (OVO):',roc_auc_score(t_target,log_reg.predict_proba(t_features),multi_class='ovo'))"
      ],
      "metadata": {
        "colab": {
          "base_uri": "https://localhost:8080/"
        },
        "id": "1k4qbfrCrb4x",
        "outputId": "383ce6b9-27f2-4d11-89be-1eb69bd828ff"
      },
      "id": "1k4qbfrCrb4x",
      "execution_count": 83,
      "outputs": [
        {
          "output_type": "stream",
          "name": "stdout",
          "text": [
            "Accuracy Score:  0.4492753623188406\n",
            "F1 Score (Macro):  0.27532185225021727\n",
            "F1 Score (Micro):  0.4492753623188406\n",
            "F1 Score (Weighted):  0.3869051243728742\n",
            "ROC-AUC_Score (OVR): 0.6999080022184331\n",
            "ROC-AUC_Score (OVO): 0.7011334161168115\n"
          ]
        }
      ]
    },
    {
      "cell_type": "code",
      "source": [
        "print(classification_report(t_target,y_pred))"
      ],
      "metadata": {
        "colab": {
          "base_uri": "https://localhost:8080/"
        },
        "id": "BsEucxMkruHi",
        "outputId": "26d6459d-2d35-4c58-b7f5-51142e6e9302"
      },
      "id": "BsEucxMkruHi",
      "execution_count": 84,
      "outputs": [
        {
          "output_type": "stream",
          "name": "stdout",
          "text": [
            "              precision    recall  f1-score   support\n",
            "\n",
            "           0       0.49      0.81      0.61       639\n",
            "           1       0.13      0.01      0.02       296\n",
            "           2       0.41      0.34      0.37       447\n",
            "           3       0.36      0.31      0.33       223\n",
            "           4       0.12      0.02      0.03        51\n",
            "\n",
            "    accuracy                           0.45      1656\n",
            "   macro avg       0.30      0.30      0.28      1656\n",
            "weighted avg       0.38      0.45      0.39      1656\n",
            "\n"
          ]
        }
      ]
    },
    {
      "cell_type": "markdown",
      "source": [
        "### 3. Naive Bayes Classifier"
      ],
      "metadata": {
        "id": "P-5XPT6UqsuP"
      },
      "id": "P-5XPT6UqsuP"
    },
    {
      "cell_type": "code",
      "source": [
        "from sklearn.naive_bayes import GaussianNB\n",
        "clf = GaussianNB()\n",
        "clf.fit(features,target)\n",
        "y_pred = clf.predict(t_features)\n",
        "cnf = confusion_matrix(t_target,y_pred)\n",
        "class_names = ['0','1','2','3','4']\n",
        "fig, ax = plt.subplots()\n",
        "tick_marks = np.arange(len(class_names))\n",
        "plt.xticks(tick_marks,class_names)\n",
        "plt.yticks(tick_marks,class_names)\n",
        "sns.heatmap(pd.DataFrame(cnf),annot=True,cmap='Blues_r',fmt='g')\n",
        "ax.xaxis.set_label_position(\"top\")\n",
        "plt.tight_layout()\n",
        "plt.title('Confusion matrix', y=1.1)\n",
        "plt.ylabel('Actual label')\n",
        "plt.xlabel('Predicted label')\n",
        "plt.Text(0.5,257.44,'Predicted label')\n",
        "plt.show()"
      ],
      "metadata": {
        "colab": {
          "base_uri": "https://localhost:8080/",
          "height": 325
        },
        "id": "t_3Y4_Y3rZMi",
        "outputId": "051d62c6-e72f-4251-fae8-adfac0683333"
      },
      "id": "t_3Y4_Y3rZMi",
      "execution_count": 85,
      "outputs": [
        {
          "output_type": "display_data",
          "data": {
            "text/plain": [
              "<Figure size 432x288 with 2 Axes>"
            ],
            "image/png": "[encoded data removed]"
          },
          "metadata": {
            "needs_background": "light"
          }
        }
      ]
    },
    {
      "cell_type": "code",
      "source": [
        "print('Accuracy Score: ',accuracy_score(t_target,y_pred))\n",
        "print('F1 Score (Macro): ',f1_score(t_target,y_pred,average='macro'))\n",
        "print('F1 Score (Micro): ',f1_score(t_target,y_pred,average='micro'))\n",
        "print('F1 Score (Weighted): ',f1_score(t_target,y_pred,average='weighted'))\n",
        "print('ROC-AUC_Score (OVR):',roc_auc_score(t_target,clf.predict_proba(t_features),multi_class='ovr'))\n",
        "print('ROC-AUC_Score (OVO):',roc_auc_score(t_target,clf.predict_proba(t_features),multi_class='ovo'))"
      ],
      "metadata": {
        "colab": {
          "base_uri": "https://localhost:8080/"
        },
        "id": "EJKVW2a8rv4C",
        "outputId": "7778a718-f75e-495a-edd2-47bd73ff5b6f"
      },
      "id": "EJKVW2a8rv4C",
      "execution_count": 86,
      "outputs": [
        {
          "output_type": "stream",
          "name": "stdout",
          "text": [
            "Accuracy Score:  0.20350241545893719\n",
            "F1 Score (Macro):  0.17822953148079718\n",
            "F1 Score (Micro):  0.20350241545893719\n",
            "F1 Score (Weighted):  0.19770797120915903\n",
            "ROC-AUC_Score (OVR): 0.544076930547649\n",
            "ROC-AUC_Score (OVO): 0.548945184761635\n"
          ]
        }
      ]
    },
    {
      "cell_type": "code",
      "source": [
        "print(classification_report(t_target,y_pred))"
      ],
      "metadata": {
        "colab": {
          "base_uri": "https://localhost:8080/"
        },
        "id": "ep2hq8bFrc1A",
        "outputId": "99da8163-c219-4b49-8571-462bfd0d2cfc"
      },
      "id": "ep2hq8bFrc1A",
      "execution_count": 87,
      "outputs": [
        {
          "output_type": "stream",
          "name": "stdout",
          "text": [
            "              precision    recall  f1-score   support\n",
            "\n",
            "           0       0.45      0.15      0.23       639\n",
            "           1       0.20      0.48      0.28       296\n",
            "           2       0.24      0.07      0.11       447\n",
            "           3       0.17      0.23      0.20       223\n",
            "           4       0.04      0.24      0.07        51\n",
            "\n",
            "    accuracy                           0.20      1656\n",
            "   macro avg       0.22      0.23      0.18      1656\n",
            "weighted avg       0.30      0.20      0.20      1656\n",
            "\n"
          ]
        }
      ]
    },
    {
      "cell_type": "markdown",
      "source": [
        "### 4. Support Vector Machines"
      ],
      "metadata": {
        "id": "2z7p4ibOqsxJ"
      },
      "id": "2z7p4ibOqsxJ"
    },
    {
      "cell_type": "code",
      "source": [
        "from sklearn.svm import SVC\n",
        "svm_model = SVC(kernel='rbf',C=1,probability=True)\n",
        "svm_model.fit(features,target)\n",
        "y_pred = svm_model.predict(t_features)\n",
        "cnf = confusion_matrix(t_target,y_pred)\n",
        "class_names = ['0','1','2','3','4']\n",
        "fig, ax = plt.subplots()\n",
        "tick_marks = np.arange(len(class_names))\n",
        "plt.xticks(tick_marks,class_names)\n",
        "plt.yticks(tick_marks,class_names)\n",
        "sns.heatmap(pd.DataFrame(cnf),annot=True,cmap='Blues_r',fmt='g')\n",
        "ax.xaxis.set_label_position(\"top\")\n",
        "plt.tight_layout()\n",
        "plt.title('Confusion matrix', y=1.1)\n",
        "plt.ylabel('Actual label')\n",
        "plt.xlabel('Predicted label')\n",
        "plt.Text(0.5,257.44,'Predicted label')\n",
        "plt.show()"
      ],
      "metadata": {
        "colab": {
          "base_uri": "https://localhost:8080/",
          "height": 325
        },
        "id": "L5LC6hGYrZ92",
        "outputId": "dbca96c5-591f-43d0-c1c7-3f7068aa31c2"
      },
      "id": "L5LC6hGYrZ92",
      "execution_count": 88,
      "outputs": [
        {
          "output_type": "display_data",
          "data": {
            "text/plain": [
              "<Figure size 432x288 with 2 Axes>"
            ],
            "image/png": "[encoded data removed]"
          },
          "metadata": {
            "needs_background": "light"
          }
        }
      ]
    },
    {
      "cell_type": "code",
      "source": [
        "print('Accuracy Score: ',accuracy_score(t_target,y_pred))\n",
        "print('F1 Score (Macro): ',f1_score(t_target,y_pred,average='macro'))\n",
        "print('F1 Score (Micro): ',f1_score(t_target,y_pred,average='micro'))\n",
        "print('F1 Score (Weighted): ',f1_score(t_target,y_pred,average='weighted'))\n",
        "print('ROC-AUC_Score (OVR):',roc_auc_score(t_target,svm_model.predict_proba(t_features),multi_class='ovr'))\n",
        "print('ROC-AUC_Score (OVO):',roc_auc_score(t_target,svm_model.predict_proba(t_features),multi_class='ovo'))"
      ],
      "metadata": {
        "colab": {
          "base_uri": "https://localhost:8080/"
        },
        "id": "oj2lABP7rwbK",
        "outputId": "24fda556-be9c-40df-88ba-03b91d6e6cce"
      },
      "id": "oj2lABP7rwbK",
      "execution_count": 89,
      "outputs": [
        {
          "output_type": "stream",
          "name": "stdout",
          "text": [
            "Accuracy Score:  0.4076086956521739\n",
            "F1 Score (Macro):  0.17432846179611916\n",
            "F1 Score (Micro):  0.40760869565217395\n",
            "F1 Score (Weighted):  0.29754273960700606\n",
            "ROC-AUC_Score (OVR): 0.7062523747662879\n",
            "ROC-AUC_Score (OVO): 0.7199742765798419\n"
          ]
        }
      ]
    },
    {
      "cell_type": "code",
      "source": [
        "print(classification_report(t_target,y_pred))"
      ],
      "metadata": {
        "colab": {
          "base_uri": "https://localhost:8080/"
        },
        "id": "iE23hLhBrdx6",
        "outputId": "47594575-707b-4eb9-d31e-d4dfa5049d3b"
      },
      "id": "iE23hLhBrdx6",
      "execution_count": 90,
      "outputs": [
        {
          "output_type": "stream",
          "name": "stdout",
          "text": [
            "              precision    recall  f1-score   support\n",
            "\n",
            "           0       0.42      0.90      0.58       639\n",
            "           1       0.00      0.00      0.00       296\n",
            "           2       0.33      0.21      0.26       447\n",
            "           3       0.33      0.02      0.03       223\n",
            "           4       0.00      0.00      0.00        51\n",
            "\n",
            "    accuracy                           0.41      1656\n",
            "   macro avg       0.22      0.23      0.17      1656\n",
            "weighted avg       0.30      0.41      0.30      1656\n",
            "\n"
          ]
        },
        {
          "output_type": "stream",
          "name": "stderr",
          "text": [
            "/usr/local/lib/python3.7/dist-packages/sklearn/metrics/_classification.py:1318: UndefinedMetricWarning: Precision and F-score are ill-defined and being set to 0.0 in labels with no predicted samples. Use `zero_division` parameter to control this behavior.\n",
            "  _warn_prf(average, modifier, msg_start, len(result))\n",
            "/usr/local/lib/python3.7/dist-packages/sklearn/metrics/_classification.py:1318: UndefinedMetricWarning: Precision and F-score are ill-defined and being set to 0.0 in labels with no predicted samples. Use `zero_division` parameter to control this behavior.\n",
            "  _warn_prf(average, modifier, msg_start, len(result))\n",
            "/usr/local/lib/python3.7/dist-packages/sklearn/metrics/_classification.py:1318: UndefinedMetricWarning: Precision and F-score are ill-defined and being set to 0.0 in labels with no predicted samples. Use `zero_division` parameter to control this behavior.\n",
            "  _warn_prf(average, modifier, msg_start, len(result))\n"
          ]
        }
      ]
    },
    {
      "cell_type": "markdown",
      "source": [
        "###  5. Decision Trees Classifier"
      ],
      "metadata": {
        "id": "_q2MWUjCqs0Y"
      },
      "id": "_q2MWUjCqs0Y"
    },
    {
      "cell_type": "code",
      "source": [
        "from sklearn.tree import DecisionTreeClassifier\n",
        "clf = DecisionTreeClassifier()\n",
        "clf.fit(features,target)\n",
        "y_pred = clf.predict(t_features)\n",
        "cnf = confusion_matrix(t_target,y_pred)\n",
        "class_names = ['0','1','2','3','4']\n",
        "fig, ax = plt.subplots()\n",
        "tick_marks = np.arange(len(class_names))\n",
        "plt.xticks(tick_marks,class_names)\n",
        "plt.yticks(tick_marks,class_names)\n",
        "sns.heatmap(pd.DataFrame(cnf),annot=True,cmap='Blues_r',fmt='g')\n",
        "ax.xaxis.set_label_position(\"top\")\n",
        "plt.tight_layout()\n",
        "plt.title('Confusion matrix', y=1.1)\n",
        "plt.ylabel('Actual label')\n",
        "plt.xlabel('Predicted label')\n",
        "plt.Text(0.5,257.44,'Predicted label')\n",
        "plt.show()"
      ],
      "metadata": {
        "colab": {
          "base_uri": "https://localhost:8080/",
          "height": 325
        },
        "id": "zc40KSNNrada",
        "outputId": "13df0f85-6579-4292-b2d8-eb1735de85f9"
      },
      "id": "zc40KSNNrada",
      "execution_count": 91,
      "outputs": [
        {
          "output_type": "display_data",
          "data": {
            "text/plain": [
              "<Figure size 432x288 with 2 Axes>"
            ],
            "image/png": "[encoded data removed]"
          },
          "metadata": {
            "needs_background": "light"
          }
        }
      ]
    },
    {
      "cell_type": "code",
      "source": [
        "print('Accuracy Score: ',accuracy_score(t_target,y_pred))\n",
        "print('F1 Score (Macro): ',f1_score(t_target,y_pred,average='macro'))\n",
        "print('F1 Score (Micro): ',f1_score(t_target,y_pred,average='micro'))\n",
        "print('F1 Score (Weighted): ',f1_score(t_target,y_pred,average='weighted'))\n",
        "print('ROC-AUC_Score (OVR):',roc_auc_score(t_target,clf.predict_proba(t_features),multi_class='ovr'))\n",
        "print('ROC-AUC_Score (OVO):',roc_auc_score(t_target,clf.predict_proba(t_features),multi_class='ovo'))"
      ],
      "metadata": {
        "colab": {
          "base_uri": "https://localhost:8080/"
        },
        "id": "ZlvmOpsBrw6J",
        "outputId": "17524da2-5534-4c64-890b-920de063e6d4"
      },
      "id": "ZlvmOpsBrw6J",
      "execution_count": 92,
      "outputs": [
        {
          "output_type": "stream",
          "name": "stdout",
          "text": [
            "Accuracy Score:  0.3055555555555556\n",
            "F1 Score (Macro):  0.2412057990996373\n",
            "F1 Score (Micro):  0.3055555555555556\n",
            "F1 Score (Weighted):  0.3039901855407008\n",
            "ROC-AUC_Score (OVR): 0.5255074922159257\n",
            "ROC-AUC_Score (OVO): 0.5262363212174663\n"
          ]
        }
      ]
    },
    {
      "cell_type": "code",
      "source": [
        "print(classification_report(t_target,y_pred))"
      ],
      "metadata": {
        "colab": {
          "base_uri": "https://localhost:8080/"
        },
        "id": "Gc1eTHyDrear",
        "outputId": "b74ce798-ed39-40db-bcd3-2d1263d5c8a3"
      },
      "id": "Gc1eTHyDrear",
      "execution_count": 93,
      "outputs": [
        {
          "output_type": "stream",
          "name": "stdout",
          "text": [
            "              precision    recall  f1-score   support\n",
            "\n",
            "           0       0.43      0.46      0.44       639\n",
            "           1       0.17      0.17      0.17       296\n",
            "           2       0.28      0.26      0.27       447\n",
            "           3       0.19      0.19      0.19       223\n",
            "           4       0.13      0.14      0.13        51\n",
            "\n",
            "    accuracy                           0.31      1656\n",
            "   macro avg       0.24      0.24      0.24      1656\n",
            "weighted avg       0.30      0.31      0.30      1656\n",
            "\n"
          ]
        }
      ]
    },
    {
      "cell_type": "markdown",
      "source": [
        "### 6. Random Forests Classifier"
      ],
      "metadata": {
        "id": "NyEr269gqs8K"
      },
      "id": "NyEr269gqs8K"
    },
    {
      "cell_type": "code",
      "source": [
        "from sklearn.ensemble import RandomForestClassifier\n",
        "clf = RandomForestClassifier(max_depth=3,random_state=0)\n",
        "clf.fit(features,target)\n",
        "y_pred = clf.predict(t_features)\n",
        "cnf = confusion_matrix(t_target,y_pred)\n",
        "class_names = ['0','1','2','3','4']\n",
        "fig, ax = plt.subplots()\n",
        "tick_marks = np.arange(len(class_names))\n",
        "plt.xticks(tick_marks,class_names)\n",
        "plt.yticks(tick_marks,class_names)\n",
        "sns.heatmap(pd.DataFrame(cnf),annot=True,cmap='Blues_r',fmt='g')\n",
        "ax.xaxis.set_label_position(\"top\")\n",
        "plt.tight_layout()\n",
        "plt.title('Confusion matrix', y=1.1)\n",
        "plt.ylabel('Actual label')\n",
        "plt.xlabel('Predicted label')\n",
        "plt.Text(0.5,257.44,'Predicted label')\n",
        "plt.show()"
      ],
      "metadata": {
        "colab": {
          "base_uri": "https://localhost:8080/",
          "height": 325
        },
        "id": "GcUMFJNTrbD-",
        "outputId": "7e63d454-d8a4-4f0a-e185-12e44dcb991f"
      },
      "id": "GcUMFJNTrbD-",
      "execution_count": 94,
      "outputs": [
        {
          "output_type": "display_data",
          "data": {
            "text/plain": [
              "<Figure size 432x288 with 2 Axes>"
            ],
            "image/png": "[encoded data removed]"
          },
          "metadata": {
            "needs_background": "light"
          }
        }
      ]
    },
    {
      "cell_type": "code",
      "source": [
        "print('Accuracy Score: ',accuracy_score(t_target,y_pred))\n",
        "print('F1 Score (Macro): ',f1_score(t_target,y_pred,average='macro'))\n",
        "print('F1 Score (Micro): ',f1_score(t_target,y_pred,average='micro'))\n",
        "print('F1 Score (Weighted): ',f1_score(t_target,y_pred,average='weighted'))\n",
        "print('ROC-AUC_Score (OVR):',roc_auc_score(t_target,clf.predict_proba(t_features),multi_class='ovr'))\n",
        "print('ROC-AUC_Score (OVO):',roc_auc_score(t_target,clf.predict_proba(t_features),multi_class='ovo'))"
      ],
      "metadata": {
        "colab": {
          "base_uri": "https://localhost:8080/"
        },
        "id": "UYC3770-rxab",
        "outputId": "c2f89fb3-f08f-4749-f388-c54a383faaf8"
      },
      "id": "UYC3770-rxab",
      "execution_count": 95,
      "outputs": [
        {
          "output_type": "stream",
          "name": "stdout",
          "text": [
            "Accuracy Score:  0.391304347826087\n",
            "F1 Score (Macro):  0.1514270514229591\n",
            "F1 Score (Micro):  0.391304347826087\n",
            "F1 Score (Weighted):  0.26917913575395497\n",
            "ROC-AUC_Score (OVR): 0.6157503754892116\n",
            "ROC-AUC_Score (OVO): 0.6080255446741208\n"
          ]
        }
      ]
    },
    {
      "cell_type": "code",
      "source": [
        "print(classification_report(t_target,y_pred))"
      ],
      "metadata": {
        "colab": {
          "base_uri": "https://localhost:8080/"
        },
        "id": "GkVLfF6mrfHM",
        "outputId": "59123bd4-66cd-42f4-bcf1-c2f3c809def7"
      },
      "id": "GkVLfF6mrfHM",
      "execution_count": 96,
      "outputs": [
        {
          "output_type": "stream",
          "name": "stdout",
          "text": [
            "              precision    recall  f1-score   support\n",
            "\n",
            "           0       0.40      0.91      0.56       639\n",
            "           1       0.00      0.00      0.00       296\n",
            "           2       0.31      0.15      0.20       447\n",
            "           3       0.00      0.00      0.00       223\n",
            "           4       0.00      0.00      0.00        51\n",
            "\n",
            "    accuracy                           0.39      1656\n",
            "   macro avg       0.14      0.21      0.15      1656\n",
            "weighted avg       0.24      0.39      0.27      1656\n",
            "\n"
          ]
        },
        {
          "output_type": "stream",
          "name": "stderr",
          "text": [
            "/usr/local/lib/python3.7/dist-packages/sklearn/metrics/_classification.py:1318: UndefinedMetricWarning: Precision and F-score are ill-defined and being set to 0.0 in labels with no predicted samples. Use `zero_division` parameter to control this behavior.\n",
            "  _warn_prf(average, modifier, msg_start, len(result))\n",
            "/usr/local/lib/python3.7/dist-packages/sklearn/metrics/_classification.py:1318: UndefinedMetricWarning: Precision and F-score are ill-defined and being set to 0.0 in labels with no predicted samples. Use `zero_division` parameter to control this behavior.\n",
            "  _warn_prf(average, modifier, msg_start, len(result))\n",
            "/usr/local/lib/python3.7/dist-packages/sklearn/metrics/_classification.py:1318: UndefinedMetricWarning: Precision and F-score are ill-defined and being set to 0.0 in labels with no predicted samples. Use `zero_division` parameter to control this behavior.\n",
            "  _warn_prf(average, modifier, msg_start, len(result))\n"
          ]
        }
      ]
    }
  ],
  "metadata": {
    "colab": {
      "collapsed_sections": [],
      "provenance": [],
      "include_colab_link": true
    },
    "kernelspec": {
      "display_name": "Python 3 (ipykernel)",
      "language": "python",
      "name": "python3"
    },
    "language_info": {
      "codemirror_mode": {
        "name": "ipython",
        "version": 3
      },
      "file_extension": ".py",
      "mimetype": "text/x-python",
      "name": "python",
      "nbconvert_exporter": "python",
      "pygments_lexer": "ipython3",
      "version": "3.8.13"
    }
  },
  "nbformat": 4,
  "nbformat_minor": 5
}